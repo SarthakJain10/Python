{
 "cells": [
  {
   "cell_type": "markdown",
   "id": "bf63ce27",
   "metadata": {},
   "source": [
    "# What is Programming?"
   ]
  },
  {
   "cell_type": "markdown",
   "id": "80654048",
   "metadata": {},
   "source": [
    "### Definition:\n",
    "\n",
    "Programming is the process of giving instructions to a computer to perform specific tasks. These instructions are written in a language that computers can understand, known as a programming language."
   ]
  },
  {
   "cell_type": "markdown",
   "id": "63197ce1",
   "metadata": {},
   "source": [
    "### Key Points:\n",
    "\n",
    "- Computers follow instructions exactly as written.\n",
    "\n",
    "- Programming enables automation, problem-solving, and software creation.\n",
    "\n",
    "- Common programming languages include Python, C, C++, Java, and JavaScript."
   ]
  },
  {
   "cell_type": "markdown",
   "id": "3d7c7153",
   "metadata": {},
   "source": [
    "# Why Learn Python?"
   ]
  },
  {
   "cell_type": "markdown",
   "id": "d85bf90a",
   "metadata": {},
   "source": [
    "### Advantages of Python:\n",
    "\n",
    "- **High Demand:** Python is widely used in various fields like web development, data science, AI, automation, and more.\n",
    "\n",
    "- **Easy to Learn:** Python has simple and readable syntax, making it accessible for beginners.\n",
    "\n",
    "- **Versatile:** Supports multiple programming paradigms (procedural, object-oriented, functional).\n",
    "\n",
    "- **Large Community:** Extensive libraries and resources are available."
   ]
  },
  {
   "cell_type": "markdown",
   "id": "168d07a9",
   "metadata": {},
   "source": [
    "### Use Cases:\n",
    "\n",
    "- Web development (Django, Flask)\n",
    "\n",
    "- Data analysis and visualization (Pandas, Matplotlib)\n",
    "\n",
    "- Artificial Intelligence and Machine Learning (TensorFlow, PyTorch)\n",
    "\n",
    "- Automation and scripting"
   ]
  },
  {
   "cell_type": "markdown",
   "id": "10c06466",
   "metadata": {},
   "source": [
    "### Setting Up for Python Programming\n",
    "\n",
    "#### Tools Introduced:\n",
    "\n",
    "- **IDEs:** PyCharm, VS Code, or the standard Python IDLE.\n",
    "\n",
    "#### Getting Started:\n",
    "\n",
    "- install Python locally.\n",
    "\n",
    "- Familiarize yourself with the coding environment."
   ]
  },
  {
   "cell_type": "markdown",
   "id": "79d51330",
   "metadata": {},
   "source": [
    "# Basic Concepts in Programming"
   ]
  },
  {
   "cell_type": "markdown",
   "id": "2cf707b7",
   "metadata": {},
   "source": [
    "### 1. Variables\n",
    "\n",
    "**Definition:** Containers for storing data values.\n",
    "\n",
    "**Syntax Example:**"
   ]
  },
  {
   "cell_type": "code",
   "execution_count": null,
   "id": "88f876c9",
   "metadata": {},
   "outputs": [],
   "source": [
    "x = 5\n",
    "name = \"Sarthak Jain\""
   ]
  },
  {
   "cell_type": "markdown",
   "id": "48771f9a",
   "metadata": {},
   "source": [
    "Variables can store different data types (numbers, strings, etc.)."
   ]
  },
  {
   "cell_type": "markdown",
   "id": "416dfc69",
   "metadata": {},
   "source": [
    "### 2. Data Types\n",
    "\n",
    "#### Common Data Types in Python:\n",
    "\n",
    "- **Integer (int):** Whole numbers (e.g., 5)\n",
    "\n",
    "- **Floating-point (float):** Decimal numbers (e.g., 3.14)\n",
    "\n",
    "- **String (str):** Text (e.g., \"Hello\")\n",
    "\n",
    "- **Boolean (bool):** True or False"
   ]
  },
  {
   "cell_type": "markdown",
   "id": "b4c444c0",
   "metadata": {},
   "source": [
    "### 3. Printing Output\n",
    "\n",
    "**The print() Function:** Used to display output on the screen."
   ]
  },
  {
   "cell_type": "code",
   "execution_count": 2,
   "id": "63518cb8",
   "metadata": {},
   "outputs": [
    {
     "name": "stdout",
     "output_type": "stream",
     "text": [
      "Hello, World!\n"
     ]
    }
   ],
   "source": [
    "print(\"Hello, World!\")"
   ]
  },
  {
   "cell_type": "markdown",
   "id": "34e60dbd",
   "metadata": {},
   "source": [
    "### 4. Comments\n",
    "\n",
    "- **Purpose:** Comments help explain code and are ignored by the Python interpreter.\n",
    "\n",
    "- **Syntax:** Use # for single-line comments."
   ]
  },
  {
   "cell_type": "code",
   "execution_count": 3,
   "id": "0ff4772c",
   "metadata": {},
   "outputs": [],
   "source": [
    "# This is a comment"
   ]
  },
  {
   "cell_type": "markdown",
   "id": "1acef8f8",
   "metadata": {},
   "source": [
    "### Writing Your First Python Program"
   ]
  },
  {
   "cell_type": "code",
   "execution_count": 4,
   "id": "b6dbb75f",
   "metadata": {},
   "outputs": [
    {
     "name": "stdout",
     "output_type": "stream",
     "text": [
      "Hello, World!\n"
     ]
    }
   ],
   "source": [
    "print(\"Hello, World!\")\n"
   ]
  },
  {
   "cell_type": "markdown",
   "id": "94390a16",
   "metadata": {},
   "source": [
    "- This simple program prints a greeting to the screen.\n",
    "\n",
    "- Demonstrates the minimal syntax required to run a Python script."
   ]
  },
  {
   "cell_type": "markdown",
   "id": "7f51355c",
   "metadata": {},
   "source": [
    "### Key Terms and Concepts\n",
    "\n",
    "- **Syntax:** The set of rules that defines how a Python program is written and interpreted.\n",
    "\n",
    "- **Interpreter:** The program that reads and executes Python code line by line.\n",
    "\n",
    "- **Script:** A file containing Python code."
   ]
  },
  {
   "cell_type": "markdown",
   "id": "2b49fcf9",
   "metadata": {},
   "source": [
    "### Examples and Practice"
   ]
  },
  {
   "cell_type": "markdown",
   "id": "9006ee1a",
   "metadata": {},
   "source": [
    "- Assign values to variables and print them."
   ]
  },
  {
   "cell_type": "code",
   "execution_count": 5,
   "id": "f746abbb",
   "metadata": {},
   "outputs": [
    {
     "name": "stdout",
     "output_type": "stream",
     "text": [
      "20\n"
     ]
    }
   ],
   "source": [
    "age = 20\n",
    "print(age)"
   ]
  },
  {
   "cell_type": "markdown",
   "id": "b8a3e795",
   "metadata": {},
   "source": [
    "- Use comments to describe what your code does.\n",
    "\n",
    "- Experiment with different data types."
   ]
  },
  {
   "cell_type": "markdown",
   "id": "0163468e",
   "metadata": {},
   "source": [
    "### Summary\n",
    "\n",
    "- Programming is about instructing computers using languages like Python.\n",
    "\n",
    "- Python is beginner-friendly, powerful, and in high demand.\n",
    "\n",
    "- Setting up with tools like Replit makes it easy to start coding.\n",
    "\n",
    "- Basic concepts covered: variables, data types, printing output, and comments.\n",
    "\n",
    "- Practice by writing simple programs and experimenting with code.\n",
    "\n"
   ]
  }
 ],
 "metadata": {
  "kernelspec": {
   "display_name": ".venv",
   "language": "python",
   "name": "python3"
  },
  "language_info": {
   "codemirror_mode": {
    "name": "ipython",
    "version": 3
   },
   "file_extension": ".py",
   "mimetype": "text/x-python",
   "name": "python",
   "nbconvert_exporter": "python",
   "pygments_lexer": "ipython3",
   "version": "3.12.3"
  }
 },
 "nbformat": 4,
 "nbformat_minor": 5
}
