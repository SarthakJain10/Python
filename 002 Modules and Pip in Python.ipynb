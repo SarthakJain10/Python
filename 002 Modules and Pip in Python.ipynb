{
 "cells": [
  {
   "cell_type": "markdown",
   "id": "86c28d0b",
   "metadata": {},
   "source": [
    "# What are Modules?\n",
    "### Definition:\n",
    "A module in Python is simply a file containing Python code (functions, variables, classes) that can be imported and used in other Python programs."
   ]
  },
  {
   "cell_type": "markdown",
   "id": "376e22de",
   "metadata": {},
   "source": [
    "### Why Use Modules?\n",
    "\n",
    "- Promote code reusability by grouping related code together.\n",
    "\n",
    "- Keep code organized and manageable, especially in large projects.\n",
    "\n",
    "- Enable sharing of code across multiple projects.\n",
    "\n",
    "### Types of Modules:\n",
    "\n",
    "- **Built-in Modules:** Provided by Python’s standard library (e.g., math, os, random).\n",
    "\n",
    "- **Custom Modules:** Created by users. Any .py file can act as a module.\n",
    "\n",
    "### How to Use Modules:\n",
    "\n",
    "- Import a module using the import statement:"
   ]
  },
  {
   "cell_type": "code",
   "execution_count": 1,
   "id": "e690f521",
   "metadata": {},
   "outputs": [
    {
     "name": "stdout",
     "output_type": "stream",
     "text": [
      "4.0\n"
     ]
    }
   ],
   "source": [
    "import math\n",
    "print(math.sqrt(16))  # Output: 4.0"
   ]
  },
  {
   "cell_type": "markdown",
   "id": "5a9b6c4d",
   "metadata": {},
   "source": [
    "- Import specific functions or variables:"
   ]
  },
  {
   "cell_type": "code",
   "execution_count": 2,
   "id": "e7e7d483",
   "metadata": {},
   "outputs": [
    {
     "name": "stdout",
     "output_type": "stream",
     "text": [
      "5.0\n"
     ]
    }
   ],
   "source": [
    "from math import sqrt\n",
    "print(sqrt(25))  # Output: 5.0"
   ]
  },
  {
   "cell_type": "markdown",
   "id": "1aef21a3",
   "metadata": {},
   "source": [
    "# Using Pip for Package Management\n",
    "### What is pip?\n",
    "pip stands for \"Pip Installs Packages.\" It is the official Python package installer, allowing you to easily add, upgrade, and remove third-party libraries and frameworks.\n",
    "\n",
    "### Why Use pip?\n",
    "\n",
    "- Quickly install packages from the Python Package Index (PyPI).\n",
    "\n",
    "- Manage dependencies for your projects.\n",
    "\n",
    "- Keep your Python environment up to date.\n",
    "\n",
    "### Installing Packages with Pip\n",
    "#### Basic Commands:\n",
    "\n",
    "- Install a package:"
   ]
  },
  {
   "cell_type": "code",
   "execution_count": 3,
   "id": "c3cb90cf",
   "metadata": {},
   "outputs": [
    {
     "name": "stdout",
     "output_type": "stream",
     "text": [
      "Collecting requests\n",
      "  Using cached requests-2.32.4-py3-none-any.whl.metadata (4.9 kB)\n",
      "Collecting charset_normalizer<4,>=2 (from requests)\n",
      "  Using cached charset_normalizer-3.4.2-cp312-cp312-manylinux_2_17_x86_64.manylinux2014_x86_64.whl.metadata (35 kB)\n",
      "Collecting idna<4,>=2.5 (from requests)\n",
      "  Using cached idna-3.10-py3-none-any.whl.metadata (10 kB)\n",
      "Collecting urllib3<3,>=1.21.1 (from requests)\n",
      "  Using cached urllib3-2.4.0-py3-none-any.whl.metadata (6.5 kB)\n",
      "Collecting certifi>=2017.4.17 (from requests)\n",
      "  Downloading certifi-2025.6.15-py3-none-any.whl.metadata (2.4 kB)\n",
      "Using cached requests-2.32.4-py3-none-any.whl (64 kB)\n",
      "Downloading certifi-2025.6.15-py3-none-any.whl (157 kB)\n",
      "\u001b[2K   \u001b[90m━━━━━━━━━━━━━━━━━━━━━━━━━━━━━━━━━━━━━━━━\u001b[0m \u001b[32m157.7/157.7 kB\u001b[0m \u001b[31m4.3 MB/s\u001b[0m eta \u001b[36m0:00:00\u001b[0ma \u001b[36m0:00:01\u001b[0m\n",
      "\u001b[?25hUsing cached charset_normalizer-3.4.2-cp312-cp312-manylinux_2_17_x86_64.manylinux2014_x86_64.whl (148 kB)\n",
      "Using cached idna-3.10-py3-none-any.whl (70 kB)\n",
      "Using cached urllib3-2.4.0-py3-none-any.whl (128 kB)\n",
      "Installing collected packages: urllib3, idna, charset_normalizer, certifi, requests\n",
      "Successfully installed certifi-2025.6.15 charset_normalizer-3.4.2 idna-3.10 requests-2.32.4 urllib3-2.4.0\n",
      "Note: you may need to restart the kernel to use updated packages.\n"
     ]
    }
   ],
   "source": [
    "pip install requests"
   ]
  },
  {
   "cell_type": "markdown",
   "id": "8701efc4",
   "metadata": {},
   "source": [
    "- Upgrade a package:"
   ]
  },
  {
   "cell_type": "code",
   "execution_count": null,
   "id": "9c8a4727",
   "metadata": {},
   "outputs": [
    {
     "name": "stdout",
     "output_type": "stream",
     "text": [
      "Requirement already satisfied: requests in ./.venv/lib/python3.12/site-packages (2.32.4)\n",
      "Requirement already satisfied: charset_normalizer<4,>=2 in ./.venv/lib/python3.12/site-packages (from requests) (3.4.2)\n",
      "Requirement already satisfied: idna<4,>=2.5 in ./.venv/lib/python3.12/site-packages (from requests) (3.10)\n",
      "Requirement already satisfied: urllib3<3,>=1.21.1 in ./.venv/lib/python3.12/site-packages (from requests) (2.4.0)\n",
      "Requirement already satisfied: certifi>=2017.4.17 in ./.venv/lib/python3.12/site-packages (from requests) (2025.6.15)\n",
      "Note: you may need to restart the kernel to use updated packages.\n"
     ]
    }
   ],
   "source": [
    "pip install --upgrade requests"
   ]
  },
  {
   "cell_type": "markdown",
   "id": "a0188aba",
   "metadata": {},
   "source": [
    "- Uninstall a package:"
   ]
  },
  {
   "cell_type": "markdown",
   "id": "171e5747",
   "metadata": {},
   "source": [
    "pip uninstall package_name\n"
   ]
  },
  {
   "cell_type": "markdown",
   "id": "ed42473a",
   "metadata": {},
   "source": [
    "### How pip Works:\n",
    "\n",
    "- Downloads packages from PyPI (Python Package Index).\n",
    "\n",
    "- Installs them into your Python environment for immediate use."
   ]
  },
  {
   "cell_type": "markdown",
   "id": "3d303d4d",
   "metadata": {},
   "source": [
    "# Managing Packages\n",
    "### Listing Installed Packages:\n",
    "\n",
    "- View all installed packages:"
   ]
  },
  {
   "cell_type": "code",
   "execution_count": null,
   "id": "918b8e42",
   "metadata": {},
   "outputs": [
    {
     "name": "stdout",
     "output_type": "stream",
     "text": [
      "Package                 Version\n",
      "----------------------- -----------\n",
      "asttokens               3.0.0\n",
      "certifi                 2025.6.15\n",
      "charset-normalizer      3.4.2\n",
      "comm                    0.2.2\n",
      "debugpy                 1.8.14\n",
      "decorator               5.2.1\n",
      "executing               2.2.0\n",
      "idna                    3.10\n",
      "ipykernel               6.29.5\n",
      "ipython                 9.3.0\n",
      "ipython_pygments_lexers 1.1.1\n",
      "jedi                    0.19.2\n",
      "jupyter_client          8.6.3\n",
      "jupyter_core            5.8.1\n",
      "matplotlib-inline       0.1.7\n",
      "nest-asyncio            1.6.0\n",
      "packaging               25.0\n",
      "parso                   0.8.4\n",
      "pexpect                 4.9.0\n",
      "pip                     24.0\n",
      "platformdirs            4.3.8\n",
      "prompt_toolkit          3.0.51\n",
      "psutil                  7.0.0\n",
      "ptyprocess              0.7.0\n",
      "pure_eval               0.2.3\n",
      "Pygments                2.19.1\n",
      "python-dateutil         2.9.0.post0\n",
      "pyzmq                   27.0.0\n",
      "requests                2.32.4\n",
      "six                     1.17.0\n",
      "stack-data              0.6.3\n",
      "tornado                 6.5.1\n",
      "traitlets               5.14.3\n",
      "urllib3                 2.4.0\n",
      "wcwidth                 0.2.13\n",
      "Note: you may need to restart the kernel to use updated packages.\n"
     ]
    }
   ],
   "source": [
    "pip list"
   ]
  },
  {
   "cell_type": "markdown",
   "id": "a323d659",
   "metadata": {},
   "source": [
    "### Checking Package Versions:\n",
    "\n",
    "- Find the version of a specific package:"
   ]
  },
  {
   "cell_type": "code",
   "execution_count": 7,
   "id": "0f121613",
   "metadata": {},
   "outputs": [
    {
     "name": "stdout",
     "output_type": "stream",
     "text": [
      "Name: urllib3\n",
      "Version: 2.4.0\n",
      "Summary: HTTP library with thread-safe connection pooling, file post, and more.\n",
      "Home-page: \n",
      "Author: \n",
      "Author-email: Andrey Petrov <andrey.petrov@shazow.net>\n",
      "License: \n",
      "Location: /home/sarthak/Programming/learn/.venv/lib/python3.12/site-packages\n",
      "Requires: \n",
      "Required-by: requests\n",
      "Note: you may need to restart the kernel to use updated packages.\n"
     ]
    }
   ],
   "source": [
    "pip show urllib3"
   ]
  },
  {
   "cell_type": "markdown",
   "id": "07343651",
   "metadata": {},
   "source": [
    "### Managing Dependencies:\n",
    "\n",
    "- pip automatically installs dependencies required by the package you are installing.\n",
    "\n",
    "- You can use a requirements.txt file to specify all dependencies for a project:"
   ]
  },
  {
   "cell_type": "markdown",
   "id": "bd27198d",
   "metadata": {},
   "source": [
    "pip install -r requirements.txt"
   ]
  },
  {
   "cell_type": "markdown",
   "id": "f6bdf4a4",
   "metadata": {},
   "source": [
    "### Examples\n",
    "Importing and Using a Built-in Module:"
   ]
  },
  {
   "cell_type": "code",
   "execution_count": 8,
   "id": "8be395a2",
   "metadata": {},
   "outputs": [
    {
     "name": "stdout",
     "output_type": "stream",
     "text": [
      "8\n"
     ]
    }
   ],
   "source": [
    "import random\n",
    "print(random.randint(1, 10))  # Prints a random number between 1 and 10"
   ]
  },
  {
   "cell_type": "markdown",
   "id": "ac45cedf",
   "metadata": {},
   "source": [
    "### Creating and Using a Custom Module:\n",
    "\n",
    "(show your work)"
   ]
  },
  {
   "cell_type": "markdown",
   "id": "031b8d72",
   "metadata": {},
   "source": [
    "### Installing and Using an External Package:\n",
    "\n",
    "Install:"
   ]
  },
  {
   "cell_type": "code",
   "execution_count": 9,
   "id": "c396703a",
   "metadata": {},
   "outputs": [
    {
     "name": "stdout",
     "output_type": "stream",
     "text": [
      "Collecting numpy\n",
      "  Using cached numpy-2.3.0-cp312-cp312-manylinux_2_28_x86_64.whl.metadata (62 kB)\n",
      "Using cached numpy-2.3.0-cp312-cp312-manylinux_2_28_x86_64.whl (16.6 MB)\n",
      "Installing collected packages: numpy\n",
      "Successfully installed numpy-2.3.0\n",
      "Note: you may need to restart the kernel to use updated packages.\n"
     ]
    }
   ],
   "source": [
    "pip install numpy"
   ]
  },
  {
   "cell_type": "markdown",
   "id": "2a96fa7b",
   "metadata": {},
   "source": [
    "- Use in code:"
   ]
  },
  {
   "cell_type": "code",
   "execution_count": 10,
   "id": "d5633561",
   "metadata": {},
   "outputs": [
    {
     "name": "stdout",
     "output_type": "stream",
     "text": [
      "[1 2 3]\n"
     ]
    }
   ],
   "source": [
    "import numpy as np\n",
    "arr = np.array([1, 2, 3])\n",
    "print(arr)"
   ]
  },
  {
   "cell_type": "markdown",
   "id": "ba484a0d",
   "metadata": {},
   "source": [
    "# Summary\n",
    "- Modules help organize and reuse code in Python by grouping related code into files.\n",
    "\n",
    "- Python provides many built-in modules; you can also create your own.\n",
    "\n",
    "- pip is the standard tool for installing and managing external Python packages.\n",
    "\n",
    "- Use pip commands to install, upgrade, uninstall, and list packages.\n",
    "\n",
    "- Managing packages and dependencies is essential for maintaining healthy Python projects.\n",
    "\n",
    "- Practical understanding of these tools greatly enhances productivity and code quality.\n",
    "\n",
    "- These concepts are foundational for any Python programmer and enable you to take full advantage of Python’s extensive ecosystem."
   ]
  }
 ],
 "metadata": {
  "kernelspec": {
   "display_name": ".venv",
   "language": "python",
   "name": "python3"
  },
  "language_info": {
   "codemirror_mode": {
    "name": "ipython",
    "version": 3
   },
   "file_extension": ".py",
   "mimetype": "text/x-python",
   "name": "python",
   "nbconvert_exporter": "python",
   "pygments_lexer": "ipython3",
   "version": "3.12.3"
  }
 },
 "nbformat": 4,
 "nbformat_minor": 5
}
