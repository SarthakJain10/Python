{
 "cells": [
  {
   "cell_type": "markdown",
   "id": "a5d7e6c3",
   "metadata": {},
   "source": [
    "# Key Concepts\n",
    "### 1. The Print Function in Python\n",
    "- **Definition:** print() is a built-in Python function used to display output on the screen.\n",
    "\n",
    "- **Syntax:**"
   ]
  },
  {
   "cell_type": "code",
   "execution_count": 1,
   "id": "b02d8bed",
   "metadata": {},
   "outputs": [
    {
     "name": "stdout",
     "output_type": "stream",
     "text": [
      "<class 'object'>\n"
     ]
    }
   ],
   "source": [
    "print(object)"
   ]
  },
  {
   "cell_type": "markdown",
   "id": "4a946cce",
   "metadata": {},
   "source": [
    "- The object can be a string, number, or any other data type.\n",
    "\n",
    "- Parentheses are required to invoke the function."
   ]
  },
  {
   "cell_type": "code",
   "execution_count": 2,
   "id": "1234faa6",
   "metadata": {},
   "outputs": [
    {
     "name": "stdout",
     "output_type": "stream",
     "text": [
      "Hello World\n"
     ]
    }
   ],
   "source": [
    "print(\"Hello World\")"
   ]
  },
  {
   "cell_type": "markdown",
   "id": "6b3b78fc",
   "metadata": {},
   "source": [
    "### Common Mistake:\n",
    "If you write print(Hello World) without quotes, Python will throw a syntax error because it does not recognize Hello and World as defined variables or objects.\n",
    "\n",
    "- Always enclose text (strings) in quotes: \"Hello World\" or 'Hello World'."
   ]
  },
  {
   "cell_type": "markdown",
   "id": "51e279ea",
   "metadata": {},
   "source": [
    "### 2. Writing and Running Python Code\n",
    "- #### Interactive Mode (REPL):\n",
    "\n",
    "- REPL stands for Read-Evaluate-Print Loop.\n",
    "\n",
    "- You can type Python commands one by one in the terminal, and see immediate output.\n",
    "\n",
    "- Example:"
   ]
  },
  {
   "cell_type": "markdown",
   "id": "43948245",
   "metadata": {},
   "source": [
    ">>> print(\"Hello World\")\n",
    "Hello World\n",
    ">>> print(5)\n",
    "5"
   ]
  },
  {
   "cell_type": "markdown",
   "id": "11d99ef8",
   "metadata": {},
   "source": [
    "- Useful for quick tests, but not for running multiple lines of code in sequence."
   ]
  },
  {
   "cell_type": "markdown",
   "id": "8ddcc057",
   "metadata": {},
   "source": [
    "### Script Mode:\n",
    "\n",
    "- You can write multiple lines of code in a .py file (script).\n",
    "\n",
    "- When you run the script, Python executes each line in order.\n",
    "\n",
    "- Example:"
   ]
  },
  {
   "cell_type": "code",
   "execution_count": 4,
   "id": "469cd96f",
   "metadata": {},
   "outputs": [
    {
     "name": "stdout",
     "output_type": "stream",
     "text": [
      "Hello World\n",
      "5\n",
      "Bye\n"
     ]
    }
   ],
   "source": [
    "print(\"Hello World\")\n",
    "print(5)\n",
    "print(\"Bye\")\n"
   ]
  },
  {
   "cell_type": "markdown",
   "id": "27bde98e",
   "metadata": {},
   "source": [
    "- Scripts are better for larger programs and automation."
   ]
  },
  {
   "cell_type": "markdown",
   "id": "4f64e380",
   "metadata": {},
   "source": [
    "### 3. Strings and Numbers in Print Statements\n",
    "- **Strings:** Text enclosed in quotes (\" \" or ' ').\n",
    "Example: \"Hello World\"\n",
    "\n",
    "- **Numbers:** Can be printed directly, without quotes.\n",
    "Example: print(7) outputs 7.\n",
    "\n",
    "- **Combining Values:**\n",
    "\n",
    "You can print multiple values by separating them with commas:"
   ]
  },
  {
   "cell_type": "code",
   "execution_count": 5,
   "id": "7cbbd2ac",
   "metadata": {},
   "outputs": [
    {
     "name": "stdout",
     "output_type": "stream",
     "text": [
      "Hello World 7\n"
     ]
    }
   ],
   "source": [
    "print(\"Hello\", \"World\", 7)"
   ]
  },
  {
   "cell_type": "markdown",
   "id": "97f41799",
   "metadata": {},
   "source": [
    "- Python automatically adds spaces between the values."
   ]
  },
  {
   "cell_type": "markdown",
   "id": "9ccaae9b",
   "metadata": {},
   "source": [
    "### 4. Simple Computations in Print\n",
    "- You can perform calculations inside the print() function:"
   ]
  },
  {
   "cell_type": "code",
   "execution_count": 6,
   "id": "0892a9b6",
   "metadata": {},
   "outputs": [
    {
     "name": "stdout",
     "output_type": "stream",
     "text": [
      "17\n",
      "221\n"
     ]
    }
   ],
   "source": [
    "print(8 + 9)        # Output: 17\n",
    "print(17 * 13)      # Output: 221"
   ]
  },
  {
   "cell_type": "markdown",
   "id": "273e9277",
   "metadata": {},
   "source": [
    "- Useful for quick arithmetic or dynamic output."
   ]
  },
  {
   "cell_type": "markdown",
   "id": "2d4c147b",
   "metadata": {},
   "source": [
    "# Important Terms and Concepts\n",
    "- **Function:** A block of code designed to perform a specific task. In Python, functions are invoked with parentheses (e.g., print()).\n",
    "\n",
    "- **String:** A sequence of characters, enclosed in single or double quotes.\n",
    "\n",
    "- **Script:** A file containing Python code, typically with a .py extension, executed line by line.\n",
    "\n",
    "- **REPL (Read-Evaluate-Print Loop):** An interactive Python environment for executing code one line at a time."
   ]
  },
  {
   "cell_type": "markdown",
   "id": "7424a819",
   "metadata": {},
   "source": [
    "# Summary\n",
    "- The lecture introduces the basics of writing your first Python program using the print() function.\n",
    "\n",
    "- Key points include understanding how to use print(), the difference between strings and numbers, and the distinction between interactive and script modes.\n",
    "\n",
    "- The instructor encourages consistent practice and participation in the 100 Days of Code challenge for effective learning.\n",
    "\n",
    "- The foundational concepts covered here will be built upon in subsequent lessons, making this a crucial starting point for Python beginners."
   ]
  }
 ],
 "metadata": {
  "kernelspec": {
   "display_name": ".venv",
   "language": "python",
   "name": "python3"
  },
  "language_info": {
   "codemirror_mode": {
    "name": "ipython",
    "version": 3
   },
   "file_extension": ".py",
   "mimetype": "text/x-python",
   "name": "python",
   "nbconvert_exporter": "python",
   "pygments_lexer": "ipython3",
   "version": "3.12.3"
  }
 },
 "nbformat": 4,
 "nbformat_minor": 5
}
