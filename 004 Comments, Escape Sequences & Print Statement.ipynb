{
 "cells": [
  {
   "cell_type": "markdown",
   "id": "62c45a4a",
   "metadata": {},
   "source": [
    "# Comments\n",
    "### Definition:\n",
    "Comments are lines in your code that are ignored by the Python interpreter. They are meant for humans—either yourself in the future or other developers—to understand, explain, or temporarily disable code sections.\n",
    "\n",
    "### Purpose of Comments:\n",
    "\n",
    "- Explain the purpose and logic of code sections for future reference.\n",
    "\n",
    "- Communicate intentions or warnings to collaborators.\n",
    "\n",
    "- Temporarily disable code during testing or debugging.\n",
    "\n",
    "### How to Write Comments:\n",
    "- **Single-Line Comments:**\n",
    "Start the line with a # symbol."
   ]
  },
  {
   "cell_type": "code",
   "execution_count": null,
   "id": "c6a33ece",
   "metadata": {},
   "outputs": [],
   "source": [
    "# This is a single-line comment"
   ]
  },
  {
   "cell_type": "markdown",
   "id": "baad13c1",
   "metadata": {},
   "source": [
    "- **Multi-Line Comments:**\n",
    "Use triple single quotes (''') or triple double quotes (\"\"\")."
   ]
  },
  {
   "cell_type": "code",
   "execution_count": 1,
   "id": "371ce432",
   "metadata": {},
   "outputs": [
    {
     "data": {
      "text/plain": [
       "'\\nThis is a multi-line comment\\nspanning multiple lines\\n'"
      ]
     },
     "execution_count": 1,
     "metadata": {},
     "output_type": "execute_result"
    }
   ],
   "source": [
    "'''\n",
    "This is a multi-line comment\n",
    "spanning multiple lines\n",
    "'''\n"
   ]
  },
  {
   "cell_type": "code",
   "execution_count": 2,
   "id": "1f78e2c9",
   "metadata": {},
   "outputs": [
    {
     "data": {
      "text/plain": [
       "'\\nThis is another way to write\\nmulti-line comments\\n'"
      ]
     },
     "execution_count": 2,
     "metadata": {},
     "output_type": "execute_result"
    }
   ],
   "source": [
    "\"\"\"\n",
    "This is another way to write\n",
    "multi-line comments\n",
    "\"\"\"\n"
   ]
  },
  {
   "cell_type": "markdown",
   "id": "47c65034",
   "metadata": {},
   "source": [
    "- **Shortcut for Commenting:**\n",
    "Most modern IDEs (like Replit, VS Code) support Ctrl + / (or Command + / on Mac) to quickly comment or uncomment selected lines.\n",
    "\n",
    "### Best Practices:\n",
    "\n",
    "- Use comments to clarify complex logic, not to restate obvious code.\n",
    "\n",
    "- Keep comments up-to-date as code changes."
   ]
  },
  {
   "cell_type": "markdown",
   "id": "42500562",
   "metadata": {},
   "source": [
    "# Escape Sequence Characters\n",
    "### Definition:\n",
    "Escape sequence characters allow you to insert special characters into strings that would otherwise be hard to type or could cause syntax errors.\n",
    "\n",
    "### Common Escape Sequences:"
   ]
  },
  {
   "cell_type": "code",
   "execution_count": 4,
   "id": "d3cf0018",
   "metadata": {},
   "outputs": [
    {
     "data": {
      "text/html": [
       "<div>\n",
       "<style scoped>\n",
       "    .dataframe tbody tr th:only-of-type {\n",
       "        vertical-align: middle;\n",
       "    }\n",
       "\n",
       "    .dataframe tbody tr th {\n",
       "        vertical-align: top;\n",
       "    }\n",
       "\n",
       "    .dataframe thead th {\n",
       "        text-align: right;\n",
       "    }\n",
       "</style>\n",
       "<table border=\"1\" class=\"dataframe\">\n",
       "  <thead>\n",
       "    <tr style=\"text-align: right;\">\n",
       "      <th></th>\n",
       "      <th>Escape Sequence</th>\n",
       "      <th>Description</th>\n",
       "      <th>Example Output</th>\n",
       "    </tr>\n",
       "  </thead>\n",
       "  <tbody>\n",
       "    <tr>\n",
       "      <th>0</th>\n",
       "      <td>\\n</td>\n",
       "      <td>New line</td>\n",
       "      <td>Splits text to new line</td>\n",
       "    </tr>\n",
       "    <tr>\n",
       "      <th>1</th>\n",
       "      <td>\\t</td>\n",
       "      <td>Tab space</td>\n",
       "      <td>Adds a tab space</td>\n",
       "    </tr>\n",
       "    <tr>\n",
       "      <th>2</th>\n",
       "      <td>\\'</td>\n",
       "      <td>Single quote</td>\n",
       "      <td>Inserts'in string</td>\n",
       "    </tr>\n",
       "    <tr>\n",
       "      <th>3</th>\n",
       "      <td>\\\"</td>\n",
       "      <td>Double quote</td>\n",
       "      <td>Inserts\"in string</td>\n",
       "    </tr>\n",
       "    <tr>\n",
       "      <th>4</th>\n",
       "      <td>\\\\</td>\n",
       "      <td>Backslash</td>\n",
       "      <td>Inserts\\in string</td>\n",
       "    </tr>\n",
       "  </tbody>\n",
       "</table>\n",
       "</div>"
      ],
      "text/plain": [
       "  Escape Sequence   Description           Example Output\n",
       "0              \\n      New line  Splits text to new line\n",
       "1              \\t     Tab space         Adds a tab space\n",
       "2              \\'  Single quote        Inserts'in string\n",
       "3              \\\"  Double quote        Inserts\"in string\n",
       "4              \\\\     Backslash        Inserts\\in string"
      ]
     },
     "execution_count": 4,
     "metadata": {},
     "output_type": "execute_result"
    }
   ],
   "source": [
    "import pandas as pd\n",
    "df = pd.read_csv('EscapeSequence-Description-ExampleOutput.csv')\n",
    "df"
   ]
  },
  {
   "cell_type": "markdown",
   "id": "e5e84845",
   "metadata": {},
   "source": [
    "### Usage Examples:\n",
    "\n",
    "- New line in string:"
   ]
  },
  {
   "cell_type": "code",
   "execution_count": 6,
   "id": "7d57f379",
   "metadata": {},
   "outputs": [
    {
     "name": "stdout",
     "output_type": "stream",
     "text": [
      "Hello\n",
      "World\n"
     ]
    }
   ],
   "source": [
    "print(\"Hello\\nWorld\")  "
   ]
  },
  {
   "cell_type": "markdown",
   "id": "7de51569",
   "metadata": {},
   "source": [
    "- Including quotes inside strings:"
   ]
  },
  {
   "cell_type": "code",
   "execution_count": 7,
   "id": "ca1e2ce8",
   "metadata": {},
   "outputs": [
    {
     "name": "stdout",
     "output_type": "stream",
     "text": [
      "She said, \"Hello!\"\n",
      "It's Python!\n"
     ]
    }
   ],
   "source": [
    "print(\"She said, \\\"Hello!\\\"\") \n",
    "print('It\\'s Python!')       "
   ]
  },
  {
   "cell_type": "markdown",
   "id": "d6f11d33",
   "metadata": {},
   "source": [
    "### Why Use Escape Sequences?\n",
    "\n",
    "- To avoid syntax errors when including quotes inside strings.\n",
    "\n",
    "- To format output (e.g., new lines, tabs) within strings."
   ]
  },
  {
   "cell_type": "markdown",
   "id": "953dcbfa",
   "metadata": {},
   "source": [
    "# Print Statement\n",
    "### Definition:\n",
    "The print() statement displays output to the console. It is highly flexible and supports several parameters to control output formatting.\n",
    "### Key Features:\n",
    "\n",
    "- Can print multiple values separated by commas.\n",
    "\n",
    "- Supports formatting with sep (separator) and end (ending character).\n",
    "\n",
    "- Can redirect output to files using the file parameter.\n",
    "\n",
    "**Parameters of print():**"
   ]
  },
  {
   "cell_type": "code",
   "execution_count": 8,
   "id": "23ec002e",
   "metadata": {},
   "outputs": [
    {
     "data": {
      "text/html": [
       "<div>\n",
       "<style scoped>\n",
       "    .dataframe tbody tr th:only-of-type {\n",
       "        vertical-align: middle;\n",
       "    }\n",
       "\n",
       "    .dataframe tbody tr th {\n",
       "        vertical-align: top;\n",
       "    }\n",
       "\n",
       "    .dataframe thead th {\n",
       "        text-align: right;\n",
       "    }\n",
       "</style>\n",
       "<table border=\"1\" class=\"dataframe\">\n",
       "  <thead>\n",
       "    <tr style=\"text-align: right;\">\n",
       "      <th></th>\n",
       "      <th>Parameter</th>\n",
       "      <th>Description</th>\n",
       "      <th>Default Value</th>\n",
       "    </tr>\n",
       "  </thead>\n",
       "  <tbody>\n",
       "    <tr>\n",
       "      <th>0</th>\n",
       "      <td>sep</td>\n",
       "      <td>Separator between multiple values in one print...</td>\n",
       "      <td>' '(space)</td>\n",
       "    </tr>\n",
       "    <tr>\n",
       "      <th>1</th>\n",
       "      <td>end</td>\n",
       "      <td>What to print at the end of the statement</td>\n",
       "      <td>'\\n'(newline)</td>\n",
       "    </tr>\n",
       "    <tr>\n",
       "      <th>2</th>\n",
       "      <td>file</td>\n",
       "      <td>Output stream (e.g., a file object instead of ...</td>\n",
       "      <td>sys.stdout</td>\n",
       "    </tr>\n",
       "  </tbody>\n",
       "</table>\n",
       "</div>"
      ],
      "text/plain": [
       "  Parameter                                        Description  Default Value\n",
       "0       sep  Separator between multiple values in one print...     ' '(space)\n",
       "1       end          What to print at the end of the statement  '\\n'(newline)\n",
       "2      file  Output stream (e.g., a file object instead of ...     sys.stdout"
      ]
     },
     "execution_count": 8,
     "metadata": {},
     "output_type": "execute_result"
    }
   ],
   "source": [
    "import pandas as pd\n",
    "df = pd.read_csv('Parameter-Description-DefaultValue.csv')\n",
    "df"
   ]
  },
  {
   "cell_type": "markdown",
   "id": "f4d3cdbd",
   "metadata": {},
   "source": [
    "### Examples:\n",
    "\n",
    "- Printing multiple values with custom separator:"
   ]
  },
  {
   "cell_type": "code",
   "execution_count": 9,
   "id": "b3133c47",
   "metadata": {},
   "outputs": [
    {
     "name": "stdout",
     "output_type": "stream",
     "text": [
      "Hello~World\n"
     ]
    }
   ],
   "source": [
    "print(\"Hello\", \"World\", sep=\"~\") "
   ]
  },
  {
   "cell_type": "markdown",
   "id": "d7d5e7bc",
   "metadata": {},
   "source": [
    "- Customizing end character:"
   ]
  },
  {
   "cell_type": "code",
   "execution_count": 10,
   "id": "27d54624",
   "metadata": {},
   "outputs": [
    {
     "name": "stdout",
     "output_type": "stream",
     "text": [
      "Hello!!!Next line\n"
     ]
    }
   ],
   "source": [
    "print(\"Hello\", end=\"!!!\")         \n",
    "print(\"Next line\")         \n"
   ]
  },
  {
   "cell_type": "markdown",
   "id": "564e1413",
   "metadata": {},
   "source": [
    "- Redirecting output to a file:"
   ]
  },
  {
   "cell_type": "code",
   "execution_count": 11,
   "id": "f5b3962a",
   "metadata": {},
   "outputs": [],
   "source": [
    "with open(\"output.txt\", \"w\") as f:\n",
    "    print(\"Saving this to a file\", file=f)"
   ]
  },
  {
   "cell_type": "markdown",
   "id": "65824017",
   "metadata": {},
   "source": [
    "### Notes:\n",
    "\n",
    "- The default separator is a space; the default end character is a newline.\n",
    "\n",
    "- Changing end to an empty string or another character lets you control how print statements are chained.\n",
    "\n",
    "- The file parameter is advanced and typically used for writing output to files."
   ]
  },
  {
   "cell_type": "markdown",
   "id": "8265edbd",
   "metadata": {},
   "source": [
    "# Summary\n",
    "- **Comments** help document your code and prevent execution of specific lines. Use # for single-line and triple quotes for multi-line comments.\n",
    "\n",
    "- **Escape sequence characters** allow you to include special formatting and characters in strings, such as newlines and quotes.\n",
    "\n",
    "- The **print statement** is versatile: it can print multiple values, format output using sep and end, and even write to files.\n",
    "\n",
    "Mastering these basics is essential for writing readable, maintainable, and robust Python programs."
   ]
  }
 ],
 "metadata": {
  "kernelspec": {
   "display_name": ".venv",
   "language": "python",
   "name": "python3"
  },
  "language_info": {
   "codemirror_mode": {
    "name": "ipython",
    "version": 3
   },
   "file_extension": ".py",
   "mimetype": "text/x-python",
   "name": "python",
   "nbconvert_exporter": "python",
   "pygments_lexer": "ipython3",
   "version": "3.12.3"
  }
 },
 "nbformat": 4,
 "nbformat_minor": 5
}
