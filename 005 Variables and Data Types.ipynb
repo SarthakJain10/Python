{
 "cells": [
  {
   "cell_type": "markdown",
   "id": "bbdf5a24",
   "metadata": {},
   "source": [
    "# Variables\n",
    "### Definition and Analogy\n",
    "\n",
    "- A variable in Python is like a container that holds data, similar to how containers in a kitchen store rice, sugar, or water.\n",
    "\n",
    "- Variables act as named storage locations in the computer's memory (RAM).\n",
    "\n",
    "### How Variables Work\n",
    "\n",
    "- When you assign a value to a variable (e.g., a = 1), Python stores the value in memory and associates it with the variable name.\n",
    "\n",
    "- You can change the value stored in a variable at any time, just like you can change what’s inside a container."
   ]
  },
  {
   "cell_type": "code",
   "execution_count": 1,
   "id": "8a56f9f0",
   "metadata": {},
   "outputs": [
    {
     "name": "stdout",
     "output_type": "stream",
     "text": [
      "1\n",
      "Hi there.\n"
     ]
    }
   ],
   "source": [
    "a = 1\n",
    "print(a) \n",
    "\n",
    "b = \"Hi there.\"\n",
    "print(b)  \n"
   ]
  },
  {
   "cell_type": "markdown",
   "id": "3932445e",
   "metadata": {},
   "source": [
    "- Here, a stores an integer and b stores a string.\n",
    "\n",
    "### Rules for Variables\n",
    "\n",
    "- Strings must be enclosed in quotes (\"Harry\"), otherwise Python will treat them as variable names or throw an error.\n",
    "\n",
    "- Variables can be reassigned to hold different values or even different types, but this can lead to errors if not handled properly."
   ]
  },
  {
   "cell_type": "markdown",
   "id": "c8a2a1a4",
   "metadata": {},
   "source": [
    "# Data Types\n",
    "### What are Data Types?\n",
    "\n",
    "- Data types specify what kind of value a variable can hold (e.g., number, text, etc.).\n",
    "\n",
    "- They are necessary to perform operations correctly and avoid errors (e.g., you cannot add a number and a string directly).\n",
    "\n",
    "### Why Data Types Matter\n",
    "\n",
    "- Data types help the computer understand how to store and operate on data.\n",
    "\n",
    "- For example, adding two numbers is valid, but adding a number and a string will cause an error.\n",
    "\n",
    "### Built-in Data Types in Python\n",
    "### 1. Numbers\n",
    "- **Integer (int):** Whole numbers (e.g., a = 1)\n",
    "\n",
    "- **Float (float):** Decimal numbers (e.g., a = 1.1)\n",
    "\n",
    "- **Complex (complex):** Numbers with a real and imaginary part (e.g., a = 8 + 2j)\n",
    "\n",
    "### 2. String (str)\n",
    "- Text data enclosed in quotes (e.g., \"Hello World\", \"Python Programming\")\n",
    "\n",
    "### 3. Boolean (bool)\n",
    "- Represents True or False values.\n",
    "\n",
    "- Useful for logical operations and conditions (e.g., can be used to indicate if someone can drive or not).\n",
    "\n",
    "### 4. Sequence Types\n",
    "- **List (list):** Ordered collection of items, can hold different data types, and is mutable (can be changed).\n",
    "\n",
    "- Example: my_list = [1, \"Hello\", 3.14]\n",
    "\n",
    "- **Tuple (tuple):** Ordered collection of items, immutable (cannot be changed).\n",
    "\n",
    "- Example: my_tuple = (1, \"Hello\", 3.14)\n",
    "\n",
    "### 5. Dictionary (dict)\n",
    "- Stores data as key-value pairs, similar to a real-world dictionary where you look up a word (key) to find its meaning (value).\n",
    "\n",
    "- Example: student = {\"name\": \"Sakshi\", \"marks\": 28, \"can_vote\": True}"
   ]
  },
  {
   "cell_type": "markdown",
   "id": "874cb8d3",
   "metadata": {},
   "source": [
    "## Key Concepts and Examples\n",
    "### Type Checking\n",
    "\n",
    "- Use the type() function to check the data type of a variable:"
   ]
  },
  {
   "cell_type": "code",
   "execution_count": 2,
   "id": "c7654c7d",
   "metadata": {},
   "outputs": [
    {
     "name": "stdout",
     "output_type": "stream",
     "text": [
      "<class 'int'>\n"
     ]
    }
   ],
   "source": [
    "a = 1\n",
    "print(type(a))  "
   ]
  },
  {
   "cell_type": "markdown",
   "id": "264e005c",
   "metadata": {},
   "source": [
    "- This helps in debugging and ensuring correct operations.\n",
    "\n",
    "### Type Errors\n",
    "\n",
    "- Operations between incompatible data types (e.g., adding a string and an integer) will cause errors.\n",
    "\n",
    "- Always ensure variables are of compatible types before performing operations.\n",
    "\n",
    "### Mutability\n",
    "\n",
    "- **Mutable:** Can be changed after creation (e.g., lists, dictionaries).\n",
    "\n",
    "- **Immutable:** Cannot be changed after creation (e.g., strings, tuples).\n",
    "\n",
    "- **Tip to remember:** \"Mutation\" means change. If something is mutable, it can be changed; if immutable, it cannot."
   ]
  },
  {
   "cell_type": "markdown",
   "id": "00da8a6d",
   "metadata": {},
   "source": [
    "# Summary\n",
    "- Variables are named containers for storing data in memory.\n",
    "\n",
    "- Data types define what kind of data a variable can hold and how it can be used.\n",
    "\n",
    "- Python has several built-in data types: integers, floats, complex numbers, strings, booleans, lists, tuples, and dictionaries.\n",
    "\n",
    "- Lists are mutable collections; tuples are immutable. Dictionaries store key-value pairs.\n",
    "\n",
    "- Always use the correct data type for your operations to avoid errors.\n",
    "\n",
    "- In Python, everything is an object, and each variable is an instance of a class.\n",
    "\n",
    "These fundamentals are crucial for writing robust Python programs and will be built upon in future lectures."
   ]
  }
 ],
 "metadata": {
  "kernelspec": {
   "display_name": ".venv",
   "language": "python",
   "name": "python3"
  },
  "language_info": {
   "codemirror_mode": {
    "name": "ipython",
    "version": 3
   },
   "file_extension": ".py",
   "mimetype": "text/x-python",
   "name": "python",
   "nbconvert_exporter": "python",
   "pygments_lexer": "ipython3",
   "version": "3.12.3"
  }
 },
 "nbformat": 4,
 "nbformat_minor": 5
}
