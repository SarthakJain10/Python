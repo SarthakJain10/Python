{
 "cells": [
  {
   "cell_type": "markdown",
   "id": "09e5e724",
   "metadata": {},
   "source": [
    "# Introduction\n",
    "Typecasting, or type conversion, is a fundamental concept in Python programming. It refers to converting one data type into another, such as converting a string to an integer or an integer to a float. Understanding typecasting is essential for handling user input, performing calculations, and avoiding common programming errors.\n",
    "\n",
    "### Why is Typecasting Important?\n",
    "- Python variables can hold different data types, such as strings, integers, and floats.\n",
    "\n",
    "- Operations between mismatched data types (e.g., adding a string and an integer) can produce unexpected results or errors.\n",
    "\n",
    "- Typecasting ensures data is in the correct format for operations like arithmetic or string manipulation.\n",
    "\n",
    "### Example Problem:\n",
    "\n",
    "- If a = \"1\" (string) and b = \"2\" (string), then print(a + b) outputs 12 (concatenation), not 3 (addition).\n",
    "\n",
    "- To perform arithmetic, both variables must be integers: a = 1, b = 2, then print(a + b) outputs 3."
   ]
  },
  {
   "cell_type": "markdown",
   "id": "4aea6170",
   "metadata": {},
   "source": [
    "# What is Typecasting?\n",
    "### Definition:\n",
    "Typecasting is the process of converting a variable from one data type to another, such as from a string to an integer or from an integer to a float.\n",
    "\n",
    "### Common Typecasting Functions in Python:\n",
    "- **int():** Converts a value to an integer.\n",
    "\n",
    "- **float():** Converts a value to a floating-point number.\n",
    "\n",
    "- **str():** Converts a value to a string.\n",
    "\n",
    "- **ord():** Converts a character to its Unicode integer.\n",
    "\n",
    "- **hex():** Converts an integer to a hexadecimal string.\n",
    "\n",
    "- **oct():**  Converts an integer to an octal string.\n",
    "\n",
    "- **tuple(), set(), list(), dict():** Convert to respective collection types.\n",
    "\n",
    "### Valid and Invalid Typecasting\n",
    "- **Valid Conversion:**\n",
    "\n",
    "- If a string contains a valid number (e.g., \"27\"), it can be converted to an integer using int(\"27\").\n",
    "\n",
    "- **Invalid Conversion:**\n",
    "\n",
    "- If a string contains non-numeric characters (e.g., \"1Hello\"), trying int(\"1Hello\") will result in an error.\n",
    "\n",
    "- Always ensure the value is valid for the target data type before converting.\n",
    "\n",
    "### Types of Typecasting\n",
    "### 1. Explicit Typecasting\n",
    "- **Definition:**\n",
    "The programmer manually converts one data type to another using built-in functions.\n",
    "\n",
    "- **How:**\n",
    "\n",
    "- Example: print(int(a) + int(b)) where a and b are strings containing numbers.\n",
    "\n",
    "- **When to Use:**\n",
    "When you need to ensure a variable is of the correct type for a specific operation.\n",
    "\n",
    "### Example:"
   ]
  },
  {
   "cell_type": "code",
   "execution_count": 1,
   "id": "65f62074",
   "metadata": {},
   "outputs": [
    {
     "name": "stdout",
     "output_type": "stream",
     "text": [
      "3\n"
     ]
    }
   ],
   "source": [
    "a = \"1\"\n",
    "b = \"2\"\n",
    "print(int(a) + int(b))"
   ]
  },
  {
   "cell_type": "markdown",
   "id": "12c199c3",
   "metadata": {},
   "source": [
    "# 2. Implicit Typecasting\n",
    "### Definition:\n",
    "Python automatically converts one data type to another during operations, typically to prevent data loss.\n",
    "\n",
    "- **How:**\n",
    "\n",
    "When combining an integer and a float, Python converts the integer to a float.\n",
    "\n",
    "- **When it Happens:**\n",
    "During operations involving mixed data types of different \"levels\" (e.g., int and float).\n",
    "\n",
    "### Example:"
   ]
  },
  {
   "cell_type": "code",
   "execution_count": 2,
   "id": "cf639cc4",
   "metadata": {},
   "outputs": [
    {
     "name": "stdout",
     "output_type": "stream",
     "text": [
      "9.9\n"
     ]
    }
   ],
   "source": [
    "c = 1.9   # float\n",
    "d = 8     # int\n",
    "print(c + d)  # Output: 9.9 (float)"
   ]
  },
  {
   "cell_type": "markdown",
   "id": "6d7b1cfc",
   "metadata": {},
   "source": [
    "- Here, d (int) is converted to float, and the result is a float."
   ]
  },
  {
   "cell_type": "markdown",
   "id": "eaf04b17",
   "metadata": {},
   "source": [
    "### Key Points and Best Practices\n",
    "- Always check the data before converting to avoid errors.\n",
    "\n",
    "- Use explicit typecasting when reading user input (which is always a string) and when performing arithmetic.\n",
    "\n",
    "- Remember, implicit typecasting is automatic and usually safe, but explicit typecasting gives you full control."
   ]
  },
  {
   "cell_type": "markdown",
   "id": "133b8978",
   "metadata": {},
   "source": [
    "# Summary\n",
    "- Typecasting is the process of converting one data type to another in Python.\n",
    "\n",
    "- Explicit typecasting is done manually by the programmer using functions like int(), float(), and str().\n",
    "\n",
    "- Implicit typecasting is performed automatically by Python, usually to prevent data loss (e.g., int to float during arithmetic).\n",
    "\n",
    "- Always ensure values are valid for the intended conversion to avoid errors.\n",
    "\n",
    "- Typecasting is essential for correct data processing and avoiding common programming bugs, especially when dealing with user input or mixed data types."
   ]
  }
 ],
 "metadata": {
  "kernelspec": {
   "display_name": ".venv",
   "language": "python",
   "name": "python3"
  },
  "language_info": {
   "codemirror_mode": {
    "name": "ipython",
    "version": 3
   },
   "file_extension": ".py",
   "mimetype": "text/x-python",
   "name": "python",
   "nbconvert_exporter": "python",
   "pygments_lexer": "ipython3",
   "version": "3.12.3"
  }
 },
 "nbformat": 4,
 "nbformat_minor": 5
}
