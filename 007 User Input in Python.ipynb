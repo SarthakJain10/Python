{
 "cells": [
  {
   "cell_type": "markdown",
   "id": "d98a32c1",
   "metadata": {},
   "source": [
    "# Why Learn User Input in Python?\n",
    "- **Interactivity:** User input allows programs to interact with users, making applications dynamic and responsive.\n",
    "\n",
    "- **Real-World Applications:** Many programs require user input, such as entering data, making choices, or responding to prompts.\n",
    "\n",
    "- **Foundational Skill:** Understanding how to handle input is essential for building more complex programs.\n",
    "\n",
    "# Key Concepts\n",
    "### 1. The input() Function\n",
    "- **Definition:**\n",
    "The input() function is used to take input from the user via the keyboard.\n",
    "\n",
    "- **Syntax:**"
   ]
  },
  {
   "cell_type": "code",
   "execution_count": null,
   "id": "63b29e54",
   "metadata": {},
   "outputs": [],
   "source": [
    "user_input = input(\"Enter something: \")"
   ]
  },
  {
   "cell_type": "markdown",
   "id": "82f324b2",
   "metadata": {},
   "source": [
    "### How it Works:\n",
    "\n",
    "- Displays the prompt (\"Enter something: \") to the user.\n",
    "\n",
    "- Waits for the user to type input and press Enter.\n",
    "\n",
    "- Returns the input as a string.\n",
    "\n",
    "### 2. Data Types and Input\n",
    "- **String by Default:**\n",
    "All data received from input() is of type str, even if the user enters numbers.\n",
    "\n",
    "- **Example:**"
   ]
  },
  {
   "cell_type": "code",
   "execution_count": 1,
   "id": "1c386bb1",
   "metadata": {},
   "outputs": [
    {
     "name": "stdout",
     "output_type": "stream",
     "text": [
      "<class 'str'>\n"
     ]
    }
   ],
   "source": [
    "age = input(\"Enter your age: \")\n",
    "print(type(age)) "
   ]
  },
  {
   "cell_type": "markdown",
   "id": "eb7af087",
   "metadata": {},
   "source": [
    "# Converting Input to Other Types:\n",
    "To use input as an integer or float, convert it explicitly:\n",
    "\n",
    "- ### Integer:"
   ]
  },
  {
   "cell_type": "code",
   "execution_count": 2,
   "id": "d3eb0aba",
   "metadata": {},
   "outputs": [],
   "source": [
    "age = int(input(\"Enter your age: \"))"
   ]
  },
  {
   "cell_type": "markdown",
   "id": "e4d851a3",
   "metadata": {},
   "source": [
    "- ### Float:"
   ]
  },
  {
   "cell_type": "code",
   "execution_count": null,
   "id": "d3fb1b61",
   "metadata": {},
   "outputs": [],
   "source": [
    "price = float(input(\"Enter the price: \"))"
   ]
  },
  {
   "cell_type": "markdown",
   "id": "50844d58",
   "metadata": {},
   "source": [
    "# 3. Practical Examples\n",
    "### Example 1: Simple Greeting"
   ]
  },
  {
   "cell_type": "code",
   "execution_count": null,
   "id": "32b8b12e",
   "metadata": {},
   "outputs": [],
   "source": [
    "name = input(\"What is your name? \")\n",
    "print(\"Hello, \" + name + \"!\")"
   ]
  },
  {
   "cell_type": "markdown",
   "id": "c37461fc",
   "metadata": {},
   "source": [
    "- ### Example 2: Adding Two Numbers"
   ]
  },
  {
   "cell_type": "code",
   "execution_count": null,
   "id": "87000bf3",
   "metadata": {},
   "outputs": [],
   "source": [
    "num1 = int(input(\"Enter first number: \"))\n",
    "num2 = int(input(\"Enter second number: \"))\n",
    "sum = num1 + num2\n",
    "print(\"Sum is:\", sum)"
   ]
  },
  {
   "cell_type": "markdown",
   "id": "20c5685d",
   "metadata": {},
   "source": [
    "- ### Example 3: Concatenation vs. Addition\n",
    "\n",
    "- If you use input() without conversion:"
   ]
  },
  {
   "cell_type": "code",
   "execution_count": null,
   "id": "92ee93eb",
   "metadata": {},
   "outputs": [],
   "source": [
    "a = input(\"Enter a number: \")\n",
    "b = input(\"Enter another number: \")\n",
    "print(a + b)  # Concatenates as strings"
   ]
  },
  {
   "cell_type": "markdown",
   "id": "f3d6eece",
   "metadata": {},
   "source": [
    "- With conversion:"
   ]
  },
  {
   "cell_type": "code",
   "execution_count": null,
   "id": "c94cbb23",
   "metadata": {},
   "outputs": [],
   "source": [
    "a = int(input(\"Enter a number: \"))\n",
    "b = int(input(\"Enter another number: \"))\n",
    "print(a + b)  # Adds as integers"
   ]
  },
  {
   "cell_type": "markdown",
   "id": "fe26908e",
   "metadata": {},
   "source": [
    "# Important Terms and Concepts\n",
    "- **Prompt:** The message shown to the user in the input() function.\n",
    "\n",
    "- **Type Conversion:** Changing the data type of input using functions like int(), float(), etc.\n",
    "\n",
    "- **String Concatenation:** Joining two or more strings using the + operator.\n",
    "\n",
    "- **Error Handling:** If the user enters a non-numeric value when converting to int or float, a ValueError will occur.\n",
    "\n",
    "# Tips for Beginners\n",
    "- Always remember that input() returns a string.\n",
    "\n",
    "- Use type conversion functions (int(), float()) as needed.\n",
    "\n",
    "- Provide clear prompts to guide the user.\n",
    "\n",
    "- Be prepared to handle errors for invalid input (advanced: use try-except blocks).\n",
    "\n",
    "# Summary\n",
    "- The input() function is essential for making interactive Python programs.\n",
    "\n",
    "- By default, all input is treated as a string; use type conversion for numbers.\n",
    "\n",
    "- Proper prompts and conversions help avoid common mistakes.\n",
    "\n",
    "- Mastering user input is a foundational step toward building practical Python applications."
   ]
  }
 ],
 "metadata": {
  "kernelspec": {
   "display_name": ".venv",
   "language": "python",
   "name": "python3"
  },
  "language_info": {
   "codemirror_mode": {
    "name": "ipython",
    "version": 3
   },
   "file_extension": ".py",
   "mimetype": "text/x-python",
   "name": "python",
   "nbconvert_exporter": "python",
   "pygments_lexer": "ipython3",
   "version": "3.12.3"
  }
 },
 "nbformat": 4,
 "nbformat_minor": 5
}
