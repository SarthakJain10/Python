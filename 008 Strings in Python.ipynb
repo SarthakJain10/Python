{
 "cells": [
  {
   "cell_type": "markdown",
   "id": "28670e87",
   "metadata": {},
   "source": [
    "# What is a String?\n",
    "### Definition:\n",
    "A string in Python is a sequence (or array) of characters enclosed within single (' ') or double (\" \") quotation marks.\n",
    "\n",
    "### Usage:\n",
    "Strings are used to store text, such as names, sentences, or any sequence of Unicode characters.\n",
    "\n",
    "### Example:"
   ]
  },
  {
   "cell_type": "code",
   "execution_count": null,
   "id": "118a3d73",
   "metadata": {},
   "outputs": [],
   "source": [
    "name = \"Naman\"\n",
    "friend = 'Rohan'\n",
    "anotherFriend = \"Ashish\""
   ]
  },
  {
   "cell_type": "markdown",
   "id": "11434d01",
   "metadata": {},
   "source": [
    "All of the above are valid strings in Python.\n",
    "\n",
    "# Creating Strings\n",
    "### Ways to Create Strings:\n",
    "\n",
    "- Using double quotes: \"Hello\"\n",
    "\n",
    "- Using single quotes: 'Hello'\n",
    "\n",
    "- Both are functionally equivalent in Python.\n",
    "\n",
    "### Key Point:\n",
    "You can use either single or double quotes, but be consistent within the same string.\n",
    "\n",
    "### Handling Quotes within Strings\n",
    "Sometimes, you may need to include quotes inside your string:\n",
    "\n",
    "- **Problem:**\n",
    "Including double quotes within a double-quoted string causes an error."
   ]
  },
  {
   "cell_type": "code",
   "execution_count": 1,
   "id": "932cc4a9",
   "metadata": {},
   "outputs": [
    {
     "ename": "SyntaxError",
     "evalue": "invalid syntax (162238020.py, line 1)",
     "output_type": "error",
     "traceback": [
      "  \u001b[36mCell\u001b[39m\u001b[36m \u001b[39m\u001b[32mIn[1]\u001b[39m\u001b[32m, line 1\u001b[39m\n\u001b[31m    \u001b[39m\u001b[31mapple = \"He said \"I want to eat an apple\"\"\u001b[39m\n                      ^\n\u001b[31mSyntaxError\u001b[39m\u001b[31m:\u001b[39m invalid syntax\n"
     ]
    }
   ],
   "source": [
    "apple = \"He said \"I want to eat an apple\"\"\n",
    "# This will cause a syntax error"
   ]
  },
  {
   "cell_type": "markdown",
   "id": "87114249",
   "metadata": {},
   "source": [
    "### Solutions:\n",
    "\n",
    "- **Escape Sequence:** Use a backslash (\\) to escape the inner quotes."
   ]
  },
  {
   "cell_type": "code",
   "execution_count": 2,
   "id": "09d3c743",
   "metadata": {},
   "outputs": [],
   "source": [
    "apple = \"He said \\\"I want to eat an apple\\\"\""
   ]
  },
  {
   "cell_type": "markdown",
   "id": "520e9288",
   "metadata": {},
   "source": [
    "- **Alternate Quotes:** Use single quotes to enclose a string containing double quotes."
   ]
  },
  {
   "cell_type": "code",
   "execution_count": 3,
   "id": "a72e421f",
   "metadata": {},
   "outputs": [],
   "source": [
    "apple = 'He said \"I want to eat an apple\"'"
   ]
  },
  {
   "cell_type": "markdown",
   "id": "c3d8c52a",
   "metadata": {},
   "source": [
    "# Note:\n",
    "Escape sequences are special characters used to represent certain whitespace or symbols inside strings, such as \\n for newline or \\\" for a double quote.\n",
    "\n",
    "# Multi-line Strings\n",
    "- **Problem:**\n",
    "If you try to write a string that spans multiple lines using single or double quotes, Python will throw an error (\"EOL while scanning string literal\").\n",
    "\n",
    "- **Solution:**\n",
    "Use triple quotes—either triple single (''' ''') or triple double (\"\"\" \"\"\") quotes—to define multi-line strings.\n",
    "\n",
    "### Example:\n",
    "\n"
   ]
  },
  {
   "cell_type": "code",
   "execution_count": 4,
   "id": "8cb48804",
   "metadata": {},
   "outputs": [],
   "source": [
    "multi_line = '''Hello Harry\n",
    "He said\n",
    "\"Hi Harry\"\n",
    "Hey I am good\n",
    "I want to eat an apple'''\n"
   ]
  },
  {
   "cell_type": "markdown",
   "id": "57bc5ca3",
   "metadata": {},
   "source": [
    "This string will include all line breaks and quotes as part of the string.\n",
    "\n",
    "# String Indexing\n",
    "### Concept:\n",
    "Strings are like arrays of characters. Each character in a string can be accessed by its index.\n",
    "\n",
    "### Indexing starts at 0:\n",
    "The first character is at index 0, the second at 1, and so on.\n",
    "\n",
    "### Example:"
   ]
  },
  {
   "cell_type": "code",
   "execution_count": 5,
   "id": "e8e50342",
   "metadata": {},
   "outputs": [
    {
     "name": "stdout",
     "output_type": "stream",
     "text": [
      "A\n",
      "n\n",
      "h\n"
     ]
    }
   ],
   "source": [
    "name = \"Ansh\"\n",
    "print(name[0])  # Output: A\n",
    "print(name[1])  # Output: n\n",
    "print(name[3])  # Output: h"
   ]
  },
  {
   "cell_type": "markdown",
   "id": "73e8b0be",
   "metadata": {},
   "source": [
    "- Accessing an index outside the range (e.g., name[2] in this case) will cause an IndexError.\n",
    "\n"
   ]
  },
  {
   "cell_type": "markdown",
   "id": "6b5493f7",
   "metadata": {},
   "source": [
    "# Looping Through Strings\n",
    "### Why Loop?\n",
    "To process or print each character in a string individually, especially when the length is unknown or variable.\n",
    "\n",
    "### For Loop Example:"
   ]
  },
  {
   "cell_type": "code",
   "execution_count": 6,
   "id": "a5fddc45",
   "metadata": {},
   "outputs": [
    {
     "name": "stdout",
     "output_type": "stream",
     "text": [
      "A\n",
      "n\n",
      "s\n",
      "h\n"
     ]
    }
   ],
   "source": [
    "for character in name:\n",
    "    print(character)"
   ]
  },
  {
   "cell_type": "markdown",
   "id": "a2469d8a",
   "metadata": {},
   "source": [
    "This will print each character of the string name on a new line.\n",
    "\n",
    "- ### Explanation:\n",
    "The for loop iterates over each character in the string, allowing you to perform operations on them one by one.\n",
    "\n",
    "# Key Terms and Concepts\n",
    "- **String:** Sequence of characters enclosed in quotes.\n",
    "\n",
    "- **Escape Sequence:** Special characters used with a backslash (e.g., \\n, \\\").\n",
    "\n",
    "- **Indexing:** Accessing individual characters in a string using their position.\n",
    "\n",
    "- **Multi-line String:** A string that spans multiple lines, created using triple quotes.\n",
    "\n",
    "- **For Loop:** A control structure to iterate over each character in a string."
   ]
  },
  {
   "cell_type": "code",
   "execution_count": 7,
   "id": "177295d6",
   "metadata": {},
   "outputs": [
    {
     "data": {
      "text/html": [
       "<div>\n",
       "<style scoped>\n",
       "    .dataframe tbody tr th:only-of-type {\n",
       "        vertical-align: middle;\n",
       "    }\n",
       "\n",
       "    .dataframe tbody tr th {\n",
       "        vertical-align: top;\n",
       "    }\n",
       "\n",
       "    .dataframe thead th {\n",
       "        text-align: right;\n",
       "    }\n",
       "</style>\n",
       "<table border=\"1\" class=\"dataframe\">\n",
       "  <thead>\n",
       "    <tr style=\"text-align: right;\">\n",
       "      <th></th>\n",
       "      <th>Task</th>\n",
       "      <th>Example Code</th>\n",
       "      <th>Output/Explanation</th>\n",
       "    </tr>\n",
       "  </thead>\n",
       "  <tbody>\n",
       "    <tr>\n",
       "      <th>0</th>\n",
       "      <td>Create a string</td>\n",
       "      <td>greet = \"Hello\"</td>\n",
       "      <td>Stores \"Hello\" as a string</td>\n",
       "    </tr>\n",
       "    <tr>\n",
       "      <th>1</th>\n",
       "      <td>Include quotes in a string</td>\n",
       "      <td>msg = 'He said \"Hi\"'</td>\n",
       "      <td>Handles inner quotes</td>\n",
       "    </tr>\n",
       "    <tr>\n",
       "      <th>2</th>\n",
       "      <td>Escape sequence</td>\n",
       "      <td>msg = \"He said \\\"Hi\\\"\"</td>\n",
       "      <td>Handles inner quotes with\\\"</td>\n",
       "    </tr>\n",
       "    <tr>\n",
       "      <th>3</th>\n",
       "      <td>Multi-line string</td>\n",
       "      <td>poem = \"\"\"Line1\\nLine2\"\"\"</td>\n",
       "      <td>Stores text with line breaks</td>\n",
       "    </tr>\n",
       "    <tr>\n",
       "      <th>4</th>\n",
       "      <td>Indexing</td>\n",
       "      <td>print(name)</td>\n",
       "      <td>Prints first character</td>\n",
       "    </tr>\n",
       "    <tr>\n",
       "      <th>5</th>\n",
       "      <td>For loop over string</td>\n",
       "      <td>for c in name: print(c)</td>\n",
       "      <td>Prints each character on a new line</td>\n",
       "    </tr>\n",
       "  </tbody>\n",
       "</table>\n",
       "</div>"
      ],
      "text/plain": [
       "                         Task               Example Code  \\\n",
       "0             Create a string            greet = \"Hello\"   \n",
       "1  Include quotes in a string       msg = 'He said \"Hi\"'   \n",
       "2             Escape sequence     msg = \"He said \\\"Hi\\\"\"   \n",
       "3           Multi-line string  poem = \"\"\"Line1\\nLine2\"\"\"   \n",
       "4                    Indexing                print(name)   \n",
       "5        For loop over string    for c in name: print(c)   \n",
       "\n",
       "                    Output/Explanation  \n",
       "0           Stores \"Hello\" as a string  \n",
       "1                 Handles inner quotes  \n",
       "2          Handles inner quotes with\\\"  \n",
       "3         Stores text with line breaks  \n",
       "4               Prints first character  \n",
       "5  Prints each character on a new line  "
      ]
     },
     "execution_count": 7,
     "metadata": {},
     "output_type": "execute_result"
    }
   ],
   "source": [
    "import pandas as pd\n",
    "df = pd.read_csv('Task-ExampleCode-OutputExplanation.csv')\n",
    "df"
   ]
  },
  {
   "cell_type": "markdown",
   "id": "5d29022d",
   "metadata": {},
   "source": [
    "# Summary\n",
    "- Strings in Python are sequences of characters defined using single, double, or triple quotes.\n",
    "\n",
    "- You can use escape sequences or alternate quotes to handle special characters within strings.\n",
    "\n",
    "- Triple quotes allow creation of multi-line strings.\n",
    "\n",
    "- Strings are indexed starting from 0, and you can access individual characters using their index.\n",
    "\n",
    "- Use for loops to iterate over each character in a string.\n",
    "\n",
    "- Understanding these basics is crucial for text processing and manipulation in Python."
   ]
  }
 ],
 "metadata": {
  "kernelspec": {
   "display_name": ".venv",
   "language": "python",
   "name": "python3"
  },
  "language_info": {
   "codemirror_mode": {
    "name": "ipython",
    "version": 3
   },
   "file_extension": ".py",
   "mimetype": "text/x-python",
   "name": "python",
   "nbconvert_exporter": "python",
   "pygments_lexer": "ipython3",
   "version": "3.12.3"
  }
 },
 "nbformat": 4,
 "nbformat_minor": 5
}
