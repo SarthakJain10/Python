{
 "cells": [
  {
   "cell_type": "markdown",
   "id": "6f471b2b",
   "metadata": {},
   "source": [
    "# String Slicing\n",
    "### Definition:\n",
    "String slicing refers to extracting a portion (substring) of a string using a specific syntax.\n",
    "\n",
    "### Syntax:\n",
    "\n",
    "**string[start:end]**\n",
    "- **start:** The index where the slice begins (inclusive).\n",
    "\n",
    "- **end:** The index where the slice ends (exclusive).\n",
    "\n",
    "### Examples:\n",
    "\n",
    "Slicing from the beginning:"
   ]
  },
  {
   "cell_type": "code",
   "execution_count": 4,
   "id": "c1f7045e",
   "metadata": {},
   "outputs": [
    {
     "name": "stdout",
     "output_type": "stream",
     "text": [
      "Pyt\n"
     ]
    }
   ],
   "source": [
    "s = \"Python\"\n",
    "print(s[:3])  # Output: Pyt"
   ]
  },
  {
   "cell_type": "markdown",
   "id": "61cdf117",
   "metadata": {},
   "source": [
    "- Slicing from the middle:"
   ]
  },
  {
   "cell_type": "code",
   "execution_count": 3,
   "id": "4128c295",
   "metadata": {},
   "outputs": [
    {
     "name": "stdout",
     "output_type": "stream",
     "text": [
      "yth\n"
     ]
    }
   ],
   "source": [
    "print(s[1:4])  # Output: yth"
   ]
  },
  {
   "cell_type": "markdown",
   "id": "2bc02602",
   "metadata": {},
   "source": [
    "- Slicing to the end:"
   ]
  },
  {
   "cell_type": "code",
   "execution_count": 4,
   "id": "93c7b1c3",
   "metadata": {},
   "outputs": [
    {
     "name": "stdout",
     "output_type": "stream",
     "text": [
      "thon\n"
     ]
    }
   ],
   "source": [
    "print(s[2:])  # Output: thon"
   ]
  },
  {
   "cell_type": "markdown",
   "id": "027e0fd9",
   "metadata": {},
   "source": [
    "### Negative Indexing:\n",
    "Python allows negative indices to count from the end of the string."
   ]
  },
  {
   "cell_type": "code",
   "execution_count": 5,
   "id": "c9a16bb0",
   "metadata": {},
   "outputs": [
    {
     "name": "stdout",
     "output_type": "stream",
     "text": [
      "hon\n"
     ]
    }
   ],
   "source": [
    "print(s[-3:])  # Output: hon"
   ]
  },
  {
   "cell_type": "code",
   "execution_count": 5,
   "id": "11692525",
   "metadata": {},
   "outputs": [
    {
     "name": "stdout",
     "output_type": "stream",
     "text": [
      "\n"
     ]
    }
   ],
   "source": [
    "print(s[-2:-4])"
   ]
  },
  {
   "cell_type": "markdown",
   "id": "84cce1b1",
   "metadata": {},
   "source": [
    "### Step Parameter:\n",
    "You can provide a step value to skip characters."
   ]
  },
  {
   "cell_type": "code",
   "execution_count": 6,
   "id": "a48fc783",
   "metadata": {},
   "outputs": [
    {
     "name": "stdout",
     "output_type": "stream",
     "text": [
      "Pto\n"
     ]
    }
   ],
   "source": [
    "print(s[::2])  # Output: Pto"
   ]
  },
  {
   "cell_type": "markdown",
   "id": "612166b0",
   "metadata": {},
   "source": [
    "# String Operations\n",
    "### Concatenation (+):\n",
    "Combines two or more strings."
   ]
  },
  {
   "cell_type": "code",
   "execution_count": 7,
   "id": "fb7d0146",
   "metadata": {},
   "outputs": [
    {
     "name": "stdout",
     "output_type": "stream",
     "text": [
      "Hello World\n"
     ]
    }
   ],
   "source": [
    "a = \"Hello\"\n",
    "b = \"World\"\n",
    "print(a + \" \" + b)  # Output: Hello World"
   ]
  },
  {
   "cell_type": "markdown",
   "id": "2ee48967",
   "metadata": {},
   "source": [
    "### Repetition (*):\n",
    "Repeats a string multiple times."
   ]
  },
  {
   "cell_type": "code",
   "execution_count": 8,
   "id": "5f3deaf7",
   "metadata": {},
   "outputs": [
    {
     "name": "stdout",
     "output_type": "stream",
     "text": [
      "Hi! Hi! Hi! \n"
     ]
    }
   ],
   "source": [
    "print(\"Hi! \" * 3)  # Output: Hi! Hi! Hi!"
   ]
  },
  {
   "cell_type": "markdown",
   "id": "a6a336cc",
   "metadata": {},
   "source": [
    "### Membership Testing (in):\n",
    "Checks if a substring exists within a string."
   ]
  },
  {
   "cell_type": "code",
   "execution_count": 9,
   "id": "ac9a5eea",
   "metadata": {},
   "outputs": [
    {
     "name": "stdout",
     "output_type": "stream",
     "text": [
      "True\n"
     ]
    }
   ],
   "source": [
    "print(\"Py\" in \"Python\")  # Output: True"
   ]
  },
  {
   "cell_type": "markdown",
   "id": "93ac625f",
   "metadata": {},
   "source": [
    "### Length (len()):\n",
    "Returns the number of characters in a string."
   ]
  },
  {
   "cell_type": "code",
   "execution_count": 10,
   "id": "cc7e3bdc",
   "metadata": {},
   "outputs": [
    {
     "name": "stdout",
     "output_type": "stream",
     "text": [
      "6\n"
     ]
    }
   ],
   "source": [
    "print(len(\"Python\"))  # Output: 6"
   ]
  },
  {
   "cell_type": "markdown",
   "id": "46213460",
   "metadata": {},
   "source": [
    "### Other Useful Methods:\n",
    "\n",
    ".upper(), .lower(), .replace(), .find(), .split(), etc."
   ]
  },
  {
   "cell_type": "markdown",
   "id": "d6f02869",
   "metadata": {},
   "source": [
    "### Examples\n",
    "Slicing Examples:"
   ]
  },
  {
   "cell_type": "code",
   "execution_count": 11,
   "id": "25741116",
   "metadata": {},
   "outputs": [
    {
     "name": "stdout",
     "output_type": "stream",
     "text": [
      "With\n",
      "Code\n",
      "Harry\n"
     ]
    }
   ],
   "source": [
    "s = \"CodeWithHarry\"\n",
    "print(s[4:8])    # Output: With\n",
    "print(s[:4])     # Output: Code\n",
    "print(s[-5:])    # Output: Harry"
   ]
  },
  {
   "cell_type": "markdown",
   "id": "d9be4357",
   "metadata": {},
   "source": [
    "### String Operations Examples:"
   ]
  },
  {
   "cell_type": "code",
   "execution_count": 12,
   "id": "27e551ec",
   "metadata": {},
   "outputs": [
    {
     "name": "stdout",
     "output_type": "stream",
     "text": [
      "Hello, Harry!\n",
      "HarryHarry\n",
      "False\n",
      "harry\n"
     ]
    }
   ],
   "source": [
    "greeting = \"Hello\"\n",
    "name = \"Harry\"\n",
    "print(greeting + \", \" + name + \"!\")  # Output: Hello, Harry!\n",
    "print(name * 2)                      # Output: HarryHarry\n",
    "print(\"W\" in name)                   # Output: False\n",
    "print(name.lower())                  # Output: harry"
   ]
  },
  {
   "cell_type": "markdown",
   "id": "acd870e2",
   "metadata": {},
   "source": [
    "# Summary\n",
    "- String slicing allows you to extract substrings using the [start:end] syntax, with support for negative indices and step values.\n",
    "\n",
    "- String operations include concatenation, repetition, membership testing, and various built-in methods for manipulating string data.\n",
    "\n",
    "- Mastering these techniques is essential for effective Python programming and lays the groundwork for more advanced topics."
   ]
  }
 ],
 "metadata": {
  "kernelspec": {
   "display_name": ".venv",
   "language": "python",
   "name": "python3"
  },
  "language_info": {
   "codemirror_mode": {
    "name": "ipython",
    "version": 3
   },
   "file_extension": ".py",
   "mimetype": "text/x-python",
   "name": "python",
   "nbconvert_exporter": "python",
   "pygments_lexer": "ipython3",
   "version": "3.12.3"
  }
 },
 "nbformat": 4,
 "nbformat_minor": 5
}
