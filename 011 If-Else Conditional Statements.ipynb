{
 "cells": [
  {
   "cell_type": "markdown",
   "id": "da20b17e",
   "metadata": {},
   "source": [
    "# Decision Making in Programming\n",
    "- In daily life, decisions are made based on conditions (e.g., \"If it rains, I won't go to school\").\n",
    "\n",
    "- Similarly, in programming, we use conditional statements to perform actions based on whether certain conditions are true or false.\n",
    "\n",
    "# The if Statement\n",
    "- The basic structure for decision making.\n",
    "\n",
    "- Syntax:"
   ]
  },
  {
   "cell_type": "code",
   "execution_count": null,
   "id": "b3401939",
   "metadata": {},
   "outputs": [],
   "source": [
    "if condition:\n",
    "    # code to execute if condition is true"
   ]
  },
  {
   "cell_type": "markdown",
   "id": "6065c8d7",
   "metadata": {},
   "source": [
    "- Example:"
   ]
  },
  {
   "cell_type": "code",
   "execution_count": 1,
   "id": "a14122c4",
   "metadata": {},
   "outputs": [
    {
     "name": "stdout",
     "output_type": "stream",
     "text": [
      "You can drive\n"
     ]
    }
   ],
   "source": [
    "age = int(input(\"Enter your age: \"))\n",
    "if age >= 18:\n",
    "    print(\"You can drive\")\n",
    "else:\n",
    "    print(\"You cannot drive\")\n"
   ]
  },
  {
   "cell_type": "markdown",
   "id": "1f828986",
   "metadata": {},
   "source": [
    "- The block under if runs only if the condition is true; otherwise, the block under else runs."
   ]
  },
  {
   "cell_type": "markdown",
   "id": "8b93ae0e",
   "metadata": {},
   "source": [
    "# Conditional Operators\n",
    "Used to compare values and form conditions.\n",
    "\n",
    "Common operators:\n",
    "\n",
    "- \\> : greater than\n",
    "\n",
    "- < : less than\n",
    "\n",
    "- \\>= : greater than or equal to\n",
    "\n",
    "- <= : less than or equal to\n",
    "\n",
    "- == : equal to (note: single = is assignment, not comparison)\n",
    "\n",
    "- != : not equal to\n",
    "\n",
    "These expressions return Boolean values (True or False).\n",
    "\n",
    "### Indentation in Python\n",
    "- Indentation defines code blocks (unlike curly braces {} in C/C++).\n",
    "\n",
    "- After a colon (:), all indented lines belong to the preceding statement (if, elif, or else).\n",
    "\n",
    "- Incorrect indentation leads to errors.\n",
    "\n",
    "### Examples and Explanations\n",
    "- Simple If-Else Example"
   ]
  },
  {
   "cell_type": "code",
   "execution_count": null,
   "id": "79adddbd",
   "metadata": {},
   "outputs": [
    {
     "name": "stdout",
     "output_type": "stream",
     "text": [
      "You can drive\n"
     ]
    }
   ],
   "source": [
    "age = int(input(\"Enter your age: \"))\n",
    "if age > 18:\n",
    "    print(\"You can drive\")\n",
    "else:\n",
    "    print(\"You cannot drive\")"
   ]
  },
  {
   "cell_type": "markdown",
   "id": "1cf38023",
   "metadata": {},
   "source": [
    "\n",
    "- If the user enters 9, the output is \"You cannot drive\".\n",
    "\n",
    "- If the user enters 76, the output is \"You can drive\"."
   ]
  },
  {
   "cell_type": "markdown",
   "id": "eae86bb0",
   "metadata": {},
   "source": [
    "### Using Conditional Operators"
   ]
  },
  {
   "cell_type": "code",
   "execution_count": 3,
   "id": "e0767e19",
   "metadata": {},
   "outputs": [
    {
     "name": "stdout",
     "output_type": "stream",
     "text": [
      "True\n",
      "False\n",
      "False\n",
      "True\n"
     ]
    }
   ],
   "source": [
    "a = int(input(\"Enter your age: \"))\n",
    "print(a > 18)   # True if age > 18, else False\n",
    "print(a <= 18)  # True if age <= 18, else False\n",
    "print(a == 18)  # True if age is exactly 18\n",
    "print(a != 18)  # True if age is not 18"
   ]
  },
  {
   "cell_type": "markdown",
   "id": "674bf8e8",
   "metadata": {},
   "source": [
    "- These print statements return Boolean values based on the input.\n",
    "\n",
    "### Independent Statements\n",
    "- Code not properly indented under if or else will always execute, regardless of conditions.\n",
    "\n",
    "- Only indented code is part of the conditional block.\n",
    "\n",
    "### Elif Statement\n",
    "- Used for multiple conditions.\n",
    "\n",
    "- Syntax:"
   ]
  },
  {
   "cell_type": "code",
   "execution_count": null,
   "id": "ac8edb79",
   "metadata": {},
   "outputs": [],
   "source": [
    "if condition1:\n",
    "    # code if condition1 is true\n",
    "elif condition2:\n",
    "    # code if condition2 is true\n",
    "else:\n",
    "    # code if none of the above are true"
   ]
  },
  {
   "cell_type": "code",
   "execution_count": 4,
   "id": "b56c7481",
   "metadata": {},
   "outputs": [
    {
     "name": "stdout",
     "output_type": "stream",
     "text": [
      "Number is positive\n"
     ]
    }
   ],
   "source": [
    "num = int(input(\"Enter the value of num: \"))\n",
    "if num < 0:\n",
    "    print(\"Number is negative\")\n",
    "elif num == 0:\n",
    "    print(\"Number is 0\")\n",
    "elif num == 999:\n",
    "    print(\"Number is special\")\n",
    "else:\n",
    "    print(\"Number is positive\")\n"
   ]
  },
  {
   "cell_type": "markdown",
   "id": "452138c9",
   "metadata": {},
   "source": [
    "- The first matching condition's block is executed; subsequent conditions are ignored.\n",
    "\n",
    "### Nested If-Else Statements\n",
    "- An if or else block can contain another if-else structure.\n",
    "\n",
    "- Example"
   ]
  },
  {
   "cell_type": "code",
   "execution_count": 5,
   "id": "24e9fae5",
   "metadata": {},
   "outputs": [
    {
     "name": "stdout",
     "output_type": "stream",
     "text": [
      "Number is between 11-20\n"
     ]
    }
   ],
   "source": [
    "num = 18\n",
    "if num < 0:\n",
    "    print(\"Number is negative\")\n",
    "elif num > 0:\n",
    "    if num <= 10:\n",
    "        print(\"Number is between 1-10\")\n",
    "    elif num <= 20:\n",
    "        print(\"Number is between 11-20\")\n",
    "    else:\n",
    "        print(\"Number is greater than 20\")\n",
    "else:\n",
    "    print(\"Number is 0\")\n"
   ]
  },
  {
   "cell_type": "markdown",
   "id": "b9785929",
   "metadata": {},
   "source": [
    "- This structure allows for more complex decision-making.\n",
    "\n",
    "# Important Terms and Concepts\n",
    "- **Boolean Type:** The result of a conditional expression; either True or False.\n",
    "\n",
    "- **Indentation:** Spaces or tabs at the beginning of a line to indicate a block of code.\n",
    "\n",
    "- **Conditional Operators:** Symbols used to compare values (>, <, ==, !=, >=, <=).\n",
    "\n",
    "- **If-Else Ladder:** Multiple elif statements chained together to check several conditions in sequence.\n",
    "\n",
    "- **Nested If-Else:** Placing an if-else block inside another if or else block for hierarchical decision-making."
   ]
  },
  {
   "cell_type": "markdown",
   "id": "23b77815",
   "metadata": {},
   "source": [
    "# Summary\n",
    "- Conditional statements (if, elif, else) are essential for decision-making in Python programs.\n",
    "\n",
    "- Use conditional operators to form logical expressions that return Boolean values.\n",
    "\n",
    "- Indentation is crucial in Python for defining code blocks.\n",
    "\n",
    "- The if-elif-else ladder allows checking multiple conditions in order.\n",
    "\n",
    "- Nested if-else statements enable complex, hierarchical logic.\n",
    "\n",
    "- Practice is key to mastering these concepts—experiment with writing your own conditional statements and programs."
   ]
  }
 ],
 "metadata": {
  "kernelspec": {
   "display_name": ".venv",
   "language": "python",
   "name": "python3"
  },
  "language_info": {
   "codemirror_mode": {
    "name": "ipython",
    "version": 3
   },
   "file_extension": ".py",
   "mimetype": "text/x-python",
   "name": "python",
   "nbconvert_exporter": "python",
   "pygments_lexer": "ipython3",
   "version": "3.12.3"
  }
 },
 "nbformat": 4,
 "nbformat_minor": 5
}
