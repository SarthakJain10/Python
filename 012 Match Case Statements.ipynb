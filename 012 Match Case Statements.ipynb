{
 "cells": [
  {
   "cell_type": "markdown",
   "id": "cfd7cc44",
   "metadata": {},
   "source": [
    "# Match Case Statements in Python (Python 3.10+)"
   ]
  },
  {
   "cell_type": "markdown",
   "id": "0d3d1d51",
   "metadata": {},
   "source": [
    "## What is the Match Statement?\n",
    "- The match statement is Python’s way of enabling pattern matching, introduced in Python 3.10.\n",
    "\n",
    "- It provides a cleaner alternative to long chains of if-elif-else statements.\n",
    "\n",
    "- The syntax and logic are inspired by switch-case statements in other programming languages.\n",
    "\n",
    "## Key Point:\n",
    "- You must use Python 3.10 or later to utilize the match statement. Attempting to use it in earlier versions (e.g., Python 3.8) will result in errors.\n",
    "\n",
    "## Comparison with Switch Statements\n",
    "- In C++, Java, and similar languages, the switch statement allows you to execute code based on the value of a variable.\n",
    "\n",
    "- Python’s match statement serves a similar purpose but is more powerful, supporting complex patterns and data structures.\n",
    "\n",
    "- Unlike C++/Java, Python does not require a break statement after each case; only the first matching case is executed, and the rest are ignored.\n",
    "\n",
    "## Syntax and Usage\n",
    "### Basic Structure:"
   ]
  },
  {
   "cell_type": "code",
   "execution_count": null,
   "id": "a3b1aa68",
   "metadata": {},
   "outputs": [],
   "source": [
    "match variable:\n",
    "    case value1:\n",
    "        # Code block for value1\n",
    "    case value2:\n",
    "        # Code block for value2\n",
    "    case _:\n",
    "        # Default case (like 'else')"
   ]
  },
  {
   "cell_type": "markdown",
   "id": "efdaca88",
   "metadata": {},
   "source": [
    "- **variable:** The value you want to match against different patterns.\n",
    "\n",
    "- **case valueX:** Code block to execute if variable matches valueX.\n",
    "\n",
    "- **case _:** The default case, executed if no other case matches."
   ]
  },
  {
   "cell_type": "code",
   "execution_count": 1,
   "id": "d1af6ca3",
   "metadata": {},
   "outputs": [
    {
     "name": "stdout",
     "output_type": "stream",
     "text": [
      "x is four\n"
     ]
    }
   ],
   "source": [
    "x = 4\n",
    "match x:\n",
    "    case 0:\n",
    "        print(\"x is zero\")\n",
    "    case 4:\n",
    "        print(\"x is four\")\n",
    "    case _:\n",
    "        print(\"x does not match any case\")\n"
   ]
  },
  {
   "cell_type": "markdown",
   "id": "a2f4adac",
   "metadata": {},
   "source": [
    "If x = 4, the output will be:\n",
    "x is four.\n",
    "\n",
    "## Key Concepts and Features\n",
    "### 1. Default Case with Underscore (_):\n",
    "\n",
    "- The underscore _ acts as a catch-all or default case, similar to else in if-else chains or default in switch-case statements.\n",
    "\n",
    "### 2. No Need for Break Statements:\n",
    "\n",
    "- In C++/Java, you must use break to prevent fall-through to the next case.\n",
    "\n",
    "- In Python, only the first matching case is executed—no need for break.\n",
    "\n",
    "### 3. Pattern Matching:\n",
    "\n",
    "- The match statement can compare variables to various patterns, not just simple values.\n",
    "\n",
    "- This allows for advanced matching, such as destructuring sequences or matching data types (not covered in detail in this lecture).\n",
    "\n",
    "### 4. Practical Example (Voting System):\n",
    "\n",
    "- Imagine a voting system where a user can select one of four options.\n",
    "\n",
    "- The match statement can be used to execute different actions based on the selected option, making the code more readable and organized.\n",
    "\n",
    "## Important Notes\n",
    "- Always ensure your Python environment is version 3.10 or higher to use the match statement.\n",
    "\n",
    "- If you are using tools like VS Code, ensure your interpreter is set to Python 3.10+.\n",
    "\n",
    "- If you are coming from another language, remember:\n",
    "\n",
    "- No break statements are needed.\n",
    "\n",
    "- Only the matched case runs; others are ignored.\n",
    "\n",
    "## Summary\n",
    "- The match statement is a modern feature in Python (3.10+) for cleaner and more powerful conditional logic.\n",
    "\n",
    "- It replaces lengthy if-elif-else chains and is similar to switch-case in other languages, but with more features and no need for break statements.\n",
    "\n",
    "- Use the underscore _ for the default case.\n",
    "\n",
    "- Always check your Python version before using match statements.\n",
    "\n",
    "- This feature enhances code readability and maintainability, especially for complex conditional logic."
   ]
  }
 ],
 "metadata": {
  "kernelspec": {
   "display_name": ".venv",
   "language": "python",
   "name": "python3"
  },
  "language_info": {
   "codemirror_mode": {
    "name": "ipython",
    "version": 3
   },
   "file_extension": ".py",
   "mimetype": "text/x-python",
   "name": "python",
   "nbconvert_exporter": "python",
   "pygments_lexer": "ipython3",
   "version": "3.12.3"
  }
 },
 "nbformat": 4,
 "nbformat_minor": 5
}
