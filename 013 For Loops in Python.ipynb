{
 "cells": [
  {
   "cell_type": "markdown",
   "id": "ec4ae683",
   "metadata": {},
   "source": [
    "# Introduction\n",
    "- In both daily life and programming, we often need to repeat certain actions multiple times.\n",
    "\n",
    "- Examples from daily life: cooking food daily, filling water bottles for the refrigerator.\n",
    "\n",
    "- In programming, repetitive tasks like printing all natural numbers up to 100 would be tedious if done manually with individual print statements.\n",
    "\n",
    "- To automate such repetitive tasks, we use loops, which make programming efficient and save time for the programmer."
   ]
  },
  {
   "cell_type": "markdown",
   "id": "0b0d47d0",
   "metadata": {},
   "source": [
    "# What are Loops?\n",
    "- A loop is a programming construct that allows a group of statements to be executed repeatedly, a specified number of times or until a condition is met.\n",
    "\n",
    "- For example, printing numbers from 1 to 20 manually is possible but inefficient for large ranges (like 1 to 20,000).\n",
    "\n",
    "- Tools like Excel use loops behind the scenes for repetitive tasks.\n",
    "\n",
    "- In essence, loops allow you to \"repeat this for each item\" or \"repeat while a condition is true\"."
   ]
  },
  {
   "cell_type": "markdown",
   "id": "1c157378",
   "metadata": {},
   "source": [
    "# Types of Loops in Python\n",
    "- **For Loop:** Used to iterate over a sequence (like a list, string, tuple, or range).\n",
    "\n",
    "- **While Loop:** Repeats as long as a specified condition is true.\n",
    "\n",
    "- **Nested Loops:** You can place a loop inside another loop (e.g., a for loop inside a while loop or vice versa).\n",
    "\n",
    "Most large programming projects rely heavily on for loops, with while loops used less frequently.\n",
    "\n"
   ]
  },
  {
   "cell_type": "markdown",
   "id": "3be10a49",
   "metadata": {},
   "source": [
    "# The For Loop\n",
    "### Definition:\n",
    "A for loop in Python is used to iterate over a sequence of iterable objects (such as lists, strings, tuples, or ranges).\n",
    "\n",
    "### Syntax"
   ]
  },
  {
   "cell_type": "code",
   "execution_count": null,
   "id": "64143993",
   "metadata": {},
   "outputs": [],
   "source": [
    "for variable in sequence:\n",
    "    # block of code"
   ]
  },
  {
   "cell_type": "markdown",
   "id": "949d18c5",
   "metadata": {},
   "source": [
    "- The variable takes the value of each item in the sequence, one at a time.\n",
    "\n",
    "- The indented block under the for statement is executed for each item."
   ]
  },
  {
   "cell_type": "markdown",
   "id": "3c1d985e",
   "metadata": {},
   "source": [
    "# Key Points\n",
    "- Iterable objects in Python include lists, strings, tuples, and dictionaries.\n",
    "\n",
    "- The loop variable (e.g., i in for i in name) represents each element of the sequence during each iteration.\n",
    "\n",
    "# Iterating Over Strings and Lists\n",
    "### Iterating Over a String\n",
    "- Example:"
   ]
  },
  {
   "cell_type": "code",
   "execution_count": 2,
   "id": "002a4a53",
   "metadata": {},
   "outputs": [
    {
     "name": "stdout",
     "output_type": "stream",
     "text": [
      "A\n",
      "b\n",
      "h\n",
      "i\n",
      "s\n",
      "h\n",
      "e\n",
      "k\n"
     ]
    }
   ],
   "source": [
    "name = \"Abhishek\"\n",
    "for i in name:\n",
    "    print(i)"
   ]
  },
  {
   "cell_type": "markdown",
   "id": "bb6598d7",
   "metadata": {},
   "source": [
    "- Output: Each character of the string is printed on a new line.\n",
    "\n",
    "- You can add conditions inside the loop:"
   ]
  },
  {
   "cell_type": "code",
   "execution_count": 4,
   "id": "5a407d3a",
   "metadata": {},
   "outputs": [
    {
     "name": "stdout",
     "output_type": "stream",
     "text": [
      "This is something special\n"
     ]
    }
   ],
   "source": [
    "for i in name:\n",
    "    if i == \"b\":\n",
    "        print(\"This is something special\")"
   ]
  },
  {
   "cell_type": "markdown",
   "id": "fe27cc36",
   "metadata": {},
   "source": [
    "- This prints \"This is something special\" only when the character is \"b\".\n",
    "\n",
    "### Iterating Over a List\n",
    "Example:"
   ]
  },
  {
   "cell_type": "code",
   "execution_count": 4,
   "id": "ed6e3f69",
   "metadata": {},
   "outputs": [
    {
     "name": "stdout",
     "output_type": "stream",
     "text": [
      "Red\n",
      "Green\n",
      "Blue\n",
      "Yellow\n"
     ]
    }
   ],
   "source": [
    "colors = [\"Red\", \"Green\", \"Blue\", \"Yellow\"]\n",
    "for color in colors:\n",
    "    print(color)\n"
   ]
  },
  {
   "cell_type": "markdown",
   "id": "e1fb89f6",
   "metadata": {},
   "source": [
    "- Output: Each color is printed one by one.\n",
    "\n",
    "- You can also iterate over each character of each color:"
   ]
  },
  {
   "cell_type": "code",
   "execution_count": 5,
   "id": "910d839b",
   "metadata": {},
   "outputs": [
    {
     "name": "stdout",
     "output_type": "stream",
     "text": [
      "Red\n",
      "R\n",
      "e\n",
      "d\n",
      "Green\n",
      "G\n",
      "r\n",
      "e\n",
      "e\n",
      "n\n",
      "Blue\n",
      "B\n",
      "l\n",
      "u\n",
      "e\n",
      "Yellow\n",
      "Y\n",
      "e\n",
      "l\n",
      "l\n",
      "o\n",
      "w\n"
     ]
    }
   ],
   "source": [
    "for color in colors:\n",
    "    print(color)\n",
    "    for i in color:\n",
    "        print(i)\n"
   ]
  },
  {
   "cell_type": "markdown",
   "id": "b62ea8d7",
   "metadata": {},
   "source": [
    "- This prints the name of each color, followed by its individual characters.\n",
    "\n",
    "# Important Notes\n",
    "- When using nested loops, use different variable names for clarity (e.g., color for the outer loop, i for the inner loop).\n",
    "\n",
    "- Indentation is crucial in Python; it defines the scope of loops and conditionals."
   ]
  },
  {
   "cell_type": "markdown",
   "id": "c59aed0e",
   "metadata": {},
   "source": [
    "# The Range Function\n",
    "### Purpose:\n",
    "The range() function generates a sequence of numbers, which is commonly used with for loops to repeat an action a certain number of times.\n",
    "\n",
    "### Basic Usage\n",
    "- range(n) generates numbers from 0 to n-1."
   ]
  },
  {
   "cell_type": "code",
   "execution_count": 2,
   "id": "21b18794",
   "metadata": {},
   "outputs": [
    {
     "name": "stdout",
     "output_type": "stream",
     "text": [
      "0\n",
      "1\n",
      "2\n",
      "3\n",
      "4\n"
     ]
    }
   ],
   "source": [
    "for k in range(5):\n",
    "    print(k)\n"
   ]
  },
  {
   "cell_type": "markdown",
   "id": "c6a444b1",
   "metadata": {},
   "source": [
    "- Output: 0, 1, 2, 3, 4\n",
    "\n",
    "- To start from 1 instead of 0, simply add 1 inside the print statement:"
   ]
  },
  {
   "cell_type": "code",
   "execution_count": 7,
   "id": "1dc2cd5d",
   "metadata": {},
   "outputs": [
    {
     "name": "stdout",
     "output_type": "stream",
     "text": [
      "1\n",
      "2\n",
      "3\n",
      "4\n",
      "5\n"
     ]
    }
   ],
   "source": [
    "for k in range(5):\n",
    "    print(k + 1)"
   ]
  },
  {
   "cell_type": "markdown",
   "id": "f7d5c02d",
   "metadata": {},
   "source": [
    "- Output: 1, 2, 3, 4, 5\n",
    "\n",
    "- You can adjust the starting and ending points, and even the step:"
   ]
  },
  {
   "cell_type": "code",
   "execution_count": null,
   "id": "1730adf4",
   "metadata": {},
   "outputs": [],
   "source": [
    "for k in range(start, stop, step):\n",
    "    # code block"
   ]
  },
  {
   "cell_type": "markdown",
   "id": "14612d96",
   "metadata": {},
   "source": [
    "- **start:** Starting value (inclusive)\n",
    "\n",
    "- **stop:** Ending value (exclusive)\n",
    "\n",
    "- **step:** Increment (default is 1)"
   ]
  },
  {
   "cell_type": "markdown",
   "id": "41016454",
   "metadata": {},
   "source": [
    "### Example\n",
    "- Print numbers from 2 to 10, step by 2:"
   ]
  },
  {
   "cell_type": "code",
   "execution_count": 8,
   "id": "9aba3011",
   "metadata": {},
   "outputs": [
    {
     "name": "stdout",
     "output_type": "stream",
     "text": [
      "2\n",
      "4\n",
      "6\n",
      "8\n",
      "10\n"
     ]
    }
   ],
   "source": [
    "for k in range(2, 11, 2):\n",
    "    print(k)\n"
   ]
  },
  {
   "cell_type": "code",
   "execution_count": 5,
   "id": "6d34e3a6",
   "metadata": {},
   "outputs": [
    {
     "name": "stdout",
     "output_type": "stream",
     "text": [
      "S\n",
      "a\n",
      "m\n",
      "a\n",
      "n\n",
      "t\n",
      "h\n",
      "a\n"
     ]
    }
   ],
   "source": [
    "a= \"Samantha\"\n",
    "for i in a:\n",
    "    print(i)"
   ]
  },
  {
   "cell_type": "markdown",
   "id": "cc847c60",
   "metadata": {},
   "source": [
    "### Use Cases\n",
    "The range function is especially useful for tasks like printing numbers up to a large value (e.g., 20,000), where manual repetition is impractical.\n",
    "\n",
    "# Summary\n",
    "- Loops are essential for automating repetitive tasks in programming.\n",
    "\n",
    "- Python primarily uses two types of loops: for loops (for iterating over sequences) and while loops (for repeating while a condition is true).\n",
    "\n",
    "- For loops can iterate over any iterable object (strings, lists, tuples, dictionaries, ranges).\n",
    "\n",
    "- The range function is a powerful tool for generating sequences of numbers for iteration.\n",
    "\n",
    "- Proper use of loops makes code concise, efficient, and easy to maintain."
   ]
  }
 ],
 "metadata": {
  "kernelspec": {
   "display_name": ".venv",
   "language": "python",
   "name": "python3"
  },
  "language_info": {
   "codemirror_mode": {
    "name": "ipython",
    "version": 3
   },
   "file_extension": ".py",
   "mimetype": "text/x-python",
   "name": "python",
   "nbconvert_exporter": "python",
   "pygments_lexer": "ipython3",
   "version": "3.12.3"
  }
 },
 "nbformat": 4,
 "nbformat_minor": 5
}
