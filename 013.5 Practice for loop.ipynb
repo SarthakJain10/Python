{
 "cells": [
  {
   "cell_type": "markdown",
   "id": "35ec66e7",
   "metadata": {},
   "source": [
    "# 1. Print a Right-Angled Triangle Pattern\n",
    "\n",
    "- ### Write a program that prints a right-angled triangle of stars (∗) with n rows. For example, for n=4:"
   ]
  },
  {
   "cell_type": "markdown",
   "id": "f9a2fdff",
   "metadata": {},
   "source": [
    "*\n",
    "**\n",
    "***\n",
    "****"
   ]
  },
  {
   "cell_type": "code",
   "execution_count": 7,
   "id": "eeb4d1fc",
   "metadata": {},
   "outputs": [
    {
     "name": "stdout",
     "output_type": "stream",
     "text": [
      "*\n",
      "**\n",
      "***\n",
      "****\n"
     ]
    }
   ],
   "source": [
    "n = 4\n",
    "for row in range(n):\n",
    "    print(\"*\" * (row+1))"
   ]
  },
  {
   "cell_type": "markdown",
   "id": "5afb03af",
   "metadata": {},
   "source": [
    "# 2. Print a Number Pyramid Pattern\n",
    "\n",
    "- ### Write a program that prints a pyramid of numbers with n rows. For example, for n=5:"
   ]
  },
  {
   "cell_type": "markdown",
   "id": "637ed1ff",
   "metadata": {},
   "source": [
    "    1\n",
    "   121\n",
    "  12321\n",
    " 1234321\n",
    "123454321"
   ]
  },
  {
   "cell_type": "markdown",
   "id": "bc6feec8",
   "metadata": {},
   "source": [
    "# 3. Print an Inverted Star Pattern\n",
    "\n",
    "- ### Write a program to print an inverted triangle of stars for a given n:"
   ]
  },
  {
   "cell_type": "markdown",
   "id": "be811a91",
   "metadata": {},
   "source": [
    "****\n",
    "***\n",
    "**\n",
    "*"
   ]
  },
  {
   "cell_type": "markdown",
   "id": "2baa1042",
   "metadata": {},
   "source": [
    "# 4. Print a Hollow Square Pattern\n",
    "\n",
    "- ### Write a program that prints a hollow square of size n:"
   ]
  },
  {
   "cell_type": "markdown",
   "id": "ff3c1ac0",
   "metadata": {},
   "source": [
    "*****\n",
    "*   *\n",
    "*   *\n",
    "*   *\n",
    "*****"
   ]
  },
  {
   "cell_type": "markdown",
   "id": "1bd89391",
   "metadata": {},
   "source": [
    "# 5. Print a Multiplication Table\n",
    "\n",
    "- ### Write a program that prints the multiplication table for numbers 1 to n, formatted as a grid."
   ]
  },
  {
   "cell_type": "markdown",
   "id": "d879d4bf",
   "metadata": {},
   "source": [
    "1  2  3  4  5\n",
    "2  4  6  8 10\n",
    "3  6  9 12 15\n",
    "4  8 12 16 20\n",
    "5 10 15 20 25"
   ]
  },
  {
   "cell_type": "code",
   "execution_count": 14,
   "id": "341d9cf0",
   "metadata": {},
   "outputs": [
    {
     "name": "stdout",
     "output_type": "stream",
     "text": [
      "1  2  3  4  5  \n",
      "2  4  6  8  10  \n",
      "3  6  9  12  15  \n",
      "4  8  12  16  20  \n",
      "5  10  15  20  25  \n"
     ]
    }
   ],
   "source": [
    "n = 5\n",
    "for row in range(1, n+1):\n",
    "    for col in range(1, n+1):\n",
    "        print(col*row,\" \", end='')\n",
    "    print()"
   ]
  },
  {
   "cell_type": "markdown",
   "id": "63ccabe2",
   "metadata": {},
   "source": [
    "### ------------------------------------------------------------------------------------------------------------------------------------------------------"
   ]
  },
  {
   "cell_type": "markdown",
   "id": "92dbc9a4",
   "metadata": {},
   "source": [
    "# 1. Right-Angled Triangle Pattern"
   ]
  },
  {
   "cell_type": "code",
   "execution_count": 1,
   "id": "8eee555b",
   "metadata": {},
   "outputs": [
    {
     "name": "stdout",
     "output_type": "stream",
     "text": [
      "*\n",
      "**\n",
      "***\n",
      "****\n"
     ]
    }
   ],
   "source": [
    "n = 4\n",
    "for i in range(1, n + 1):\n",
    "    print('*' * i)"
   ]
  },
  {
   "cell_type": "markdown",
   "id": "0090dcdd",
   "metadata": {},
   "source": [
    "# 2. Number Pyramid Pattern"
   ]
  },
  {
   "cell_type": "code",
   "execution_count": 9,
   "id": "418fd772",
   "metadata": {},
   "outputs": [
    {
     "name": "stdout",
     "output_type": "stream",
     "text": [
      "   1\n",
      "  121\n",
      " 12321\n",
      "1234321\n"
     ]
    }
   ],
   "source": [
    "n = 4\n",
    "for i in range(1, n + 1):\n",
    "    # Print spaces\n",
    "    print(' ' * (n - i), end='')\n",
    "    # Print increasing numbers\n",
    "    for j in range(1, i + 1):\n",
    "        print(j, end='')\n",
    "    # Print decreasing numbers\n",
    "    for k in range(i - 1, 0, -1):\n",
    "        print(k, end='')\n",
    "    print()"
   ]
  },
  {
   "cell_type": "markdown",
   "id": "e990935d",
   "metadata": {},
   "source": [
    "# 3. Inverted Star Pattern"
   ]
  },
  {
   "cell_type": "code",
   "execution_count": 3,
   "id": "7aa40d08",
   "metadata": {},
   "outputs": [
    {
     "name": "stdout",
     "output_type": "stream",
     "text": [
      "****\n",
      "***\n",
      "**\n",
      "*\n"
     ]
    }
   ],
   "source": [
    "n = 4\n",
    "for i in range(n, 0, -1):\n",
    "    print('*' * i)"
   ]
  },
  {
   "cell_type": "markdown",
   "id": "9d39a735",
   "metadata": {},
   "source": [
    "# 4. Hollow Square Pattern"
   ]
  },
  {
   "cell_type": "code",
   "execution_count": 6,
   "id": "becd6ab1",
   "metadata": {},
   "outputs": [
    {
     "name": "stdout",
     "output_type": "stream",
     "text": [
      "*****\n",
      "*   *\n",
      "*   *\n",
      "*   *\n",
      "*****\n"
     ]
    }
   ],
   "source": [
    "n = 5\n",
    "for i in range(n):\n",
    "    if i == 0 or i == n - 1:\n",
    "        print('*' * n)\n",
    "    else:\n",
    "        print('*' + ' ' * (n - 2) + '*')"
   ]
  },
  {
   "cell_type": "markdown",
   "id": "06a3fd6c",
   "metadata": {},
   "source": [
    "# 5. Multiplication Table Grid"
   ]
  },
  {
   "cell_type": "code",
   "execution_count": 5,
   "id": "ad2365ae",
   "metadata": {},
   "outputs": [
    {
     "name": "stdout",
     "output_type": "stream",
     "text": [
      " 1  2  3  4  5 \n",
      " 2  4  6  8 10 \n",
      " 3  6  9 12 15 \n",
      " 4  8 12 16 20 \n",
      " 5 10 15 20 25 \n"
     ]
    }
   ],
   "source": [
    "n = 5\n",
    "for i in range(1, n + 1):\n",
    "    for j in range(1, n + 1):\n",
    "        print(f\"{i * j:2}\", end=' ')\n",
    "    print()"
   ]
  },
  {
   "cell_type": "code",
   "execution_count": 1,
   "id": "dca79efa",
   "metadata": {},
   "outputs": [],
   "source": [
    "class Node:\n",
    "\n",
    "    def __init__(self, value):\n",
    "        self.data = value\n",
    "        self.value = None"
   ]
  },
  {
   "cell_type": "code",
   "execution_count": 2,
   "id": "9009f316",
   "metadata": {},
   "outputs": [],
   "source": [
    "a = Node(1)"
   ]
  },
  {
   "cell_type": "code",
   "execution_count": 3,
   "id": "298f7168",
   "metadata": {},
   "outputs": [
    {
     "name": "stdout",
     "output_type": "stream",
     "text": [
      "<__main__.Node object at 0x70c5084eea80>\n"
     ]
    }
   ],
   "source": [
    "print(a)"
   ]
  },
  {
   "cell_type": "code",
   "execution_count": null,
   "id": "7842f1ae",
   "metadata": {},
   "outputs": [],
   "source": []
  },
  {
   "cell_type": "code",
   "execution_count": null,
   "id": "e2f17496",
   "metadata": {},
   "outputs": [],
   "source": []
  }
 ],
 "metadata": {
  "kernelspec": {
   "display_name": ".venv",
   "language": "python",
   "name": "python3"
  },
  "language_info": {
   "codemirror_mode": {
    "name": "ipython",
    "version": 3
   },
   "file_extension": ".py",
   "mimetype": "text/x-python",
   "name": "python",
   "nbconvert_exporter": "python",
   "pygments_lexer": "ipython3",
   "version": "3.12.3"
  }
 },
 "nbformat": 4,
 "nbformat_minor": 5
}
