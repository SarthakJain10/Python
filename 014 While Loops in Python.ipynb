{
 "cells": [
  {
   "cell_type": "markdown",
   "id": "94c008dd",
   "metadata": {},
   "source": [
    "# Definition and Syntax\n",
    "\n",
    "- A While Loop repeatedly executes a block of code as long as a specified condition remains True.\n",
    "\n",
    "- Basic syntax:"
   ]
  },
  {
   "cell_type": "code",
   "execution_count": 3,
   "id": "81efbfd1",
   "metadata": {},
   "outputs": [
    {
     "name": "stdout",
     "output_type": "stream",
     "text": [
      "0\n",
      "1\n",
      "2\n"
     ]
    }
   ],
   "source": [
    "i = 0\n",
    "while i < 3:\n",
    "    print(i)\n",
    "    i += 1\n"
   ]
  },
  {
   "cell_type": "code",
   "execution_count": 1,
   "id": "d1233e9a",
   "metadata": {},
   "outputs": [
    {
     "name": "stdout",
     "output_type": "stream",
     "text": [
      "0\n",
      "1\n",
      "2\n"
     ]
    }
   ],
   "source": [
    "for i in range(3):\n",
    "    print(i)"
   ]
  },
  {
   "cell_type": "markdown",
   "id": "302572b6",
   "metadata": {},
   "source": [
    "- The loop consists of:\n",
    "\n",
    "    * Initialization (e.g., setting i = 0)\n",
    "\n",
    "    * Condition check (e.g., i < 3)\n",
    "\n",
    "    * Loop body (code to execute)\n",
    "\n",
    "    * Update statement (e.g., i += 1), which is essential to avoid infinite loops."
   ]
  },
  {
   "cell_type": "markdown",
   "id": "b0b3ea4e",
   "metadata": {},
   "source": [
    "# How While Loops Work\n",
    "\n",
    "- Before each iteration, Python checks the loop's condition.\n",
    "\n",
    "- If the condition is True, the loop body executes.\n",
    "\n",
    "- After the loop body, control returns to the condition check.\n",
    "\n",
    "- If the condition becomes False, the loop exits and execution continues with the next statement after the loop."
   ]
  },
  {
   "cell_type": "markdown",
   "id": "8713fec0",
   "metadata": {},
   "source": [
    "# When to Use While Loops\n",
    "\n",
    "- When the number of iterations is not known in advance.\n",
    "\n",
    "- When the loop depends on user input or dynamic conditions.\n",
    "\n",
    "- For example, repeatedly asking for user input until a valid value is entered.\n",
    "\n",
    "# Pitfalls: Infinite Loops\n",
    "\n",
    "- If the condition never becomes False, the loop will run forever (infinite loop).\n",
    "\n",
    "- This often happens if the update statement is missing or incorrect.\n",
    "\n",
    "- Example:"
   ]
  },
  {
   "cell_type": "code",
   "execution_count": null,
   "id": "c5f99674",
   "metadata": {},
   "outputs": [],
   "source": [
    "count = 5\n",
    "while count > 0:\n",
    "    print(count)\n",
    "    count += 1  # Mistake: should be count -= 1\n"
   ]
  },
  {
   "cell_type": "markdown",
   "id": "dd720f71",
   "metadata": {},
   "source": [
    "- This code will never end because count keeps increasing."
   ]
  },
  {
   "cell_type": "markdown",
   "id": "195c78bf",
   "metadata": {},
   "source": [
    "# The Else Clause with While Loops\n",
    "\n",
    "- Python allows an else block after a While Loop.\n",
    "\n",
    "- The else block executes when the loop condition becomes False (i.e., the loop exits normally).\n",
    "\n",
    "- Example:"
   ]
  },
  {
   "cell_type": "code",
   "execution_count": 3,
   "id": "ae975689",
   "metadata": {},
   "outputs": [
    {
     "name": "stdout",
     "output_type": "stream",
     "text": [
      "3\n",
      "2\n",
      "1\n",
      "Loop finished\n"
     ]
    }
   ],
   "source": [
    "count = 3\n",
    "while count > 0:\n",
    "    print(count)\n",
    "    count -= 1\n",
    "else:\n",
    "    print(\"Loop finished\")\n"
   ]
  },
  {
   "cell_type": "markdown",
   "id": "84f06edd",
   "metadata": {},
   "source": [
    "- If the loop is exited via a break statement, the else block does not execute."
   ]
  },
  {
   "cell_type": "markdown",
   "id": "900edab3",
   "metadata": {},
   "source": [
    "# No Native Do While Loop in Python\n",
    "\n",
    "- Other languages like C, C++, and Java have a do while loop, which guarantees at least one execution of the loop body.\n",
    "\n",
    "- Python does not have a built-in do while loop, but similar behavior can be emulated.\n",
    "\n",
    "- Emulation example:"
   ]
  },
  {
   "cell_type": "code",
   "execution_count": null,
   "id": "bac3d974",
   "metadata": {},
   "outputs": [],
   "source": [
    "while True:\n",
    "    # loop body\n",
    "    if not condition:\n",
    "        break"
   ]
  },
  {
   "cell_type": "markdown",
   "id": "25b3839b",
   "metadata": {},
   "source": [
    "# Examples\n",
    "### 1. Printing Numbers Using While Loop\n",
    "\n",
    "- Print numbers from 0 to 2:"
   ]
  },
  {
   "cell_type": "code",
   "execution_count": 5,
   "id": "a05a7523",
   "metadata": {},
   "outputs": [
    {
     "name": "stdout",
     "output_type": "stream",
     "text": [
      "0\n",
      "1\n",
      "2\n"
     ]
    }
   ],
   "source": [
    "i = 0\n",
    "while i < 3:\n",
    "    print(i)\n",
    "    i += 1\n",
    "# Output: 0 1 2\n"
   ]
  },
  {
   "cell_type": "markdown",
   "id": "37c63f23",
   "metadata": {},
   "source": [
    "- If the condition is changed to i <= 3, the output will be 0 1 2 3.\n",
    "\n",
    "### 2. User Input Loop\n",
    "\n",
    "- Repeatedly prompt the user for input until a condition is met:"
   ]
  },
  {
   "cell_type": "code",
   "execution_count": null,
   "id": "f6e3fd16",
   "metadata": {},
   "outputs": [
    {
     "name": "stdout",
     "output_type": "stream",
     "text": [
      "Done with the loop\n"
     ]
    }
   ],
   "source": [
    "i = int(input(\"Enter the number: \"))\n",
    "while i <= 38:\n",
    "    print(i)\n",
    "    i = int(input(\"Enter the number: \"))\n",
    "print(\"Done with the loop\")"
   ]
  },
  {
   "cell_type": "markdown",
   "id": "e734111c",
   "metadata": {},
   "source": [
    "- The loop continues as long as the entered number is less than or equal to 38.\n",
    "\n",
    "### 3. Decrementing While Loop\n",
    "\n",
    "- Count down from 5 to 1:"
   ]
  },
  {
   "cell_type": "code",
   "execution_count": 7,
   "id": "a01ce1c0",
   "metadata": {},
   "outputs": [
    {
     "name": "stdout",
     "output_type": "stream",
     "text": [
      "5\n",
      "4\n",
      "3\n",
      "2\n",
      "1\n"
     ]
    }
   ],
   "source": [
    "count = 5\n",
    "while count > 0:\n",
    "    print(count)\n",
    "    count -= 1\n"
   ]
  },
  {
   "cell_type": "markdown",
   "id": "70be0c2a",
   "metadata": {},
   "source": [
    "- The loop prints 5, 4, 3, 2, 1 and then exits.\n",
    "\n",
    "### 4. Infinite Loop Example\n",
    "\n",
    "- If the update statement is incorrect, the loop may never end:"
   ]
  },
  {
   "cell_type": "code",
   "execution_count": null,
   "id": "59ae82a0",
   "metadata": {},
   "outputs": [],
   "source": [
    "count = 5\n",
    "while count > 0:\n",
    "    print(count)\n",
    "    count += 1  # Error: should decrement\n"
   ]
  },
  {
   "cell_type": "markdown",
   "id": "1a5448c2",
   "metadata": {},
   "source": [
    "- This causes an infinite loop, printing increasing numbers forever.\n",
    "\n",
    "### 5. Using Else with While Loop\n",
    "\n",
    "- The else block executes after the loop finishes normally:"
   ]
  },
  {
   "cell_type": "code",
   "execution_count": 9,
   "id": "0408a97b",
   "metadata": {},
   "outputs": [
    {
     "name": "stdout",
     "output_type": "stream",
     "text": [
      "3\n",
      "2\n",
      "1\n",
      "I am inside else\n"
     ]
    }
   ],
   "source": [
    "count = 3\n",
    "while count > 0:\n",
    "    print(count)\n",
    "    count -= 1\n",
    "else:\n",
    "    print(\"I am inside else\")\n"
   ]
  },
  {
   "cell_type": "markdown",
   "id": "305bd005",
   "metadata": {},
   "source": [
    "- Output: 3 2 1 \"I am inside else\".\n",
    "\n",
    "### 6. Emulating Do While Loop\n",
    "\n",
    "- To ensure the loop body runs at least once:"
   ]
  },
  {
   "cell_type": "code",
   "execution_count": null,
   "id": "be3a6db1",
   "metadata": {},
   "outputs": [],
   "source": [
    "while True:\n",
    "    # loop body\n",
    "    if not condition:\n",
    "        break\n"
   ]
  },
  {
   "cell_type": "markdown",
   "id": "1dfa4fe1",
   "metadata": {},
   "source": [
    "- This pattern is used because Python lacks a native do while construct.\n",
    "\n",
    "# Summary\n",
    "- While Loops are essential for handling repetitive tasks in Python, especially when the number of iterations cannot be determined beforehand.\n",
    "\n",
    "- Always ensure the loop condition will eventually become False to avoid infinite loops.\n",
    "\n",
    "- The else clause adds flexibility, allowing code to run after normal loop completion.\n",
    "\n",
    "- While Python lacks a native do while loop, similar behavior can be achieved with careful use of while True and break.\n",
    "\n",
    "- Mastery of While Loops, their control flow, and common pitfalls is crucial for effective Python programming."
   ]
  }
 ],
 "metadata": {
  "kernelspec": {
   "display_name": ".venv",
   "language": "python",
   "name": "python3"
  },
  "language_info": {
   "codemirror_mode": {
    "name": "ipython",
    "version": 3
   },
   "file_extension": ".py",
   "mimetype": "text/x-python",
   "name": "python",
   "nbconvert_exporter": "python",
   "pygments_lexer": "ipython3",
   "version": "3.12.3"
  }
 },
 "nbformat": 4,
 "nbformat_minor": 5
}
