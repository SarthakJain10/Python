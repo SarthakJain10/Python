{
 "cells": [
  {
   "cell_type": "markdown",
   "id": "d2cfeb46",
   "metadata": {},
   "source": [
    "# Loops in Python\n",
    "- Loops execute a block of code multiple times, iterating over a sequence or range.\n",
    "\n",
    "- Common loop types: for and while.\n",
    "\n",
    "# The break Statement\n",
    "- **Purpose:** Immediately terminates the loop in which it appears.\n",
    "\n",
    "- **Usage:** When a specific condition is met, and you want to stop the loop from running further.\n",
    "\n",
    "- **Effect:** Control moves to the first statement after the loop.\n",
    "\n",
    "- **Example:** Using break in a for Loop"
   ]
  },
  {
   "cell_type": "code",
   "execution_count": 1,
   "id": "1454514e",
   "metadata": {},
   "outputs": [
    {
     "name": "stdout",
     "output_type": "stream",
     "text": [
      "5 X 0 = 0\n",
      "5 X 1 = 5\n",
      "5 X 2 = 10\n",
      "5 X 3 = 15\n",
      "5 X 4 = 20\n",
      "5 X 5 = 25\n",
      "5 X 6 = 30\n",
      "5 X 7 = 35\n",
      "5 X 8 = 40\n",
      "5 X 9 = 45\n",
      "Exited the loop\n"
     ]
    }
   ],
   "source": [
    "for i in range(12):\n",
    "    if i == 10:\n",
    "        break\n",
    "    print(\"5 X\", i, \"=\", 5 * i)\n",
    "print(\"Exited the loop\")\n"
   ]
  },
  {
   "cell_type": "markdown",
   "id": "a7cf604a",
   "metadata": {},
   "source": [
    "- This code prints the multiplication table of 5 up to 5 x 9 = 45.\n",
    "\n",
    "- When i becomes 10, the loop exits due to the break statement.\n",
    "\n",
    "- The message \"Exited the loop\" is printed after the loop terminates."
   ]
  },
  {
   "cell_type": "markdown",
   "id": "3f871a1e",
   "metadata": {},
   "source": [
    "# Important Points\n",
    "- break can be used in both for and while loops.\n",
    "\n",
    "- Once the break statement is executed, the loop stops immediately, regardless of the remaining iterations.\n",
    "\n",
    "# The continue Statement\n",
    "- **Purpose:** Skips the rest of the code inside the loop for the current iteration and jumps to the next iteration.\n",
    "\n",
    "- **Usage:** When you want to skip certain cases within a loop but continue looping.\n",
    "\n",
    "- **Example:** Using continue in a for Loop"
   ]
  },
  {
   "cell_type": "code",
   "execution_count": 2,
   "id": "cb1003cc",
   "metadata": {},
   "outputs": [
    {
     "name": "stdout",
     "output_type": "stream",
     "text": [
      "5 X 0 = 0\n",
      "5 X 1 = 5\n",
      "5 X 2 = 10\n",
      "5 X 3 = 15\n",
      "5 X 4 = 20\n",
      "5 X 5 = 25\n",
      "5 X 6 = 30\n",
      "5 X 7 = 35\n",
      "5 X 8 = 40\n",
      "5 X 9 = 45\n",
      "5 X 11 = 55\n"
     ]
    }
   ],
   "source": [
    "for i in range(12):\n",
    "    if i == 10:\n",
    "        continue\n",
    "    print(\"5 X\", i, \"=\", 5 * i)\n"
   ]
  },
  {
   "cell_type": "markdown",
   "id": "f0c4bbc2",
   "metadata": {},
   "source": [
    "- This code prints the multiplication table of 5 for all values except when i is 10.\n",
    "\n",
    "- When i is 10, the continue statement skips the print statement for that iteration and moves to the next value of i.\n",
    "\n",
    "# Important Points\n",
    "- Only the code after the continue statement in the loop body is skipped for that iteration.\n",
    "\n",
    "- The loop itself continues with the next value.\n",
    "\n"
   ]
  },
  {
   "cell_type": "markdown",
   "id": "2d7e142e",
   "metadata": {},
   "source": [
    "# Break vs. Continue: Key Differences"
   ]
  },
  {
   "cell_type": "code",
   "execution_count": 3,
   "id": "736ccd2d",
   "metadata": {},
   "outputs": [
    {
     "data": {
      "text/html": [
       "<div>\n",
       "<style scoped>\n",
       "    .dataframe tbody tr th:only-of-type {\n",
       "        vertical-align: middle;\n",
       "    }\n",
       "\n",
       "    .dataframe tbody tr th {\n",
       "        vertical-align: top;\n",
       "    }\n",
       "\n",
       "    .dataframe thead th {\n",
       "        text-align: right;\n",
       "    }\n",
       "</style>\n",
       "<table border=\"1\" class=\"dataframe\">\n",
       "  <thead>\n",
       "    <tr style=\"text-align: right;\">\n",
       "      <th></th>\n",
       "      <th>Aspect</th>\n",
       "      <th>break</th>\n",
       "      <th>continue</th>\n",
       "    </tr>\n",
       "  </thead>\n",
       "  <tbody>\n",
       "    <tr>\n",
       "      <th>0</th>\n",
       "      <td>Effect on Loop</td>\n",
       "      <td>Exits the entire loop</td>\n",
       "      <td>Skips to next iteration</td>\n",
       "    </tr>\n",
       "    <tr>\n",
       "      <th>1</th>\n",
       "      <td>Typical Use Case</td>\n",
       "      <td>Stop loop on a condition</td>\n",
       "      <td>Skip specific iteration</td>\n",
       "    </tr>\n",
       "    <tr>\n",
       "      <th>2</th>\n",
       "      <td>Position in Loop</td>\n",
       "      <td>Anywhere in loop body</td>\n",
       "      <td>Anywhere in loop body</td>\n",
       "    </tr>\n",
       "    <tr>\n",
       "      <th>3</th>\n",
       "      <td>After Execution</td>\n",
       "      <td>Control moves after loop</td>\n",
       "      <td>Control moves to next cycle</td>\n",
       "    </tr>\n",
       "  </tbody>\n",
       "</table>\n",
       "</div>"
      ],
      "text/plain": [
       "             Aspect                     break                     continue\n",
       "0    Effect on Loop     Exits the entire loop      Skips to next iteration\n",
       "1  Typical Use Case  Stop loop on a condition      Skip specific iteration\n",
       "2  Position in Loop     Anywhere in loop body        Anywhere in loop body\n",
       "3   After Execution  Control moves after loop  Control moves to next cycle"
      ]
     },
     "execution_count": 3,
     "metadata": {},
     "output_type": "execute_result"
    }
   ],
   "source": [
    "import pandas as pd\n",
    "df = pd.read_csv('Aspect-break-continue.csv')\n",
    "df"
   ]
  },
  {
   "cell_type": "markdown",
   "id": "7b6bcc2e",
   "metadata": {},
   "source": [
    "# Examples and Explanations\n",
    "###  Generating a Multiplication Table with break\n",
    "- **Goal:** Print the table of 5 up to 10 times, but stop printing when i reaches 10.\n",
    "\n",
    "- **Logic:** Use a for loop with a break statement when i == 10.\n",
    "\n",
    "### Skipping an Iteration with continue\n",
    "- **Goal:** Print the table of 5, but skip the case when i is 10.\n",
    "\n",
    "- **Logic:** Use a continue statement when i == 10 to skip printing for that value.\n"
   ]
  },
  {
   "cell_type": "markdown",
   "id": "a8b20e6a",
   "metadata": {},
   "source": [
    "# Emulating a Do-While Loop in Python\n",
    "Python does not have a built-in do-while loop (which guarantees at least one execution of the loop body). However, you can emulate this behavior using a while True loop with a break statement.\n",
    "\n",
    "Example: Do-While Emulation"
   ]
  },
  {
   "cell_type": "code",
   "execution_count": 4,
   "id": "e3455139",
   "metadata": {},
   "outputs": [
    {
     "name": "stdout",
     "output_type": "stream",
     "text": [
      "0\n",
      "1\n",
      "2\n",
      "3\n",
      "4\n",
      "5\n",
      "6\n",
      "7\n",
      "8\n",
      "9\n",
      "10\n",
      "11\n",
      "12\n",
      "13\n",
      "14\n",
      "15\n",
      "16\n",
      "17\n",
      "18\n",
      "19\n",
      "20\n",
      "21\n",
      "22\n",
      "23\n",
      "24\n",
      "25\n",
      "26\n",
      "27\n",
      "28\n",
      "29\n",
      "30\n",
      "31\n",
      "32\n",
      "33\n",
      "34\n",
      "35\n",
      "36\n",
      "37\n",
      "38\n",
      "39\n",
      "40\n",
      "41\n",
      "42\n",
      "43\n",
      "44\n",
      "45\n",
      "46\n",
      "47\n",
      "48\n",
      "49\n",
      "50\n",
      "51\n",
      "52\n",
      "53\n",
      "54\n",
      "55\n",
      "56\n",
      "57\n",
      "58\n",
      "59\n",
      "60\n",
      "61\n",
      "62\n",
      "63\n",
      "64\n",
      "65\n",
      "66\n",
      "67\n",
      "68\n",
      "69\n",
      "70\n",
      "71\n",
      "72\n",
      "73\n",
      "74\n",
      "75\n",
      "76\n",
      "77\n",
      "78\n",
      "79\n",
      "80\n",
      "81\n",
      "82\n",
      "83\n",
      "84\n",
      "85\n",
      "86\n",
      "87\n",
      "88\n",
      "89\n",
      "90\n",
      "91\n",
      "92\n",
      "93\n",
      "94\n",
      "95\n",
      "96\n",
      "97\n",
      "98\n",
      "99\n"
     ]
    }
   ],
   "source": [
    "i = 0\n",
    "while True:\n",
    "    print(i)\n",
    "    i += 1\n",
    "    if i % 100 == 0:\n",
    "        break\n"
   ]
  },
  {
   "cell_type": "markdown",
   "id": "1c47f591",
   "metadata": {},
   "source": [
    "- The loop runs at least once, regardless of the condition.\n",
    "\n",
    "- After each iteration, the condition is checked; if met, the loop breaks."
   ]
  },
  {
   "cell_type": "markdown",
   "id": "cf3659ff",
   "metadata": {},
   "source": [
    "# Summary\n",
    "- **break Statement:** Used to exit a loop entirely when a specific condition is met.\n",
    "\n",
    "- **continue Statement:** Used to skip the current iteration and move to the next one.\n",
    "\n",
    "- **Difference:** break stops the loop; continue skips an iteration but keeps looping.\n",
    "\n",
    "- **Do-While Emulation:** Achieved in Python using while True with a break based on a condition."
   ]
  }
 ],
 "metadata": {
  "kernelspec": {
   "display_name": ".venv",
   "language": "python",
   "name": "python3"
  },
  "language_info": {
   "codemirror_mode": {
    "name": "ipython",
    "version": 3
   },
   "file_extension": ".py",
   "mimetype": "text/x-python",
   "name": "python",
   "nbconvert_exporter": "python",
   "pygments_lexer": "ipython3",
   "version": "3.12.3"
  }
 },
 "nbformat": 4,
 "nbformat_minor": 5
}
