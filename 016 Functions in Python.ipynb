{
 "cells": [
  {
   "cell_type": "markdown",
   "id": "a5ca2e74",
   "metadata": {},
   "source": [
    "# What Are Functions?\n",
    "- **Definition:** A function is a block of organized, reusable code that performs a specific task whenever it is called.\n",
    "\n",
    "- **Purpose:** Functions help avoid repetition. Instead of writing the same code multiple times, you write it once as a function and call it wherever needed."
   ]
  },
  {
   "cell_type": "markdown",
   "id": "a87756a3",
   "metadata": {},
   "source": [
    "# Why Use Functions?\n",
    "### Key Reasons:\n",
    "\n",
    "- **Avoid Repetition:** If a block of code is needed multiple times, writing it as a function saves effort and reduces errors.\n",
    "\n",
    "- **Easier Updates:** If you need to fix or update logic, you only change it in one place.\n",
    "\n",
    "- **Cleaner Code:** Functions make your code more readable and organized.\n",
    "\n",
    "- **Collaboration:** In large projects, different functions can be written by different team members simultaneously.\n",
    "\n",
    "### Example Scenario:\n",
    "If you want to print numbers from 1 to 15 in multiple places in your code, writing a function for this task is much more efficient than copying and pasting the same code repeatedly."
   ]
  },
  {
   "cell_type": "markdown",
   "id": "2adcb49b",
   "metadata": {},
   "source": [
    "# Creating and Using Functions in Python\n",
    "### Function Definition Syntax"
   ]
  },
  {
   "cell_type": "code",
   "execution_count": null,
   "id": "746e5e3f",
   "metadata": {},
   "outputs": [],
   "source": [
    "def function_name(parameters):\n",
    "    # Function body (indented)\n",
    "    # Statements"
   ]
  },
  {
   "cell_type": "markdown",
   "id": "15fb04a2",
   "metadata": {},
   "source": [
    "- **def:** Keyword to define a function.\n",
    "\n",
    "- **function_name:** Name given to the function.\n",
    "\n",
    "- **parameters:** Inputs to the function (optional).\n",
    "\n",
    "- **Indentation:** The function body must be indented.\n",
    "\n",
    "### Calling a Function\n",
    "To use a function, simply call it by its name and provide any required arguments:"
   ]
  },
  {
   "cell_type": "code",
   "execution_count": null,
   "id": "09df8092",
   "metadata": {},
   "outputs": [],
   "source": [
    "function_name(arguments)"
   ]
  },
  {
   "cell_type": "markdown",
   "id": "f4472bb8",
   "metadata": {},
   "source": [
    "# Examples\n",
    "### Example 1: Calculating Geometric Mean\n",
    "Suppose you want to calculate the geometric mean of two numbers multiple times:"
   ]
  },
  {
   "cell_type": "code",
   "execution_count": null,
   "id": "214fdb68",
   "metadata": {},
   "outputs": [
    {
     "name": "stdout",
     "output_type": "stream",
     "text": [
      "8.48528137423857\n"
     ]
    }
   ],
   "source": [
    "def geometric_mean(a, b):\n",
    "    return (a * b) ** 0.5\n",
    "\n",
    "result = geometric_mean(9, 8)\n",
    "print(result)\n",
    "\n",
    "\n",
    "# geometric_mean(9,8)"
   ]
  },
  {
   "cell_type": "markdown",
   "id": "4d16574a",
   "metadata": {},
   "source": [
    "- Here, the logic for calculating the geometric mean is written once inside the function and can be reused with different values.\n",
    "\n",
    "### Example 2: Comparing Two Numbers\n",
    "A function to determine which of two numbers is greater:"
   ]
  },
  {
   "cell_type": "code",
   "execution_count": 7,
   "id": "cc51e223",
   "metadata": {},
   "outputs": [
    {
     "name": "stdout",
     "output_type": "stream",
     "text": [
      "64\n"
     ]
    }
   ],
   "source": [
    "def greater(a, b):\n",
    "    if a > b:\n",
    "        # print(\"First number is greater\")\n",
    "        return a\n",
    "    elif b > a:\n",
    "        # print(\"Second number is greater\")\n",
    "        return b\n",
    "    else:\n",
    "        # print(\"Both numbers are equal\")\n",
    "        return \"Equal\"\n",
    "\n",
    "a = int(input(\"Enter first number: \"))\n",
    "b = int(input(\"Enter second number: \"))\n",
    "# result = greater(a,b)\n",
    "print(greater(a,b))\n"
   ]
  },
  {
   "cell_type": "markdown",
   "id": "0e7e620c",
   "metadata": {},
   "source": [
    "- This function can be called with any two numbers to compare them.\n",
    "\n",
    "### Key Concepts and Terms\n",
    "- **Function Definition:** The process of writing a function using the def keyword.\n",
    "\n",
    "- **Function Call:** Executing the function by its name.\n",
    "\n",
    "- **Arguments/Parameters:** Values passed to the function.\n",
    "\n",
    "- **Return Statement:** Used to send a result back from the function.\n",
    "\n",
    "- **Indentation:** Python uses indentation to define code blocks inside functions.\n",
    "\n",
    "- **Pass Statement:** If you want to define a function but implement it later, use pass as a placeholder."
   ]
  },
  {
   "cell_type": "code",
   "execution_count": 9,
   "id": "3d5fdbc9",
   "metadata": {},
   "outputs": [],
   "source": [
    "def future_function():\n",
    "    pass  # Implementation will be added later\n"
   ]
  },
  {
   "cell_type": "markdown",
   "id": "c1e57280",
   "metadata": {},
   "source": [
    "# Built-in vs User-Defined Functions"
   ]
  },
  {
   "cell_type": "code",
   "execution_count": 3,
   "id": "d7abee1f",
   "metadata": {},
   "outputs": [
    {
     "data": {
      "text/html": [
       "<div>\n",
       "<style scoped>\n",
       "    .dataframe tbody tr th:only-of-type {\n",
       "        vertical-align: middle;\n",
       "    }\n",
       "\n",
       "    .dataframe tbody tr th {\n",
       "        vertical-align: top;\n",
       "    }\n",
       "\n",
       "    .dataframe thead th {\n",
       "        text-align: right;\n",
       "    }\n",
       "</style>\n",
       "<table border=\"1\" class=\"dataframe\">\n",
       "  <thead>\n",
       "    <tr style=\"text-align: right;\">\n",
       "      <th></th>\n",
       "      <th>Type</th>\n",
       "      <th>Description</th>\n",
       "      <th>Examples</th>\n",
       "    </tr>\n",
       "  </thead>\n",
       "  <tbody>\n",
       "    <tr>\n",
       "      <th>0</th>\n",
       "      <td>Built-in Functions</td>\n",
       "      <td>Provided by Python; ready to use</td>\n",
       "      <td>max(),sum(),range(),print()</td>\n",
       "    </tr>\n",
       "    <tr>\n",
       "      <th>1</th>\n",
       "      <td>User-Defined Functions</td>\n",
       "      <td>Created by the programmer for specific needs</td>\n",
       "      <td>geometric_mean(),greater()</td>\n",
       "    </tr>\n",
       "  </tbody>\n",
       "</table>\n",
       "</div>"
      ],
      "text/plain": [
       "                     Type                                   Description  \\\n",
       "0      Built-in Functions              Provided by Python; ready to use   \n",
       "1  User-Defined Functions  Created by the programmer for specific needs   \n",
       "\n",
       "                      Examples  \n",
       "0  max(),sum(),range(),print()  \n",
       "1   geometric_mean(),greater()  "
      ]
     },
     "execution_count": 3,
     "metadata": {},
     "output_type": "execute_result"
    }
   ],
   "source": [
    "import pandas as pd\n",
    "df = pd.read_csv('Type-Description-Examples.csv')\n",
    "df"
   ]
  },
  {
   "cell_type": "markdown",
   "id": "8a1cba6a",
   "metadata": {},
   "source": [
    "- **Built-in functions** are part of the Python language.\n",
    "\n",
    "- **User-defined functions** are written by you to solve particular problems in your code.\n",
    "\n",
    "### Best Practices\n",
    "- **Name functions clearly:** Use descriptive names that indicate the function's purpose.\n",
    "\n",
    "- **Keep functions focused:** Each function should perform a single, well-defined task.\n",
    "\n",
    "- **Use parameters and return values:** Make functions flexible and reusable.\n",
    "\n",
    "- **Indent properly:** Always indent the function body.\n",
    "\n"
   ]
  },
  {
   "cell_type": "markdown",
   "id": "8bf95f7a",
   "metadata": {},
   "source": [
    "# What Is a Function Argument?\n",
    "- A function argument is a value passed to a function when calling it.\n",
    "\n",
    "- Arguments allow functions to accept input and perform operations based on that input.\n",
    "\n",
    "# Types of Function Arguments in Python\n",
    "- Python supports several types of function arguments:\n",
    "\n",
    "    - Positional Arguments\n",
    "\n",
    "    -  Keyword Arguments\n",
    "\n",
    "    - Default Arguments\n",
    "\n",
    "    - Variable-length Arguments"
   ]
  },
  {
   "cell_type": "markdown",
   "id": "bd333a93",
   "metadata": {},
   "source": [
    "# Detailed Explanations\n",
    "### 1. Positional Arguments\n",
    "- These are the most basic type of arguments.\n",
    "\n",
    "- The order in which you pass the arguments matters.\n",
    "\n",
    "- Example:"
   ]
  },
  {
   "cell_type": "code",
   "execution_count": 19,
   "id": "fceac406",
   "metadata": {},
   "outputs": [
    {
     "name": "stdout",
     "output_type": "stream",
     "text": [
      "('My name is Ansh', 'I am 20 yr old') , \n",
      "\n"
     ]
    }
   ],
   "source": [
    "def printd(*object,sep = \"\",end=\"\\n\"):\n",
    "    print(object, sep, end)\n",
    "\n",
    "printd(\"My name is Ansh\",\"I am 20 yr old\", sep=',')"
   ]
  },
  {
   "cell_type": "markdown",
   "id": "6306b513",
   "metadata": {},
   "source": [
    "- Here, 2 is assigned to a and 3 to b based on their positions.\n",
    "\n",
    "### 2. Keyword Arguments\n",
    "- Arguments are passed by explicitly stating the parameter name.\n",
    "\n",
    "- The order does not matter as long as the names are specified.\n",
    "\n",
    "- Example:"
   ]
  },
  {
   "cell_type": "code",
   "execution_count": 1,
   "id": "87133c4d",
   "metadata": {},
   "outputs": [
    {
     "name": "stdout",
     "output_type": "stream",
     "text": [
      "Hello Alice !\n"
     ]
    }
   ],
   "source": [
    "def greet(message,name):\n",
    "    print(message, name,\"!\")\n",
    "\n",
    "greet(message=\"Hello\", name=\"Alice\")"
   ]
  },
  {
   "cell_type": "markdown",
   "id": "51dacd3a",
   "metadata": {},
   "source": [
    "- Output: Hello, Alice!\n",
    "\n",
    "### 3. Default Arguments\n",
    "- You can assign default values to parameters in the function definition.\n",
    "\n",
    "- If the argument is not provided during the function call, the default value is used.\n",
    "\n",
    "- Example:"
   ]
  },
  {
   "cell_type": "code",
   "execution_count": 3,
   "id": "e0c02283",
   "metadata": {},
   "outputs": [
    {
     "name": "stdout",
     "output_type": "stream",
     "text": [
      "25\n",
      "125\n"
     ]
    }
   ],
   "source": [
    "def power(base, exponent=2):\n",
    "    return base ** exponent\n",
    "\n",
    "print(power(5))      # Uses default exponent=2, Output: 25\n",
    "print(power(5, 3))   # Output: 125"
   ]
  },
  {
   "cell_type": "markdown",
   "id": "ea0c4928",
   "metadata": {},
   "source": [
    "### 4. Variable-length Arguments\n",
    "Python allows you to handle functions with an arbitrary number of arguments using:\n",
    "\n",
    "- *args: For variable numbers of positional arguments.\n",
    "\n",
    "- **kwargs: For variable numbers of keyword arguments.\n",
    "\n",
    "***args Example**"
   ]
  },
  {
   "cell_type": "code",
   "execution_count": 2,
   "id": "f1cc9f1d",
   "metadata": {},
   "outputs": [
    {
     "name": "stdout",
     "output_type": "stream",
     "text": [
      "(1, 2, 3, 4)\n"
     ]
    }
   ],
   "source": [
    "def sum_all(*numbers):\n",
    "    return numbers\n",
    "\n",
    "print(sum_all(1, 2, 3, 4))  # Output: 10"
   ]
  },
  {
   "cell_type": "markdown",
   "id": "88083c55",
   "metadata": {},
   "source": [
    "****kwargs Example**"
   ]
  },
  {
   "cell_type": "code",
   "execution_count": 5,
   "id": "b14c2dc3",
   "metadata": {},
   "outputs": [
    {
     "name": "stdout",
     "output_type": "stream",
     "text": [
      "name: Alice\n",
      "age: 25\n"
     ]
    }
   ],
   "source": [
    "def print_info(**info):\n",
    "    for key, value in info.items():\n",
    "        print(f\"{key}: {value}\")\n",
    "\n",
    "print_info(name=\"Alice\", age=25)\n",
    "# Output:\n",
    "# name: Alice\n",
    "# age: 25"
   ]
  },
  {
   "cell_type": "markdown",
   "id": "ec0893ce",
   "metadata": {},
   "source": [
    "# Important Terms and Concepts\n",
    "- **Parameter:** The variable listed inside the parentheses in the function definition.\n",
    "\n",
    "- **Argument:** The value sent to the function when it is called.\n",
    "\n",
    "- **Order of Arguments:** Positional arguments must come before keyword arguments in a function call.\n",
    "\n",
    "- **Unpacking:** You can use * and ** to unpack sequences and dictionaries when passing them as arguments."
   ]
  },
  {
   "cell_type": "markdown",
   "id": "a3f5b2cd",
   "metadata": {},
   "source": [
    "# Examples\n",
    "### Mixing Different Argument Types"
   ]
  },
  {
   "cell_type": "code",
   "execution_count": 6,
   "id": "f207cd70",
   "metadata": {},
   "outputs": [
    {
     "name": "stdout",
     "output_type": "stream",
     "text": [
      "1 3 (4, 5) {'x': 10, 'y': 20}\n"
     ]
    }
   ],
   "source": [
    "def example(a, b=2, *args, **kwargs):\n",
    "    print(a, b, args, kwargs)\n",
    "\n",
    "example(1, 3, 4, 5, x=10, y=20)\n",
    "# Output: 1 3 (4, 5) {'x': 10, 'y': 20}"
   ]
  },
  {
   "cell_type": "markdown",
   "id": "697aa4c3",
   "metadata": {},
   "source": [
    "#  Summary\n",
    "\n",
    "- Functions are reusable blocks of code that help organize and simplify your programs.\n",
    "\n",
    "- They prevent code repetition, make updates easier, and improve collaboration.\n",
    "\n",
    "- Python functions are defined using the def keyword, followed by the function name, parameters, and an indented body.\n",
    "\n",
    "- There are built-in and user-defined functions; both are essential for efficient programming.\n",
    "\n",
    "- Use clear naming, proper indentation, and the pass statement for placeholders.\n",
    "\n",
    "- Function arguments in Python provide flexibility in how functions are called and defined.\n",
    "\n",
    "- There are four main types: positional, keyword, default, and variable-length arguments.\n",
    "\n",
    "- Understanding how and when to use each type allows you to write more robust and reusable code.\n",
    "\n",
    "- Practice is key: try writing functions using different argument types to solidify your understanding."
   ]
  }
 ],
 "metadata": {
  "kernelspec": {
   "display_name": ".venv",
   "language": "python",
   "name": "python3"
  },
  "language_info": {
   "codemirror_mode": {
    "name": "ipython",
    "version": 3
   },
   "file_extension": ".py",
   "mimetype": "text/x-python",
   "name": "python",
   "nbconvert_exporter": "python",
   "pygments_lexer": "ipython3",
   "version": "3.12.3"
  }
 },
 "nbformat": 4,
 "nbformat_minor": 5
}
