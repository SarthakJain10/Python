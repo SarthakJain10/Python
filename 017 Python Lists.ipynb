{
 "cells": [
  {
   "cell_type": "markdown",
   "id": "9a442625",
   "metadata": {},
   "source": [
    "# Definition and Usage\n",
    "\n",
    "- A list is an ordered collection of items.\n",
    "\n",
    "- Items are enclosed within square brackets [ ] and separated by commas.\n",
    "\n",
    "- Example:"
   ]
  },
  {
   "cell_type": "code",
   "execution_count": 3,
   "id": "ba77fdd3",
   "metadata": {},
   "outputs": [],
   "source": [
    "marks = [3, 5, 6]"
   ]
  },
  {
   "cell_type": "markdown",
   "id": "0180fbe3",
   "metadata": {},
   "source": [
    "This creates a list named marks containing three values.\n",
    "\n",
    "# Mutability\n",
    "\n",
    "- Lists are mutable, meaning their contents can be changed after creation.\n",
    "\n",
    "- You can add, remove, or modify items in a list without creating a new list."
   ]
  },
  {
   "cell_type": "markdown",
   "id": "42041509",
   "metadata": {},
   "source": [
    "# Indexing\n",
    "\n",
    "- List items are accessed using indices.\n",
    "\n",
    "- Indexing starts at 0, so marks gives the first item (3 in the example above).\n",
    "\n",
    "- Accessing an index that does not exist (out of range) will cause an error.\n",
    "\n",
    "- Negative indexing allows access from the end of the list:\n",
    "\n",
    "- marks[-1] gives the last item.\n",
    "\n",
    "- To convert a negative index to a positive one:\n",
    "positive_index = len(list) + negative_index."
   ]
  },
  {
   "cell_type": "markdown",
   "id": "e3b13026",
   "metadata": {},
   "source": [
    "# Data Types in Lists\n",
    "\n",
    "- Lists can store items of different data types together, such as integers, strings, and booleans.\n",
    "\n",
    "- Example:"
   ]
  },
  {
   "cell_type": "code",
   "execution_count": 1,
   "id": "e231d39b",
   "metadata": {},
   "outputs": [],
   "source": [
    "mixed = [3, 5, 6, \"Harry\", True]"
   ]
  },
  {
   "cell_type": "markdown",
   "id": "eb7de3a8",
   "metadata": {},
   "source": [
    "This list contains integers, a string, and a boolean value.\n",
    "\n",
    "# Common List Methods\n",
    "\n",
    "- append(): Adds a new item to the end of the list.\n",
    "\n",
    "- Example:\n",
    "\n"
   ]
  },
  {
   "cell_type": "code",
   "execution_count": 4,
   "id": "94c80ed0",
   "metadata": {},
   "outputs": [],
   "source": [
    "marks.append(7)"
   ]
  },
  {
   "cell_type": "markdown",
   "id": "590e8154",
   "metadata": {},
   "source": [
    "Now marks becomes [2][3][4].\n",
    "\n",
    "# Tuples vs Lists\n",
    "\n",
    "- Tuples are similar to lists but are immutable (cannot be changed after creation).\n",
    "\n",
    "- Use tuples when you need a fixed collection of items; use lists when you need to modify the collection.\n",
    "\n",
    "### Examples\n",
    "- Creating a list of student marks:"
   ]
  },
  {
   "cell_type": "code",
   "execution_count": 5,
   "id": "6fdad79a",
   "metadata": {},
   "outputs": [],
   "source": [
    "marks = [3, 5, 6]"
   ]
  },
  {
   "cell_type": "markdown",
   "id": "1541b0bb",
   "metadata": {},
   "source": [
    "- **Accessing items:**\n",
    "\n",
    "    - marks returns 3 (first item).\n",
    "\n",
    "    - marks[-1] returns 6 (last item).\n",
    "\n",
    "- **Adding a new value:**"
   ]
  },
  {
   "cell_type": "code",
   "execution_count": 6,
   "id": "90dce4e8",
   "metadata": {},
   "outputs": [],
   "source": [
    "marks.append(8)\n",
    "# marks is now [3, 5, 6, 8]"
   ]
  },
  {
   "cell_type": "markdown",
   "id": "6b7e9bb3",
   "metadata": {},
   "source": [
    "- **Mixing data types:**"
   ]
  },
  {
   "cell_type": "code",
   "execution_count": 7,
   "id": "7e8a2201",
   "metadata": {},
   "outputs": [],
   "source": [
    "info = [3, 5, 6, \"Harry\", True]"
   ]
  },
  {
   "cell_type": "markdown",
   "id": "b74a10aa",
   "metadata": {},
   "source": [
    "# Summary\n",
    "- Lists are ordered, mutable collections that can hold items of mixed data types.\n",
    "\n",
    "- Items are accessed using indices starting at 0; negative indices access items from the end.\n",
    "\n",
    "- Use square brackets [ ] to define lists and separate items with commas.\n",
    "\n",
    "- The append() method adds new items to a list.\n",
    "\n",
    "- Tuples are similar to lists but cannot be changed after creation (immutable)."
   ]
  }
 ],
 "metadata": {
  "kernelspec": {
   "display_name": ".venv",
   "language": "python",
   "name": "python3"
  },
  "language_info": {
   "codemirror_mode": {
    "name": "ipython",
    "version": 3
   },
   "file_extension": ".py",
   "mimetype": "text/x-python",
   "name": "python",
   "nbconvert_exporter": "python",
   "pygments_lexer": "ipython3",
   "version": "3.12.3"
  }
 },
 "nbformat": 4,
 "nbformat_minor": 5
}
