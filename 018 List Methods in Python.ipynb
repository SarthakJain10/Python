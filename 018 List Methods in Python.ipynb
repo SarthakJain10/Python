{
 "cells": [
  {
   "cell_type": "markdown",
   "id": "6335390e",
   "metadata": {},
   "source": [
    "# What is a List?\n",
    "- A list is an ordered, mutable collection of items in Python.\n",
    "\n",
    "- Lists can store elements of different data types (integers, strings, etc.).\n",
    "\n",
    "- Example:"
   ]
  },
  {
   "cell_type": "code",
   "execution_count": 1,
   "id": "bb6a34cf",
   "metadata": {},
   "outputs": [],
   "source": [
    "L = [12, 45, 11, 1]"
   ]
  },
  {
   "cell_type": "markdown",
   "id": "c3bac176",
   "metadata": {},
   "source": [
    "# Important List Methods\n",
    "### 1. append()\n",
    "- **Purpose:** Adds a single element to the end of the list.\n",
    "\n",
    "- Syntax:"
   ]
  },
  {
   "cell_type": "code",
   "execution_count": 2,
   "id": "2ea99257",
   "metadata": {},
   "outputs": [],
   "source": [
    "L.append(7)"
   ]
  },
  {
   "cell_type": "markdown",
   "id": "424bfff9",
   "metadata": {},
   "source": [
    "- Example:\n",
    "If L = [12, 45, 11, 1], after L.append(7), L becomes `[12, 45, 11, 1, 7]\n",
    "\n",
    "### 2. sort()\n",
    "- **Purpose:** Sorts the list in ascending order by default.\n",
    "\n",
    "- Syntax:"
   ]
  },
  {
   "cell_type": "code",
   "execution_count": 3,
   "id": "28109574",
   "metadata": {},
   "outputs": [],
   "source": [
    "L.sort()"
   ]
  },
  {
   "cell_type": "markdown",
   "id": "1ce1577f",
   "metadata": {},
   "source": [
    "- ### Optional Parameter:\n",
    "\n",
    "- reverse=True sorts the list in descending order.\n",
    "\n",
    "- Example:"
   ]
  },
  {
   "cell_type": "code",
   "execution_count": 4,
   "id": "5e540675",
   "metadata": {},
   "outputs": [],
   "source": [
    "L.sort(reverse=True)"
   ]
  },
  {
   "cell_type": "markdown",
   "id": "474e7606",
   "metadata": {},
   "source": [
    "- Example:\n",
    "If L = [12, 45, 11, 1], after L.sort(), L becomes `[1, 11, 12, 45]\n",
    "\n",
    "### 3. reverse()\n",
    "- **Purpose:** Reverses the order of elements in the list.\n",
    "\n",
    "- Syntax:"
   ]
  },
  {
   "cell_type": "code",
   "execution_count": 5,
   "id": "c371b088",
   "metadata": {},
   "outputs": [],
   "source": [
    "L.reverse()"
   ]
  },
  {
   "cell_type": "markdown",
   "id": "075b2e76",
   "metadata": {},
   "source": [
    "- Example:\n",
    "If L = [1, 11, 12, 45], after L.reverse(), L becomes `[45, 12, 11, 1]\n",
    "\n",
    "### 4. index()\n",
    "- **Purpose:** Returns the index of the first occurrence of a specified value.\n",
    "\n",
    "- Syntax:"
   ]
  },
  {
   "cell_type": "code",
   "execution_count": 6,
   "id": "bb9285c8",
   "metadata": {},
   "outputs": [
    {
     "data": {
      "text/plain": [
       "0"
      ]
     },
     "execution_count": 6,
     "metadata": {},
     "output_type": "execute_result"
    }
   ],
   "source": [
    "L.index(1)"
   ]
  },
  {
   "cell_type": "markdown",
   "id": "33ae1b24",
   "metadata": {},
   "source": [
    "- **Note:** If the value appears multiple times, only the first occurrence is returned.\n",
    "\n",
    "### 5. count()\n",
    "- **Purpose:** Counts how many times a specified value appears in the list.\n",
    "\n",
    "- Syntax:"
   ]
  },
  {
   "cell_type": "code",
   "execution_count": 7,
   "id": "e1185e60",
   "metadata": {},
   "outputs": [
    {
     "data": {
      "text/plain": [
       "1"
      ]
     },
     "execution_count": 7,
     "metadata": {},
     "output_type": "execute_result"
    }
   ],
   "source": [
    "L.count(1)"
   ]
  },
  {
   "cell_type": "markdown",
   "id": "8aacd358",
   "metadata": {},
   "source": [
    "### 6. copy()\n",
    "- **Purpose:** Returns a shallow copy of the list.\n",
    "\n",
    "- Syntax:"
   ]
  },
  {
   "cell_type": "code",
   "execution_count": 8,
   "id": "e1b13640",
   "metadata": {},
   "outputs": [],
   "source": [
    "M = L.copy()"
   ]
  },
  {
   "cell_type": "markdown",
   "id": "4b517488",
   "metadata": {},
   "source": [
    "- Why use copy()?\n",
    "\n",
    "    - Assigning M = L does not create a new list; both variables point to the same list in memory.\n",
    "\n",
    "    - Changing M will also change L if you use assignment.\n",
    "\n",
    "    - Using copy() creates an independent list, so changes to M do not affect L."
   ]
  },
  {
   "cell_type": "markdown",
   "id": "80ea62dc",
   "metadata": {},
   "source": [
    "### 7. insert()\n",
    "- **Purpose:** Inserts an element at a specified index.\n",
    "\n",
    "- Syntax:"
   ]
  },
  {
   "cell_type": "code",
   "execution_count": null,
   "id": "5d4e052e",
   "metadata": {},
   "outputs": [],
   "source": [
    "L.insert(index, value)"
   ]
  },
  {
   "cell_type": "markdown",
   "id": "c78f3e32",
   "metadata": {},
   "source": [
    "- Example:\n",
    "If L = [12,45, 11, 1], L.insert(1, 899) inserts 899 at index 1, so L becomes `[12, 899, 45,---\n",
    "\n",
    "### 8. extend()\n",
    "- **Purpose:** Adds all elements from another iterable (like a list) to the end of the current list.\n",
    "\n",
    "- Syntax:"
   ]
  },
  {
   "cell_type": "code",
   "execution_count": 10,
   "id": "2e1a6062",
   "metadata": {},
   "outputs": [],
   "source": [
    "L.extend([900, 1000, 1100])"
   ]
  },
  {
   "cell_type": "markdown",
   "id": "2767763c",
   "metadata": {},
   "source": [
    "- Example:\n",
    "If L = [12, 45, 11, 1], after L.extend([900,][1100]), L becomes [12, 45, 11, 1, 900, 1000,--\n",
    "\n",
    "## Additional Notes & Tips\n",
    "- ### Assignment vs. Copy:\n",
    "\n",
    "    - M = L creates a reference, not a new list. Changes to M affect L.\n",
    "\n",
    "    - Use M = L.copy() for an actual duplicate."
   ]
  },
  {
   "cell_type": "markdown",
   "id": "a4ec04b8",
   "metadata": {},
   "source": [
    "- ### Learning Approach:\n",
    "\n",
    "    - The lecture encourages experimenting with these methods in code to understand their effects.\n",
    "\n",
    "    - There are many more list methods; these are the most essential and frequently used."
   ]
  },
  {
   "cell_type": "markdown",
   "id": "1f5ff77c",
   "metadata": {},
   "source": [
    "# Summary\n",
    "- Lists are versatile and central to Python programming.\n",
    "\n",
    "- Key methods include append(), sort(), reverse(), index(), count(), copy(), insert(), and extend().\n",
    "\n",
    "- Understanding the difference between assignment and copying is crucial for avoiding bugs.\n",
    "\n",
    "- Practice using these methods to become proficient in list manipulation."
   ]
  }
 ],
 "metadata": {
  "kernelspec": {
   "display_name": ".venv",
   "language": "python",
   "name": "python3"
  },
  "language_info": {
   "codemirror_mode": {
    "name": "ipython",
    "version": 3
   },
   "file_extension": ".py",
   "mimetype": "text/x-python",
   "name": "python",
   "nbconvert_exporter": "python",
   "pygments_lexer": "ipython3",
   "version": "3.12.3"
  }
 },
 "nbformat": 4,
 "nbformat_minor": 5
}
