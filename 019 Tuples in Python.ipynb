{
 "cells": [
  {
   "cell_type": "markdown",
   "id": "e28261a9",
   "metadata": {},
   "source": [
    "# What is a Tuple?\n",
    "- **Definition:** A tuple is an ordered, immutable collection of items in Python.\n",
    "\n",
    "- **Syntax:** Tuples are created by placing items inside parentheses (), separated by commas.\n",
    "\n",
    "- Example:"
   ]
  },
  {
   "cell_type": "code",
   "execution_count": 1,
   "id": "9e4070da",
   "metadata": {},
   "outputs": [],
   "source": [
    "my_tuple = (1, 2, 3, 4)"
   ]
  },
  {
   "cell_type": "markdown",
   "id": "49a8d019",
   "metadata": {},
   "source": [
    "- **Immutability:** Once created, the elements of a tuple cannot be changed, added, or removed."
   ]
  },
  {
   "cell_type": "markdown",
   "id": "50ad5455",
   "metadata": {},
   "source": [
    "# Key Features of Tuples\n",
    "### 1. Ordered\n",
    "\n",
    "- Tuples maintain the order of elements as inserted.\n",
    "\n",
    "- Elements can be accessed using their index.\n",
    "\n",
    "### 2. Immutable\n",
    "\n",
    "- You cannot modify a tuple after its creation (no item assignment, addition, or removal).\n",
    "\n",
    "- Attempting to change a tuple’s value will result in an error."
   ]
  },
  {
   "cell_type": "markdown",
   "id": "efcd7fe4",
   "metadata": {},
   "source": [
    "### 3. Allows Duplicate Elements\n",
    "\n",
    "- Tuples can contain duplicate values.\n",
    "\n",
    "- Example: (1, 2, 2, 3)\n",
    "\n",
    "### 4. Can Store Multiple Data Types\n",
    "\n",
    "- Tuples can hold integers, strings, floats, or even other tuples.\n",
    "\n",
    "- Example: (1, \"hello\", 3.14, (2, 4))"
   ]
  },
  {
   "cell_type": "markdown",
   "id": "752ae175",
   "metadata": {},
   "source": [
    "### 5. Faster Than Lists\n",
    "\n",
    "- Due to their immutability, tuples are generally faster than lists for iteration and access.\n",
    "\n",
    "# Creating Tuples\n",
    "### Basic Syntax"
   ]
  },
  {
   "cell_type": "code",
   "execution_count": 2,
   "id": "b08bce01",
   "metadata": {},
   "outputs": [],
   "source": [
    "t = (1, 2, 3)"
   ]
  },
  {
   "cell_type": "markdown",
   "id": "9b936035",
   "metadata": {},
   "source": [
    "# Single Element Tuple\n",
    "\n",
    "- To create a single-element tuple, add a trailing comma:"
   ]
  },
  {
   "cell_type": "code",
   "execution_count": 3,
   "id": "442db589",
   "metadata": {},
   "outputs": [],
   "source": [
    "t = (5,)  # This is a tuple\n",
    "t = (5)   # This is just an integer"
   ]
  },
  {
   "cell_type": "markdown",
   "id": "0b49ad22",
   "metadata": {},
   "source": [
    "### Without Parentheses\n",
    "\n",
    "- Parentheses are optional; commas define a tuple."
   ]
  },
  {
   "cell_type": "code",
   "execution_count": 4,
   "id": "6d74483b",
   "metadata": {},
   "outputs": [],
   "source": [
    "t = 1, 2, 3"
   ]
  },
  {
   "cell_type": "markdown",
   "id": "38f1cf67",
   "metadata": {},
   "source": [
    "### Accessing Tuple Elements\n",
    "- Use indexing to access elements:"
   ]
  },
  {
   "cell_type": "code",
   "execution_count": 5,
   "id": "b5a24d3c",
   "metadata": {},
   "outputs": [
    {
     "name": "stdout",
     "output_type": "stream",
     "text": [
      "10\n",
      "30\n"
     ]
    }
   ],
   "source": [
    "t = (10, 20, 30)\n",
    "print(t[0])  # Output: 10\n",
    "print(t[2])  # Output: 30"
   ]
  },
  {
   "cell_type": "markdown",
   "id": "ebd99ce3",
   "metadata": {},
   "source": [
    "- Negative indexing is supported:"
   ]
  },
  {
   "cell_type": "code",
   "execution_count": 6,
   "id": "1180ec09",
   "metadata": {},
   "outputs": [
    {
     "name": "stdout",
     "output_type": "stream",
     "text": [
      "30\n"
     ]
    }
   ],
   "source": [
    "print(t[-1])  # Output: 30"
   ]
  },
  {
   "cell_type": "markdown",
   "id": "56ba6aee",
   "metadata": {},
   "source": [
    "# Tuple Operations\n",
    "### 1. Slicing\n",
    "\n",
    "- Extract a portion of a tuple:"
   ]
  },
  {
   "cell_type": "code",
   "execution_count": 7,
   "id": "563ac16e",
   "metadata": {},
   "outputs": [
    {
     "name": "stdout",
     "output_type": "stream",
     "text": [
      "(2, 3, 4)\n"
     ]
    }
   ],
   "source": [
    "t = (1, 2, 3, 4, 5)\n",
    "print(t[1:4])  # Output: (2, 3, 4)"
   ]
  },
  {
   "cell_type": "markdown",
   "id": "eb49c0fb",
   "metadata": {},
   "source": [
    "### 2. Concatenation\n",
    "\n",
    "- Combine two tuples:"
   ]
  },
  {
   "cell_type": "code",
   "execution_count": 8,
   "id": "e216db27",
   "metadata": {},
   "outputs": [],
   "source": [
    "t1 = (1, 2)\n",
    "t2 = (3, 4)\n",
    "t3 = t1 + t2  # Output: (1, 2, 3, 4)"
   ]
  },
  {
   "cell_type": "markdown",
   "id": "7756887a",
   "metadata": {},
   "source": [
    "### 3. Repetition\n",
    "\n",
    "- Repeat a tuple:"
   ]
  },
  {
   "cell_type": "code",
   "execution_count": 9,
   "id": "62e0722b",
   "metadata": {},
   "outputs": [],
   "source": [
    "t = (1, 2)\n",
    "t2 = t * 3  # Output: (1, 2, 1, 2, 1, 2)"
   ]
  },
  {
   "cell_type": "markdown",
   "id": "459d5549",
   "metadata": {},
   "source": [
    "### 4. Membership\n",
    "\n",
    "- Check if an element exists:"
   ]
  },
  {
   "cell_type": "code",
   "execution_count": 10,
   "id": "72276cd1",
   "metadata": {},
   "outputs": [
    {
     "name": "stdout",
     "output_type": "stream",
     "text": [
      "True\n"
     ]
    }
   ],
   "source": [
    "t = (1, 2, 3)\n",
    "print(2 in t)  # Output: True"
   ]
  },
  {
   "cell_type": "markdown",
   "id": "0f02fb88",
   "metadata": {},
   "source": [
    "# Tuple Methods\n",
    "- **count(x):** Returns the number of times x appears in the tuple.\n",
    "\n",
    "- **index(x):** Returns the index of the first occurrence of x.\n",
    "\n",
    "- Example:"
   ]
  },
  {
   "cell_type": "code",
   "execution_count": 11,
   "id": "83ff92b8",
   "metadata": {},
   "outputs": [
    {
     "name": "stdout",
     "output_type": "stream",
     "text": [
      "2\n",
      "3\n"
     ]
    }
   ],
   "source": [
    "t = (1, 2, 2, 3)\n",
    "print(t.count(2))  # Output: 2\n",
    "print(t.index(3))  # Output: 3"
   ]
  },
  {
   "cell_type": "markdown",
   "id": "5571c2e1",
   "metadata": {},
   "source": [
    "# Why Use Tuples?\n",
    "- Data Integrity: Use tuples when you want to ensure the data cannot be changed.\n",
    "\n",
    "- Dictionary Keys: Tuples can be used as keys in dictionaries, unlike lists.\n",
    "\n",
    "- Performance: Tuples are more memory-efficient and faster for iteration."
   ]
  },
  {
   "cell_type": "markdown",
   "id": "955076bd",
   "metadata": {},
   "source": [
    "# Examples\n",
    "- ### Storing Coordinates"
   ]
  },
  {
   "cell_type": "code",
   "execution_count": 12,
   "id": "15ca8d03",
   "metadata": {},
   "outputs": [],
   "source": [
    "point = (10, 20)"
   ]
  },
  {
   "cell_type": "markdown",
   "id": "3229647b",
   "metadata": {},
   "source": [
    "- ### Returning Multiple Values from a Function"
   ]
  },
  {
   "cell_type": "code",
   "execution_count": 13,
   "id": "2fe88911",
   "metadata": {},
   "outputs": [],
   "source": [
    "def min_max(numbers):\n",
    "    return (min(numbers), max(numbers))\n",
    "\n",
    "result = min_max([1, 2, 3, 4])\n",
    "# result is (1, 4)"
   ]
  },
  {
   "cell_type": "markdown",
   "id": "240e3243",
   "metadata": {},
   "source": [
    "# Summary\n",
    "- Tuples are immutable, ordered collections in Python.\n",
    "\n",
    "- They are created using parentheses and can contain elements of different data types.\n",
    "\n",
    "- Tuples support indexing, slicing, and basic operations like concatenation and repetition.\n",
    "\n",
    "- Use tuples when you need a fixed collection of items or want to use a sequence as a dictionary key.\n",
    "\n",
    "- **Remember:** Tuples cannot be changed after creation, making them suitable for data that should remain constant throughout the program."
   ]
  }
 ],
 "metadata": {
  "kernelspec": {
   "display_name": ".venv",
   "language": "python",
   "name": "python3"
  },
  "language_info": {
   "codemirror_mode": {
    "name": "ipython",
    "version": 3
   },
   "file_extension": ".py",
   "mimetype": "text/x-python",
   "name": "python",
   "nbconvert_exporter": "python",
   "pygments_lexer": "ipython3",
   "version": "3.12.3"
  }
 },
 "nbformat": 4,
 "nbformat_minor": 5
}
