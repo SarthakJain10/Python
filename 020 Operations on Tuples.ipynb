{
 "cells": [
  {
   "cell_type": "markdown",
   "id": "3d70c097",
   "metadata": {},
   "source": [
    "# What is a Tuple?\n",
    "- **Definition:** A tuple is a collection of ordered, immutable (unchangeable) elements in Python.\n",
    "\n",
    "- **Syntax:** Tuples are defined using parentheses (), e.g., my_tuple = (1, 2, 3).\n",
    "\n",
    "- **Key Property:** Once created, the elements of a tuple cannot be changed, added, or removed directly."
   ]
  },
  {
   "cell_type": "markdown",
   "id": "e62217a3",
   "metadata": {},
   "source": [
    "# Immutability of Tuples\n",
    "- **Immutability:** You cannot directly add, remove, or change elements in a tuple after it is created.\n",
    "\n",
    "- **Workaround:** To modify a tuple:\n",
    "\n",
    "    - Convert the tuple to a list using list().\n",
    "\n",
    "    - Perform the desired changes on the list (add, remove, or modify elements).\n",
    "\n",
    "    - Convert the list back to a tuple using tuple().\n",
    "\n",
    "Example:"
   ]
  },
  {
   "cell_type": "code",
   "execution_count": 2,
   "id": "ed8f603e",
   "metadata": {},
   "outputs": [
    {
     "data": {
      "text/plain": [
       "('India', 'UK', 'Russia')"
      ]
     },
     "execution_count": 2,
     "metadata": {},
     "output_type": "execute_result"
    }
   ],
   "source": [
    "my_tuple = ('India', 'USA', 'UK')\n",
    "temp_list = list(my_tuple)\n",
    "temp_list.append('Russia')\n",
    "temp_list.pop(1)\n",
    "my_tuple = tuple(temp_list)\n",
    "my_tuple"
   ]
  },
  {
   "cell_type": "markdown",
   "id": "460ecc80",
   "metadata": {},
   "source": [
    "This process allows for indirect modification, but the original tuple remains unchanged until reassigned.\n",
    "\n",
    "# Tuple Operations\n",
    "### Concatenation\n",
    "- You can concatenate (combine) two tuples directly using the + operator.\n",
    "\n",
    "- This creates a new tuple; it does not modify the existing ones.\n",
    "\n",
    "Example:"
   ]
  },
  {
   "cell_type": "code",
   "execution_count": 2,
   "id": "d234e7cd",
   "metadata": {},
   "outputs": [],
   "source": [
    "tuple1 = ('India', 'USA')\n",
    "tuple2 = ('Russia', 'China')\n",
    "result = tuple1 + tuple2  # ('India', 'USA', 'Russia', 'China')"
   ]
  },
  {
   "cell_type": "markdown",
   "id": "44dc9f0b",
   "metadata": {},
   "source": [
    "Concatenation is allowed because it results in a new tuple, not a modification of an existing one.\n",
    "\n",
    "# Tuple Methods\n",
    "Tuples have a limited set of built-in methods due to their immutability. The two most commonly used are:\n",
    "\n",
    "### 1. count()\n",
    "- **Purpose:** Returns the number of times a specified value appears in the tuple.\n",
    "\n",
    "- **Syntax:** tuple.count(value)\n",
    "\n",
    "Example:"
   ]
  },
  {
   "cell_type": "code",
   "execution_count": 3,
   "id": "6cc8acbd",
   "metadata": {},
   "outputs": [
    {
     "name": "stdout",
     "output_type": "stream",
     "text": [
      "3\n"
     ]
    }
   ],
   "source": [
    "tuple1 = (3, 5, 3, 7, 3)\n",
    "print(tuple1.count(3))  # Output: 3"
   ]
  },
  {
   "cell_type": "markdown",
   "id": "5afa421e",
   "metadata": {},
   "source": [
    "If you add another 3, the count will increase accordingly.\n",
    "\n",
    "### 2. index()\n",
    "- **Purpose:** Returns the index of the first occurrence of a specified value.\n",
    "\n",
    "- **Syntax:** tuple.index(value[, start[, end]])\n",
    "\n",
    "    - start and end are optional parameters to specify the search range.\n",
    "\n",
    "Example:"
   ]
  },
  {
   "cell_type": "code",
   "execution_count": 4,
   "id": "fd69b418",
   "metadata": {},
   "outputs": [
    {
     "name": "stdout",
     "output_type": "stream",
     "text": [
      "0\n",
      "4\n",
      "3\n"
     ]
    }
   ],
   "source": [
    "tuple1 = (3, 5, 7, 3, 31, 3)\n",
    "print(tuple1.index(3))      # Output: 0 (first occurrence)\n",
    "print(tuple1.index(31))     # Output: 4 (first occurrence of 31)\n",
    "print(tuple1.index(3, 2))   # Output: 3 (search starts from index 2)"
   ]
  },
  {
   "cell_type": "markdown",
   "id": "7b6ebca9",
   "metadata": {},
   "source": [
    "- If the value is not found, a ValueError is raised.\n",
    "\n",
    "- The method can be used with optional start and end parameters to search within a specific slice of the tuple.\n",
    "\n",
    "### 3. len() Function\n",
    "- **Purpose:** Returns the number of elements in the tuple.\n",
    "\n",
    "- **Syntax:** len(tuple)\n",
    "\n",
    "Example:"
   ]
  },
  {
   "cell_type": "code",
   "execution_count": 5,
   "id": "b7a2290e",
   "metadata": {},
   "outputs": [
    {
     "name": "stdout",
     "output_type": "stream",
     "text": [
      "4\n"
     ]
    }
   ],
   "source": [
    "tuple1 = (1, 2, 3, 4)\n",
    "print(len(tuple1))  # Output: 4"
   ]
  },
  {
   "cell_type": "markdown",
   "id": "03de05fe",
   "metadata": {},
   "source": [
    "This is a built-in Python function, not a tuple method, but is often used with tuples.\n",
    "\n",
    "# Important Points\n",
    "- **Tuples vs Lists:** Tuples are immutable, while lists are mutable. You can use all list methods on a tuple only after converting it to a list.\n",
    "\n",
    "- **Naming Convention:** By convention, variable names use lowercase letters, while class names use uppercase.\n",
    "\n",
    "- **Error Handling:** Using .index() for a value not present in the tuple will raise a ValueError."
   ]
  },
  {
   "cell_type": "markdown",
   "id": "b21c1653",
   "metadata": {},
   "source": [
    "# Examples\n",
    "### Modifying a Tuple Indirectly:"
   ]
  },
  {
   "cell_type": "code",
   "execution_count": 6,
   "id": "dba33f57",
   "metadata": {},
   "outputs": [],
   "source": [
    "my_tuple = ('a', 'b', 'c')\n",
    "temp_list = list(my_tuple)\n",
    "temp_list.append('d')\n",
    "my_tuple = tuple(temp_list)  # ('a', 'b', 'c', 'd')"
   ]
  },
  {
   "cell_type": "markdown",
   "id": "26bbbfdc",
   "metadata": {},
   "source": [
    "### Counting Occurrences:"
   ]
  },
  {
   "cell_type": "code",
   "execution_count": 7,
   "id": "3852bc6e",
   "metadata": {},
   "outputs": [
    {
     "name": "stdout",
     "output_type": "stream",
     "text": [
      "3\n"
     ]
    }
   ],
   "source": [
    "numbers = (1, 2, 2, 3, 2)\n",
    "print(numbers.count(2))  # Output: 3"
   ]
  },
  {
   "cell_type": "markdown",
   "id": "f24456f8",
   "metadata": {},
   "source": [
    "### Finding Index:"
   ]
  },
  {
   "cell_type": "code",
   "execution_count": 8,
   "id": "70836469",
   "metadata": {},
   "outputs": [
    {
     "name": "stdout",
     "output_type": "stream",
     "text": [
      "0\n"
     ]
    }
   ],
   "source": [
    "letters = ('a', 'b', 'c', 'a')\n",
    "print(letters.index('a'))  # Output: 0"
   ]
  },
  {
   "cell_type": "markdown",
   "id": "7c91f80e",
   "metadata": {},
   "source": [
    "# Summary\n",
    "- Tuples are immutable sequences in Python; you cannot change their contents directly.\n",
    "\n",
    "- To modify a tuple, convert it to a list, make changes, and convert it back.\n",
    "\n",
    "- You can concatenate tuples to create a new tuple.\n",
    "\n",
    "- The main tuple methods are .count() (for counting occurrences) and .index() (for finding the first occurrence of a value).\n",
    "\n",
    "- The len() function gives the size of the tuple.\n",
    "\n",
    "- Attempting to find the index of a non-existent element raises a ValueError.\n",
    "\n",
    "- For direct manipulation, always convert the tuple to a list first."
   ]
  }
 ],
 "metadata": {
  "kernelspec": {
   "display_name": ".venv",
   "language": "python",
   "name": "python3"
  },
  "language_info": {
   "codemirror_mode": {
    "name": "ipython",
    "version": 3
   },
   "file_extension": ".py",
   "mimetype": "text/x-python",
   "name": "python",
   "nbconvert_exporter": "python",
   "pygments_lexer": "ipython3",
   "version": "3.12.3"
  }
 },
 "nbformat": 4,
 "nbformat_minor": 5
}
