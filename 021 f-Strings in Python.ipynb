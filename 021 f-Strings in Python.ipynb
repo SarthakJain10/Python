{
 "cells": [
  {
   "cell_type": "markdown",
   "id": "136c61e6",
   "metadata": {},
   "source": [
    "# What Are f-Strings?\n",
    "### Definition:\n",
    "f-strings (formatted string literals) are a feature in Python that allows you to embed expressions inside string literals, using curly braces {} and a prefix f or F before the string.\n",
    "\n",
    "### Key Points:\n",
    "\n",
    "- Introduced in Python 3.6.\n",
    "\n",
    "- Simplify string formatting by allowing variables and expressions to be embedded directly in strings.\n",
    "\n",
    "- **Syntax:** Place an f or F before the opening quote of a string, and include variables or expressions inside curly braces within the string."
   ]
  },
  {
   "cell_type": "markdown",
   "id": "81737289",
   "metadata": {},
   "source": [
    "# Why Use f-Strings?\n",
    "### Problems with Older String Formatting Methods:\n",
    "\n",
    "- Before f-strings, Python programmers used methods like concatenation (+), the % operator, or the .format() method for string formatting.\n",
    "\n",
    "- These older methods can be cumbersome, less readable, and error-prone, especially when dealing with multiple variables or complex expressions."
   ]
  },
  {
   "cell_type": "markdown",
   "id": "66384b95",
   "metadata": {},
   "source": [
    "### How f-Strings Solve These Problems:\n",
    "\n",
    "- f-strings provide a concise and readable way to format strings.\n",
    "\n",
    "- They reduce the risk of errors and make the code cleaner and easier to maintain.\n",
    "\n",
    "# Syntax and Usage\n",
    "### Basic Syntax:"
   ]
  },
  {
   "cell_type": "code",
   "execution_count": 2,
   "id": "c1e42e48",
   "metadata": {},
   "outputs": [
    {
     "name": "stdout",
     "output_type": "stream",
     "text": [
      "Hello, my name is Sarthak and I am 20 years old.\n"
     ]
    }
   ],
   "source": [
    "name = \"Sarthak\"\n",
    "age = 20\n",
    "greeting = f\"Hello, my name is {name} and I am {age} years old.\"\n",
    "print(greeting)"
   ]
  },
  {
   "cell_type": "markdown",
   "id": "525c21a7",
   "metadata": {},
   "source": [
    "# Key Features:\n",
    "\n",
    "- Place any valid Python expression inside {} within the string.\n",
    "\n",
    "- Supports variables, arithmetic operations, function calls, and more."
   ]
  },
  {
   "cell_type": "markdown",
   "id": "16e146e3",
   "metadata": {},
   "source": [
    "# Examples\n",
    "### 1. Embedding Variables:"
   ]
  },
  {
   "cell_type": "code",
   "execution_count": 3,
   "id": "29f79c11",
   "metadata": {},
   "outputs": [
    {
     "name": "stdout",
     "output_type": "stream",
     "text": [
      "I live in Delhi.\n"
     ]
    }
   ],
   "source": [
    "city = \"Delhi\"\n",
    "print(f\"I live in {city}.\")"
   ]
  },
  {
   "cell_type": "markdown",
   "id": "bc068562",
   "metadata": {},
   "source": [
    "### 2. Expressions Inside f-Strings:"
   ]
  },
  {
   "cell_type": "code",
   "execution_count": 4,
   "id": "f05abc89",
   "metadata": {},
   "outputs": [
    {
     "name": "stdout",
     "output_type": "stream",
     "text": [
      "The sum of 5 and 10 is 15.\n"
     ]
    }
   ],
   "source": [
    "a = 5\n",
    "b = 10\n",
    "print(f\"The sum of {a} and {b} is {a + b}.\")"
   ]
  },
  {
   "cell_type": "markdown",
   "id": "937224ba",
   "metadata": {},
   "source": [
    "### 3. Calling Functions:"
   ]
  },
  {
   "cell_type": "code",
   "execution_count": 5,
   "id": "7f7549c6",
   "metadata": {},
   "outputs": [
    {
     "name": "stdout",
     "output_type": "stream",
     "text": [
      "The square of 4 is 16.\n"
     ]
    }
   ],
   "source": [
    "def square(x):\n",
    "    return x * x\n",
    "\n",
    "num = 4\n",
    "print(f\"The square of {num} is {square(num)}.\")"
   ]
  },
  {
   "cell_type": "markdown",
   "id": "f88a161c",
   "metadata": {},
   "source": [
    "### 4. Formatting Numbers:"
   ]
  },
  {
   "cell_type": "code",
   "execution_count": 6,
   "id": "812380d0",
   "metadata": {},
   "outputs": [
    {
     "name": "stdout",
     "output_type": "stream",
     "text": [
      "Value of pi up to 2 decimal places: 3.14\n"
     ]
    }
   ],
   "source": [
    "pi = 3.14159\n",
    "print(f\"Value of pi up to 2 decimal places: {pi:.2f}\")"
   ]
  },
  {
   "cell_type": "markdown",
   "id": "78c884f1",
   "metadata": {},
   "source": [
    "# Comparison with Other String Formatting Methods"
   ]
  },
  {
   "cell_type": "code",
   "execution_count": 7,
   "id": "6bee1ce2",
   "metadata": {},
   "outputs": [
    {
     "data": {
      "text/html": [
       "<div>\n",
       "<style scoped>\n",
       "    .dataframe tbody tr th:only-of-type {\n",
       "        vertical-align: middle;\n",
       "    }\n",
       "\n",
       "    .dataframe tbody tr th {\n",
       "        vertical-align: top;\n",
       "    }\n",
       "\n",
       "    .dataframe thead th {\n",
       "        text-align: right;\n",
       "    }\n",
       "</style>\n",
       "<table border=\"1\" class=\"dataframe\">\n",
       "  <thead>\n",
       "    <tr style=\"text-align: right;\">\n",
       "      <th></th>\n",
       "      <th>Method</th>\n",
       "      <th>Example</th>\n",
       "      <th>Pros</th>\n",
       "      <th>Cons</th>\n",
       "    </tr>\n",
       "  </thead>\n",
       "  <tbody>\n",
       "    <tr>\n",
       "      <th>0</th>\n",
       "      <td>Concatenation</td>\n",
       "      <td>\"Hello \" + name + \"!\"</td>\n",
       "      <td>Simple for few variables</td>\n",
       "      <td>Tedious, error-prone</td>\n",
       "    </tr>\n",
       "    <tr>\n",
       "      <th>1</th>\n",
       "      <td>%Operator</td>\n",
       "      <td>\"Hello %s!\" % name</td>\n",
       "      <td>Short syntax</td>\n",
       "      <td>Hard to read with many variables</td>\n",
       "    </tr>\n",
       "    <tr>\n",
       "      <th>2</th>\n",
       "      <td>.format()</td>\n",
       "      <td>\"Hello {}!\".format(name)</td>\n",
       "      <td>More flexible</td>\n",
       "      <td>Verbose, less readable with expressions</td>\n",
       "    </tr>\n",
       "    <tr>\n",
       "      <th>3</th>\n",
       "      <td>f-String</td>\n",
       "      <td>f\"Hello {name}!\"</td>\n",
       "      <td>Most readable, concise</td>\n",
       "      <td>Requires Python 3.6+</td>\n",
       "    </tr>\n",
       "  </tbody>\n",
       "</table>\n",
       "</div>"
      ],
      "text/plain": [
       "          Method                   Example                      Pros  \\\n",
       "0  Concatenation     \"Hello \" + name + \"!\"  Simple for few variables   \n",
       "1      %Operator        \"Hello %s!\" % name              Short syntax   \n",
       "2      .format()  \"Hello {}!\".format(name)             More flexible   \n",
       "3       f-String          f\"Hello {name}!\"    Most readable, concise   \n",
       "\n",
       "                                      Cons  \n",
       "0                     Tedious, error-prone  \n",
       "1         Hard to read with many variables  \n",
       "2  Verbose, less readable with expressions  \n",
       "3                     Requires Python 3.6+  "
      ]
     },
     "execution_count": 7,
     "metadata": {},
     "output_type": "execute_result"
    }
   ],
   "source": [
    "import pandas as pd\n",
    "df = pd.read_csv('csv_files/Method-Example-Pros-Cons.csv')\n",
    "df"
   ]
  },
  {
   "cell_type": "markdown",
   "id": "458f3faa",
   "metadata": {},
   "source": [
    "# Important Notes and Best Practices\n",
    "- Always use f-strings when working with Python 3.6 or newer for string formatting tasks.\n",
    "\n",
    "- You can use complex expressions, including method calls and arithmetic, inside {}.\n",
    "\n",
    "- For older versions of Python, fallback to .format() or % formatting.\n",
    "\n",
    "- f-strings improve code readability and reduce bugs related to string formatting."
   ]
  },
  {
   "cell_type": "markdown",
   "id": "aeb41767",
   "metadata": {},
   "source": [
    "# Summary\n",
    "- f-strings are the recommended way to format strings in Python 3.6 and above.\n",
    "\n",
    "- They allow embedding variables and expressions directly inside string literals, making code concise and readable.\n",
    "\n",
    "- f-strings solve many issues present in older formatting methods and are widely used in modern Python programming.\n",
    "\n",
    "- Always prefix your string with f and use {} to include variables or expressions."
   ]
  }
 ],
 "metadata": {
  "kernelspec": {
   "display_name": ".venv",
   "language": "python",
   "name": "python3"
  },
  "language_info": {
   "codemirror_mode": {
    "name": "ipython",
    "version": 3
   },
   "file_extension": ".py",
   "mimetype": "text/x-python",
   "name": "python",
   "nbconvert_exporter": "python",
   "pygments_lexer": "ipython3",
   "version": "3.12.3"
  }
 },
 "nbformat": 4,
 "nbformat_minor": 5
}
