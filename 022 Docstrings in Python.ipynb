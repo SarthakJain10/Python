{
 "cells": [
  {
   "cell_type": "markdown",
   "id": "3ad7cec2",
   "metadata": {},
   "source": [
    "# What Are Docstrings?\n",
    "### Definition:\n",
    "A docstring (documentation string) is a special type of string in Python used to document modules, classes, functions, or methods. Docstrings help explain what a block of code does, making it easier for others (and your future self) to understand and use your code effectively.\n",
    "\n",
    "### Key Points:\n",
    "\n",
    "- Docstrings are written as the first statement in a module, function, class, or method.\n",
    "\n",
    "- They are enclosed within triple quotes (\"\"\" ... \"\"\" or ''' ... ''').\n",
    "\n",
    "- Unlike regular comments, docstrings can be accessed at runtime via the .\\_\\_doc\\_\\_ attribute.\n",
    "\n"
   ]
  },
  {
   "cell_type": "markdown",
   "id": "e36bc33d",
   "metadata": {},
   "source": [
    "# Why Use Docstrings?\n",
    "- **Improves Readability:** Docstrings provide a clear explanation of what a function/class/module does.\n",
    "\n",
    "- **Facilitates Collaboration:** Other developers can quickly understand your code’s purpose.\n",
    "\n",
    "- **Enables Documentation Tools:** Tools like Sphinx and IDEs use docstrings to generate documentation automatically.\n",
    "\n",
    "- **Supports Help Systems:** Python’s built-in help() function displays docstrings, aiding users and developers."
   ]
  },
  {
   "cell_type": "markdown",
   "id": "ee631a34",
   "metadata": {},
   "source": [
    "# How to Write Docstrings\n",
    "### Basic Syntax:"
   ]
  },
  {
   "cell_type": "code",
   "execution_count": null,
   "id": "c062114b",
   "metadata": {},
   "outputs": [],
   "source": [
    "def function_name(parameters):\n",
    "    \"\"\"\n",
    "    Brief explanation of what the function does.\n",
    "\n",
    "    Optional: More details about parameters, return values, exceptions, etc.\n",
    "    \"\"\"\n",
    "    # Function body\n"
   ]
  },
  {
   "cell_type": "markdown",
   "id": "020c919f",
   "metadata": {},
   "source": [
    "### Example:"
   ]
  },
  {
   "cell_type": "code",
   "execution_count": 1,
   "id": "bac321c2",
   "metadata": {},
   "outputs": [],
   "source": [
    "def add(a, b):\n",
    "    \"\"\"\n",
    "    Adds two numbers and returns the result.\n",
    "\n",
    "    Parameters:\n",
    "    a (int or float): First number.\n",
    "    b (int or float): Second number.\n",
    "\n",
    "    Returns:\n",
    "    int or float: The sum of a and b.\n",
    "    \"\"\"\n",
    "    return a + b\n"
   ]
  },
  {
   "cell_type": "markdown",
   "id": "5dbfc740",
   "metadata": {},
   "source": [
    "### Accessing a Docstring:"
   ]
  },
  {
   "cell_type": "code",
   "execution_count": 2,
   "id": "90af9050",
   "metadata": {},
   "outputs": [
    {
     "name": "stdout",
     "output_type": "stream",
     "text": [
      "\n",
      "    Adds two numbers and returns the result.\n",
      "\n",
      "    Parameters:\n",
      "    a (int or float): First number.\n",
      "    b (int or float): Second number.\n",
      "\n",
      "    Returns:\n",
      "    int or float: The sum of a and b.\n",
      "    \n"
     ]
    }
   ],
   "source": [
    "print(add.__doc__)"
   ]
  },
  {
   "cell_type": "markdown",
   "id": "8bf745aa",
   "metadata": {},
   "source": [
    "This will output the documentation string for the add function.\n",
    "\n",
    "# Best Practices for Docstrings\n",
    "- Be Concise but Informative: Start with a short summary, then add details if necessary.\n",
    "\n",
    "- Use Proper Formatting: Stick to conventions (such as PEP 257) for consistency.\n",
    "\n",
    "- Document All Public Elements: Every public module, class, and function should have a docstring.\n",
    "\n",
    "- Include Parameter and Return Descriptions: Especially for functions and methods.\n",
    "\n",
    "# Types of Docstrings\n",
    "- **Single-line Docstrings:** Used for very simple functions or classes."
   ]
  },
  {
   "cell_type": "code",
   "execution_count": 3,
   "id": "dd42dd43",
   "metadata": {},
   "outputs": [],
   "source": [
    "def greet():\n",
    "    \"\"\"Returns a greeting message.\"\"\"\n",
    "    return \"Hello!\""
   ]
  },
  {
   "cell_type": "markdown",
   "id": "cc33aba1",
   "metadata": {},
   "source": [
    "- **Multi-line Docstrings:** Used when more detail is needed."
   ]
  },
  {
   "cell_type": "code",
   "execution_count": 4,
   "id": "069995f4",
   "metadata": {},
   "outputs": [],
   "source": [
    "def multiply(a, b):\n",
    "    \"\"\"\n",
    "    Multiplies two numbers.\n",
    "\n",
    "    Parameters:\n",
    "    a (int or float): First number.\n",
    "    b (int or float): Second number.\n",
    "\n",
    "    Returns:\n",
    "    int or float: Product of a and b.\n",
    "    \"\"\"\n",
    "    return a * b\n"
   ]
  },
  {
   "cell_type": "markdown",
   "id": "93536ca4",
   "metadata": {},
   "source": [
    "# Examples and Usage\n",
    "### Module Docstring Example:"
   ]
  },
  {
   "cell_type": "code",
   "execution_count": 5,
   "id": "9ac665f0",
   "metadata": {},
   "outputs": [
    {
     "data": {
      "text/plain": [
       "'\\nThis module provides basic arithmetic operations.\\nAuthor: CodeWithHarry\\n'"
      ]
     },
     "execution_count": 5,
     "metadata": {},
     "output_type": "execute_result"
    }
   ],
   "source": [
    "\"\"\"\n",
    "This module provides basic arithmetic operations.\n",
    "Author: CodeWithHarry\n",
    "\"\"\""
   ]
  },
  {
   "cell_type": "markdown",
   "id": "6ca76096",
   "metadata": {},
   "source": [
    "### Class Docstring Example:"
   ]
  },
  {
   "cell_type": "code",
   "execution_count": 6,
   "id": "e2f10638",
   "metadata": {},
   "outputs": [],
   "source": [
    "class Calculator:\n",
    "    \"\"\"\n",
    "    A simple calculator class to perform arithmetic operations.\n",
    "    \"\"\"\n",
    "    # class body\n"
   ]
  },
  {
   "cell_type": "markdown",
   "id": "3cf013e6",
   "metadata": {},
   "source": [
    "### Function Docstring Example:"
   ]
  },
  {
   "cell_type": "code",
   "execution_count": 7,
   "id": "6aa435c3",
   "metadata": {},
   "outputs": [],
   "source": [
    "def subtract(a, b):\n",
    "    \"\"\"\n",
    "    Subtracts b from a and returns the result.\n",
    "    \"\"\"\n",
    "    return a - b\n"
   ]
  },
  {
   "cell_type": "markdown",
   "id": "e7eefb0a",
   "metadata": {},
   "source": [
    "# Summary\n",
    "- Docstrings are essential for documenting Python code and are accessible at runtime.\n",
    "\n",
    "- They help in code readability, collaboration, and automatic documentation generation.\n",
    "\n",
    "- Always use triple quotes for docstrings and follow formatting conventions.\n",
    "\n",
    "- Document all public modules, classes, and functions with clear, concise docstrings.\n",
    "\n",
    "- Use the help() function or the .\\_\\_doc\\_\\_ attribute to view docstrings."
   ]
  }
 ],
 "metadata": {
  "kernelspec": {
   "display_name": ".venv",
   "language": "python",
   "name": "python3"
  },
  "language_info": {
   "codemirror_mode": {
    "name": "ipython",
    "version": 3
   },
   "file_extension": ".py",
   "mimetype": "text/x-python",
   "name": "python",
   "nbconvert_exporter": "python",
   "pygments_lexer": "ipython3",
   "version": "3.12.3"
  }
 },
 "nbformat": 4,
 "nbformat_minor": 5
}
