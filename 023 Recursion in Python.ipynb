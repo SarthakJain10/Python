{
 "cells": [
  {
   "cell_type": "markdown",
   "id": "ce66a2ff",
   "metadata": {},
   "source": [
    "# What is Recursion?\n",
    "### Definition:\n",
    "Recursion is the process of defining a function (or problem) in terms of itself. In programming, a recursive function is one that calls itself within its own body.\n",
    "\n",
    "### Key Points:\n",
    "\n",
    "- Recursion is not exclusive to Python; it is a general programming concept.\n",
    "\n",
    "- It is especially useful for problems that can be divided into similar subproblems, such as mathematical computations (factorials, Fibonacci series, etc.).\n",
    "\n",
    "- Every recursive function must have a base case to prevent infinite recursion."
   ]
  },
  {
   "cell_type": "markdown",
   "id": "a97b0c5b",
   "metadata": {},
   "source": [
    "# How Does Recursion Work?\n",
    "### Function Calls Within Functions\n",
    "- Functions can call other functions.\n",
    "\n",
    "- Recursion occurs when a function calls itself, typically with a different argument.\n",
    "\n",
    "### Example:\n",
    "If you have a function to calculate the average, you can call a sum function inside it. But in recursion, you call the same function within itself, usually with a modified argument (e.g., n-1)."
   ]
  },
  {
   "cell_type": "markdown",
   "id": "2aa4e722",
   "metadata": {},
   "source": [
    "# Example 1: Calculating Factorial Using Recursion\n",
    "### What is a Factorial?\n",
    "- The factorial of a number n (denoted as n!) is the product of all positive integers less than or equal to n.\n",
    "\n",
    "- For example, 7!=7×6×5×4×3×2×1.\n",
    "\n",
    "- By definition, 0!=1.\n",
    "\n",
    "### Recursive Definition\n",
    "- n!=n×(n−1)!\n",
    "\n",
    "- The factorial function is defined in terms of itself, making it a perfect candidate for recursion.\n",
    "\n",
    "### Python Implementation"
   ]
  },
  {
   "cell_type": "code",
   "execution_count": null,
   "id": "7d3f4374",
   "metadata": {},
   "outputs": [],
   "source": [
    "def factorial(n):\n",
    "    # Base condition \n",
    "    if n == 0 or n == 1:\n",
    "        return 1\n",
    "    # Recursion Call \n",
    "    else:\n",
    "        return n * factorial(n-1)\n",
    "    # Processing - Optional"
   ]
  },
  {
   "cell_type": "markdown",
   "id": "90631da1",
   "metadata": {},
   "source": [
    "**Explanation:**\n",
    "\n",
    "- **Base Case:** If n is 0 or 1, return 1.\n",
    "\n",
    "- **Recursive Case:** For other values, return n×factorial(n−1).\n",
    "\n",
    "### How the Recursive Call Works\n",
    "- To compute factorial(5), Python evaluates 5×factorial(4).\n",
    "\n",
    "- This continues until the base case is reached.\n",
    "\n",
    "- The stack unwinds, multiplying the results: 5×4×3×2×1=120.\n",
    "\n",
    "# Example 2: Fibonacci Sequence Using Recursion\n",
    "### What is the Fibonacci Sequence?\n",
    "- The Fibonacci sequence is a series where each number is the sum of the two preceding ones.\n",
    "\n",
    "- Defined as:\n",
    "\n",
    "    - F =0\n",
    "\n",
    "    - F =1\n",
    "\n",
    "    - Fn = Fn-1 + Fn-2 for n>1\n",
    "\n",
    "### Recursive Definition\n",
    "- The function to compute the nth Fibonacci number calls itself twice: once for n−1 and once for n−2."
   ]
  },
  {
   "cell_type": "markdown",
   "id": "03f65c3b",
   "metadata": {},
   "source": [
    "### Python Implementation"
   ]
  },
  {
   "cell_type": "code",
   "execution_count": 4,
   "id": "27c01d4e",
   "metadata": {},
   "outputs": [],
   "source": [
    "def fibonacci(n):\n",
    "    # Base Condition \n",
    "    if n == 0:\n",
    "        return 0\n",
    "    elif n == 1:\n",
    "        return 1\n",
    "    # Recusrion Call \n",
    "    else:\n",
    "        return fibonacci(n-1) + fibonacci(n-2)\n",
    "    # Processing \n"
   ]
  },
  {
   "cell_type": "markdown",
   "id": "19f9e43a",
   "metadata": {},
   "source": [
    "### Explanation:\n",
    "\n",
    "- **Base Cases:** Return 0 for n=0, and 1 for n=1.\n",
    "\n",
    "- **Recursive Case:** Return the sum of the previous two Fibonacci numbers.\n",
    "\n",
    "### Exercise for Students\n",
    "- Write a function to print the Fibonacci sequence up to a given number.\n",
    "\n",
    "- Example sequence: 0, 1, 1, 2, 3, 5, 8, 13, ..."
   ]
  },
  {
   "cell_type": "markdown",
   "id": "f4fc2d3e",
   "metadata": {},
   "source": [
    "# Key Concepts and Terms\n",
    "- **Base Case:** The condition under which the recursive function stops calling itself.\n",
    "\n",
    "- **Recursive Case:** The part of the function where it calls itself with a new argument.\n",
    "\n",
    "- **Call Stack:** Each recursive call adds a new frame to the stack; the stack unwinds as base cases are reached.\n",
    "\n",
    "- **Stack Overflow:** If there is no base case or it is never reached, recursion will continue indefinitely, causing a stack overflow error."
   ]
  },
  {
   "cell_type": "markdown",
   "id": "07d83f3e",
   "metadata": {},
   "source": [
    "# Summary\n",
    "- Recursion is a method where a function calls itself to solve smaller instances of a problem.\n",
    "\n",
    "- Every recursive function must have a base case to avoid infinite loops.\n",
    "\n",
    "- Classic examples include calculating factorials and generating Fibonacci sequences.\n",
    "\n",
    "- Recursion is powerful but should be used carefully to avoid stack overflow.\n",
    "\n",
    "- Practice writing recursive functions to solidify understanding."
   ]
  }
 ],
 "metadata": {
  "kernelspec": {
   "display_name": ".venv",
   "language": "python",
   "name": "python3"
  },
  "language_info": {
   "codemirror_mode": {
    "name": "ipython",
    "version": 3
   },
   "file_extension": ".py",
   "mimetype": "text/x-python",
   "name": "python",
   "nbconvert_exporter": "python",
   "pygments_lexer": "ipython3",
   "version": "3.12.3"
  }
 },
 "nbformat": 4,
 "nbformat_minor": 5
}
