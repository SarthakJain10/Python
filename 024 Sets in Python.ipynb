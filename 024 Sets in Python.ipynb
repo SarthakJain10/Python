{
 "cells": [
  {
   "cell_type": "markdown",
   "id": "1f857a36",
   "metadata": {},
   "source": [
    "# What is a Set?\n",
    "- ### Definition:\n",
    "A set in Python is a built-in data type that stores an unordered collection of unique elements.\n",
    "\n",
    "- ### Key Characteristics:\n",
    "\n",
    "    - **Unordered:** Elements do not have a fixed position.\n",
    "\n",
    "    - **Mutable:** You can add or remove elements.\n",
    "\n",
    "    - No duplicate items: Each element is unique within a set."
   ]
  },
  {
   "cell_type": "markdown",
   "id": "6dcb5666",
   "metadata": {},
   "source": [
    "# Creating Sets\n",
    "### Syntax:\n",
    "\n",
    "- Using curly braces {}:"
   ]
  },
  {
   "cell_type": "code",
   "execution_count": 1,
   "id": "d2768cf3",
   "metadata": {},
   "outputs": [],
   "source": [
    "my_set = {1, 2, 3, 4}"
   ]
  },
  {
   "cell_type": "markdown",
   "id": "534c7c2b",
   "metadata": {},
   "source": [
    "- Using the set() constructor:"
   ]
  },
  {
   "cell_type": "code",
   "execution_count": 2,
   "id": "7eb10bda",
   "metadata": {},
   "outputs": [],
   "source": [
    "my_set = set([1, 2, 3, 4])"
   ]
  },
  {
   "cell_type": "markdown",
   "id": "268d6712",
   "metadata": {},
   "source": [
    "- **Note:** Empty curly braces {} create a dictionary, not a set. Use set() for an empty set."
   ]
  },
  {
   "cell_type": "markdown",
   "id": "55c44ee3",
   "metadata": {},
   "source": [
    "# Important Set Operations\n",
    "### Adding Elements\n",
    "- add(element): Adds a single element to the set."
   ]
  },
  {
   "cell_type": "code",
   "execution_count": 3,
   "id": "841223c2",
   "metadata": {},
   "outputs": [],
   "source": [
    "my_set.add(5)"
   ]
  },
  {
   "cell_type": "markdown",
   "id": "183d1a31",
   "metadata": {},
   "source": [
    "### Removing Elements\n",
    "- **remove(element):** Removes the specified element. Raises an error if the element is not present.\n",
    "\n",
    "- **discard(element):** Removes the specified element if it exists. Does nothing if the element is absent.\n",
    "\n",
    "- **pop():** Removes and returns an arbitrary element (since sets are unordered)."
   ]
  },
  {
   "cell_type": "markdown",
   "id": "23d97589",
   "metadata": {},
   "source": [
    "### Checking Membership\n",
    "- Use the in keyword to check if an element exists in the set:"
   ]
  },
  {
   "cell_type": "code",
   "execution_count": 4,
   "id": "d23e2ae9",
   "metadata": {},
   "outputs": [
    {
     "data": {
      "text/plain": [
       "True"
      ]
     },
     "execution_count": 4,
     "metadata": {},
     "output_type": "execute_result"
    }
   ],
   "source": [
    "3 in my_set  # Returns True if 3 is in my_set"
   ]
  },
  {
   "cell_type": "markdown",
   "id": "b8ff17ce",
   "metadata": {},
   "source": [
    "### Mathematical Set Operations\n",
    "- Python sets support several mathematical operations, similar to those in mathematics:"
   ]
  },
  {
   "cell_type": "code",
   "execution_count": 5,
   "id": "f050db20",
   "metadata": {},
   "outputs": [
    {
     "data": {
      "text/html": [
       "<div>\n",
       "<style scoped>\n",
       "    .dataframe tbody tr th:only-of-type {\n",
       "        vertical-align: middle;\n",
       "    }\n",
       "\n",
       "    .dataframe tbody tr th {\n",
       "        vertical-align: top;\n",
       "    }\n",
       "\n",
       "    .dataframe thead th {\n",
       "        text-align: right;\n",
       "    }\n",
       "</style>\n",
       "<table border=\"1\" class=\"dataframe\">\n",
       "  <thead>\n",
       "    <tr style=\"text-align: right;\">\n",
       "      <th></th>\n",
       "      <th>Operation</th>\n",
       "      <th>Method/Operator</th>\n",
       "      <th>Example</th>\n",
       "      <th>Result</th>\n",
       "    </tr>\n",
       "  </thead>\n",
       "  <tbody>\n",
       "    <tr>\n",
       "      <th>0</th>\n",
       "      <td>Union</td>\n",
       "      <td>`set1</td>\n",
       "      <td>set2orset1.union(set2)`</td>\n",
       "      <td>`{1,2,3}</td>\n",
       "    </tr>\n",
       "    <tr>\n",
       "      <th>1</th>\n",
       "      <td>Intersection</td>\n",
       "      <td>set1 &amp; set2orset1.intersection(set2)</td>\n",
       "      <td>{1,2,3} &amp; {2,3,4}</td>\n",
       "      <td>{2,3}</td>\n",
       "    </tr>\n",
       "    <tr>\n",
       "      <th>2</th>\n",
       "      <td>Difference</td>\n",
       "      <td>set1 - set2orset1.difference(set2)</td>\n",
       "      <td>{1,2,3} - {2,3,4}</td>\n",
       "      <td>{1}</td>\n",
       "    </tr>\n",
       "    <tr>\n",
       "      <th>3</th>\n",
       "      <td>Symmetric Diff.</td>\n",
       "      <td>set1 ^ set2orset1.symmetric_difference(set2)</td>\n",
       "      <td>{1,2,3} ^ {2,3,4}</td>\n",
       "      <td>{1,4}</td>\n",
       "    </tr>\n",
       "  </tbody>\n",
       "</table>\n",
       "</div>"
      ],
      "text/plain": [
       "         Operation                               Method/Operator  \\\n",
       "0            Union                                         `set1   \n",
       "1     Intersection          set1 & set2orset1.intersection(set2)   \n",
       "2       Difference            set1 - set2orset1.difference(set2)   \n",
       "3  Symmetric Diff.  set1 ^ set2orset1.symmetric_difference(set2)   \n",
       "\n",
       "                   Example    Result  \n",
       "0  set2orset1.union(set2)`  `{1,2,3}  \n",
       "1        {1,2,3} & {2,3,4}     {2,3}  \n",
       "2        {1,2,3} - {2,3,4}       {1}  \n",
       "3        {1,2,3} ^ {2,3,4}     {1,4}  "
      ]
     },
     "execution_count": 5,
     "metadata": {},
     "output_type": "execute_result"
    }
   ],
   "source": [
    "import pandas as pd\n",
    "df = pd.read_csv('csv_files/Operation-MethodOperator-Example-Result.csv')\n",
    "df"
   ]
  },
  {
   "cell_type": "markdown",
   "id": "0576823f",
   "metadata": {},
   "source": [
    "# Set Methods Overview\n",
    "- **len(set):** Returns the number of elements.\n",
    "\n",
    "- **clear():** Removes all elements from the set.\n",
    "\n",
    "- **copy():** Returns a shallow copy of the set.\n",
    "\n",
    "- **isdisjoint(other_set):** Returns True if sets have no elements in common.\n",
    "\n",
    "- **issubset(other_set):** Checks if the set is a subset of another.\n",
    "\n",
    "- **issuperset(other_set):** Checks if the set is a superset of another."
   ]
  },
  {
   "cell_type": "markdown",
   "id": "c98e0cd7",
   "metadata": {},
   "source": [
    "# Examples\n",
    "### 1. Creating and Modifying a Set"
   ]
  },
  {
   "cell_type": "code",
   "execution_count": 6,
   "id": "190c868a",
   "metadata": {},
   "outputs": [],
   "source": [
    "fruits = {\"apple\", \"banana\", \"cherry\"}\n",
    "fruits.add(\"orange\")        # Adds 'orange'\n",
    "fruits.remove(\"banana\")     # Removes 'banana'"
   ]
  },
  {
   "cell_type": "markdown",
   "id": "ae1090b1",
   "metadata": {},
   "source": [
    "### 2. Removing Duplicates from a List"
   ]
  },
  {
   "cell_type": "code",
   "execution_count": 2,
   "id": "ad8a692b",
   "metadata": {},
   "outputs": [],
   "source": [
    "numbers = [1, 2, 2, 3, 4, 4, 5]\n",
    "unique_numbers = set(numbers)  # {1, 2, 3, 4, 5}"
   ]
  },
  {
   "cell_type": "markdown",
   "id": "16d01ff4",
   "metadata": {},
   "source": [
    "### 3. Set Operations"
   ]
  },
  {
   "cell_type": "code",
   "execution_count": 8,
   "id": "8ef04c8b",
   "metadata": {},
   "outputs": [
    {
     "name": "stdout",
     "output_type": "stream",
     "text": [
      "{1, 2, 3, 4}\n",
      "{2, 3}\n",
      "{1}\n"
     ]
    }
   ],
   "source": [
    "a = {1, 2, 3}\n",
    "b = {2, 3, 4}\n",
    "print(a | b)  # Union: {1, 2, 3, 4}\n",
    "print(a & b)  # Intersection: {2, 3}\n",
    "print(a - b)  # Difference: {1}"
   ]
  },
  {
   "cell_type": "markdown",
   "id": "90471e06",
   "metadata": {},
   "source": [
    "# Key Points and Terms\n",
    "- **Set:** Unordered collection of unique, mutable elements.\n",
    "\n",
    "- **Mutable:** Can be changed after creation.\n",
    "\n",
    "- **Unordered:** No indexing or slicing.\n",
    "\n",
    "- **No duplicates:** Each element is unique.\n",
    "\n",
    "- **Membership Test:** Use in to check presence.\n",
    "\n",
    "- **Mathematical Operations:** Union, intersection, difference, symmetric difference."
   ]
  },
  {
   "cell_type": "markdown",
   "id": "34145a14",
   "metadata": {},
   "source": [
    "# Summary\n",
    "- Sets in Python are a powerful tool for storing unique items and performing common set operations.\n",
    "\n",
    "- They are mutable, unordered, and do not allow duplicates.\n",
    "\n",
    "- Sets are ideal for membership tests, removing duplicates, and handling mathematical set operations.\n",
    "\n",
    "- Key methods include add, remove, union, intersection, difference, and more.\n",
    "\n",
    "- Understanding sets is crucial for efficient data handling and problem-solving in Python programming."
   ]
  }
 ],
 "metadata": {
  "kernelspec": {
   "display_name": ".venv",
   "language": "python",
   "name": "python3"
  },
  "language_info": {
   "codemirror_mode": {
    "name": "ipython",
    "version": 3
   },
   "file_extension": ".py",
   "mimetype": "text/x-python",
   "name": "python",
   "nbconvert_exporter": "python",
   "pygments_lexer": "ipython3",
   "version": "3.12.3"
  }
 },
 "nbformat": 4,
 "nbformat_minor": 5
}
