{
 "cells": [
  {
   "cell_type": "markdown",
   "id": "85ddcf41",
   "metadata": {},
   "source": [
    "# What is a Set?\n",
    "- **Definition:** A set is a collection of well-defined, unique objects. In Python, sets are unordered collections that do not allow duplicate elements.\n",
    "\n",
    "- Example:"
   ]
  },
  {
   "cell_type": "code",
   "execution_count": 4,
   "id": "afdfa8aa",
   "metadata": {},
   "outputs": [],
   "source": [
    "s1 = {1, 2, 5, 6}\n",
    "s2 = {3, 6, 7}"
   ]
  },
  {
   "cell_type": "markdown",
   "id": "a064f9f2",
   "metadata": {},
   "source": [
    "- Sets in Python behave similarly to sets in mathematics.\n",
    "\n",
    "# Key Set Operations and Methods\n",
    "### 1. Union\n",
    "- **Purpose:** Combines all unique elements from two sets.\n",
    "\n",
    "- Syntax:"
   ]
  },
  {
   "cell_type": "code",
   "execution_count": 5,
   "id": "21d33407",
   "metadata": {},
   "outputs": [
    {
     "data": {
      "text/plain": [
       "{1, 2, 3, 5, 6, 7}"
      ]
     },
     "execution_count": 5,
     "metadata": {},
     "output_type": "execute_result"
    }
   ],
   "source": [
    "s1.union(s2)"
   ]
  },
  {
   "cell_type": "markdown",
   "id": "d52b2302",
   "metadata": {},
   "source": [
    "- **Explanation:** The union of s1 and s2 contains every element from both sets, without duplicates.\n",
    "\n",
    "- Example:"
   ]
  },
  {
   "cell_type": "code",
   "execution_count": 6,
   "id": "52339275",
   "metadata": {},
   "outputs": [
    {
     "name": "stdout",
     "output_type": "stream",
     "text": [
      "{1, 2, 3, 5, 6, 7}\n"
     ]
    }
   ],
   "source": [
    "s1 = {1, 2, 5, 6}\n",
    "s2 = {3, 6, 7}\n",
    "print(s1.union(s2))  # Output: {1, 2, 3, 5, 6, 7}"
   ]
  },
  {
   "cell_type": "markdown",
   "id": "3c253754",
   "metadata": {},
   "source": [
    "- **Note:** The original sets (s1, s2) remain unchanged after this operation.\n",
    "\n",
    "### 2. Update\n",
    "- **Purpose:** Adds all elements from another set to the original set, updating it in place.\n",
    "\n",
    "- Syntax:"
   ]
  },
  {
   "cell_type": "code",
   "execution_count": 7,
   "id": "81da259e",
   "metadata": {},
   "outputs": [],
   "source": [
    "s1.update(s2)\n"
   ]
  },
  {
   "cell_type": "markdown",
   "id": "2b0aa11a",
   "metadata": {},
   "source": [
    "- **Explanation:** Only the elements not already present in s1 are added.\n",
    "\n",
    "- Example:"
   ]
  },
  {
   "cell_type": "code",
   "execution_count": 8,
   "id": "fe3a9705",
   "metadata": {},
   "outputs": [
    {
     "name": "stdout",
     "output_type": "stream",
     "text": [
      "{1, 2, 3, 5, 6, 7}\n"
     ]
    }
   ],
   "source": [
    "s1 = {1, 2, 5, 6}\n",
    "s2 = {3, 6, 7}\n",
    "s1.update(s2)\n",
    "print(s1)  # Output: {1, 2, 3, 5, 6, 7}"
   ]
  },
  {
   "cell_type": "markdown",
   "id": "438957e7",
   "metadata": {},
   "source": [
    "- Difference from Union: update() modifies the original set, while union() returns a new set.\n",
    "\n",
    "### 3. Intersection\n",
    "- **Purpose:** Finds common elements between two sets.\n",
    "\n",
    "- Syntax:"
   ]
  },
  {
   "cell_type": "code",
   "execution_count": 9,
   "id": "caa665f9",
   "metadata": {},
   "outputs": [
    {
     "data": {
      "text/plain": [
       "{3, 6, 7}"
      ]
     },
     "execution_count": 9,
     "metadata": {},
     "output_type": "execute_result"
    }
   ],
   "source": [
    "s1.intersection(s2)"
   ]
  },
  {
   "cell_type": "markdown",
   "id": "db4a89d2",
   "metadata": {},
   "source": [
    "- **Explanation:** Returns a new set with elements present in both sets.\n",
    "\n",
    "- Example:"
   ]
  },
  {
   "cell_type": "code",
   "execution_count": 10,
   "id": "4c226e9c",
   "metadata": {},
   "outputs": [
    {
     "name": "stdout",
     "output_type": "stream",
     "text": [
      "{3, 4}\n"
     ]
    }
   ],
   "source": [
    "s1 = {1, 2, 3, 4}\n",
    "s2 = {3, 4, 5, 6}\n",
    "print(s1.intersection(s2))  # Output: {3, 4}"
   ]
  },
  {
   "cell_type": "markdown",
   "id": "25eb6456",
   "metadata": {},
   "source": [
    "- **Note:** Original sets remain unchanged.\n",
    "\n",
    "### 4. Intersection Update\n",
    "- **Purpose:** Updates the original set to keep only elements found in both sets.\n",
    "\n",
    "- Syntax:"
   ]
  },
  {
   "cell_type": "code",
   "execution_count": 11,
   "id": "dc84d31c",
   "metadata": {},
   "outputs": [],
   "source": [
    "s1.intersection_update(s2)"
   ]
  },
  {
   "cell_type": "markdown",
   "id": "58d9987c",
   "metadata": {},
   "source": [
    "- Example:"
   ]
  },
  {
   "cell_type": "code",
   "execution_count": 12,
   "id": "bea37bf8",
   "metadata": {},
   "outputs": [
    {
     "name": "stdout",
     "output_type": "stream",
     "text": [
      "{3, 4}\n"
     ]
    }
   ],
   "source": [
    "s1 = {1, 2, 3, 4}\n",
    "s2 = {3, 4, 5, 6}\n",
    "s1.intersection_update(s2)\n",
    "print(s1)  # Output: {3, 4}"
   ]
  },
  {
   "cell_type": "markdown",
   "id": "cb0e0760",
   "metadata": {},
   "source": [
    "- **Difference from Intersection:** Modifies the original set instead of returning a new one.\n",
    "\n",
    "### 5. Symmetric Difference\n",
    "- **Purpose:** Returns elements that are in either set, but not in both.\n",
    "\n",
    "- Syntax:"
   ]
  },
  {
   "cell_type": "code",
   "execution_count": 13,
   "id": "22ea74a9",
   "metadata": {},
   "outputs": [
    {
     "data": {
      "text/plain": [
       "{5, 6}"
      ]
     },
     "execution_count": 13,
     "metadata": {},
     "output_type": "execute_result"
    }
   ],
   "source": [
    "s1.symmetric_difference(s2)"
   ]
  },
  {
   "cell_type": "markdown",
   "id": "cf4868f3",
   "metadata": {},
   "source": [
    "- **Explanation:**\n",
    "\n",
    "    - Formula: AΔB=(A∪B)−(A∩B)\n",
    "\n",
    "    - Removes common elements, keeps only unique ones from both sets.\n",
    "\n",
    "Example:"
   ]
  },
  {
   "cell_type": "code",
   "execution_count": 14,
   "id": "0c5daf8a",
   "metadata": {},
   "outputs": [
    {
     "name": "stdout",
     "output_type": "stream",
     "text": [
      "{'Berlin', 'Seoul', 'Kabul', 'Delhi'}\n"
     ]
    }
   ],
   "source": [
    "s1 = {\"Tokyo\", \"Madrid\", \"Berlin\", \"Delhi\"}\n",
    "s2 = {\"Tokyo\", \"Seoul\", \"Kabul\", \"Madrid\"}\n",
    "print(s1.symmetric_difference(s2))  \n",
    "# Output: {'Berlin', 'Delhi', 'Seoul', 'Kabul'}"
   ]
  },
  {
   "cell_type": "markdown",
   "id": "c2c6195f",
   "metadata": {},
   "source": [
    "- **Note:** Order of elements does not matter in sets.\n",
    "\n",
    "### 6. Difference\n",
    "- **Purpose:** Returns elements present in the first set but not in the second.\n",
    "\n",
    "- Syntax:"
   ]
  },
  {
   "cell_type": "code",
   "execution_count": 15,
   "id": "3d1ab1ce",
   "metadata": {},
   "outputs": [
    {
     "data": {
      "text/plain": [
       "{'Berlin', 'Delhi'}"
      ]
     },
     "execution_count": 15,
     "metadata": {},
     "output_type": "execute_result"
    }
   ],
   "source": [
    "s1.difference(s2)"
   ]
  },
  {
   "cell_type": "markdown",
   "id": "dbd2a161",
   "metadata": {},
   "source": [
    "- **Explanation:**\n",
    "\n",
    "    - Formula: A−B\n",
    "\n",
    "    - Only elements unique to the first set are returned.\n",
    "\n",
    "Example:"
   ]
  },
  {
   "cell_type": "code",
   "execution_count": 16,
   "id": "0ec6f907",
   "metadata": {},
   "outputs": [
    {
     "name": "stdout",
     "output_type": "stream",
     "text": [
      "{'Berlin', 'Delhi'}\n"
     ]
    }
   ],
   "source": [
    "s1 = {\"Tokyo\", \"Madrid\", \"Berlin\", \"Delhi\"}\n",
    "s2 = {\"Tokyo\", \"Seoul\", \"Kabul\", \"Madrid\"}\n",
    "print(s1.difference(s2))  # Output: {'Berlin', 'Delhi'}"
   ]
  },
  {
   "cell_type": "markdown",
   "id": "eb93ab42",
   "metadata": {},
   "source": [
    "- **Difference Update:**\n",
    "\n",
    "    - s1.difference_update(s2) modifies s1 to keep only elements not in s2.\n",
    "\n",
    "# Practical Examples\n",
    "### Cities Example:"
   ]
  },
  {
   "cell_type": "code",
   "execution_count": 17,
   "id": "bde6e02d",
   "metadata": {},
   "outputs": [
    {
     "name": "stdout",
     "output_type": "stream",
     "text": [
      "{'Berlin', 'Tokyo', 'Seoul', 'Kabul', 'Madrid', 'Delhi'}\n",
      "{'Madrid', 'Tokyo'}\n",
      "{'Berlin', 'Seoul', 'Kabul', 'Delhi'}\n",
      "{'Berlin', 'Delhi'}\n"
     ]
    }
   ],
   "source": [
    "cities = {\"Tokyo\", \"Madrid\", \"Berlin\", \"Delhi\"}\n",
    "cities2 = {\"Tokyo\", \"Seoul\", \"Kabul\", \"Madrid\"}\n",
    "# Union\n",
    "print(cities.union(cities2))  \n",
    "# Intersection\n",
    "print(cities.intersection(cities2))\n",
    "# Symmetric Difference\n",
    "print(cities.symmetric_difference(cities2))\n",
    "# Difference\n",
    "print(cities.difference(cities2))"
   ]
  },
  {
   "cell_type": "markdown",
   "id": "9537f9e7",
   "metadata": {},
   "source": [
    "- **Venn Diagram:** Used to visualize set operations like union, intersection, and symmetric difference.\n",
    "\n",
    "# Important Points and Tips\n",
    "- Sets do not allow duplicates.\n",
    "\n",
    "- Order does not matter in sets.\n",
    "\n",
    "- .union() and .update() are similar, but .update() changes the original set.\n",
    "\n",
    "- .intersection() returns a new set, while .intersection_update() changes the original set.\n",
    "\n",
    "- Try running these methods yourself to fully understand their behavior.\n",
    "\n",
    "# Summary\n",
    "- Sets in Python are collections of unique, unordered elements.\n",
    "\n",
    "- Key set operations include union, intersection, difference, and symmetric difference.\n",
    "\n",
    "- Each operation has a corresponding method that either returns a new set or updates the original set.\n",
    "\n",
    "- Understanding these methods is essential for data manipulation and problem-solving in Python programming.\n",
    "\n",
    "- Practice is crucial—experiment with these methods to reinforce your understanding."
   ]
  }
 ],
 "metadata": {
  "kernelspec": {
   "display_name": ".venv",
   "language": "python",
   "name": "python3"
  },
  "language_info": {
   "codemirror_mode": {
    "name": "ipython",
    "version": 3
   },
   "file_extension": ".py",
   "mimetype": "text/x-python",
   "name": "python",
   "nbconvert_exporter": "python",
   "pygments_lexer": "ipython3",
   "version": "3.12.3"
  }
 },
 "nbformat": 4,
 "nbformat_minor": 5
}
