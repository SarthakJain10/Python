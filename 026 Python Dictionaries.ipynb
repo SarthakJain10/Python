{
 "cells": [
  {
   "cell_type": "markdown",
   "id": "9265f187",
   "metadata": {},
   "source": [
    "# Dictionary - Definition and Structure\n",
    "\n",
    "- A Python dictionary is a collection of key-value pairs.\n",
    "\n",
    "- Keys are unique and are used to access their corresponding values.\n",
    "\n",
    "- The syntax for creating a dictionary is:"
   ]
  },
  {
   "cell_type": "code",
   "execution_count": 1,
   "id": "738d6968",
   "metadata": {},
   "outputs": [],
   "source": [
    "my_dict = {'key1': 'value1', 'key2': 'value2'}"
   ]
  },
  {
   "cell_type": "markdown",
   "id": "4bd67dd1",
   "metadata": {},
   "source": [
    "# Analogy with Real Dictionaries\n",
    "\n",
    "- In a physical dictionary:\n",
    "\n",
    "    - Key = The word you look up.\n",
    "\n",
    "    - Value = The meaning of the word.\n",
    "\n",
    "- In Python:\n",
    "\n",
    "    - Key = Identifier (e.g., a string or number).\n",
    "\n",
    "    - Value = Data associated with that key (can be any data type)."
   ]
  },
  {
   "cell_type": "markdown",
   "id": "97679dd6",
   "metadata": {},
   "source": [
    "# Fast Access\n",
    "\n",
    "- Python dictionaries use a hashing mechanism, allowing for quick retrieval of values by their keys.\n",
    "\n",
    "- This makes dictionaries much faster for lookups compared to lists, especially when dealing with large datasets."
   ]
  },
  {
   "cell_type": "markdown",
   "id": "f09e3a47",
   "metadata": {},
   "source": [
    "# Mutability and Flexibility\n",
    "\n",
    "- Dictionaries are mutable, meaning you can add, remove, or modify key-value pairs after creation.\n",
    "\n",
    "- Keys must be immutable types (like strings, numbers, or tuples), but values can be of any type."
   ]
  },
  {
   "cell_type": "markdown",
   "id": "5447b763",
   "metadata": {},
   "source": [
    "# Common Methods\n",
    "\n",
    "- .get(key): Safely retrieves the value for a key, returning None if the key doesn't exist.\n",
    "\n",
    "- .keys(): Returns a view object of all keys.\n",
    "\n",
    "- .values(): Returns a view object of all values.\n",
    "\n",
    "- .items(): Returns a view object of all key-value pairs.\n",
    "\n",
    "- del my_dict[key]: Removes a key-value pair by key."
   ]
  },
  {
   "cell_type": "markdown",
   "id": "8e1dca01",
   "metadata": {},
   "source": [
    "# Examples\n",
    "### Creating a Dictionary"
   ]
  },
  {
   "cell_type": "code",
   "execution_count": 2,
   "id": "800db52f",
   "metadata": {},
   "outputs": [],
   "source": [
    "student = {'name': 'Alice', 'age': 21, 'grade': 'A'}"
   ]
  },
  {
   "cell_type": "markdown",
   "id": "1404fee6",
   "metadata": {},
   "source": [
    "### Accessing Values"
   ]
  },
  {
   "cell_type": "code",
   "execution_count": 3,
   "id": "3d0557bf",
   "metadata": {},
   "outputs": [
    {
     "name": "stdout",
     "output_type": "stream",
     "text": [
      "Alice\n"
     ]
    }
   ],
   "source": [
    "print(student['name'])  # Output: Alice"
   ]
  },
  {
   "cell_type": "markdown",
   "id": "385d4009",
   "metadata": {},
   "source": [
    "### Adding or Updating Entries"
   ]
  },
  {
   "cell_type": "code",
   "execution_count": 4,
   "id": "3aaec8f6",
   "metadata": {},
   "outputs": [],
   "source": [
    "student['age'] = 22  # Updates age\n",
    "student['major'] = 'Physics'  # Adds new key-value pair"
   ]
  },
  {
   "cell_type": "markdown",
   "id": "9f6400b3",
   "metadata": {},
   "source": [
    "### Removing Entries"
   ]
  },
  {
   "cell_type": "code",
   "execution_count": 5,
   "id": "f770b2f8",
   "metadata": {},
   "outputs": [],
   "source": [
    "del student['grade']  # Removes the 'grade' key and its value"
   ]
  },
  {
   "cell_type": "markdown",
   "id": "ff3adbf4",
   "metadata": {},
   "source": [
    "### Checking for Key Existence"
   ]
  },
  {
   "cell_type": "code",
   "execution_count": 6,
   "id": "7aee540c",
   "metadata": {},
   "outputs": [
    {
     "name": "stdout",
     "output_type": "stream",
     "text": [
      "Name exists in the dictionary.\n"
     ]
    }
   ],
   "source": [
    "if 'name' in student:\n",
    "    print('Name exists in the dictionary.')"
   ]
  },
  {
   "cell_type": "markdown",
   "id": "1c8c73db",
   "metadata": {},
   "source": [
    "### Iterating Over a Dictionary"
   ]
  },
  {
   "cell_type": "code",
   "execution_count": 7,
   "id": "e02d39bc",
   "metadata": {},
   "outputs": [
    {
     "name": "stdout",
     "output_type": "stream",
     "text": [
      "name: Alice\n",
      "age: 22\n",
      "major: Physics\n"
     ]
    }
   ],
   "source": [
    "for key, value in student.items():\n",
    "    print(f\"{key}: {value}\")"
   ]
  },
  {
   "cell_type": "markdown",
   "id": "cc68672d",
   "metadata": {},
   "source": [
    "# Summary\n",
    "- Python dictionaries are analogous to real-world dictionaries, mapping unique keys to values for fast and efficient lookups.\n",
    "\n",
    "- Keys must be unique and immutable; values can be any type.\n",
    "\n",
    "- Dictionaries are mutable and support a range of useful methods for accessing, updating, and removing data.\n",
    "\n",
    "- Their internal structure allows for rapid data retrieval, making them ideal for cases where quick access to information is needed.\n",
    "\n",
    "- Mastery of dictionaries is essential for effective Python programming, as they are widely used in data manipulation, configuration management, and more."
   ]
  }
 ],
 "metadata": {
  "kernelspec": {
   "display_name": ".venv",
   "language": "python",
   "name": "python3"
  },
  "language_info": {
   "codemirror_mode": {
    "name": "ipython",
    "version": 3
   },
   "file_extension": ".py",
   "mimetype": "text/x-python",
   "name": "python",
   "nbconvert_exporter": "python",
   "pygments_lexer": "ipython3",
   "version": "3.12.3"
  }
 },
 "nbformat": 4,
 "nbformat_minor": 5
}
