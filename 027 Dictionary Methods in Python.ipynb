{
 "cells": [
  {
   "cell_type": "markdown",
   "id": "12c9d46b",
   "metadata": {},
   "source": [
    "# What is a Dictionary in Python?\n",
    "- A dictionary is an unordered, mutable collection of key-value pairs.\n",
    "\n",
    "- Keys must be unique and immutable (e.g., strings, numbers, tuples).\n",
    "\n",
    "- Values can be of any data type and can be duplicated.\n",
    "\n",
    "Example:\n",
    "\n"
   ]
  },
  {
   "cell_type": "code",
   "execution_count": 1,
   "id": "eb3cca4f",
   "metadata": {},
   "outputs": [],
   "source": [
    "student = {'name': 'Alice', 'age': 20, 'grade': 'A'}"
   ]
  },
  {
   "cell_type": "markdown",
   "id": "ef1612dc",
   "metadata": {},
   "source": [
    "# Important Dictionary Methods\n",
    "### 1. keys()\n",
    "- Returns a view object displaying all the keys in the dictionary.\n",
    "\n",
    "- Useful for iterating over just the keys.\n",
    "\n",
    "Example:"
   ]
  },
  {
   "cell_type": "code",
   "execution_count": 2,
   "id": "b92b1c68",
   "metadata": {},
   "outputs": [
    {
     "data": {
      "text/plain": [
       "dict_keys(['name', 'age', 'grade'])"
      ]
     },
     "execution_count": 2,
     "metadata": {},
     "output_type": "execute_result"
    }
   ],
   "source": [
    "student.keys()  # Output: dict_keys(['name', 'age', 'grade'])"
   ]
  },
  {
   "cell_type": "markdown",
   "id": "589cdef4",
   "metadata": {},
   "source": [
    "### 2. values()\n",
    "- Returns a view object containing all the values in the dictionary.\n",
    "\n",
    "- Useful for accessing all values without keys.\n",
    "\n",
    "Example:"
   ]
  },
  {
   "cell_type": "code",
   "execution_count": 3,
   "id": "bf28edaf",
   "metadata": {},
   "outputs": [
    {
     "data": {
      "text/plain": [
       "dict_values(['Alice', 20, 'A'])"
      ]
     },
     "execution_count": 3,
     "metadata": {},
     "output_type": "execute_result"
    }
   ],
   "source": [
    "student.values()  # Output: dict_values(['Alice', 20, 'A'])"
   ]
  },
  {
   "cell_type": "markdown",
   "id": "a5f9a066",
   "metadata": {},
   "source": [
    "### 3. items()\n",
    "- Returns a view object with key-value pairs as tuples.\n",
    "\n",
    "- Useful for iterating over both keys and values.\n",
    "\n",
    "Example:"
   ]
  },
  {
   "cell_type": "code",
   "execution_count": 4,
   "id": "0bed04db",
   "metadata": {},
   "outputs": [
    {
     "data": {
      "text/plain": [
       "dict_items([('name', 'Alice'), ('age', 20), ('grade', 'A')])"
      ]
     },
     "execution_count": 4,
     "metadata": {},
     "output_type": "execute_result"
    }
   ],
   "source": [
    "student.items()  # Output: dict_items([('name', 'Alice'), ('age', 20), ('grade', 'A')])"
   ]
  },
  {
   "cell_type": "markdown",
   "id": "c3b46a81",
   "metadata": {},
   "source": [
    "### 4. get()\n",
    "- Retrieves the value for a specified key.\n",
    "\n",
    "- Returns None (or a specified default) if the key does not exist, avoiding errors.\n",
    "\n",
    "- **Syntax:**\n",
    "dictionary.get(key, default_value)\n",
    "\n",
    "Example:"
   ]
  },
  {
   "cell_type": "code",
   "execution_count": 5,
   "id": "399d5705",
   "metadata": {},
   "outputs": [
    {
     "data": {
      "text/plain": [
       "'Not Found'"
      ]
     },
     "execution_count": 5,
     "metadata": {},
     "output_type": "execute_result"
    }
   ],
   "source": [
    "student.get('name')  # Output: 'Alice'\n",
    "student.get('address', 'Not Found')  # Output: 'Not Found'"
   ]
  },
  {
   "cell_type": "markdown",
   "id": "720865cb",
   "metadata": {},
   "source": [
    "### 5. update()\n",
    "- Adds key-value pairs from another dictionary or iterable.\n",
    "\n",
    "- Existing keys are updated; new keys are added.\n",
    "\n",
    "Example:"
   ]
  },
  {
   "cell_type": "code",
   "execution_count": 6,
   "id": "aa7292b0",
   "metadata": {},
   "outputs": [],
   "source": [
    "student.update({'age': 21, 'address': 'Delhi'})\n",
    "# student now: {'name': 'Alice', 'age': 21, 'grade': 'A', 'address': 'Delhi'}"
   ]
  },
  {
   "cell_type": "markdown",
   "id": "978b5337",
   "metadata": {},
   "source": [
    "### 6. pop()\n",
    "- Removes the specified key and returns its value.\n",
    "\n",
    "- Raises a KeyError if the key is not found (unless a default is provided).\n",
    "\n",
    "**Syntax:**\n",
    "dictionary.pop(key, default_value)\n",
    "\n",
    "Example:"
   ]
  },
  {
   "cell_type": "code",
   "execution_count": 7,
   "id": "b8b1e3a0",
   "metadata": {},
   "outputs": [
    {
     "data": {
      "text/plain": [
       "'A'"
      ]
     },
     "execution_count": 7,
     "metadata": {},
     "output_type": "execute_result"
    }
   ],
   "source": [
    "student.pop('grade')  # Output: 'A'\n",
    "# student now: {'name': 'Alice', 'age': 21, 'address': 'Delhi'}"
   ]
  },
  {
   "cell_type": "markdown",
   "id": "866fa574",
   "metadata": {},
   "source": [
    "### 7. clear()\n",
    "- Removes all items from the dictionary, leaving it empty.\n",
    "\n",
    "Example:"
   ]
  },
  {
   "cell_type": "code",
   "execution_count": 8,
   "id": "9a48c812",
   "metadata": {},
   "outputs": [],
   "source": [
    "student.clear()\n",
    "# student now: {}"
   ]
  },
  {
   "cell_type": "markdown",
   "id": "c4dfaf86",
   "metadata": {},
   "source": [
    "# Practical Examples\n",
    "### Suppose we have the following dictionary:"
   ]
  },
  {
   "cell_type": "code",
   "execution_count": 9,
   "id": "53dd6fb6",
   "metadata": {},
   "outputs": [],
   "source": [
    "employee = {'id': 101, 'name': 'John', 'department': 'HR'}"
   ]
  },
  {
   "cell_type": "markdown",
   "id": "44feb73e",
   "metadata": {},
   "source": [
    "- **keys():** employee.keys() → dict_keys(['id', 'name', 'department'])\n",
    "\n",
    "- **values():** employee.values() → dict_values([101, 'John', 'HR'])\n",
    "\n",
    "- **items():** employee.items() → dict_items([('id', 101), ('name', 'John'), ('department', 'HR')])\n",
    "\n",
    "- **get():** employee.get('salary', 0) → 0\n",
    "\n",
    "- **update():** employee.update({'salary': 50000}) → {'id': 101, 'name': 'John', 'department': 'HR', 'salary': 50000}\n",
    "\n",
    "- **pop():** employee.pop('department') → 'HR'\n",
    "\n",
    "- **clear():** employee.clear() → {}\n",
    "\n",
    "# Summary\n",
    "- Dictionaries are essential for storing and managing key-value data in Python.\n",
    "\n",
    "- The most important dictionary methods are: keys(), values(), items(), get(), update(), pop(), and clear().\n",
    "\n",
    "- Each method serves a specific purpose, making data manipulation more efficient and code more readable.\n",
    "\n",
    "- Mastering these methods will help you handle data structures confidently in your Python programs."
   ]
  }
 ],
 "metadata": {
  "kernelspec": {
   "display_name": ".venv",
   "language": "python",
   "name": "python3"
  },
  "language_info": {
   "codemirror_mode": {
    "name": "ipython",
    "version": 3
   },
   "file_extension": ".py",
   "mimetype": "text/x-python",
   "name": "python",
   "nbconvert_exporter": "python",
   "pygments_lexer": "ipython3",
   "version": "3.12.3"
  }
 },
 "nbformat": 4,
 "nbformat_minor": 5
}
