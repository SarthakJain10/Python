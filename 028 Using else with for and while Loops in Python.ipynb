{
 "cells": [
  {
   "cell_type": "markdown",
   "id": "1bc25854",
   "metadata": {},
   "source": [
    "# What is the else Clause in Loops?\n",
    "- In Python, both for and while loops can have an associated else block.\n",
    "\n",
    "- The else block executes after the loop finishes all its iterations, but only if the loop was not terminated by a break statement.\n",
    "\n",
    "Syntax\n"
   ]
  },
  {
   "cell_type": "code",
   "execution_count": null,
   "id": "aedd567a",
   "metadata": {},
   "outputs": [],
   "source": [
    "for item in iterable:\n",
    "    # loop body\n",
    "else:\n",
    "    # executes if loop completes normally (no break)"
   ]
  },
  {
   "cell_type": "code",
   "execution_count": null,
   "id": "ba415e12",
   "metadata": {},
   "outputs": [],
   "source": [
    "while condition:\n",
    "    # loop body\n",
    "else:\n",
    "    # executes if loop completes normally (no break)"
   ]
  },
  {
   "cell_type": "markdown",
   "id": "abf1f7d6",
   "metadata": {},
   "source": [
    "# Detailed Explanations and Examples\n",
    "### Example 1: else with a for Loop"
   ]
  },
  {
   "cell_type": "code",
   "execution_count": 2,
   "id": "89d5bb7e",
   "metadata": {},
   "outputs": [
    {
     "name": "stdout",
     "output_type": "stream",
     "text": [
      "0\n",
      "1\n",
      "2\n",
      "3\n",
      "4\n",
      "Loop completed without break\n"
     ]
    }
   ],
   "source": [
    "for i in range(5):\n",
    "    print(i)\n",
    "else:\n",
    "    print(\"Loop completed without break\")"
   ]
  },
  {
   "cell_type": "markdown",
   "id": "7b0ef205",
   "metadata": {},
   "source": [
    "- **Explanation:** The loop iterates over all values from 0 to 4. Since there is no break, the else block runs after the loop finishes.\n",
    "\n",
    "### Empty Iterable Case"
   ]
  },
  {
   "cell_type": "code",
   "execution_count": 3,
   "id": "bd1167ff",
   "metadata": {},
   "outputs": [
    {
     "name": "stdout",
     "output_type": "stream",
     "text": [
      "Sorry no i\n"
     ]
    }
   ],
   "source": [
    "for i in []:\n",
    "    print(i)\n",
    "else:\n",
    "    print(\"Sorry no i\")"
   ]
  },
  {
   "cell_type": "markdown",
   "id": "fe9adb55",
   "metadata": {},
   "source": [
    "- **Explanation:** The loop body does not execute because the list is empty, so the else block runs.\n",
    "\n",
    "### Example 2: else with break Statement"
   ]
  },
  {
   "cell_type": "code",
   "execution_count": 4,
   "id": "688e2e5c",
   "metadata": {},
   "outputs": [
    {
     "name": "stdout",
     "output_type": "stream",
     "text": [
      "0\n",
      "1\n",
      "2\n",
      "3\n"
     ]
    }
   ],
   "source": [
    "for i in range(6):\n",
    "    if i == 4:\n",
    "        break\n",
    "    print(i)\n",
    "else:\n",
    "    print(\"Loop completed without break\")"
   ]
  },
  {
   "cell_type": "markdown",
   "id": "4aa58eff",
   "metadata": {},
   "source": [
    "- **Explanation:** When i becomes 4, the loop is terminated by break. In this case, the else block does not execute.\n",
    "\n",
    "### Example 3: else with a while Loop"
   ]
  },
  {
   "cell_type": "code",
   "execution_count": 5,
   "id": "8a69802d",
   "metadata": {},
   "outputs": [
    {
     "name": "stdout",
     "output_type": "stream",
     "text": [
      "0\n",
      "1\n",
      "2\n",
      "3\n",
      "4\n",
      "5\n",
      "6\n",
      "Out of Loop\n"
     ]
    }
   ],
   "source": [
    "i = 0\n",
    "while i < 7:\n",
    "    print(i)\n",
    "    i += 1\n",
    "else:\n",
    "    print(\"Out of Loop\")"
   ]
  },
  {
   "cell_type": "markdown",
   "id": "8b26046e",
   "metadata": {},
   "source": [
    "# Important Notes & Interview Insights\n",
    "- The else clause with loops is a common interview topic. Many candidates, even those experienced with Python libraries like Pandas, get confused about when the else block executes.\n",
    "\n",
    "- **Key Rule:** The else block executes only if the loop was not terminated by a break statement. If the loop completes all iterations or does not run at all, the else block will execute.\n",
    "\n",
    "- This feature can be used to check if a search in a loop was unsuccessful, or to perform clean-up actions after a loop finishes normally."
   ]
  },
  {
   "cell_type": "markdown",
   "id": "7335fdfd",
   "metadata": {},
   "source": [
    "# Summary\n",
    "- The else clause can be used with for and while loops in Python.\n",
    "\n",
    "- The else block executes only if the loop completes normally (i.e., not interrupted by break).\n",
    "\n",
    "- If the loop is exited via break, the else block is skipped.\n",
    "\n",
    "- This behavior is useful for post-loop logic and is often tested in interviews.\n",
    "\n",
    "- Understanding this can help you write more robust and readable Python code."
   ]
  }
 ],
 "metadata": {
  "kernelspec": {
   "display_name": ".venv",
   "language": "python",
   "name": "python3"
  },
  "language_info": {
   "codemirror_mode": {
    "name": "ipython",
    "version": 3
   },
   "file_extension": ".py",
   "mimetype": "text/x-python",
   "name": "python",
   "nbconvert_exporter": "python",
   "pygments_lexer": "ipython3",
   "version": "3.12.3"
  }
 },
 "nbformat": 4,
 "nbformat_minor": 5
}
