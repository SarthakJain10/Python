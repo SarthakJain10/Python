{
 "cells": [
  {
   "cell_type": "markdown",
   "id": "aa17b39f",
   "metadata": {},
   "source": [
    "# What is Exception Handling?\n",
    "### Definition:\n",
    "Exception handling is a mechanism to detect and manage errors (exceptions) that occur during the execution of a program, preventing abrupt termination and allowing for controlled responses.\n",
    "\n",
    "### Why is it Important?\n",
    "\n",
    "- Prevents program crashes.\n",
    "\n",
    "- Provides meaningful error messages to users.\n",
    "\n",
    "- Enables developers to handle unforeseen situations gracefully.\n",
    "\n",
    "- Improves code reliability and user experience."
   ]
  },
  {
   "cell_type": "markdown",
   "id": "df1ea6e1",
   "metadata": {},
   "source": [
    "### 1. Exceptions in Python\n",
    "- **Exception:** An event that disrupts the normal flow of a program's instructions.\n",
    "\n",
    "- **Common Examples:** Division by zero, accessing a non-existent file, invalid user input.\n",
    "\n",
    "### 2. The try-except Block\n",
    "The primary structure for handling exceptions in Python is the try-except block."
   ]
  },
  {
   "cell_type": "code",
   "execution_count": null,
   "id": "3ade1de4",
   "metadata": {},
   "outputs": [],
   "source": [
    "try:\n",
    "    # Code that may raise an exception\n",
    "except ExceptionType:\n",
    "    # Code to execute if an exception occurs"
   ]
  },
  {
   "cell_type": "markdown",
   "id": "0af563d8",
   "metadata": {},
   "source": [
    "- **try:** Contains code that might throw an exception.\n",
    "\n",
    "- **except:** Handles the exception if it occurs.\n",
    "\n",
    "Example:"
   ]
  },
  {
   "cell_type": "code",
   "execution_count": 1,
   "id": "4f1e7c3b",
   "metadata": {},
   "outputs": [
    {
     "name": "stdout",
     "output_type": "stream",
     "text": [
      "5.0\n"
     ]
    }
   ],
   "source": [
    "try:\n",
    "    num = int(input(\"Enter a number: \"))\n",
    "    result = 10 / num\n",
    "    print(result)\n",
    "except ZeroDivisionError:\n",
    "    print(\"Cannot divide by zero!\")\n",
    "except ValueError:\n",
    "    print(\"Invalid input! Please enter a number.\")"
   ]
  },
  {
   "cell_type": "markdown",
   "id": "44319539",
   "metadata": {},
   "source": [
    "### 3. Handling Multiple Exceptions\n",
    "- Multiple except blocks can be used to handle different types of exceptions separately.\n",
    "\n",
    "- The most specific exceptions should be handled first.\n",
    "\n",
    "Example:"
   ]
  },
  {
   "cell_type": "code",
   "execution_count": null,
   "id": "7228ab7f",
   "metadata": {},
   "outputs": [],
   "source": [
    "try:\n",
    "    # code\n",
    "except ValueError:\n",
    "    # handle ValueError\n",
    "except ZeroDivisionError:\n",
    "    # handle ZeroDivisionError"
   ]
  },
  {
   "cell_type": "markdown",
   "id": "19ef23b2",
   "metadata": {},
   "source": [
    "### 4. The else Clause\n",
    "- The else block executes if no exception is raised in the try block.\n",
    "\n",
    "Example:"
   ]
  },
  {
   "cell_type": "code",
   "execution_count": null,
   "id": "764e44ce",
   "metadata": {},
   "outputs": [],
   "source": [
    "try:\n",
    "    # code\n",
    "except ExceptionType:\n",
    "    # handle exception\n",
    "else:\n",
    "    # executes if no exception"
   ]
  },
  {
   "cell_type": "markdown",
   "id": "5087e24a",
   "metadata": {},
   "source": [
    "### 5. The finally Clause\n",
    "- The finally block always executes, regardless of whether an exception occurred or not.\n",
    "\n",
    "- Useful for cleanup actions (like closing files or releasing resources).\n",
    "\n",
    "Example:"
   ]
  },
  {
   "cell_type": "code",
   "execution_count": null,
   "id": "f530e9f4",
   "metadata": {},
   "outputs": [],
   "source": [
    "try:\n",
    "    # code\n",
    "except ExceptionType:\n",
    "    # handle exception\n",
    "finally:\n",
    "    # always executes"
   ]
  },
  {
   "cell_type": "markdown",
   "id": "2a683769",
   "metadata": {},
   "source": [
    "# Important Terms & Concepts\n",
    "- **Exception:** An error detected during execution.\n",
    "\n",
    "- **Error:** Issues that occur at runtime and can be handled using exceptions.\n",
    "\n",
    "- **try:** Block of code to test for errors.\n",
    "\n",
    "- **except:** Block of code to handle errors.\n",
    "\n",
    "- **else:** Block executed if no errors occur.\n",
    "\n",
    "- **finally:** Block executed no matter what."
   ]
  },
  {
   "cell_type": "markdown",
   "id": "0837d8f4",
   "metadata": {},
   "source": [
    "# Examples & Explanations\n",
    "### 1. Handling User Input Errors"
   ]
  },
  {
   "cell_type": "code",
   "execution_count": 2,
   "id": "58defce8",
   "metadata": {},
   "outputs": [],
   "source": [
    "try:\n",
    "    age = int(input(\"Enter your age: \"))\n",
    "except ValueError:\n",
    "    print(\"Please enter a valid number.\")"
   ]
  },
  {
   "cell_type": "markdown",
   "id": "4ca8befa",
   "metadata": {},
   "source": [
    "- If the user enters a non-integer value, a ValueError is raised and handled.\n",
    "\n",
    "### 2. Handling File Operations"
   ]
  },
  {
   "cell_type": "code",
   "execution_count": null,
   "id": "aa7b6418",
   "metadata": {},
   "outputs": [],
   "source": [
    "try:\n",
    "    file = open(\"data.txt\", \"r\")\n",
    "    content = file.read()\n",
    "except FileNotFoundError:\n",
    "    print(\"File not found.\")\n",
    "finally:\n",
    "    file.close()\n"
   ]
  },
  {
   "cell_type": "markdown",
   "id": "a03292c1",
   "metadata": {},
   "source": [
    "- Ensures that the file is closed even if an exception occurs.\n",
    "\n",
    "# Best Practices\n",
    "- Always catch specific exceptions rather than using a generic except.\n",
    "\n",
    "- Use the finally block for cleanup activities.\n",
    "\n",
    "- Avoid writing empty except blocks; always provide meaningful error handling.\n",
    "\n",
    "- Log exceptions for debugging and maintenance."
   ]
  },
  {
   "cell_type": "markdown",
   "id": "2f461564",
   "metadata": {},
   "source": [
    "# Summary\n",
    "- Exception handling in Python is crucial for building robust applications that can manage errors gracefully.\n",
    "\n",
    "- Use try-except blocks to catch and handle exceptions.\n",
    "\n",
    "- Employ else and finally for additional control over program flow.\n",
    "\n",
    "- Always handle specific exceptions and ensure resources are properly managed."
   ]
  }
 ],
 "metadata": {
  "kernelspec": {
   "display_name": ".venv",
   "language": "python",
   "name": "python3"
  },
  "language_info": {
   "codemirror_mode": {
    "name": "ipython",
    "version": 3
   },
   "file_extension": ".py",
   "mimetype": "text/x-python",
   "name": "python",
   "nbconvert_exporter": "python",
   "pygments_lexer": "ipython3",
   "version": "3.12.3"
  }
 },
 "nbformat": 4,
 "nbformat_minor": 5
}
