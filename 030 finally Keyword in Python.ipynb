{
 "cells": [
  {
   "cell_type": "markdown",
   "id": "631ed811",
   "metadata": {},
   "source": [
    "# What is Exception Handling?\n",
    "- Exception handling in Python is a mechanism to handle errors gracefully during program execution.\n",
    "\n",
    "- The main constructs are:\n",
    "\n",
    "    - **try:** Code that might raise an exception is placed here.\n",
    "\n",
    "    - **except:** Code to handle the exception.\n",
    "\n",
    "    - **finally:** Code that will always execute, regardless of exceptions.\n",
    "\n",
    "# The Role of the finally Block\n",
    "- The finally block is always executed after the try and except blocks, whether an exception was raised or not.\n",
    "\n",
    "- It is typically used for cleanup actions, such as closing files or releasing resources."
   ]
  },
  {
   "cell_type": "markdown",
   "id": "eed11757",
   "metadata": {},
   "source": [
    "# Detailed Explanation\n",
    "### Syntax of try-except-finally"
   ]
  },
  {
   "cell_type": "code",
   "execution_count": null,
   "id": "5287ac47",
   "metadata": {},
   "outputs": [],
   "source": [
    "try:\n",
    "    # Code that may raise an exception\n",
    "except SomeException:\n",
    "    # Code that runs if exception occurs\n",
    "finally:\n",
    "    # Code that always runs"
   ]
  },
  {
   "cell_type": "markdown",
   "id": "cc8d4483",
   "metadata": {},
   "source": [
    "### Example 1: Basic Usage"
   ]
  },
  {
   "cell_type": "code",
   "execution_count": 1,
   "id": "570adab2",
   "metadata": {},
   "outputs": [
    {
     "name": "stdout",
     "output_type": "stream",
     "text": [
      "Cannot divide by zero!\n",
      "This will always execute.\n"
     ]
    }
   ],
   "source": [
    "try:\n",
    "    x = 1 / 0\n",
    "except ZeroDivisionError:\n",
    "    print(\"Cannot divide by zero!\")\n",
    "finally:\n",
    "    print(\"This will always execute.\")"
   ]
  },
  {
   "cell_type": "markdown",
   "id": "69e33eae",
   "metadata": {},
   "source": [
    "- Here, dividing by zero raises a ZeroDivisionError.\n",
    "\n",
    "- The except block handles the error.\n",
    "\n",
    "- The finally block executes regardless of the error.\n",
    "\n",
    "### Example 2: No Exception Occurs"
   ]
  },
  {
   "cell_type": "code",
   "execution_count": 2,
   "id": "021c5274",
   "metadata": {},
   "outputs": [
    {
     "name": "stdout",
     "output_type": "stream",
     "text": [
      "This will always execute.\n"
     ]
    }
   ],
   "source": [
    "try:\n",
    "    x = 5 / 1\n",
    "except ZeroDivisionError:\n",
    "    print(\"Cannot divide by zero!\")\n",
    "finally:\n",
    "    print(\"This will always execute.\")\n",
    "    "
   ]
  },
  {
   "cell_type": "markdown",
   "id": "bb18a0be",
   "metadata": {},
   "source": [
    "- Since no exception occurs, only the finally block runs after the try block.\n",
    "\n",
    "# When to Use the finally Block\n",
    "- **Resource Management:** Closing files, network connections, or releasing locks.\n",
    "\n",
    "- **Cleanup Tasks:** Resetting variables, releasing memory, or logging actions.\n",
    "\n",
    "- **Ensuring Consistency:** Guaranteeing that certain actions always take place, even if an error interrupts the normal flow."
   ]
  },
  {
   "cell_type": "markdown",
   "id": "3a23da67",
   "metadata": {},
   "source": [
    "# Important Points\n",
    "- The finally block executes even if there is a return, break, or continue statement in the try or except blocks.\n",
    "\n",
    "- If the program exits abruptly (e.g., via os._exit()), the finally block may not execute.\n",
    "\n",
    "- The finally block can be used with or without an except block, but it must follow a try block."
   ]
  },
  {
   "cell_type": "markdown",
   "id": "4cde7318",
   "metadata": {},
   "source": [
    "# Summary\n",
    "- The finally block in Python ensures that specific code executes no matter what, making it essential for resource management and cleanup.\n",
    "\n",
    "- It always runs after the try and except blocks, whether an exception is raised or not.\n",
    "\n",
    "- Using finally helps write safer, more reliable Python code by guaranteeing that crucial tasks are completed."
   ]
  }
 ],
 "metadata": {
  "kernelspec": {
   "display_name": ".venv",
   "language": "python",
   "name": "python3"
  },
  "language_info": {
   "codemirror_mode": {
    "name": "ipython",
    "version": 3
   },
   "file_extension": ".py",
   "mimetype": "text/x-python",
   "name": "python",
   "nbconvert_exporter": "python",
   "pygments_lexer": "ipython3",
   "version": "3.12.3"
  }
 },
 "nbformat": 4,
 "nbformat_minor": 5
}
