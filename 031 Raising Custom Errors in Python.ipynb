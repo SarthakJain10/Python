{
 "cells": [
  {
   "cell_type": "markdown",
   "id": "847fdac8",
   "metadata": {},
   "source": [
    "# Purpose of Raising Errors\n",
    "\n",
    "- To halt program execution when an unexpected or invalid condition occurs.\n",
    "\n",
    "- Prevents the program from continuing with potentially faulty or harmful input.\n",
    "\n",
    "- Ensures that errors are caught early, making debugging easier and improving code reliability.\n",
    "\n",
    "# Example Scenario\n",
    "\n",
    "- If a user is supposed to enter a number between 5 and 9, but enters a value outside this range, you can raise an error to stop the program immediately and inform the user of the mistake."
   ]
  },
  {
   "cell_type": "markdown",
   "id": "7e4c3a23",
   "metadata": {},
   "source": [
    "# Built-in Exceptions\n",
    "- Python automatically raises errors (exceptions) for many common issues, such as:\n",
    "\n",
    "    - ValueError (invalid value)\n",
    "\n",
    "    - SyntaxError (incorrect syntax)\n",
    "\n",
    "    - MemoryError (insufficient memory)\n",
    "\n",
    "    - IndexError (invalid list index)\n",
    "\n",
    "    - KeyError (missing dictionary key)\n",
    "\n",
    "- These built-in exceptions can be raised manually when needed."
   ]
  },
  {
   "cell_type": "markdown",
   "id": "c001110e",
   "metadata": {},
   "source": [
    "# Syntax Example:"
   ]
  },
  {
   "cell_type": "code",
   "execution_count": 2,
   "id": "bf18b464",
   "metadata": {},
   "outputs": [
    {
     "ename": "ValueError",
     "evalue": "Value should be between 5 and 9",
     "output_type": "error",
     "traceback": [
      "\u001b[31m---------------------------------------------------------------------------\u001b[39m",
      "\u001b[31mValueError\u001b[39m                                Traceback (most recent call last)",
      "\u001b[36mCell\u001b[39m\u001b[36m \u001b[39m\u001b[32mIn[2]\u001b[39m\u001b[32m, line 3\u001b[39m\n\u001b[32m      1\u001b[39m a = \u001b[32m10\u001b[39m\n\u001b[32m      2\u001b[39m \u001b[38;5;28;01mif\u001b[39;00m a < \u001b[32m5\u001b[39m \u001b[38;5;129;01mor\u001b[39;00m a > \u001b[32m9\u001b[39m:\n\u001b[32m----> \u001b[39m\u001b[32m3\u001b[39m     \u001b[38;5;28;01mraise\u001b[39;00m \u001b[38;5;167;01mValueError\u001b[39;00m(\u001b[33m\"\u001b[39m\u001b[33mValue should be between 5 and 9\u001b[39m\u001b[33m\"\u001b[39m)\n",
      "\u001b[31mValueError\u001b[39m: Value should be between 5 and 9"
     ]
    }
   ],
   "source": [
    "a = 10\n",
    "if a < 5 or a > 9:\n",
    "    raise ValueError(\"Value should be between 5 and 9\")"
   ]
  },
  {
   "cell_type": "markdown",
   "id": "df6f8fb8",
   "metadata": {},
   "source": [
    "# The raise Keyword\n",
    "- Used to trigger exceptions in your code, either built-in or custom.\n",
    "\n",
    "- General syntax:"
   ]
  },
  {
   "cell_type": "code",
   "execution_count": null,
   "id": "6cc105e2",
   "metadata": {},
   "outputs": [],
   "source": [
    "raise ExceptionType(\"Error message\")"
   ]
  },
  {
   "cell_type": "markdown",
   "id": "d03bcdd5",
   "metadata": {},
   "source": [
    "- Helps enforce constraints and prevent further execution when conditions are not met.\n",
    "\n",
    "### Handling vs. Raising Errors\n"
   ]
  },
  {
   "cell_type": "code",
   "execution_count": 2,
   "id": "4d42edbe",
   "metadata": {},
   "outputs": [
    {
     "data": {
      "text/html": [
       "<div>\n",
       "<style scoped>\n",
       "    .dataframe tbody tr th:only-of-type {\n",
       "        vertical-align: middle;\n",
       "    }\n",
       "\n",
       "    .dataframe tbody tr th {\n",
       "        vertical-align: top;\n",
       "    }\n",
       "\n",
       "    .dataframe thead th {\n",
       "        text-align: right;\n",
       "    }\n",
       "</style>\n",
       "<table border=\"1\" class=\"dataframe\">\n",
       "  <thead>\n",
       "    <tr style=\"text-align: right;\">\n",
       "      <th></th>\n",
       "      <th>Handling Errors</th>\n",
       "      <th>Raising Custom Errors</th>\n",
       "    </tr>\n",
       "  </thead>\n",
       "  <tbody>\n",
       "    <tr>\n",
       "      <th>0</th>\n",
       "      <td>Used to manage unexpected problems gracefully</td>\n",
       "      <td>Used to stop execution on invalid input</td>\n",
       "    </tr>\n",
       "    <tr>\n",
       "      <th>1</th>\n",
       "      <td>Example: Try/except to catch server failure</td>\n",
       "      <td>Example: Raise error if input is out of range</td>\n",
       "    </tr>\n",
       "    <tr>\n",
       "      <th>2</th>\n",
       "      <td>Allows program to skip faulty parts</td>\n",
       "      <td>Prevents program from running with bad data</td>\n",
       "    </tr>\n",
       "  </tbody>\n",
       "</table>\n",
       "</div>"
      ],
      "text/plain": [
       "                                 Handling Errors  \\\n",
       "0  Used to manage unexpected problems gracefully   \n",
       "1    Example: Try/except to catch server failure   \n",
       "2            Allows program to skip faulty parts   \n",
       "\n",
       "                           Raising Custom Errors  \n",
       "0        Used to stop execution on invalid input  \n",
       "1  Example: Raise error if input is out of range  \n",
       "2    Prevents program from running with bad data  "
      ]
     },
     "execution_count": 2,
     "metadata": {},
     "output_type": "execute_result"
    }
   ],
   "source": [
    "import pandas as pd\n",
    "df = pd.read_csv('csv_files/HandlingErrors-RaisingCustomErrors.csv')\n",
    "df"
   ]
  },
  {
   "cell_type": "markdown",
   "id": "0b5ee195",
   "metadata": {},
   "source": [
    "- **Handling:** For situations like server failures, you may want to catch the error and move on or retry.\n",
    "\n",
    "- **Raising:** For invalid user input, you want to stop execution and alert the user immediately."
   ]
  },
  {
   "cell_type": "markdown",
   "id": "64fb05db",
   "metadata": {},
   "source": [
    "# Defining Custom Exceptions\n",
    "### Why Define Custom Exceptions?\n",
    "\n",
    "- For domain-specific errors that built-in exceptions do not cover.\n",
    "\n",
    "- Makes your code more descriptive and easier to debug.\n",
    "\n",
    "### How to Define a Custom Exception:\n",
    "\n",
    "- Create a new class that inherits from Python’s Exception class.\n",
    "\n",
    "Example:"
   ]
  },
  {
   "cell_type": "code",
   "execution_count": 3,
   "id": "0ecf5f53",
   "metadata": {},
   "outputs": [
    {
     "ename": "ServerIsOffError",
     "evalue": "The server is currently turned off.",
     "output_type": "error",
     "traceback": [
      "\u001b[31m---------------------------------------------------------------------------\u001b[39m",
      "\u001b[31mServerIsOffError\u001b[39m                          Traceback (most recent call last)",
      "\u001b[36mCell\u001b[39m\u001b[36m \u001b[39m\u001b[32mIn[3]\u001b[39m\u001b[32m, line 5\u001b[39m\n\u001b[32m      2\u001b[39m     \u001b[38;5;28;01mpass\u001b[39;00m\n\u001b[32m      4\u001b[39m \u001b[38;5;66;03m# Usage\u001b[39;00m\n\u001b[32m----> \u001b[39m\u001b[32m5\u001b[39m \u001b[38;5;28;01mraise\u001b[39;00m ServerIsOffError(\u001b[33m\"\u001b[39m\u001b[33mThe server is currently turned off.\u001b[39m\u001b[33m\"\u001b[39m)\n",
      "\u001b[31mServerIsOffError\u001b[39m: The server is currently turned off."
     ]
    }
   ],
   "source": [
    "class ServerIsOffError(Exception):\n",
    "    pass\n",
    "\n",
    "# Usage\n",
    "raise ServerIsOffError(\"The server is currently turned off.\")"
   ]
  },
  {
   "cell_type": "markdown",
   "id": "a3f2bcfa",
   "metadata": {},
   "source": [
    "- You can add custom logic or attributes to your exception class as needed.\n",
    "\n",
    "- This approach is useful for large projects or when you want to handle specific errors differently.\n",
    "\n",
    "# Practical Example\n",
    "### Problem Statement:\n",
    "\n",
    "- Prompt the user to enter a value between 5 and 9.\n",
    "\n",
    "- If the input is not within this range, raise a ValueError.\n",
    "\n",
    "- If the user enters \"quit\" (in lowercase), do not raise an error.\n",
    "\n",
    "- For any other non-integer input (except \"quit\"), raise an error.\n",
    "\n",
    "### Sample Solution Outline:"
   ]
  },
  {
   "cell_type": "code",
   "execution_count": 4,
   "id": "fc6084a8",
   "metadata": {},
   "outputs": [],
   "source": [
    "user_input = input(\"Enter a value between 5 and 9: \")\n",
    "if user_input == \"quit\":\n",
    "    pass  # Do nothing\n",
    "else:\n",
    "    try:\n",
    "        a = int(user_input)\n",
    "        if a < 5 or a > 9:\n",
    "            raise ValueError(\"Value should be between 5 and 9\")\n",
    "    except ValueError:\n",
    "        print(\"Invalid input! Please enter a number between 5 and 9 or 'quit'.\")"
   ]
  },
  {
   "cell_type": "markdown",
   "id": "84fc178a",
   "metadata": {},
   "source": [
    "# Important Terms & Concepts\n",
    "- **Exception:** An event that disrupts the normal flow of a program.\n",
    "\n",
    "- **raise:** Python keyword to trigger an exception.\n",
    "\n",
    "- **Custom Exception:** User-defined exception class for specific error conditions.\n",
    "\n",
    "- **Handling Exception:** Using try/except blocks to manage errors gracefully.\n",
    "\n"
   ]
  },
  {
   "cell_type": "markdown",
   "id": "7ede2efd",
   "metadata": {},
   "source": [
    "# Summary\n",
    "- Raising custom errors is essential for controlling program flow and ensuring data validity.\n",
    "\n",
    "- Use the raise keyword to trigger built-in or custom exceptions when necessary.\n",
    "\n",
    "- Custom exceptions are defined by subclassing the Exception class, allowing for more descriptive and domain-specific error handling.\n",
    "\n",
    "- Decide between handling errors (to recover or skip faulty operations) and raising errors (to stop execution on invalid conditions) based on your program’s needs.\n",
    "\n",
    "- Practice by writing programs that use both built-in and custom exceptions to reinforce these concepts."
   ]
  }
 ],
 "metadata": {
  "kernelspec": {
   "display_name": ".venv",
   "language": "python",
   "name": "python3"
  },
  "language_info": {
   "codemirror_mode": {
    "name": "ipython",
    "version": 3
   },
   "file_extension": ".py",
   "mimetype": "text/x-python",
   "name": "python",
   "nbconvert_exporter": "python",
   "pygments_lexer": "ipython3",
   "version": "3.12.3"
  }
 },
 "nbformat": 4,
 "nbformat_minor": 5
}
