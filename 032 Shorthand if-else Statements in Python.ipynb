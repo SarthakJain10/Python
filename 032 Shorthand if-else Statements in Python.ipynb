{
 "cells": [
  {
   "cell_type": "markdown",
   "id": "8c66587b",
   "metadata": {},
   "source": [
    "# What is Shorthand if-else?\n",
    "- Shorthand if-else is a one-line syntax for writing simple conditional statements in Python.\n",
    "\n",
    "- It is best used when:\n",
    "\n",
    "    - The condition being tested is straightforward.\n",
    "\n",
    "    - The actions to be performed are short (typically a single expression).\n",
    "\n",
    "- **Syntax:**"
   ]
  },
  {
   "cell_type": "code",
   "execution_count": null,
   "id": "0e1a5d28",
   "metadata": {},
   "outputs": [],
   "source": [
    "<expression1> if <condition> else <expression2>"
   ]
  },
  {
   "cell_type": "markdown",
   "id": "47361df3",
   "metadata": {},
   "source": [
    "- Example:"
   ]
  },
  {
   "cell_type": "code",
   "execution_count": null,
   "id": "9dfa4ace",
   "metadata": {},
   "outputs": [],
   "source": [
    "print(\"A\") if a > b else print(\"B\")"
   ]
  },
  {
   "cell_type": "markdown",
   "id": "854d271d",
   "metadata": {},
   "source": [
    "- This approach is also called a conditional expression or ternary operator in Python.\n",
    "\n",
    "# Usage Examples\n",
    "- ### Example 1: Multiple Conditions"
   ]
  },
  {
   "cell_type": "code",
   "execution_count": null,
   "id": "63af940f",
   "metadata": {},
   "outputs": [],
   "source": [
    "print(\"A\") if a > b else print(\"=\") if a == b else print(\"B\")"
   ]
  },
  {
   "cell_type": "markdown",
   "id": "e51484b7",
   "metadata": {},
   "source": [
    "- This checks if a is greater than b, equal to b, or less than b, and prints the appropriate result.\n",
    "\n",
    "- ### Example 2: Assigning Values"
   ]
  },
  {
   "cell_type": "code",
   "execution_count": null,
   "id": "83714373",
   "metadata": {},
   "outputs": [],
   "source": [
    "c = 9 if a > b else 0"
   ]
  },
  {
   "cell_type": "markdown",
   "id": "efe6e9bc",
   "metadata": {},
   "source": [
    "- Here, c will be 9 if a is greater than b; otherwise, c will be 0.\n",
    "\n",
    "- ### Example 3: Simple Output"
   ]
  },
  {
   "cell_type": "code",
   "execution_count": null,
   "id": "2ac07f9c",
   "metadata": {},
   "outputs": [],
   "source": [
    "print(9) if a < b else print(\"\")\n"
   ]
  },
  {
   "cell_type": "markdown",
   "id": "7bf9f585",
   "metadata": {},
   "source": [
    "- Prints 9 if a is less than b, otherwise prints an empty string.\n",
    "\n",
    "# Important Notes and Best Practices\n",
    "- ### Use Quotes for Strings:\n",
    "Always use double or single quotes for string outputs in shorthand if-else.\n",
    "For example, print(\"B\") will print the letter B, but print(B) (without quotes) will look for a variable named B and cause a syntax error if it doesn't exist.\n",
    "\n",
    "- ### Not for Complex Logic:\n",
    "Shorthand if-else is not suitable for situations where you need to execute multiple statements or more complex logic. In such cases, use the standard multi-line if-else for better readability.\n",
    "\n",
    "- ### Readability Matters:\n",
    "Overusing shorthand if-else, especially for long or nested conditions, can make code hard to read and maintain.\n",
    "Good code should be understandable by others, not just the original author.\n",
    "\n",
    "- ### Code Maintainability:\n",
    "The most important aspect of writing code is maintainability. Code should be clear enough that even years later, you (or someone else) can understand why and how it was written.\n",
    "\n",
    "- ### General Principle:\n",
    "Genius programmers write code for others to understand, not just themselves. This principle holds true in all programming languages."
   ]
  },
  {
   "cell_type": "markdown",
   "id": "7fa76a4f",
   "metadata": {},
   "source": [
    "# Summary\n",
    "- Shorthand if-else statements in Python offer a quick and readable way to write simple conditional expressions.\n",
    "\n",
    "- They are best used for straightforward, single-line conditions and assignments.\n",
    "\n",
    "- Avoid using shorthand if-else for complex logic or multiple statements to preserve code clarity.\n",
    "\n",
    "- Always prioritize readability and maintainability in your code—write code that others can easily understand and maintain."
   ]
  }
 ],
 "metadata": {
  "kernelspec": {
   "display_name": ".venv",
   "language": "python",
   "name": "python3"
  },
  "language_info": {
   "codemirror_mode": {
    "name": "ipython",
    "version": 3
   },
   "file_extension": ".py",
   "mimetype": "text/x-python",
   "name": "python",
   "nbconvert_exporter": "python",
   "pygments_lexer": "ipython3",
   "version": "3.12.3"
  }
 },
 "nbformat": 4,
 "nbformat_minor": 5
}
