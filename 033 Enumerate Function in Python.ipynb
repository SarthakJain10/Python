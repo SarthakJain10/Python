{
 "cells": [
  {
   "cell_type": "markdown",
   "id": "47756ec7",
   "metadata": {},
   "source": [
    "# What is the enumerate() Function?\n",
    "### Definition:\n",
    "The enumerate() function adds a counter to an iterable and returns it as an enumerate object, which can then be used directly in loops.\n",
    "\n",
    "### Syntax:"
   ]
  },
  {
   "cell_type": "code",
   "execution_count": null,
   "id": "b72d8cec",
   "metadata": {},
   "outputs": [],
   "source": [
    "enumerate(iterable, start=0)"
   ]
  },
  {
   "cell_type": "markdown",
   "id": "46359129",
   "metadata": {},
   "source": [
    "- **iterable:** The collection (list, tuple, etc.) you want to loop over.\n",
    "\n",
    "- **start:** The index from which to start counting (default is 0).\n",
    "\n",
    "# Why Use enumerate()?\n",
    "- ### Traditional Approach:\n",
    "\n",
    "When looping through a list and needing both the index and the value, beginners often use a counter variable or the range(len(list)) pattern, which is less readable.\n",
    "\n",
    "Example:"
   ]
  },
  {
   "cell_type": "code",
   "execution_count": 1,
   "id": "5a3cf9c8",
   "metadata": {},
   "outputs": [
    {
     "name": "stdout",
     "output_type": "stream",
     "text": [
      "0 apple\n",
      "1 banana\n",
      "2 cherry\n"
     ]
    }
   ],
   "source": [
    "items = ['apple', 'banana', 'cherry']\n",
    "for i in range(len(items)):\n",
    "    print(i, items[i])"
   ]
  },
  {
   "cell_type": "markdown",
   "id": "b68c4e37",
   "metadata": {},
   "source": [
    "- ### With enumerate():\n",
    "The same can be achieved more cleanly:"
   ]
  },
  {
   "cell_type": "code",
   "execution_count": 2,
   "id": "0578a751",
   "metadata": {},
   "outputs": [
    {
     "name": "stdout",
     "output_type": "stream",
     "text": [
      "0 apple\n",
      "1 banana\n",
      "2 cherry\n"
     ]
    }
   ],
   "source": [
    "items = ['apple', 'banana', 'cherry']\n",
    "for index, value in enumerate(items):\n",
    "    print(index, value)\n"
   ]
  },
  {
   "cell_type": "markdown",
   "id": "59f17b4b",
   "metadata": {},
   "source": [
    "# Working"
   ]
  },
  {
   "cell_type": "code",
   "execution_count": 2,
   "id": "3c9fd1fb",
   "metadata": {},
   "outputs": [
    {
     "name": "stdout",
     "output_type": "stream",
     "text": [
      "0 : apple\n",
      "1 : banana\n",
      "2 : orange\n"
     ]
    }
   ],
   "source": [
    "class MyEnnumerate:\n",
    "    def __init__(self, iterable, start=0):\n",
    "        self.iter = iter(iterable)\n",
    "        self.index = start\n",
    "\n",
    "    def __iter__(self):\n",
    "        return self\n",
    "    \n",
    "    def __next__(self):\n",
    "        value = next(self.iter)\n",
    "        result = (self.index, value)\n",
    "        self.index +=1 \n",
    "        return result\n",
    "    \n",
    "s = ['apple', 'banana', 'orange']\n",
    "for i, char in MyEnnumerate(s):\n",
    "    print(f'{i} : {char}')"
   ]
  },
  {
   "cell_type": "markdown",
   "id": "8dd0f9dc",
   "metadata": {},
   "source": [
    "### Benefits:\n",
    "\n",
    "- Makes code more readable and concise.\n",
    "\n",
    "- Reduces chances of errors (like off-by-one mistakes).\n",
    "\n",
    "- Pythonic and preferred in professional codebases.\n",
    "\n",
    "# Key Concepts and Usage\n",
    "### Basic Usage"
   ]
  },
  {
   "cell_type": "code",
   "execution_count": 3,
   "id": "5bbda4d6",
   "metadata": {},
   "outputs": [
    {
     "name": "stdout",
     "output_type": "stream",
     "text": [
      "0 apple\n",
      "1 banana\n",
      "2 cherry\n"
     ]
    }
   ],
   "source": [
    "fruits = ['apple', 'banana', 'cherry']\n",
    "for index, fruit in enumerate(fruits):\n",
    "    print(index, fruit)"
   ]
  },
  {
   "cell_type": "markdown",
   "id": "69bab101",
   "metadata": {},
   "source": [
    "### Changing the Start Index\n",
    "You can specify a different starting value for the index using the start parameter."
   ]
  },
  {
   "cell_type": "code",
   "execution_count": 4,
   "id": "03b7b800",
   "metadata": {},
   "outputs": [
    {
     "name": "stdout",
     "output_type": "stream",
     "text": [
      "1 apple\n",
      "2 banana\n",
      "3 cherry\n"
     ]
    }
   ],
   "source": [
    "for index, fruit in enumerate(fruits, start=1):\n",
    "    print(index, fruit)"
   ]
  },
  {
   "cell_type": "markdown",
   "id": "f85f663e",
   "metadata": {},
   "source": [
    "### Enumerate with Other Iterables\n",
    "enumerate() works with any iterable, such as tuples, strings, or even custom objects.\n",
    "\n",
    "# Examples\n",
    "### Example 1: Looping with Index"
   ]
  },
  {
   "cell_type": "code",
   "execution_count": 5,
   "id": "1c95af34",
   "metadata": {},
   "outputs": [
    {
     "name": "stdout",
     "output_type": "stream",
     "text": [
      "Index 0: Harry\n",
      "Index 1: Ron\n",
      "Index 2: Hermione\n"
     ]
    }
   ],
   "source": [
    "names = ['Harry', 'Ron', 'Hermione']\n",
    "for idx, name in enumerate(names):\n",
    "    print(f\"Index {idx}: {name}\")"
   ]
  },
  {
   "cell_type": "markdown",
   "id": "211b62ca",
   "metadata": {},
   "source": [
    "### Example 2: Custom Start Index"
   ]
  },
  {
   "cell_type": "code",
   "execution_count": 6,
   "id": "b5ce7992",
   "metadata": {},
   "outputs": [
    {
     "name": "stdout",
     "output_type": "stream",
     "text": [
      "Index 101: Harry\n",
      "Index 102: Ron\n",
      "Index 103: Hermione\n"
     ]
    }
   ],
   "source": [
    "for idx, name in enumerate(names, start=101):\n",
    "    print(f\"Index {idx}: {name}\")\n"
   ]
  },
  {
   "cell_type": "markdown",
   "id": "4157a581",
   "metadata": {},
   "source": [
    "### Example 3: Using Enumerate in List Comprehensions"
   ]
  },
  {
   "cell_type": "code",
   "execution_count": 7,
   "id": "cdcc6e6f",
   "metadata": {},
   "outputs": [
    {
     "name": "stdout",
     "output_type": "stream",
     "text": [
      "[(0, 'Harry'), (1, 'Ron'), (2, 'Hermione')]\n"
     ]
    }
   ],
   "source": [
    "indexed_names = [(i, name) for i, name in enumerate(names)]\n",
    "print(indexed_names)\n",
    "# Output: [(0, 'Harry'), (1, 'Ron'), (2, 'Hermione')]"
   ]
  },
  {
   "cell_type": "markdown",
   "id": "cf6c3bfd",
   "metadata": {},
   "source": [
    "# Important Points\n",
    "- enumerate() returns an enumerate object, which is an iterator.\n",
    "\n",
    "- Can be converted to a list or tuple if needed:"
   ]
  },
  {
   "cell_type": "code",
   "execution_count": 8,
   "id": "c834947e",
   "metadata": {},
   "outputs": [
    {
     "data": {
      "text/plain": [
       "[(0, 'apple'), (1, 'banana'), (2, 'cherry')]"
      ]
     },
     "execution_count": 8,
     "metadata": {},
     "output_type": "execute_result"
    }
   ],
   "source": [
    "list(enumerate(fruits))  # [(0, 'apple'), (1, 'banana'), (2, 'cherry')]\n"
   ]
  },
  {
   "cell_type": "markdown",
   "id": "f774a291",
   "metadata": {},
   "source": [
    "- Useful when you need both the index and the value in a loop.\n",
    "\n",
    "- Preferred over manual counter management for clarity and safety."
   ]
  },
  {
   "cell_type": "markdown",
   "id": "f97d4924",
   "metadata": {},
   "source": [
    "# Summary\n",
    "- The enumerate() function in Python is used to loop over an iterable while keeping track of the index.\n",
    "\n",
    "- It provides a cleaner, more readable alternative to using range(len(iterable)).\n",
    "\n",
    "- You can specify a custom starting index using the start parameter.\n",
    "\n",
    "- enumerate() enhances code readability and reduces common errors.\n",
    "\n",
    "- It is a best practice in Python to use enumerate() when both the index and the item are needed in a loop."
   ]
  }
 ],
 "metadata": {
  "kernelspec": {
   "display_name": ".venv",
   "language": "python",
   "name": "python3"
  },
  "language_info": {
   "codemirror_mode": {
    "name": "ipython",
    "version": 3
   },
   "file_extension": ".py",
   "mimetype": "text/x-python",
   "name": "python",
   "nbconvert_exporter": "python",
   "pygments_lexer": "ipython3",
   "version": "3.12.3"
  }
 },
 "nbformat": 4,
 "nbformat_minor": 5
}
