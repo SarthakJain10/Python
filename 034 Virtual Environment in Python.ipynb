{
 "cells": [
  {
   "cell_type": "markdown",
   "id": "815a072e",
   "metadata": {},
   "source": [
    "# What is a Virtual Environment?\n",
    "### Definition:\n",
    "A virtual environment is a tool that creates an isolated Python environment on a single machine. Each environment can have its own set of packages and dependencies, separate from the global Python installation.\n",
    "\n",
    "### Purpose:\n",
    "\n",
    "- Allows multiple projects to use different versions of packages without interference.\n",
    "\n",
    "- Prevents conflicts between package versions required by different projects.\n",
    "\n",
    "- Facilitates easy project distribution and collaboration."
   ]
  },
  {
   "cell_type": "markdown",
   "id": "838003cf",
   "metadata": {},
   "source": [
    "# Why Use Virtual Environments?\n",
    "- ### Version Conflicts:\n",
    "If you and your friend are working on the same project but using different versions of a package (e.g., Pandas v1 vs. Pandas v2), running each other's code can become problematic. Virtual environments solve this by allowing each project to use its specific package versions.\n",
    "\n",
    "- ### Dependency Isolation:\n",
    "\n",
    "- Projects might require incompatible versions of the same package.\n",
    "\n",
    "- Updating a package for one project won't break another project.\n",
    "\n",
    "- ### Project Distribution:\n",
    "\n",
    "- Ensures that when you share your project, others can install the exact package versions you used."
   ]
  },
  {
   "cell_type": "markdown",
   "id": "d384d28e",
   "metadata": {},
   "source": [
    "# Key Concepts\n",
    "### 1. Package Version Management\n",
    "- Each virtual environment can have its own version of a package.\n",
    "\n",
    "- For example, you can have Pandas 1.4.4 in one environment and Pandas 1.5.2 in another.\n",
    "\n",
    "### 2. Isolated Python Interpreter\n",
    "- The virtual environment creates a copy of the Python interpreter.\n",
    "\n",
    "- Packages installed in a virtual environment do not affect the global Python installation.\n",
    "\n",
    "### 3. Multiple Environments\n",
    "- You can create multiple virtual environments for different projects or different versions of the same package."
   ]
  },
  {
   "cell_type": "markdown",
   "id": "de42e2ca",
   "metadata": {},
   "source": [
    "# Creating and Using a Virtual Environment\n",
    "### Step 1: Creating a Virtual Environment\n",
    "- Use the following command in your project directory:"
   ]
  },
  {
   "cell_type": "code",
   "execution_count": null,
   "id": "5a0514f2",
   "metadata": {},
   "outputs": [],
   "source": [
    "python3 -m venv myenv"
   ]
  },
  {
   "cell_type": "markdown",
   "id": "5bc0d268",
   "metadata": {},
   "source": [
    "- myenv is the name of the new virtual environment folder.\n",
    "\n",
    "- You can name it anything relevant to your project.\n",
    "\n",
    "### Step 2: Activating the Virtual Environment\n",
    "- On macOS/Linux:"
   ]
  },
  {
   "cell_type": "code",
   "execution_count": null,
   "id": "e247376c",
   "metadata": {},
   "outputs": [],
   "source": [
    "source myenv/bin/activate"
   ]
  },
  {
   "cell_type": "markdown",
   "id": "fdae9c91",
   "metadata": {},
   "source": [
    "- Once activated, your terminal prompt will show the environment name in brackets (e.g., (myenv)), indicating that all Python and pip commands will use this environment."
   ]
  },
  {
   "cell_type": "markdown",
   "id": "6b053594",
   "metadata": {},
   "source": [
    "### Step 3: Installing Packages\n",
    "- Install packages as usual, but now they are installed only in the virtual environment:"
   ]
  },
  {
   "cell_type": "code",
   "execution_count": null,
   "id": "97495101",
   "metadata": {},
   "outputs": [],
   "source": [
    "pip install pandas"
   ]
  },
  {
   "cell_type": "markdown",
   "id": "21be2511",
   "metadata": {},
   "source": [
    "- To install a specific version:"
   ]
  },
  {
   "cell_type": "code",
   "execution_count": null,
   "id": "cd106ecd",
   "metadata": {},
   "outputs": [],
   "source": [
    "pip install pandas==1.4.4"
   ]
  },
  {
   "cell_type": "markdown",
   "id": "6b07cc1e",
   "metadata": {},
   "source": [
    "- This ensures the installed version is independent of the global Python environment.\n",
    "\n",
    "### Step 4: Verifying Package Versions\n",
    "- After installing, check the package version in Python:"
   ]
  },
  {
   "cell_type": "code",
   "execution_count": 1,
   "id": "08731a10",
   "metadata": {},
   "outputs": [
    {
     "name": "stdout",
     "output_type": "stream",
     "text": [
      "2.3.0\n"
     ]
    }
   ],
   "source": [
    "import pandas as pd\n",
    "print(pd.__version__)"
   ]
  },
  {
   "cell_type": "markdown",
   "id": "6b907e3c",
   "metadata": {},
   "source": [
    "- This will reflect the version installed in the virtual environment.\n",
    "\n",
    "### Step 5: Deactivating the Virtual Environment\n",
    "- To return to the global Python environment:"
   ]
  },
  {
   "cell_type": "code",
   "execution_count": null,
   "id": "b5b66ff5",
   "metadata": {},
   "outputs": [],
   "source": [
    "deactivate"
   ]
  },
  {
   "cell_type": "markdown",
   "id": "2bd4a052",
   "metadata": {},
   "source": [
    "- The prompt will no longer show the virtual environment name, and Python/pip will use the global installation.\n",
    "\n",
    "# Examples and Practical Tips\n",
    "- ### Example Use Case:\n",
    "\n",
    "- Project A requires Pandas 1.4.4.\n",
    "\n",
    "- Project B requires Pandas 1.5.2.\n",
    "\n",
    "- Create two virtual environments: one for each project, each with its required version.\n",
    "\n",
    "- ### Naming Environments:\n",
    "\n",
    "- Name environments meaningfully (e.g., pandas1-4, pandas1-5, projectAenv).\n",
    "\n",
    "- ### Multiple Environments:\n",
    "\n",
    "- You can create as many virtual environments as needed for different projects or package versions.\n",
    "\n",
    "# Important Terms and Commands"
   ]
  },
  {
   "cell_type": "code",
   "execution_count": 2,
   "id": "c00d28b9",
   "metadata": {},
   "outputs": [
    {
     "data": {
      "text/html": [
       "<div>\n",
       "<style scoped>\n",
       "    .dataframe tbody tr th:only-of-type {\n",
       "        vertical-align: middle;\n",
       "    }\n",
       "\n",
       "    .dataframe tbody tr th {\n",
       "        vertical-align: top;\n",
       "    }\n",
       "\n",
       "    .dataframe thead th {\n",
       "        text-align: right;\n",
       "    }\n",
       "</style>\n",
       "<table border=\"1\" class=\"dataframe\">\n",
       "  <thead>\n",
       "    <tr style=\"text-align: right;\">\n",
       "      <th></th>\n",
       "      <th>Term/Command</th>\n",
       "      <th>Description</th>\n",
       "    </tr>\n",
       "  </thead>\n",
       "  <tbody>\n",
       "    <tr>\n",
       "      <th>0</th>\n",
       "      <td>python3 -m venv myenv</td>\n",
       "      <td>Creates a new virtual environment namedmyenv</td>\n",
       "    </tr>\n",
       "    <tr>\n",
       "      <th>1</th>\n",
       "      <td>source myenv/bin/activate</td>\n",
       "      <td>Activates the virtual environment (macOS/Linux)</td>\n",
       "    </tr>\n",
       "    <tr>\n",
       "      <th>2</th>\n",
       "      <td>myenv\\Scripts\\activate</td>\n",
       "      <td>Activates the virtual environment (Windows)</td>\n",
       "    </tr>\n",
       "    <tr>\n",
       "      <th>3</th>\n",
       "      <td>pip install package</td>\n",
       "      <td>Installs a package in the active environment</td>\n",
       "    </tr>\n",
       "    <tr>\n",
       "      <th>4</th>\n",
       "      <td>pip install package==version</td>\n",
       "      <td>Installs a specific version of a package</td>\n",
       "    </tr>\n",
       "    <tr>\n",
       "      <th>5</th>\n",
       "      <td>deactivate</td>\n",
       "      <td>Deactivates the current virtual environment</td>\n",
       "    </tr>\n",
       "  </tbody>\n",
       "</table>\n",
       "</div>"
      ],
      "text/plain": [
       "                   Term/Command  \\\n",
       "0         python3 -m venv myenv   \n",
       "1     source myenv/bin/activate   \n",
       "2        myenv\\Scripts\\activate   \n",
       "3           pip install package   \n",
       "4  pip install package==version   \n",
       "5                    deactivate   \n",
       "\n",
       "                                       Description  \n",
       "0     Creates a new virtual environment namedmyenv  \n",
       "1  Activates the virtual environment (macOS/Linux)  \n",
       "2      Activates the virtual environment (Windows)  \n",
       "3     Installs a package in the active environment  \n",
       "4         Installs a specific version of a package  \n",
       "5      Deactivates the current virtual environment  "
      ]
     },
     "execution_count": 2,
     "metadata": {},
     "output_type": "execute_result"
    }
   ],
   "source": [
    "import pandas as pd\n",
    "df = pd.read_csv(\"csv_files/TermCommand-Description.csv\")\n",
    "df"
   ]
  },
  {
   "cell_type": "markdown",
   "id": "d9aa4738",
   "metadata": {},
   "source": [
    "# Summary\n",
    "- Virtual environments in Python are crucial for managing package dependencies and avoiding conflicts between projects.\n",
    "\n",
    "- They provide isolated spaces for each project, ensuring that package versions do not interfere with one another.\n",
    "\n",
    "- Creating, activating, installing packages, and deactivating virtual environments are straightforward processes.\n",
    "\n",
    "- Using virtual environments improves project portability, collaboration, and reliability."
   ]
  }
 ],
 "metadata": {
  "kernelspec": {
   "display_name": ".venv",
   "language": "python",
   "name": "python3"
  },
  "language_info": {
   "codemirror_mode": {
    "name": "ipython",
    "version": 3
   },
   "file_extension": ".py",
   "mimetype": "text/x-python",
   "name": "python",
   "nbconvert_exporter": "python",
   "pygments_lexer": "ipython3",
   "version": "3.12.3"
  }
 },
 "nbformat": 4,
 "nbformat_minor": 5
}
