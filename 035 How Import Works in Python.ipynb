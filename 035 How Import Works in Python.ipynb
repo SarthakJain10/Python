{
 "cells": [
  {
   "cell_type": "markdown",
   "id": "fae0475c",
   "metadata": {},
   "source": [
    "# What is a Module in Python?\n",
    "### Definition:\n",
    "A module is a file containing Python code (functions, variables, classes) that can be imported and used in other Python files.\n",
    "\n",
    "### Purpose:\n",
    "\n",
    "- Code reusability\n",
    "\n",
    "- Logical code organization\n",
    "\n",
    "- Separation of concerns"
   ]
  },
  {
   "cell_type": "markdown",
   "id": "a169f0f4",
   "metadata": {},
   "source": [
    "# The import Statement\n",
    "### Basic Usage:\n",
    "\n",
    "- Syntax:"
   ]
  },
  {
   "cell_type": "code",
   "execution_count": null,
   "id": "fc96b709",
   "metadata": {},
   "outputs": [],
   "source": [
    "import module_name"
   ]
  },
  {
   "cell_type": "markdown",
   "id": "3cfecc9d",
   "metadata": {},
   "source": [
    "- Example:"
   ]
  },
  {
   "cell_type": "code",
   "execution_count": 1,
   "id": "718f453d",
   "metadata": {},
   "outputs": [
    {
     "name": "stdout",
     "output_type": "stream",
     "text": [
      "4.0\n"
     ]
    }
   ],
   "source": [
    "import math\n",
    "print(math.sqrt(16))  # Outputs: 4.0"
   ]
  },
  {
   "cell_type": "markdown",
   "id": "f4624aa6",
   "metadata": {},
   "source": [
    "### How it Works:\n",
    "\n",
    "- When you import a module, Python executes the code in that module once and makes its functions, classes, and variables available for use."
   ]
  },
  {
   "cell_type": "markdown",
   "id": "39e65582",
   "metadata": {},
   "source": [
    "# Types of Import Statements\n",
    "### 1. Importing the Whole Module\n",
    "- Syntax:"
   ]
  },
  {
   "cell_type": "code",
   "execution_count": null,
   "id": "1a6d6c28",
   "metadata": {},
   "outputs": [],
   "source": [
    "import module_name"
   ]
  },
  {
   "cell_type": "markdown",
   "id": "bd650d2a",
   "metadata": {},
   "source": [
    "- Usage:\n",
    "Access members with the module name prefix:\n",
    "module_name.member\n",
    "\n",
    "### 2. Importing Specific Members\n",
    "- Syntax:"
   ]
  },
  {
   "cell_type": "code",
   "execution_count": null,
   "id": "f58b8c37",
   "metadata": {},
   "outputs": [],
   "source": [
    "from module_name import member1, member2"
   ]
  },
  {
   "cell_type": "markdown",
   "id": "09a60e60",
   "metadata": {},
   "source": [
    "- Example:"
   ]
  },
  {
   "cell_type": "code",
   "execution_count": 3,
   "id": "186e7d7d",
   "metadata": {},
   "outputs": [
    {
     "name": "stdout",
     "output_type": "stream",
     "text": [
      "5.0\n",
      "3.141592653589793\n"
     ]
    }
   ],
   "source": [
    "from math import sqrt, pi\n",
    "print(sqrt(25))  # Outputs: 5.0\n",
    "print(pi)        # Outputs: 3.141592653589793"
   ]
  },
  {
   "cell_type": "markdown",
   "id": "138a0fce",
   "metadata": {},
   "source": [
    "- Advantage:\n",
    "No need to use the module name as a prefix.\n",
    "\n",
    "### 3. Importing All Members\n",
    "- Syntax:"
   ]
  },
  {
   "cell_type": "code",
   "execution_count": null,
   "id": "1831ef24",
   "metadata": {},
   "outputs": [],
   "source": [
    "from module_name import *"
   ]
  },
  {
   "cell_type": "markdown",
   "id": "ecbf8b8b",
   "metadata": {},
   "source": [
    "- **Note:**\n",
    "Not recommended for large modules as it can lead to namespace conflicts.\n",
    "\n",
    "### 4. Aliasing Modules and Members\n",
    "- Syntax:"
   ]
  },
  {
   "cell_type": "code",
   "execution_count": null,
   "id": "32a1e9b0",
   "metadata": {},
   "outputs": [],
   "source": [
    "import module_name as alias\n",
    "from module_name import member as alias"
   ]
  },
  {
   "cell_type": "markdown",
   "id": "4b825cd9",
   "metadata": {},
   "source": [
    "- Example:"
   ]
  },
  {
   "cell_type": "code",
   "execution_count": 4,
   "id": "c3d8ca8e",
   "metadata": {},
   "outputs": [],
   "source": [
    "import numpy as np\n",
    "from math import sqrt as square_root"
   ]
  },
  {
   "cell_type": "markdown",
   "id": "ebe89f8f",
   "metadata": {},
   "source": [
    "# How Python Finds Modules\n",
    "- ### Search Path:\n",
    "Python searches for modules in the following order:\n",
    "\n",
    "    - The current directory\n",
    "\n",
    "    - Directories listed in the PYTHONPATH environment variable\n",
    "\n",
    "    - Standard library directories\n",
    "\n",
    "- sys.path:\n",
    "The list of directories Python searches is stored in sys.path.\n",
    "You can print it:"
   ]
  },
  {
   "cell_type": "code",
   "execution_count": 5,
   "id": "4a9e48ce",
   "metadata": {},
   "outputs": [
    {
     "name": "stdout",
     "output_type": "stream",
     "text": [
      "['/usr/lib/python312.zip', '/usr/lib/python3.12', '/usr/lib/python3.12/lib-dynload', '', '/home/sarthak/Programming/learn/.venv/lib/python3.12/site-packages']\n"
     ]
    }
   ],
   "source": [
    "import sys\n",
    "print(sys.path)"
   ]
  },
  {
   "cell_type": "markdown",
   "id": "54b6c02a",
   "metadata": {},
   "source": [
    "# Custom Modules\n",
    "### Creating Your Own Module\n",
    "- Create a file named mymodule.py:"
   ]
  },
  {
   "cell_type": "code",
   "execution_count": 6,
   "id": "84851fce",
   "metadata": {},
   "outputs": [],
   "source": [
    "def greet(name):\n",
    "    print(f\"Hello, {name}!\")"
   ]
  },
  {
   "cell_type": "markdown",
   "id": "99da454b",
   "metadata": {},
   "source": [
    "- Import and use in another file:"
   ]
  },
  {
   "cell_type": "code",
   "execution_count": null,
   "id": "f9fee7df",
   "metadata": {},
   "outputs": [],
   "source": [
    "import mymodule\n",
    "mymodule.greet(\"Alice\")"
   ]
  },
  {
   "cell_type": "markdown",
   "id": "ff12f44e",
   "metadata": {},
   "source": [
    "### Importing from Custom Modules\n",
    "- Ensure the module file is in the same directory or in a directory listed in sys.path.\n",
    "\n",
    "# The \\_\\_name\\_\\_ == \"\\_\\_main\\_\\_\" Idiom\n",
    "### Purpose:\n",
    "Allows code to distinguish between being run as a script or being imported as a module.\n",
    "\n",
    "### Example:"
   ]
  },
  {
   "cell_type": "code",
   "execution_count": null,
   "id": "7405ff63",
   "metadata": {},
   "outputs": [],
   "source": [
    "if __name__ == \"__main__\":\n",
    "    # Code here runs only when the file is executed directly"
   ]
  },
  {
   "cell_type": "markdown",
   "id": "a7c403e7",
   "metadata": {},
   "source": [
    "# Practical Examples\n",
    "### Using Standard Library Modules:"
   ]
  },
  {
   "cell_type": "code",
   "execution_count": 7,
   "id": "6e7bc6d2",
   "metadata": {},
   "outputs": [
    {
     "name": "stdout",
     "output_type": "stream",
     "text": [
      "6\n"
     ]
    }
   ],
   "source": [
    "import random\n",
    "print(random.randint(1, 10))"
   ]
  },
  {
   "cell_type": "markdown",
   "id": "7de8f92b",
   "metadata": {},
   "source": [
    "### Using Third-Party Modules:\n",
    "\n",
    "- Install with pip install module_name\n",
    "\n",
    "- Import as usual\n",
    "\n",
    "### Importing Custom Functions:"
   ]
  },
  {
   "cell_type": "code",
   "execution_count": null,
   "id": "7285125f",
   "metadata": {},
   "outputs": [],
   "source": [
    "from mymodule import greet\n",
    "greet(\"Bob\")"
   ]
  },
  {
   "cell_type": "markdown",
   "id": "7696778b",
   "metadata": {},
   "source": [
    "# Key Terms and Concepts\n",
    "- **Module:** A file containing Python code (functions, variables, classes)\n",
    "\n",
    "- **Package:** A directory containing multiple modules and an \\_\\_init\\_\\_.py file\n",
    "\n",
    "- **Namespace:** The space where names are mapped to objects; importing affects the namespace\n",
    "\n",
    "- **Aliasing:** Assigning an alternate name to a module or member during import"
   ]
  },
  {
   "cell_type": "markdown",
   "id": "ebc7d261",
   "metadata": {},
   "source": [
    "# Summary\n",
    "- The import statement is fundamental for code reuse and organization in Python.\n",
    "\n",
    "- Python modules can be standard, third-party, or user-defined.\n",
    "\n",
    "- There are several ways to import modules and their members, each with its own use case.\n",
    "\n",
    "- Python searches for modules using the sys.path list.\n",
    "\n",
    "- The \\_\\_name\\_\\_ == \"\\_\\_main\\_\\_\" idiom helps distinguish between script execution and importation.\n",
    "\n",
    "- Proper use of imports and modules leads to cleaner, more maintainable code."
   ]
  }
 ],
 "metadata": {
  "kernelspec": {
   "display_name": ".venv",
   "language": "python",
   "name": "python3"
  },
  "language_info": {
   "codemirror_mode": {
    "name": "ipython",
    "version": 3
   },
   "file_extension": ".py",
   "mimetype": "text/x-python",
   "name": "python",
   "nbconvert_exporter": "python",
   "pygments_lexer": "ipython3",
   "version": "3.12.3"
  }
 },
 "nbformat": 4,
 "nbformat_minor": 5
}
