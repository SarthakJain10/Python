{
 "cells": [
  {
   "cell_type": "markdown",
   "id": "8b6b429f",
   "metadata": {},
   "source": [
    "# What is \\_\\_name\\_\\_ in Python?\n",
    "- \\_\\_name\\_\\_ is a special built-in variable in every Python module.\n",
    "\n",
    "- When a Python script is run directly, the interpreter sets \\_\\_name\\_\\_ to \"\\_\\_main\\_\\_\".\n",
    "\n",
    "- If the script is imported as a module in another script, \\_\\_name\\_\\_ is set to the module’s name (i.e., the filename without .py)."
   ]
  },
  {
   "cell_type": "markdown",
   "id": "54245d75",
   "metadata": {},
   "source": [
    "# Key Points\n",
    "- Every Python file (script or module) has a \\_\\_name\\_\\_ variable.\n",
    "\n",
    "- The value of \\_\\_name\\_\\_ helps Python distinguish between running a script directly and importing it elsewhere.\n",
    "\n",
    "# The Purpose of if \\_\\_name\\_\\_ == \"\\_\\_main\\_\\_\":"
   ]
  },
  {
   "cell_type": "markdown",
   "id": "195a8da8",
   "metadata": {},
   "source": [
    "### Why Use This Condition?\n",
    "- Code inside if \\_\\_name\\_\\_ == \"\\_\\_main\\_\\_\": only runs when the script is executed directly, not when it is imported as a module.\n",
    "\n",
    "- This allows you to write code that can be used both as a reusable module and as a standalone program."
   ]
  },
  {
   "cell_type": "markdown",
   "id": "f7cd229f",
   "metadata": {},
   "source": [
    "### Benefits\n",
    "- **Code Reusability:** Functions and classes can be imported into other scripts without executing test or main code blocks.\n",
    "\n",
    "- **Testing:** You can include test code that runs only when the file is executed directly.\n",
    "\n",
    "- **Organization:** Separates the main execution logic from definitions (functions, classes).\n",
    "\n",
    "# Example\n",
    "### Simple Example"
   ]
  },
  {
   "cell_type": "code",
   "execution_count": 1,
   "id": "95a9180f",
   "metadata": {},
   "outputs": [
    {
     "name": "stdout",
     "output_type": "stream",
     "text": [
      "Sum: 8\n"
     ]
    }
   ],
   "source": [
    "def add(a, b):\n",
    "    return a + b\n",
    "\n",
    "if __name__ == \"__main__\":\n",
    "    result = add(5, 3)\n",
    "    print(\"Sum:\", result)"
   ]
  },
  {
   "cell_type": "markdown",
   "id": "0cbeae5f",
   "metadata": {},
   "source": [
    "- If this script is run directly, it prints Sum: 8.\n",
    "\n",
    "- If imported into another script, only the add function is available; the print statement does not execute.\n",
    "\n",
    "### Example Explained\n",
    "- **Function Definition:** The add function is defined for use anywhere.\n",
    "\n",
    "- **Main Block:** The code under if \\_\\_name\\_\\_ == \"\\_\\_main\\_\\_\": runs only when this file is executed directly."
   ]
  },
  {
   "cell_type": "markdown",
   "id": "2c914931",
   "metadata": {},
   "source": [
    "### Practical Use Cases\n",
    "- **Script vs. Module:** Helps distinguish between code meant to be run as a script and code meant to be imported.\n",
    "\n",
    "- **Testing Functions:** Allows for simple test cases or demonstrations within the same file.\n",
    "\n",
    "- **Project Structure:** Common in larger Python projects to keep code organized."
   ]
  },
  {
   "cell_type": "markdown",
   "id": "88eb7734",
   "metadata": {},
   "source": [
    "# Important Terms and Concepts\n",
    "- **Module:** Any Python file (.py) that can be imported.\n",
    "\n",
    "- **Script:** A Python file meant to be run directly.\n",
    "\n",
    "- **\\_\\_main\\_\\_:** The name Python assigns to the script being run directly."
   ]
  },
  {
   "cell_type": "markdown",
   "id": "8d94c211",
   "metadata": {},
   "source": [
    "# Summary\n",
    "- The if \\_\\_name\\_\\_ == \"\\_\\_main\\_\\_\": construct is essential for writing clean, modular, and reusable Python code.\n",
    "\n",
    "- It ensures that certain code blocks execute only when a file is run as a script, not when it is imported as a module.\n",
    "\n",
    "- Using this pattern improves code organization, testing, and reusability.\n",
    "\n",
    "- Always use this construct for main execution logic in your Python scripts."
   ]
  }
 ],
 "metadata": {
  "kernelspec": {
   "display_name": ".venv",
   "language": "python",
   "name": "python3"
  },
  "language_info": {
   "codemirror_mode": {
    "name": "ipython",
    "version": 3
   },
   "file_extension": ".py",
   "mimetype": "text/x-python",
   "name": "python",
   "nbconvert_exporter": "python",
   "pygments_lexer": "ipython3",
   "version": "3.12.3"
  }
 },
 "nbformat": 4,
 "nbformat_minor": 5
}
