{
 "cells": [
  {
   "cell_type": "markdown",
   "id": "0cea1572",
   "metadata": {},
   "source": [
    "# What is the os Module?\n",
    "- The os module stands for \"Operating System\" and is included in Python’s standard library.\n",
    "\n",
    "- It enables Python scripts to interact with the underlying operating system in a platform-independent way.\n",
    "\n",
    "# Importing the Module\n",
    "- To use the os module, import it at the start of your script:"
   ]
  },
  {
   "cell_type": "code",
   "execution_count": 1,
   "id": "561ceb46",
   "metadata": {},
   "outputs": [],
   "source": [
    "import os"
   ]
  },
  {
   "cell_type": "markdown",
   "id": "e44e36db",
   "metadata": {},
   "source": [
    "# Working with the Current Working Directory\n",
    "### Getting the Current Directory\n",
    "- Use os.getcwd() to get the current working directory (CWD)."
   ]
  },
  {
   "cell_type": "code",
   "execution_count": 2,
   "id": "ec285945",
   "metadata": {},
   "outputs": [
    {
     "name": "stdout",
     "output_type": "stream",
     "text": [
      "/home/sarthak/Programming/learn\n"
     ]
    }
   ],
   "source": [
    "print(os.getcwd())"
   ]
  },
  {
   "cell_type": "markdown",
   "id": "683e908a",
   "metadata": {},
   "source": [
    "- The CWD is the folder from which your script is running."
   ]
  },
  {
   "cell_type": "markdown",
   "id": "e6f9df8c",
   "metadata": {},
   "source": [
    "### Changing the Current Directory\n",
    "- Use os.chdir(path) to change the current working directory."
   ]
  },
  {
   "cell_type": "code",
   "execution_count": null,
   "id": "a3b18582",
   "metadata": {},
   "outputs": [],
   "source": [
    "os.chdir('/path/to/directory')"
   ]
  },
  {
   "cell_type": "markdown",
   "id": "05ee492e",
   "metadata": {},
   "source": [
    "- Useful for navigating to different folders before performing file operations.\n",
    "\n",
    "# Listing Files and Directories\n",
    "### Listing Contents\n",
    "- os.listdir(path) lists all files and directories in the specified path."
   ]
  },
  {
   "cell_type": "code",
   "execution_count": 3,
   "id": "c9f24013",
   "metadata": {},
   "outputs": [
    {
     "name": "stdout",
     "output_type": "stream",
     "text": [
      "['019 Tuples in Python.ipynb', '023 Recursion in Python.ipynb', '030 finally Keyword in Python.ipynb', '001 Introduction to python.ipynb', '015 Break and Continue Statements.ipynb', '005 Variables and Data Types.ipynb', 'csv_files', '014 While Loops in Python.ipynb', '025 Set Methods in Python .ipynb', '035 How Import Works in Python.ipynb', '010 String Methods in Python.ipynb', '013 For Loops in Python.ipynb', '032 Shorthand if-else Statements in Python.ipynb', '027 Dictionary Methods in Python.ipynb', '003 First Python Program.ipynb', '012 Match Case Statements.ipynb', '002 Modules and Pip in Python.ipynb', '031 Raising Custom Errors in Python.ipynb', '008 Strings in Python.ipynb', '009 Strings Slicing and Operations on Strings.ipynb', '026 Python Dictionaries.ipynb', '033 Enumerate Function in Python.ipynb', '021 f-Strings in Python.ipynb', '034 Virtual Environment in Python.ipynb', '037 os Module in Python.ipynb', '022 Docstrings in Python.ipynb', '004 Comments, Escape Sequences & Print Statement.ipynb', '036 if __name__ == \"__main__\" in Python.ipynb', '011 If-Else Conditional Statements.ipynb', '018 List Methods in Python.ipynb', '.venv', '028 Using else with for and while Loops in Python.ipynb', '024 Sets in Python.ipynb', '006 Typecasting in Python.ipynb', '029 Exception Handling in Python.ipynb', '020 Operations on Tuples.ipynb', '017 Python Lists.ipynb', 'prompt.yxt', '007 User Input in Python.ipynb', '016 Functions in Python.ipynb']\n"
     ]
    }
   ],
   "source": [
    "print(os.listdir('.'))"
   ]
  },
  {
   "cell_type": "markdown",
   "id": "d5e8f923",
   "metadata": {},
   "source": [
    "- If no path is given, it lists contents of the current directory.\n",
    "\n",
    "# Creating and Removing Directories"
   ]
  },
  {
   "cell_type": "markdown",
   "id": "545b10ad",
   "metadata": {},
   "source": [
    "### Creating a Directory\n",
    "- Use os.mkdir('folder_name') to create a new directory.\n",
    "\n",
    "- Use os.makedirs('parent/child') to create nested directories.\n",
    "\n",
    "### Removing a Directory\n",
    "- os.rmdir('folder_name') removes an empty directory.\n",
    "\n",
    "- os.removedirs('parent/child') removes nested empty directories.\n",
    "\n",
    "**Note:** Directories must be empty before they can be removed"
   ]
  },
  {
   "cell_type": "markdown",
   "id": "33e8936a",
   "metadata": {},
   "source": [
    "# File Operations\n",
    "### Renaming Files and Directories\n",
    "- os.rename('old_name', 'new_name') renames a file or directory.\n",
    "\n",
    "### Removing Files\n",
    "- os.remove('file_name') deletes a file."
   ]
  },
  {
   "cell_type": "markdown",
   "id": "b0a31488",
   "metadata": {},
   "source": [
    "# Environment Variables\n",
    "### Accessing Environment Variables\n",
    "- Use os.environ to access environment variables as a dictionary."
   ]
  },
  {
   "cell_type": "code",
   "execution_count": 4,
   "id": "e5f635f5",
   "metadata": {},
   "outputs": [
    {
     "name": "stdout",
     "output_type": "stream",
     "text": [
      "/home/sarthak\n"
     ]
    }
   ],
   "source": [
    "print(os.environ.get('HOME'))"
   ]
  },
  {
   "cell_type": "markdown",
   "id": "ffba7238",
   "metadata": {},
   "source": [
    "- Useful for retrieving system-level information like user profiles, paths, etc.\n",
    "\n"
   ]
  },
  {
   "cell_type": "markdown",
   "id": "d8591f5c",
   "metadata": {},
   "source": [
    "# Path Operations\n",
    "### Joining Paths\n",
    "- os.path.join('dir', 'file') combines directory and file names into a valid path.\n",
    "\n",
    "- Ensures compatibility across different operating systems.\n",
    "\n",
    "### Checking Path Existence\n",
    "- os.path.exists('path') checks if a path exists.\n",
    "\n",
    "- os.path.isfile('path') checks if a path is a file.\n",
    "\n",
    "- os.path.isdir('path') checks if a path is a directory."
   ]
  },
  {
   "cell_type": "markdown",
   "id": "1cde6fd7",
   "metadata": {},
   "source": [
    "# Examples\n",
    "### Example 1: List All Files in a Directory"
   ]
  },
  {
   "cell_type": "code",
   "execution_count": 5,
   "id": "be5b881d",
   "metadata": {},
   "outputs": [
    {
     "name": "stdout",
     "output_type": "stream",
     "text": [
      "['019 Tuples in Python.ipynb', '023 Recursion in Python.ipynb', '030 finally Keyword in Python.ipynb', '001 Introduction to python.ipynb', '015 Break and Continue Statements.ipynb', '005 Variables and Data Types.ipynb', 'csv_files', '014 While Loops in Python.ipynb', '025 Set Methods in Python .ipynb', '035 How Import Works in Python.ipynb', '010 String Methods in Python.ipynb', '013 For Loops in Python.ipynb', '032 Shorthand if-else Statements in Python.ipynb', '027 Dictionary Methods in Python.ipynb', '003 First Python Program.ipynb', '012 Match Case Statements.ipynb', '002 Modules and Pip in Python.ipynb', '031 Raising Custom Errors in Python.ipynb', '008 Strings in Python.ipynb', '009 Strings Slicing and Operations on Strings.ipynb', '026 Python Dictionaries.ipynb', '033 Enumerate Function in Python.ipynb', '021 f-Strings in Python.ipynb', '034 Virtual Environment in Python.ipynb', '037 os Module in Python.ipynb', '022 Docstrings in Python.ipynb', '004 Comments, Escape Sequences & Print Statement.ipynb', '036 if __name__ == \"__main__\" in Python.ipynb', '011 If-Else Conditional Statements.ipynb', '018 List Methods in Python.ipynb', '.venv', '028 Using else with for and while Loops in Python.ipynb', '024 Sets in Python.ipynb', '006 Typecasting in Python.ipynb', '029 Exception Handling in Python.ipynb', '020 Operations on Tuples.ipynb', '017 Python Lists.ipynb', 'prompt.yxt', '007 User Input in Python.ipynb', '016 Functions in Python.ipynb']\n"
     ]
    }
   ],
   "source": [
    "import os\n",
    "files = os.listdir('.')\n",
    "print(files)"
   ]
  },
  {
   "cell_type": "markdown",
   "id": "81854ae2",
   "metadata": {},
   "source": [
    "### Example 2: Create and Remove a Directory"
   ]
  },
  {
   "cell_type": "code",
   "execution_count": 6,
   "id": "8f370cd7",
   "metadata": {},
   "outputs": [],
   "source": [
    "import os\n",
    "os.mkdir('test_folder')\n",
    "os.rmdir('test_folder')"
   ]
  },
  {
   "cell_type": "markdown",
   "id": "367f4eab",
   "metadata": {},
   "source": [
    "### Example 3: Rename a File"
   ]
  },
  {
   "cell_type": "code",
   "execution_count": null,
   "id": "dc5c9905",
   "metadata": {},
   "outputs": [],
   "source": [
    "import os\n",
    "os.rename('old.txt', 'new.txt')"
   ]
  },
  {
   "cell_type": "markdown",
   "id": "15954bce",
   "metadata": {},
   "source": [
    "# Summary\n",
    "- The os module is essential for interacting with the operating system in Python.\n",
    "\n",
    "- It allows you to manage files, directories, and environment variables efficiently.\n",
    "\n",
    "- Key functions include getting/changing directories, listing contents, creating/removing files and directories, and handling paths.\n",
    "\n",
    "- Always handle exceptions (like FileNotFoundError) when performing file operations for robust code."
   ]
  }
 ],
 "metadata": {
  "kernelspec": {
   "display_name": ".venv",
   "language": "python",
   "name": "python3"
  },
  "language_info": {
   "codemirror_mode": {
    "name": "ipython",
    "version": 3
   },
   "file_extension": ".py",
   "mimetype": "text/x-python",
   "name": "python",
   "nbconvert_exporter": "python",
   "pygments_lexer": "ipython3",
   "version": "3.12.3"
  }
 },
 "nbformat": 4,
 "nbformat_minor": 5
}
