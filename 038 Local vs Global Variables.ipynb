{
 "cells": [
  {
   "cell_type": "markdown",
   "id": "011de768",
   "metadata": {},
   "source": [
    "# What is a Variable?\n",
    "- A variable is a named location in memory used to store data.\n",
    "\n",
    "- Example: x = 4 stores the value 4 in memory under the name x."
   ]
  },
  {
   "cell_type": "markdown",
   "id": "da15c4a8",
   "metadata": {},
   "source": [
    "# Local Variables\n",
    "### Definition:\n",
    "A local variable is defined within a function and can only be accessed from inside that function.\n",
    "\n",
    "### Characteristics:\n",
    "\n",
    "- Exists only during the function’s execution.\n",
    "\n",
    "- Cannot be accessed outside its defining function.\n",
    "\n",
    "- Is destroyed once the function returns.\n",
    "\n",
    "Example:"
   ]
  },
  {
   "cell_type": "code",
   "execution_count": null,
   "id": "0b9ed552",
   "metadata": {},
   "outputs": [],
   "source": [
    "def hello():\n",
    "    y = 1  # y is a local variable\n",
    "    print(y)  # This works\n",
    "\n",
    "print(y)  # This will cause an error, as y is not defined here"
   ]
  },
  {
   "cell_type": "markdown",
   "id": "246835e5",
   "metadata": {},
   "source": [
    "# Global Variables\n",
    "### Definition:\n",
    "A global variable is defined outside any function and is accessible throughout the program, including inside functions (unless shadowed by a local variable of the same name).\n",
    "\n",
    "### Characteristics:\n",
    "\n",
    "- Exists for the lifetime of the program.\n",
    "\n",
    "- Can be accessed from any function unless overridden locally.\n",
    "\n",
    "Example:"
   ]
  },
  {
   "cell_type": "code",
   "execution_count": 2,
   "id": "34e2b4db",
   "metadata": {},
   "outputs": [
    {
     "name": "stdout",
     "output_type": "stream",
     "text": [
      "10\n"
     ]
    }
   ],
   "source": [
    "x = 10  # Global variable\n",
    "\n",
    "def my_function():\n",
    "    print(x)  # Accesses the global x\n",
    "\n",
    "my_function()  # Prints 10"
   ]
  },
  {
   "cell_type": "markdown",
   "id": "784b9cc5",
   "metadata": {},
   "source": [
    "- Here, x is accessible both inside and outside the function.\n",
    "\n",
    "# Local vs Global Variables: Key Differences"
   ]
  },
  {
   "cell_type": "code",
   "execution_count": 3,
   "id": "b68a16ee",
   "metadata": {},
   "outputs": [
    {
     "data": {
      "text/html": [
       "<div>\n",
       "<style scoped>\n",
       "    .dataframe tbody tr th:only-of-type {\n",
       "        vertical-align: middle;\n",
       "    }\n",
       "\n",
       "    .dataframe tbody tr th {\n",
       "        vertical-align: top;\n",
       "    }\n",
       "\n",
       "    .dataframe thead th {\n",
       "        text-align: right;\n",
       "    }\n",
       "</style>\n",
       "<table border=\"1\" class=\"dataframe\">\n",
       "  <thead>\n",
       "    <tr style=\"text-align: right;\">\n",
       "      <th></th>\n",
       "      <th>Feature</th>\n",
       "      <th>Local Variable</th>\n",
       "      <th>Global Variable</th>\n",
       "    </tr>\n",
       "  </thead>\n",
       "  <tbody>\n",
       "    <tr>\n",
       "      <th>0</th>\n",
       "      <td>Scope</td>\n",
       "      <td>Inside function only</td>\n",
       "      <td>Entire program</td>\n",
       "    </tr>\n",
       "    <tr>\n",
       "      <th>1</th>\n",
       "      <td>Lifetime</td>\n",
       "      <td>During function execution</td>\n",
       "      <td>Entire program execution</td>\n",
       "    </tr>\n",
       "    <tr>\n",
       "      <th>2</th>\n",
       "      <td>Accessibility</td>\n",
       "      <td>Not accessible outside</td>\n",
       "      <td>Accessible from anywhere</td>\n",
       "    </tr>\n",
       "    <tr>\n",
       "      <th>3</th>\n",
       "      <td>Declaration Place</td>\n",
       "      <td>Inside function</td>\n",
       "      <td>Outside any function</td>\n",
       "    </tr>\n",
       "  </tbody>\n",
       "</table>\n",
       "</div>"
      ],
      "text/plain": [
       "             Feature             Local Variable           Global Variable\n",
       "0              Scope       Inside function only            Entire program\n",
       "1           Lifetime  During function execution  Entire program execution\n",
       "2      Accessibility     Not accessible outside  Accessible from anywhere\n",
       "3  Declaration Place            Inside function      Outside any function"
      ]
     },
     "execution_count": 3,
     "metadata": {},
     "output_type": "execute_result"
    }
   ],
   "source": [
    "import pandas as pd\n",
    "df = pd.read_csv('csv_files/Feature-LocalVariable-GlobalVariable.csv')\n",
    "df"
   ]
  },
  {
   "cell_type": "markdown",
   "id": "da4c5f76",
   "metadata": {},
   "source": [
    "# Working with Variables: Examples\n",
    "### Example 1: Local Variable Shadowing Global Variable"
   ]
  },
  {
   "cell_type": "code",
   "execution_count": 4,
   "id": "34942b41",
   "metadata": {},
   "outputs": [
    {
     "name": "stdout",
     "output_type": "stream",
     "text": [
      "5\n",
      "4\n"
     ]
    }
   ],
   "source": [
    "x = 4\n",
    "\n",
    "def hello():\n",
    "    x = 5  # Local variable x\n",
    "    print(x)  # Prints 5\n",
    "\n",
    "hello()\n",
    "print(x)  # Prints 4"
   ]
  },
  {
   "cell_type": "markdown",
   "id": "41646326",
   "metadata": {},
   "source": [
    "- The local x inside hello() does not affect the global x.\n",
    "\n",
    "### Example 2: Modifying Global Variable Inside a Function\n",
    "**Problem:**\n",
    "Assigning a value to a variable inside a function creates a local variable, not affecting the global variable."
   ]
  },
  {
   "cell_type": "markdown",
   "id": "574023b7",
   "metadata": {},
   "source": [
    "**Solution:**\n",
    "Use the global keyword to modify a global variable from within a function."
   ]
  },
  {
   "cell_type": "code",
   "execution_count": 5,
   "id": "ce549de2",
   "metadata": {},
   "outputs": [
    {
     "name": "stdout",
     "output_type": "stream",
     "text": [
      "5\n"
     ]
    }
   ],
   "source": [
    "x = 10\n",
    "\n",
    "def change_global():\n",
    "    global x\n",
    "    x = 5  # Modifies the global x\n",
    "\n",
    "change_global()\n",
    "print(x)  # Prints 5\n"
   ]
  },
  {
   "cell_type": "markdown",
   "id": "62507ef0",
   "metadata": {},
   "source": [
    "- The global keyword tells Python to use the global variable, not create a local one.\n",
    "\n",
    "### Example 3: Attempting to Access Local Variable Outside Function"
   ]
  },
  {
   "cell_type": "code",
   "execution_count": 6,
   "id": "cb5d3019",
   "metadata": {},
   "outputs": [
    {
     "name": "stdout",
     "output_type": "stream",
     "text": [
      "5\n"
     ]
    },
    {
     "ename": "NameError",
     "evalue": "name 'y' is not defined",
     "output_type": "error",
     "traceback": [
      "\u001b[31m---------------------------------------------------------------------------\u001b[39m",
      "\u001b[31mNameError\u001b[39m                                 Traceback (most recent call last)",
      "\u001b[36mCell\u001b[39m\u001b[36m \u001b[39m\u001b[32mIn[6]\u001b[39m\u001b[32m, line 6\u001b[39m\n\u001b[32m      3\u001b[39m     \u001b[38;5;28mprint\u001b[39m(y)  \u001b[38;5;66;03m# Works inside function\u001b[39;00m\n\u001b[32m      5\u001b[39m my_function()\n\u001b[32m----> \u001b[39m\u001b[32m6\u001b[39m \u001b[38;5;28mprint\u001b[39m(\u001b[43my\u001b[49m)  \u001b[38;5;66;03m# Error: y is not defined outside\u001b[39;00m\n",
      "\u001b[31mNameError\u001b[39m: name 'y' is not defined"
     ]
    }
   ],
   "source": [
    "def my_function():\n",
    "    y = 5\n",
    "    print(y)  # Works inside function\n",
    "\n",
    "my_function()\n",
    "print(y)  # Error: y is not defined outside"
   ]
  },
  {
   "cell_type": "markdown",
   "id": "4f594aa9",
   "metadata": {},
   "source": [
    "- Local variables cannot be accessed outside their function.\n",
    "\n",
    "### Best Practices\n",
    "- **Avoid modifying global variables inside functions** unless absolutely necessary, as it can lead to confusing and hard-to-debug code.\n",
    "\n",
    "- Prefer passing variables as parameters and returning values from functions for clarity and maintainability.\n",
    "\n",
    "- Use the global keyword sparingly and only when you have a clear reason."
   ]
  },
  {
   "cell_type": "markdown",
   "id": "8275c473",
   "metadata": {},
   "source": [
    "# Summary\n",
    "- Local variables are defined and accessible only within a function. They are destroyed after the function execution ends.\n",
    "\n",
    "- Global variables are defined outside functions and accessible throughout the program unless shadowed by a local variable of the same name.\n",
    "\n",
    "- To modify a global variable inside a function, use the global keyword.\n",
    "\n",
    "- Relying too much on global variables can make your code harder to understand and debug. Design your program to minimize their use for better code quality."
   ]
  }
 ],
 "metadata": {
  "kernelspec": {
   "display_name": ".venv",
   "language": "python",
   "name": "python3"
  },
  "language_info": {
   "codemirror_mode": {
    "name": "ipython",
    "version": 3
   },
   "file_extension": ".py",
   "mimetype": "text/x-python",
   "name": "python",
   "nbconvert_exporter": "python",
   "pygments_lexer": "ipython3",
   "version": "3.12.3"
  }
 },
 "nbformat": 4,
 "nbformat_minor": 5
}
