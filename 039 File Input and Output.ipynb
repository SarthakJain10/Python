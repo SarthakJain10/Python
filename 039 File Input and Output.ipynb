{
 "cells": [
  {
   "cell_type": "markdown",
   "id": "a45eb8bb",
   "metadata": {},
   "source": [
    "# 1. What is File Handling?\n",
    "- **File handling** refers to the process of reading from and writing to files using a programming language.\n",
    "\n",
    "- In Python, file handling is built-in and provides several methods to work with files efficiently."
   ]
  },
  {
   "cell_type": "markdown",
   "id": "c3e38c92",
   "metadata": {},
   "source": [
    "# 2. Opening a File\n",
    "- The open() function is used to open a file.\n",
    "\n",
    "- Syntax: f = open('filename', 'mode')\n",
    "\n",
    "    - 'filename': Name of the file to open.\n",
    "\n",
    "    - 'mode': Specifies the purpose (read, write, append, etc.)."
   ]
  },
  {
   "cell_type": "markdown",
   "id": "9f4ccbc3",
   "metadata": {},
   "source": [
    "# Modes in File Opening\n",
    "- 'r': Read mode (default). Opens the file for reading. Throws an error if the file does not exist.\n",
    "\n",
    "- 'w': Write mode. Opens the file for writing. Creates the file if it does not exist or overwrites it if it does.\n",
    "\n",
    "- 'a': Append mode. Opens the file for appending content at the end. Creates the file if it does not exist.\n",
    "\n",
    "- 'x': Create mode. Creates a new file and throws an error if the file already exists.\n",
    "\n",
    "- 't': Text mode (default). Opens the file in text mode.\n",
    "\n",
    "- 'b': Binary mode. Opens the file in binary mode (e.g., for images, PDFs)."
   ]
  },
  {
   "cell_type": "markdown",
   "id": "f9fd5fc4",
   "metadata": {},
   "source": [
    "# Reading from a File\n",
    "### Basic Steps\n",
    "- Open the file in read mode: f = open('myfile.txt', 'r')\n",
    "\n",
    "- Read content using methods like:\n",
    "\n",
    "    - f.read(): Reads the entire content.\n",
    "\n",
    "    - f.readline(): Reads a single line.\n",
    "\n",
    "    - f.readlines(): Reads all lines into a list.\n",
    "\n",
    "- Close the file: f.close().\n",
    "\n",
    "Example"
   ]
  },
  {
   "cell_type": "code",
   "execution_count": 1,
   "id": "fc27c89c",
   "metadata": {},
   "outputs": [
    {
     "name": "stdout",
     "output_type": "stream",
     "text": [
      "Hi, my name is Sartak and i am trying to master my basics in python.\n",
      "Please help yourself and make full use of my notes.\n"
     ]
    }
   ],
   "source": [
    "f = open('myfile.txt', 'r')\n",
    "text = f.read()\n",
    "f.close()\n",
    "print(text)"
   ]
  },
  {
   "cell_type": "markdown",
   "id": "45bfed7f",
   "metadata": {},
   "source": [
    "- Attempting to read a file that does not exist in read mode will result in an error.\n",
    "\n",
    "# Writing to a File\n",
    "### Basic Steps\n",
    "- Open the file in write or append mode:\n",
    "\n",
    "    - Write mode: f = open('myfile.txt', 'w')\n",
    "\n",
    "    - Append mode: f = open('myfile.txt', 'a')\n",
    "\n",
    "- Write content using f.write('your text').\n",
    "\n",
    "- Close the file: f.close().\n",
    "\n",
    "# Important Points\n",
    "- Write mode ('w') will overwrite existing content or create a new file if it doesn’t exist.\n",
    "\n",
    "- Append mode ('a') will add content to the end of the file without deleting existing data.\n",
    "\n",
    "- Always close the file after writing to ensure data is saved.\n",
    "\n",
    "Example"
   ]
  },
  {
   "cell_type": "code",
   "execution_count": 2,
   "id": "a2b4c116",
   "metadata": {},
   "outputs": [],
   "source": [
    "f = open('myfile.txt', 'w')\n",
    "f.write('Hello, world!')\n",
    "f.close()"
   ]
  },
  {
   "cell_type": "markdown",
   "id": "b694add2",
   "metadata": {},
   "source": [
    "# Using the with Statement\n",
    "- The with statement is a context manager that automatically closes the file after its suite finishes.\n",
    "\n",
    "- Syntax:"
   ]
  },
  {
   "cell_type": "code",
   "execution_count": 3,
   "id": "291c77ce",
   "metadata": {},
   "outputs": [],
   "source": [
    "with open('myfile.txt', 'a') as f:\n",
    "    f.write(\"This is appended text.\")"
   ]
  },
  {
   "cell_type": "markdown",
   "id": "0e9dedb6",
   "metadata": {},
   "source": [
    "- Benefits:\n",
    "\n",
    "    - No need to explicitly call f.close().\n",
    "\n",
    "    - Reduces the risk of file corruption due to unclosed files.\n",
    "\n",
    "# Handling Text vs. Binary Files\n",
    "- **Text files:** Use modes like 'r', 'w', 'a', 'rt', 'wt', etc.\n",
    "\n",
    "- **Binary files:** Use modes like 'rb', 'wb', 'ab' for files such as images, PDFs, etc.\n",
    "\n",
    "- Reading a file in binary mode returns bytes instead of strings."
   ]
  },
  {
   "cell_type": "markdown",
   "id": "19d6e5f5",
   "metadata": {},
   "source": [
    "# Common Errors and Best Practices\n",
    "- Trying to read a non-existent file in read mode: Raises an error.\n",
    "\n",
    "- Trying to write in read mode or read in write mode: Not allowed; use the correct mode.\n",
    "\n",
    "- Forgetting to close the file: May result in data not being saved or file corruption; use with statement to avoid this."
   ]
  },
  {
   "cell_type": "markdown",
   "id": "94a3a4c5",
   "metadata": {},
   "source": [
    "# Practical Applications\n",
    "- Storing data such as game high scores, logs, or user information.\n",
    "\n",
    "- Using files as a simple database for small projects.\n",
    "\n",
    "- Saving and retrieving data for processing."
   ]
  },
  {
   "cell_type": "markdown",
   "id": "42f093bc",
   "metadata": {},
   "source": [
    "# Summary\n",
    "- Python’s file handling capabilities are powerful and easy to use.\n",
    "\n",
    "- Use the open() function with appropriate modes to read, write, or append files.\n",
    "\n",
    "- Always close files after use, or better yet, use the with statement for automatic closure.\n",
    "\n",
    "- Understand the difference between text and binary file operations.\n",
    "\n",
    "- File handling is essential for many practical programming tasks, such as data storage and retrieval."
   ]
  },
  {
   "cell_type": "markdown",
   "id": "87f5913d",
   "metadata": {},
   "source": [
    "# Main Takeaways:\n",
    "\n",
    "- Mastering file I/O in Python is fundamental for real-world programming.\n",
    "\n",
    "- Always choose the correct file mode for your operation.\n",
    "\n",
    "- Use context managers (with statement) for safer and cleaner code.\n",
    "\n",
    "- File handling enables you to work with external data, logs, configurations, and more."
   ]
  }
 ],
 "metadata": {
  "kernelspec": {
   "display_name": ".venv",
   "language": "python",
   "name": "python3"
  },
  "language_info": {
   "codemirror_mode": {
    "name": "ipython",
    "version": 3
   },
   "file_extension": ".py",
   "mimetype": "text/x-python",
   "name": "python",
   "nbconvert_exporter": "python",
   "pygments_lexer": "ipython3",
   "version": "3.12.3"
  }
 },
 "nbformat": 4,
 "nbformat_minor": 5
}
