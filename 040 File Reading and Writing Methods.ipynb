{
 "cells": [
  {
   "cell_type": "markdown",
   "id": "831c0585",
   "metadata": {},
   "source": [
    "# 1. Opening and Closing Files\n",
    "- **Opening a File:** Use the open() function to access a file. Syntax:"
   ]
  },
  {
   "cell_type": "code",
   "execution_count": 9,
   "id": "fa4bbed3",
   "metadata": {},
   "outputs": [],
   "source": [
    "f = open('myfile.txt', 'r')"
   ]
  },
  {
   "cell_type": "markdown",
   "id": "55a9afd0",
   "metadata": {},
   "source": [
    "- 'mode' can be 'r' for reading, 'w' for writing, etc..\n",
    "\n",
    "**Closing a File:** Always close files after operations to free up resources using f.close()."
   ]
  },
  {
   "cell_type": "markdown",
   "id": "0323693f",
   "metadata": {},
   "source": [
    "# 2. Reading Files\n",
    "### a. read() Method\n",
    "- Reads the entire file content as a single string.\n",
    "\n",
    "- Useful for small files where you want all content at once.\n",
    "\n",
    "- Example:"
   ]
  },
  {
   "cell_type": "code",
   "execution_count": 10,
   "id": "475d29e4",
   "metadata": {},
   "outputs": [
    {
     "name": "stdout",
     "output_type": "stream",
     "text": [
      "hello, my name is sarthak.\n",
      "i am currently studying python.\n",
      "i want to understand the basic functioning of every function and method.\n"
     ]
    }
   ],
   "source": [
    "content = f.read()\n",
    "print(content)"
   ]
  },
  {
   "cell_type": "markdown",
   "id": "e0209a48",
   "metadata": {},
   "source": [
    "- **Note:** After reading, the file pointer moves to the end of the file.\n",
    "\n",
    "### b. readline() Method\n",
    "- Reads a single line from the file each time it is called.\n",
    "\n",
    "- Useful for processing files line by line.\n",
    "\n",
    "- Example:"
   ]
  },
  {
   "cell_type": "code",
   "execution_count": 13,
   "id": "b878c565",
   "metadata": {},
   "outputs": [
    {
     "name": "stdout",
     "output_type": "stream",
     "text": [
      "\n"
     ]
    }
   ],
   "source": [
    "line = f.readline()\n",
    "print(line)"
   ]
  },
  {
   "cell_type": "markdown",
   "id": "fe38b190",
   "metadata": {},
   "source": [
    "- When the end of the file is reached, it returns an empty string.\n",
    "\n",
    "### c. readlines() Method\n",
    "- Reads all lines in a file and returns them as a list of strings.\n",
    "\n",
    "- Each list item represents a line from the file.\n",
    "\n",
    "- Example:"
   ]
  },
  {
   "cell_type": "code",
   "execution_count": 14,
   "id": "2b071b17",
   "metadata": {},
   "outputs": [
    {
     "name": "stdout",
     "output_type": "stream",
     "text": [
      "[]\n"
     ]
    }
   ],
   "source": [
    "lines = f.readlines()\n",
    "print(lines)"
   ]
  },
  {
   "cell_type": "markdown",
   "id": "7263ca8c",
   "metadata": {},
   "source": [
    "- Handy for iterating through or processing each line individually.\n",
    "\n",
    "# Practical Examples and Use Cases\n",
    "### 1. Reading a File Line by Line\n",
    "- **Scenario:** You have a file with multiple lines (e.g., student marks).\n",
    "\n",
    "- **Approach:** Use a loop with readline() or iterate over the file object.\n",
    "\n",
    "- Example:"
   ]
  },
  {
   "cell_type": "code",
   "execution_count": 15,
   "id": "c1ef9191",
   "metadata": {},
   "outputs": [
    {
     "name": "stdout",
     "output_type": "stream",
     "text": [
      "hello, my name is sarthak.\n",
      "\n",
      "i am currently studying python.\n",
      "\n",
      "i want to understand the basic functioning of every function and method.\n"
     ]
    }
   ],
   "source": [
    "with open('myfile.txt', 'r') as f:\n",
    "    for line in f:\n",
    "        print(line)"
   ]
  },
  {
   "cell_type": "markdown",
   "id": "6f7eb29e",
   "metadata": {},
   "source": [
    "- Tip: Check for empty strings to detect the end of the file.\n",
    "\n",
    "### 2. Parsing Data from Lines\n",
    "- Example: Reading comma-separated marks for students and processing them.\n",
    "\n",
    "- Steps:\n",
    "\n",
    "    - Read each line.\n",
    "\n",
    "    - Split the line using .split(',').\n",
    "\n",
    "    - Convert strings to integers using typecasting.\n",
    "\n",
    "- Example:"
   ]
  },
  {
   "cell_type": "code",
   "execution_count": null,
   "id": "79fc9c42",
   "metadata": {},
   "outputs": [],
   "source": [
    "f = open('myfile.txt', 'r')\n",
    "for line in f:\n",
    "    marks = line.strip().split(',')\n",
    "    m1 = int(marks[0])\n",
    "    m2 = int(marks[1])\n",
    "    m3 = int(marks[2])\n",
    "    print(m1, m2, m3)"
   ]
  },
  {
   "cell_type": "markdown",
   "id": "79c0d8a3",
   "metadata": {},
   "source": [
    "- **Key Point:** Always typecast values if you need numerical operations.\n",
    "\n",
    "# Writing to Files\n",
    "### 1. writelines() Method\n",
    "- Writes a sequence (list) of strings to a file.\n",
    "\n",
    "- Does not add newline characters automatically; you must include \\n at the end of each string if you want lines to be separated.\n",
    "\n",
    "- Example:"
   ]
  },
  {
   "cell_type": "code",
   "execution_count": 19,
   "id": "abe8efd1",
   "metadata": {},
   "outputs": [],
   "source": [
    "lines = ['line 1\\n', 'line 2\\n', 'line 3\\n']\n",
    "with open('myfile2.txt', 'w') as f:\n",
    "    f.writelines(lines)"
   ]
  },
  {
   "cell_type": "markdown",
   "id": "4b2ab562",
   "metadata": {},
   "source": [
    "- **Pitfall:** If newline characters are missing, all content will be written in a single line.\n",
    "\n",
    "### 2. Manual Line Writing\n",
    "- If you want to ensure each string appears on a new line, use a loop:"
   ]
  },
  {
   "cell_type": "code",
   "execution_count": null,
   "id": "78c3a53c",
   "metadata": {},
   "outputs": [],
   "source": [
    "for line in lines:\n",
    "    f.write(line + '\\n')"
   ]
  },
  {
   "cell_type": "markdown",
   "id": "de001388",
   "metadata": {},
   "source": [
    "- Useful when building content dynamically or when newline management is important.\n",
    "\n",
    "# Important Terms and Concepts\n",
    "- **File Pointer:** The current position in the file where the next read or write will occur.\n",
    "\n",
    "- **Typecasting:** Converting data from one type to another (e.g., string to integer using int()).\n",
    "\n",
    "- **Iterables:** Objects that can be looped over (like lists returned by readlines()).\n",
    "\n",
    "# Common Mistakes and Debugging Tips\n",
    "- Forgetting to close files can lead to resource leaks.\n",
    "\n",
    "- Not adding newline characters when using writelines() results in merged lines.\n",
    "\n",
    "- Attempting to perform operations (like multiplication) on strings instead of integers leads to unexpected results (e.g., '56' * 2 results in '5656' not 112).\n",
    "\n",
    "- Use strip() to remove unwanted whitespace or newline characters from lines before processing."
   ]
  },
  {
   "cell_type": "markdown",
   "id": "bc672700",
   "metadata": {},
   "source": [
    "# Summary\n",
    "- **Reading Methods:** Use read(), readline(), and readlines() based on your needs for reading file content.\n",
    "\n",
    "- **Writing Methods:** Use writelines() for writing multiple lines, but manage newlines yourself.\n",
    "\n",
    "- **Processing Data:** Always typecast strings to appropriate types for calculations.\n",
    "\n",
    "- **Best Practice:** Always close files after use or utilize with statements for automatic handling.\n",
    "\n",
    "- **Debugging:** Pay attention to data types and file pointer positions to avoid common mistakes."
   ]
  }
 ],
 "metadata": {
  "kernelspec": {
   "display_name": ".venv",
   "language": "python",
   "name": "python3"
  },
  "language_info": {
   "codemirror_mode": {
    "name": "ipython",
    "version": 3
   },
   "file_extension": ".py",
   "mimetype": "text/x-python",
   "name": "python",
   "nbconvert_exporter": "python",
   "pygments_lexer": "ipython3",
   "version": "3.12.3"
  }
 },
 "nbformat": 4,
 "nbformat_minor": 5
}
