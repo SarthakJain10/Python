{
 "cells": [
  {
   "cell_type": "markdown",
   "id": "c2321b68",
   "metadata": {},
   "source": [
    "# 1. File Objects in Python\n",
    "- In Python, files are handled using file objects, typically created with the open() function.\n",
    "\n",
    "- File objects provide various methods for reading, writing, and manipulating file content and positions, such as read(), write(), seek(), tell(), and truncate()."
   ]
  },
  {
   "cell_type": "markdown",
   "id": "9ea8baf8",
   "metadata": {},
   "source": [
    "# 2. The seek() Function\n",
    "### Definition:\n",
    "The seek(offset, whence=0) method is used to change the current file position (the \"file pointer\") to a specified byte within the file."
   ]
  },
  {
   "cell_type": "markdown",
   "id": "dfdd7f02",
   "metadata": {},
   "source": [
    "### How It Works:\n",
    "\n",
    "- **offset:** The number of bytes to move the pointer.\n",
    "\n",
    "- **whence:** Optional argument (default is 0, meaning the start of the file).\n",
    "\n",
    "    - 0: Move relative to the file’s beginning.\n",
    "\n",
    "    - 1: Move relative to the current position.\n",
    "\n",
    "    - 2: Move relative to the file’s end."
   ]
  },
  {
   "cell_type": "markdown",
   "id": "4fe3cfe1",
   "metadata": {},
   "source": [
    "### Key Points:\n",
    "\n",
    "- Allows you to move forward or backward within a file.\n",
    "\n",
    "- Useful for editing or reading from a specific position without processing the entire file.\n",
    "\n",
    "- Example: To read from the 10th byte, use f.seek(10) before calling f.read().\n",
    "\n",
    "Example:"
   ]
  },
  {
   "cell_type": "code",
   "execution_count": 1,
   "id": "a82edc4d",
   "metadata": {},
   "outputs": [],
   "source": [
    "f = open(\"myfile.txt\", \"r\")\n",
    "f.seek(10)        # Move to the 10th byte\n",
    "data = f.read(5)  # Read the next 5 characters from that position"
   ]
  },
  {
   "cell_type": "markdown",
   "id": "7ff9e731",
   "metadata": {},
   "source": [
    "- This reads 5 characters starting from the 10th byte in the file.\n",
    "\n",
    "# 3. The tell() Function\n",
    "### Definition:\n",
    "The tell() method returns the current position of the file pointer (in bytes) within the file."
   ]
  },
  {
   "cell_type": "markdown",
   "id": "6effbe5f",
   "metadata": {},
   "source": [
    "### Key Points:\n",
    "\n",
    "- Helps track where you are in the file, especially in large or complex programs.\n",
    "\n",
    "- Useful for debugging or when you need to know where the next read or write will occur.\n",
    "\n",
    "Example:"
   ]
  },
  {
   "cell_type": "code",
   "execution_count": 2,
   "id": "ab45390b",
   "metadata": {},
   "outputs": [
    {
     "name": "stdout",
     "output_type": "stream",
     "text": [
      "15\n"
     ]
    }
   ],
   "source": [
    "position = f.tell()\n",
    "print(position)  # Outputs the current byte position in the file"
   ]
  },
  {
   "cell_type": "markdown",
   "id": "89774116",
   "metadata": {},
   "source": [
    "- After using f.seek(10), f.tell() will return 10.\n",
    "\n",
    "# 4. The truncate() Function\n",
    "### Definition:\n",
    "The truncate(size=None) method resizes the file to the specified size (in bytes). If no size is given, it truncates at the current file pointer position.\n",
    "\n",
    "### Key Points:\n",
    "\n",
    "- Used to shorten a file to a specific length.\n",
    " \n",
    "- If the specified size is less than the current file size, the file is cut at that point; data beyond is lost.\n",
    "\n",
    "- If the size is greater, the file is extended (the added part may contain null bytes).\n",
    "\n",
    "Example:"
   ]
  },
  {
   "cell_type": "code",
   "execution_count": 3,
   "id": "52574902",
   "metadata": {},
   "outputs": [
    {
     "data": {
      "text/plain": [
       "5"
      ]
     },
     "execution_count": 3,
     "metadata": {},
     "output_type": "execute_result"
    }
   ],
   "source": [
    "f = open(\"sample.txt\", \"w+\")\n",
    "f.write(\"Hello World\")\n",
    "f.truncate(5)"
   ]
  },
  {
   "cell_type": "markdown",
   "id": "5f8311ec",
   "metadata": {},
   "source": [
    "- After truncation, sample.txt will only contain Hello (the first 5 characters).\n",
    "\n",
    "# Practical Examples\n",
    "### Editing a Specific Character in a File\n",
    "- Instead of reading the whole file and rewriting it, use seek() to jump directly to the position you want to edit, then write the new character.\n",
    "\n",
    "- This method is more efficient, especially for large files.\n",
    "\n",
    "### Reading from a Specific Position\n",
    "- Use seek() to move to the desired position, then use read() to extract data from there.\n",
    "\n",
    "- Use tell() to verify or debug the current position before or after reading.\n",
    "\n",
    "### Truncating a File\n",
    "- After writing data, use truncate() to limit the file size.\n",
    "\n",
    "- Example: Writing \"Hello World 3\" and then truncating to 3 bytes will result in only \"Hel\" being saved in the file."
   ]
  },
  {
   "cell_type": "markdown",
   "id": "c803c1fd",
   "metadata": {},
   "source": [
    "# Summary\n",
    "- seek() lets you move the file pointer to any position, allowing for efficient reading or writing at specific locations.\n",
    "\n",
    "- tell() returns the current position of the file pointer, useful for tracking and debugging.\n",
    "\n",
    "- truncate() resizes the file to a specified length, removing any data beyond that point.\n",
    "\n",
    "- These functions are essential for advanced file handling in Python, enabling tasks such as editing specific parts of a file, reading from arbitrary positions, and managing file sizes efficiently."
   ]
  }
 ],
 "metadata": {
  "kernelspec": {
   "display_name": ".venv",
   "language": "python",
   "name": "python3"
  },
  "language_info": {
   "codemirror_mode": {
    "name": "ipython",
    "version": 3
   },
   "file_extension": ".py",
   "mimetype": "text/x-python",
   "name": "python",
   "nbconvert_exporter": "python",
   "pygments_lexer": "ipython3",
   "version": "3.12.3"
  }
 },
 "nbformat": 4,
 "nbformat_minor": 5
}
