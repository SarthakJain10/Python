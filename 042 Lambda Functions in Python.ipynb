{
 "cells": [
  {
   "cell_type": "markdown",
   "id": "175ee66b",
   "metadata": {},
   "source": [
    "# What are Lambda Functions?\n",
    "### Definition\n",
    "- Lambda Function: An anonymous, single-expression function defined using the lambda keyword in Python.\n",
    "\n",
    "- Unlike standard functions created with def, lambda functions do not have a name unless assigned to a variable.\n",
    "\n",
    "### Syntax"
   ]
  },
  {
   "cell_type": "code",
   "execution_count": null,
   "id": "87c437c5",
   "metadata": {},
   "outputs": [],
   "source": [
    "lambda arguments: expression"
   ]
  },
  {
   "cell_type": "markdown",
   "id": "7cbe39cc",
   "metadata": {},
   "source": [
    "- The function can take any number of arguments but only one expression, which is evaluated and returned.\n",
    "\n",
    "# Key Concepts\n",
    "### 1. Anonymous Functions\n",
    "- Lambda functions are called \"anonymous\" because they do not require a name.\n",
    "\n",
    "- They are used for small, throwaway functions that are not reused elsewhere in the code.\n",
    "\n",
    "### 2. Single Expression\n",
    "- Lambda functions must contain a single expression, not multiple statements.\n",
    "\n",
    "- The expression is evaluated and its result is returned automatically.\n",
    "\n",
    "### 3. Assigning Lambda Functions\n",
    "- Lambda functions can be assigned to variables, which can then be used like regular functions."
   ]
  },
  {
   "cell_type": "markdown",
   "id": "2a0e956f",
   "metadata": {},
   "source": [
    "Example:"
   ]
  },
  {
   "cell_type": "code",
   "execution_count": 1,
   "id": "117de19b",
   "metadata": {},
   "outputs": [
    {
     "name": "stdout",
     "output_type": "stream",
     "text": [
      "10\n"
     ]
    }
   ],
   "source": [
    "double = lambda x: x * 2\n",
    "print(double(5))  # Output: 10"
   ]
  },
  {
   "cell_type": "markdown",
   "id": "d32c397e",
   "metadata": {},
   "source": [
    "- This is equivalent to:"
   ]
  },
  {
   "cell_type": "code",
   "execution_count": 2,
   "id": "94d79bdd",
   "metadata": {},
   "outputs": [],
   "source": [
    "def double(x):\n",
    "    return x * 2"
   ]
  },
  {
   "cell_type": "markdown",
   "id": "0801234f",
   "metadata": {},
   "source": [
    "### 4. Multiple Arguments\n",
    "- Lambda functions can accept multiple arguments.\n",
    "\n",
    "Example:"
   ]
  },
  {
   "cell_type": "code",
   "execution_count": 3,
   "id": "585fbcd7",
   "metadata": {},
   "outputs": [
    {
     "name": "stdout",
     "output_type": "stream",
     "text": [
      "4.0\n"
     ]
    }
   ],
   "source": [
    "avg = lambda x, y: (x + y) / 2\n",
    "print(avg(3, 5))  # Output: 4.0"
   ]
  },
  {
   "cell_type": "markdown",
   "id": "1d5c2515",
   "metadata": {},
   "source": [
    "- You can extend this to more arguments as needed.\n",
    "\n",
    "# When to Use Lambda Functions\n",
    "- When a function is required for a short period and does not need a name.\n",
    "\n",
    "- Useful for transforming values (e.g., doubling, squaring, cubing numbers).\n",
    "\n",
    "- Commonly used as arguments to higher-order functions (functions that accept other functions as arguments), such as map, filter, and reduce.\n",
    "\n",
    "- Not recommended for complex logic or multi-line operations—use def for those cases."
   ]
  },
  {
   "cell_type": "markdown",
   "id": "85499c5a",
   "metadata": {},
   "source": [
    "# Examples\n",
    "### 1. Simple Operations\n",
    "- Doubling a Number:"
   ]
  },
  {
   "cell_type": "code",
   "execution_count": 4,
   "id": "7f0b6a6c",
   "metadata": {},
   "outputs": [
    {
     "name": "stdout",
     "output_type": "stream",
     "text": [
      "10\n"
     ]
    }
   ],
   "source": [
    "double = lambda x: x * 2\n",
    "print(double(5))  # Output: 10"
   ]
  },
  {
   "cell_type": "markdown",
   "id": "03a9efd7",
   "metadata": {},
   "source": [
    "- Cubing a Number:"
   ]
  },
  {
   "cell_type": "code",
   "execution_count": 5,
   "id": "8d5c21bb",
   "metadata": {},
   "outputs": [
    {
     "name": "stdout",
     "output_type": "stream",
     "text": [
      "125\n"
     ]
    }
   ],
   "source": [
    "cube = lambda x: x * x * x\n",
    "print(cube(5))  # Output: 125"
   ]
  },
  {
   "cell_type": "markdown",
   "id": "334c77a2",
   "metadata": {},
   "source": [
    "### 2. Average of Multiple Numbers"
   ]
  },
  {
   "cell_type": "code",
   "execution_count": 6,
   "id": "5100c068",
   "metadata": {},
   "outputs": [
    {
     "name": "stdout",
     "output_type": "stream",
     "text": [
      "6.0\n"
     ]
    }
   ],
   "source": [
    "avg = lambda x, y, z: (x + y + z) / 3\n",
    "print(avg(3, 5, 10))  # Output: 6.0"
   ]
  },
  {
   "cell_type": "markdown",
   "id": "fcdaf51c",
   "metadata": {},
   "source": [
    "### 3. Passing Functions as Arguments\n",
    "- Lambda functions can be passed as arguments to other functions.\n",
    "\n",
    "Example:"
   ]
  },
  {
   "cell_type": "code",
   "execution_count": 7,
   "id": "ada3709f",
   "metadata": {},
   "outputs": [
    {
     "name": "stdout",
     "output_type": "stream",
     "text": [
      "10\n"
     ]
    }
   ],
   "source": [
    "def appl(fx, value):\n",
    "    return 6 + fx(value)\n",
    "\n",
    "print(appl(lambda x: x * x, 2))  # Output: 10"
   ]
  },
  {
   "cell_type": "markdown",
   "id": "80c3c2af",
   "metadata": {},
   "source": [
    "- Here, lambda x: x * x is passed directly as an argument without naming it.\n",
    "\n",
    "# Important Terms and Concepts\n",
    "- **Anonymous Function:** A function without a name, created using lambda.\n",
    "\n",
    "- **Higher-Order Function:** A function that takes another function as an argument or returns a function as a result.\n",
    "\n",
    "- **Expression:** A single, evaluatable statement (e.g., x * 2)."
   ]
  },
  {
   "cell_type": "markdown",
   "id": "d1727cb5",
   "metadata": {},
   "source": [
    "# Key Points to Remember\n",
    "- Lambda functions are concise, useful for simple operations, and best used where short, unnamed functions are needed.\n",
    "\n",
    "- They cannot contain multiple statements or complex logic—use def for those scenarios.\n",
    "\n",
    "- Lambda functions are often used with functions like map, filter, and reduce (to be discussed in the next lecture).\n",
    "\n",
    "- Assigning a lambda to a variable gives it a name, but the function itself remains anonymous unless explicitly named."
   ]
  },
  {
   "cell_type": "markdown",
   "id": "3bf11211",
   "metadata": {},
   "source": [
    "# Summary\n",
    "- Lambda functions provide a way to write small, anonymous functions in a single line using the lambda keyword.\n",
    "\n",
    "- They are ideal for short, simple tasks and are widely used as arguments to higher-order functions.\n",
    "\n",
    "- Use lambda functions for operations that can be expressed in a single expression and do not require a standalone function definition.\n",
    "\n",
    "- For complex logic or multi-line functions, stick to the traditional def method."
   ]
  }
 ],
 "metadata": {
  "kernelspec": {
   "display_name": ".venv",
   "language": "python",
   "name": "python3"
  },
  "language_info": {
   "codemirror_mode": {
    "name": "ipython",
    "version": 3
   },
   "file_extension": ".py",
   "mimetype": "text/x-python",
   "name": "python",
   "nbconvert_exporter": "python",
   "pygments_lexer": "ipython3",
   "version": "3.12.3"
  }
 },
 "nbformat": 4,
 "nbformat_minor": 5
}
