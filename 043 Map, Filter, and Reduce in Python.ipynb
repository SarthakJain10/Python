{
 "cells": [
  {
   "cell_type": "markdown",
   "id": "f345a1ab",
   "metadata": {},
   "source": [
    "# What Are Higher-Order Functions?\n",
    "- **Definition:** Functions that take other functions as arguments or return them as results.\n",
    "\n",
    "- **Examples in Python:** map(), filter(), and reduce() are all higher-order functions because they operate on other functions and iterables.\n",
    "\n",
    "# The map() Function\n",
    "### Purpose\n",
    "- Applies a given function to every item in an iterable (like a list or tuple), returning a map object (which can be converted to a list or other iterable).\n",
    "\n",
    "### Syntax"
   ]
  },
  {
   "cell_type": "code",
   "execution_count": null,
   "id": "5838e34e",
   "metadata": {},
   "outputs": [],
   "source": [
    "map(function, iterable)"
   ]
  },
  {
   "cell_type": "markdown",
   "id": "6dad1587",
   "metadata": {},
   "source": [
    "### How It Works\n",
    "- The function is applied to each element in the iterable.\n",
    "\n",
    "- The result is a map object, which can be converted to a list using list().\n",
    "\n",
    "### Example"
   ]
  },
  {
   "cell_type": "code",
   "execution_count": 1,
   "id": "b15f957f",
   "metadata": {},
   "outputs": [
    {
     "name": "stdout",
     "output_type": "stream",
     "text": [
      "[1, 4, 16]\n"
     ]
    }
   ],
   "source": [
    "def square(x):\n",
    "    return x * x\n",
    "\n",
    "numbers = [1, 2, 4]\n",
    "result = map(square, numbers)\n",
    "print(list(result))  # Output: [1, 4, 16]\n"
   ]
  },
  {
   "cell_type": "markdown",
   "id": "191269b7",
   "metadata": {},
   "source": [
    "### Key Points\n",
    "- The map object does not return a list by default; you must convert it.\n",
    "\n",
    "- You can use lambda functions for quick, inline operations.\n",
    "\n",
    "# The filter() Function\n",
    "\n",
    "### Purpose\n",
    "- Filters elements from an iterable based on a function that returns True or False for each element.\n",
    "\n",
    "### Syntax"
   ]
  },
  {
   "cell_type": "code",
   "execution_count": null,
   "id": "a6381228",
   "metadata": {},
   "outputs": [],
   "source": [
    "filter(function, iterable)"
   ]
  },
  {
   "cell_type": "markdown",
   "id": "aeca745b",
   "metadata": {},
   "source": [
    "### How It Works\n",
    "- The function (predicate) determines which elements to keep.\n",
    "\n",
    "- Only elements for which the function returns True are included in the result.\n",
    "\n",
    "### Example"
   ]
  },
  {
   "cell_type": "code",
   "execution_count": 2,
   "id": "74a78e64",
   "metadata": {},
   "outputs": [
    {
     "name": "stdout",
     "output_type": "stream",
     "text": [
      "[6]\n"
     ]
    }
   ],
   "source": [
    "def is_greater_than_four(x):\n",
    "    return x > 4\n",
    "\n",
    "numbers = [1, 2, 4, 6, 4, 3]\n",
    "result = filter(is_greater_than_four, numbers)\n",
    "print(list(result))  # Output: [6]"
   ]
  },
  {
   "cell_type": "markdown",
   "id": "8ecabd52",
   "metadata": {},
   "source": [
    "### Key Points\n",
    "- Like map, filter returns a filter object, not a list, so you need to convert it.\n",
    "\n",
    "- Lambda functions can be used for concise predicates.\n",
    "\n",
    "# The reduce() Function\n",
    "\n",
    "### Purpose\n",
    "- Applies a function of two arguments cumulatively to the items of a sequence, reducing the sequence to a single value.\n",
    "\n",
    "### Syntax"
   ]
  },
  {
   "cell_type": "code",
   "execution_count": null,
   "id": "b6241d4d",
   "metadata": {},
   "outputs": [],
   "source": [
    "from functools import reduce\n",
    "reduce(function, iterable)"
   ]
  },
  {
   "cell_type": "markdown",
   "id": "bd00f525",
   "metadata": {},
   "source": [
    "### How It Works\n",
    "- The function is applied to the first two elements, then to the result and the next element, and so on.\n",
    "\n",
    "- Useful for operations like summing, multiplying, or finding the maximum/minimum in a list.\n",
    "\n",
    "### Example"
   ]
  },
  {
   "cell_type": "code",
   "execution_count": 3,
   "id": "e14a0795",
   "metadata": {},
   "outputs": [
    {
     "name": "stdout",
     "output_type": "stream",
     "text": [
      "20\n"
     ]
    }
   ],
   "source": [
    "from functools import reduce\n",
    "\n",
    "def add(x, y):\n",
    "    return x + y\n",
    "\n",
    "numbers = [1, 2, 4, 6, 4, 3]\n",
    "result = reduce(add, numbers)\n",
    "print(result)  # Output: 20"
   ]
  },
  {
   "cell_type": "markdown",
   "id": "5c45334d",
   "metadata": {},
   "source": [
    "### Key Points\n",
    "- reduce is not a built-in function in Python 3; it must be imported from the functools module.\n",
    "\n",
    "- Lambda functions are commonly used for simple operations."
   ]
  },
  {
   "cell_type": "markdown",
   "id": "ba8ee854",
   "metadata": {},
   "source": [
    "# Practical Examples and Tips\n",
    "- ### Using Lambda Functions:\n",
    "    Lambda functions provide a quick way to define small, anonymous functions for use with map, filter, and reduce.\n",
    "\n",
    "    Example:"
   ]
  },
  {
   "cell_type": "code",
   "execution_count": 4,
   "id": "1ea4fe3b",
   "metadata": {},
   "outputs": [
    {
     "name": "stdout",
     "output_type": "stream",
     "text": [
      "[2, 4, 6]\n"
     ]
    }
   ],
   "source": [
    "result = map(lambda x: x * 2, [1, 2, 3])\n",
    "print(list(result))  # Output: [2, 4, 6]"
   ]
  },
  {
   "cell_type": "markdown",
   "id": "6aa13780",
   "metadata": {},
   "source": [
    "- ### Converting Objects:\n",
    "    Both map and filter return special objects. Use list() to convert them to lists for easier viewing and manipulation.\n",
    "\n",
    "- ### Predicate Functions:\n",
    "    Functions used with filter should return boolean values (True or False), determining which elements pass the filter."
   ]
  },
  {
   "cell_type": "markdown",
   "id": "06764059",
   "metadata": {},
   "source": [
    "# Summary\n",
    "- **map:** Applies a function to all elements in an iterable and returns a map object.\n",
    "\n",
    "- **filter:** Filters elements in an iterable based on a predicate function, returning a filter object.\n",
    "\n",
    "- **reduce:** Reduces an iterable to a single value by cumulatively applying a function, available via functools.\n",
    "\n",
    "- All three are higher-order functions and are powerful tools for concise, functional-style programming in Python.\n",
    "\n",
    "- Use list() to convert map and filter results to lists.\n",
    "\n",
    "- Lambda functions make these operations more concise and readable.\n",
    "\n",
    "- Understanding and practicing these functions will enhance your Python programming skills and efficiency."
   ]
  }
 ],
 "metadata": {
  "kernelspec": {
   "display_name": ".venv",
   "language": "python",
   "name": "python3"
  },
  "language_info": {
   "codemirror_mode": {
    "name": "ipython",
    "version": 3
   },
   "file_extension": ".py",
   "mimetype": "text/x-python",
   "name": "python",
   "nbconvert_exporter": "python",
   "pygments_lexer": "ipython3",
   "version": "3.12.3"
  }
 },
 "nbformat": 4,
 "nbformat_minor": 5
}
