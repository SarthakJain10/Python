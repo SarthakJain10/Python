{
 "cells": [
  {
   "cell_type": "markdown",
   "id": "45fe64d7",
   "metadata": {},
   "source": [
    "# 1. The == Operator (Equality Operator)\n",
    "- **Purpose:** Checks if the values of two objects are equal.\n",
    "\n",
    "- **Usage:** Used when you want to know if two variables have the same data, regardless of whether they are the same object in memory.\n",
    "\n",
    "- **Example:**"
   ]
  },
  {
   "cell_type": "code",
   "execution_count": 1,
   "id": "867a55a1",
   "metadata": {},
   "outputs": [
    {
     "name": "stdout",
     "output_type": "stream",
     "text": [
      "True\n"
     ]
    }
   ],
   "source": [
    "a = [1, 2, 3]\n",
    "b = [1, 2, 3]\n",
    "print(a == b)  # Output: True"
   ]
  },
  {
   "cell_type": "markdown",
   "id": "cf509b96",
   "metadata": {},
   "source": [
    "- Here, a and b are different objects, but their values are the same, so a == b evaluates to True.\n",
    "\n",
    "# 2. The is Operator (Identity Operator)\n",
    "- **Purpose:** Checks if two variables point to the same object in memory.\n",
    "\n",
    "- **Usage:** Used when you want to know if two variables refer to the exact same object, not just equivalent values.\n",
    "\n",
    "- **Example:**"
   ]
  },
  {
   "cell_type": "code",
   "execution_count": 2,
   "id": "c5bc73d8",
   "metadata": {},
   "outputs": [
    {
     "name": "stdout",
     "output_type": "stream",
     "text": [
      "False\n"
     ]
    }
   ],
   "source": [
    "a = [1, 2, 3]\n",
    "b = [1, 2, 3]\n",
    "print(a is b)  # Output: False"
   ]
  },
  {
   "cell_type": "markdown",
   "id": "3b5e59cf",
   "metadata": {},
   "source": [
    "- Although a and b have the same values, they are stored at different memory locations, so a is b is False."
   ]
  },
  {
   "cell_type": "markdown",
   "id": "50983403",
   "metadata": {},
   "source": [
    "# Detailed Explanations\n",
    "### When to Use == vs. is\n",
    "- Use == when you want to compare the values of two objects (e.g., numbers, strings, lists).\n",
    "\n",
    "- Use is when you want to check if two variables reference the same object (e.g., singleton objects like None)."
   ]
  },
  {
   "cell_type": "markdown",
   "id": "4c4451a4",
   "metadata": {},
   "source": [
    "### Special Case: Immutable Objects\n",
    "- For small integers and short strings, Python may reuse objects for efficiency (called interning), so is might return True for seemingly different variables:"
   ]
  },
  {
   "cell_type": "code",
   "execution_count": 3,
   "id": "8eeaded5",
   "metadata": {},
   "outputs": [
    {
     "name": "stdout",
     "output_type": "stream",
     "text": [
      "True\n"
     ]
    }
   ],
   "source": [
    "x = 5\n",
    "y = 5\n",
    "print(x is y)  # Output: True (due to interning)"
   ]
  },
  {
   "cell_type": "markdown",
   "id": "17e763c5",
   "metadata": {},
   "source": [
    "- However, this is an implementation detail and should not be relied upon for value comparison.\n",
    "\n",
    "### Comparing with None\n",
    "- The recommended way to check for None is using is:"
   ]
  },
  {
   "cell_type": "code",
   "execution_count": null,
   "id": "11ed834a",
   "metadata": {},
   "outputs": [],
   "source": [
    "if variable is None:\n",
    "    # do something"
   ]
  },
  {
   "cell_type": "markdown",
   "id": "ee5ea447",
   "metadata": {},
   "source": [
    "- This is because None is a singleton object in Python.\n",
    "\n",
    "# Examples\n",
    "### Example 1: Lists"
   ]
  },
  {
   "cell_type": "code",
   "execution_count": 4,
   "id": "14011ea9",
   "metadata": {},
   "outputs": [
    {
     "name": "stdout",
     "output_type": "stream",
     "text": [
      "True\n",
      "False\n"
     ]
    }
   ],
   "source": [
    "a = [1, 2, 3]\n",
    "b = [1, 2, 3]\n",
    "print(a == b)  # True\n",
    "print(a is b)  # False"
   ]
  },
  {
   "cell_type": "markdown",
   "id": "5d60b834",
   "metadata": {},
   "source": [
    "- a == b: True because the values are equal.\n",
    "\n",
    "- a is b: False because they are different objects in memory.\n",
    "\n",
    "### Example 2: Strings"
   ]
  },
  {
   "cell_type": "code",
   "execution_count": 5,
   "id": "b1645bff",
   "metadata": {},
   "outputs": [
    {
     "name": "stdout",
     "output_type": "stream",
     "text": [
      "True\n",
      "True\n"
     ]
    }
   ],
   "source": [
    "x = \"hello\"\n",
    "y = \"hello\"\n",
    "print(x == y)  # True\n",
    "print(x is y)  # May be True (due to interning), but don't rely on this"
   ]
  },
  {
   "cell_type": "markdown",
   "id": "c0b45f22",
   "metadata": {},
   "source": [
    "- Always use == for comparing string values.\n",
    "\n",
    "### Example 3: None Comparison"
   ]
  },
  {
   "cell_type": "code",
   "execution_count": 6,
   "id": "d4f4dd78",
   "metadata": {},
   "outputs": [
    {
     "name": "stdout",
     "output_type": "stream",
     "text": [
      "True\n",
      "True\n"
     ]
    }
   ],
   "source": [
    "a = None\n",
    "print(a is None)  # True\n",
    "print(a == None)  # True, but 'is' is preferred\n"
   ]
  },
  {
   "cell_type": "markdown",
   "id": "26b5c442",
   "metadata": {},
   "source": [
    "- Use is to compare with None.\n",
    "\n",
    "# Important Terms\n",
    "- **Equality (==):** Checks if values are the same.\n",
    "\n",
    "- **Identity (is):** Checks if objects are the same in memory.\n",
    "\n",
    "- **Interning:** Python optimization where some immutable objects are reused.\n",
    "\n",
    "- **Singleton:** An object of which there is only one instance (e.g., None)."
   ]
  },
  {
   "cell_type": "markdown",
   "id": "96afcc67",
   "metadata": {},
   "source": [
    "# Summary\n",
    "- Use == to compare values of objects.\n",
    "\n",
    "- Use is to check if two variables refer to the same object in memory.\n",
    "\n",
    "- For None, always use is for comparison.\n",
    "\n",
    "- Don’t rely on is for value comparison, especially with numbers and strings due to interning.\n",
    "\n",
    "- Understanding the distinction between is and == helps prevent subtle bugs and ensures your code behaves as expected."
   ]
  }
 ],
 "metadata": {
  "kernelspec": {
   "display_name": ".venv",
   "language": "python",
   "name": "python3"
  },
  "language_info": {
   "codemirror_mode": {
    "name": "ipython",
    "version": 3
   },
   "file_extension": ".py",
   "mimetype": "text/x-python",
   "name": "python",
   "nbconvert_exporter": "python",
   "pygments_lexer": "ipython3",
   "version": "3.12.3"
  }
 },
 "nbformat": 4,
 "nbformat_minor": 5
}
