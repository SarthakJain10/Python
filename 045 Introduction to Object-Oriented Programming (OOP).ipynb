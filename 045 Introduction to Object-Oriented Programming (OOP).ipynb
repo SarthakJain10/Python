{
 "cells": [
  {
   "cell_type": "markdown",
   "id": "1b1f9d07",
   "metadata": {},
   "source": [
    "# What is Object-Oriented Programming?\n",
    "- **Definition:** OOP is a programming approach that organizes code by mapping real-world entities into objects, allowing for better structure, maintainability, and scalability.\n",
    "\n",
    "- **Contrast with Procedural Programming:** Traditional procedural programming relies on functions and variables, often leading to code that is harder to manage as complexity grows. OOP, in contrast, groups related data and behaviors into objects, making code easier to understand and modify.\n",
    "\n",
    "\n",
    "# Why Use Object-Oriented Programming?\n",
    "- **Organization:** OOP helps organize code by grouping related properties and behaviors into classes and objects.\n",
    "\n",
    "- **Maintainability:** Programs become more manageable, especially as they scale.\n",
    "\n",
    "- **Real-World Mapping:** OOP allows programmers to model real-world entities directly, making programs more intuitive.\n",
    "\n",
    "- **Reusability:** Code can be reused through inheritance and polymorphism, reducing duplication.\n",
    "\n",
    "# Key Concepts of OOP\n",
    "### 1. Classes and Objects\n",
    "- **Class:** A blueprint or template for creating objects. It defines the properties (attributes) and behaviors (methods) that its objects will have.\n",
    "\n",
    "    - Example: A Businessman class can have attributes like sales, profit, and ad_spend.\n",
    "\n",
    "- **Object:** An instance of a class, containing its own data and able to perform actions defined by the class.\n",
    "\n",
    "    - Example: rajeev = Businessman() creates an object rajeev with its own sales and profit data."
   ]
  },
  {
   "cell_type": "markdown",
   "id": "da895227",
   "metadata": {},
   "source": [
    "### 2. Encapsulation\n",
    "- **Definition:** Encapsulation is the concept of bundling data (attributes) and methods (functions) that operate on the data into a single unit (class). It also restricts direct access to some of an object's components, which is known as data hiding.\n",
    "\n",
    "- **Benefit:** Protects the internal state of an object and only allows modification through well-defined methods.\n",
    "\n",
    "    - Example: Changing a name using shubham.changeName(\"Shubhi\") instead of directly accessing the data."
   ]
  },
  {
   "cell_type": "markdown",
   "id": "0de2a654",
   "metadata": {},
   "source": [
    "### 3. Inheritance\n",
    "- **Definition:** Inheritance allows a class (child or derived class) to inherit properties and methods from another class (parent or base class).\n",
    "\n",
    "- **Benefit:** Promotes code reuse and the creation of hierarchical relationships.\n",
    "\n",
    "    - Example: A VIPRailwayForm class can inherit from a basic RailwayForm class and add extra features like meal preferences."
   ]
  },
  {
   "cell_type": "markdown",
   "id": "6cf890b4",
   "metadata": {},
   "source": [
    "### 4. Polymorphism\n",
    "- **Definition:** Polymorphism means \"many forms.\" It allows objects of different classes to be treated as objects of a common superclass. Methods can be overridden to perform different tasks based on the object calling them.\n",
    "\n",
    "- **Benefit:** Increases flexibility and integration of code.\n",
    "\n",
    "# Examples and Analogies\n",
    "### Procedural Programming Example\n",
    "- Variables for each businessman: sales1, profit1, ad1, etc.\n",
    "\n",
    "- Becomes cumbersome and hard to manage as the number of entities increases."
   ]
  },
  {
   "cell_type": "markdown",
   "id": "f0fac11d",
   "metadata": {},
   "source": [
    "### OOP Example\n",
    "- Create a Businessman class.\n",
    "\n",
    "- Instantiate objects: rajeev = Businessman(), vikrant = Businessman().\n",
    "\n",
    "- Access attributes: rajeev.sales, vikrant.sales."
   ]
  },
  {
   "cell_type": "markdown",
   "id": "1b4a09fa",
   "metadata": {},
   "source": [
    "### Real-World Analogy: Railway Reservation Form\n",
    "- **Class as Template:** The blank railway reservation form is like a class.\n",
    "\n",
    "- **Objects as Instances:** Filled forms for Harry, Tom, and Shubham are objects—each contains unique data but follows the same structure."
   ]
  },
  {
   "cell_type": "markdown",
   "id": "c20ba9fc",
   "metadata": {},
   "source": [
    "# Important Terms"
   ]
  },
  {
   "cell_type": "code",
   "execution_count": 4,
   "id": "9a11564a",
   "metadata": {},
   "outputs": [
    {
     "data": {
      "text/html": [
       "<div>\n",
       "<style scoped>\n",
       "    .dataframe tbody tr th:only-of-type {\n",
       "        vertical-align: middle;\n",
       "    }\n",
       "\n",
       "    .dataframe tbody tr th {\n",
       "        vertical-align: top;\n",
       "    }\n",
       "\n",
       "    .dataframe thead th {\n",
       "        text-align: right;\n",
       "    }\n",
       "</style>\n",
       "<table border=\"1\" class=\"dataframe\">\n",
       "  <thead>\n",
       "    <tr style=\"text-align: right;\">\n",
       "      <th></th>\n",
       "      <th>Term</th>\n",
       "      <th>Definition</th>\n",
       "    </tr>\n",
       "  </thead>\n",
       "  <tbody>\n",
       "    <tr>\n",
       "      <th>0</th>\n",
       "      <td>Class</td>\n",
       "      <td>Blueprint/template for creating objects, defines properties and methods</td>\n",
       "    </tr>\n",
       "    <tr>\n",
       "      <th>1</th>\n",
       "      <td>Object</td>\n",
       "      <td>Instance of a class, contains its own data and methods</td>\n",
       "    </tr>\n",
       "    <tr>\n",
       "      <th>2</th>\n",
       "      <td>Encapsulation</td>\n",
       "      <td>Bundling data and methods, restricting direct access to internal state</td>\n",
       "    </tr>\n",
       "    <tr>\n",
       "      <th>3</th>\n",
       "      <td>Inheritance</td>\n",
       "      <td>Mechanism to create new classes from existing ones, reusing code</td>\n",
       "    </tr>\n",
       "    <tr>\n",
       "      <th>4</th>\n",
       "      <td>Polymorphism</td>\n",
       "      <td>Ability of different objects to be treated as instances of the same class</td>\n",
       "    </tr>\n",
       "  </tbody>\n",
       "</table>\n",
       "</div>"
      ],
      "text/plain": [
       "            Term  \\\n",
       "0          Class   \n",
       "1         Object   \n",
       "2  Encapsulation   \n",
       "3    Inheritance   \n",
       "4   Polymorphism   \n",
       "\n",
       "                                                                  Definition  \n",
       "0    Blueprint/template for creating objects, defines properties and methods  \n",
       "1                     Instance of a class, contains its own data and methods  \n",
       "2     Bundling data and methods, restricting direct access to internal state  \n",
       "3           Mechanism to create new classes from existing ones, reusing code  \n",
       "4  Ability of different objects to be treated as instances of the same class  "
      ]
     },
     "execution_count": 4,
     "metadata": {},
     "output_type": "execute_result"
    }
   ],
   "source": [
    "import pandas as pd\n",
    "pd.set_option('display.max_colwidth', None)\n",
    "df = pd.read_csv('csv_files/Term-Definition.csv')\n",
    "df"
   ]
  },
  {
   "cell_type": "markdown",
   "id": "e12fa0b3",
   "metadata": {},
   "source": [
    "# Summary\n",
    "- **OOP** is a programming paradigm that helps map real-world entities into code, making programs more organized, maintainable, and scalable.\n",
    "\n",
    "- **Classes** are templates; **objects** are instances with their own data.\n",
    "\n",
    "- **Encapsulation** protects object data and exposes only necessary methods.\n",
    "\n",
    "- **Inheritance** allows building new classes on top of existing ones, promoting code reuse.\n",
    "\n",
    "- **Polymorphism** enables objects to be used interchangeably, increasing code flexibility.\n",
    "\n",
    "- Understanding and applying OOP concepts in Python will make programming easier and more effective, especially for complex projects."
   ]
  }
 ],
 "metadata": {
  "kernelspec": {
   "display_name": ".venv",
   "language": "python",
   "name": "python3"
  },
  "language_info": {
   "codemirror_mode": {
    "name": "ipython",
    "version": 3
   },
   "file_extension": ".py",
   "mimetype": "text/x-python",
   "name": "python",
   "nbconvert_exporter": "python",
   "pygments_lexer": "ipython3",
   "version": "3.12.3"
  }
 },
 "nbformat": 4,
 "nbformat_minor": 5
}
