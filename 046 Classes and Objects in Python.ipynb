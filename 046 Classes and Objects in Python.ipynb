{
 "cells": [
  {
   "cell_type": "markdown",
   "id": "f24b24f9",
   "metadata": {},
   "source": [
    "# What is Object-Oriented Programming (OOP)?\n",
    "- OOP is a programming paradigm based on the concept of \"objects\", which can contain both data (attributes) and code (methods).\n",
    "\n",
    "- It helps in structuring complex programs by bundling related properties and behaviors into individual objects."
   ]
  },
  {
   "cell_type": "markdown",
   "id": "e170e878",
   "metadata": {},
   "source": [
    "# Benefits of OOP\n",
    "- **Modularity:** Code is organized into separate objects.\n",
    "\n",
    "- **Reusability:** Classes can be reused across programs.\n",
    "\n",
    "- **Scalability:** Easier to manage and expand codebases.\n",
    "\n",
    "- **Maintainability:** Bugs are easier to track and fix due to encapsulation."
   ]
  },
  {
   "cell_type": "markdown",
   "id": "3f5d6772",
   "metadata": {},
   "source": [
    "# Classes in Python\n",
    "- A class is a blueprint for creating objects.\n",
    "\n",
    "- It defines a set of attributes and methods that the created objects will have.\n",
    "\n",
    "### Syntax"
   ]
  },
  {
   "cell_type": "code",
   "execution_count": null,
   "id": "1fb0c6eb",
   "metadata": {},
   "outputs": [],
   "source": [
    "class ClassName:\n",
    "    # attributes and methods"
   ]
  },
  {
   "cell_type": "markdown",
   "id": "6f9efb3d",
   "metadata": {},
   "source": [
    "### Example"
   ]
  },
  {
   "cell_type": "code",
   "execution_count": 1,
   "id": "160b6836",
   "metadata": {},
   "outputs": [],
   "source": [
    "class Employee:\n",
    "    name = \"Harry\"\n",
    "    salary = 100000\n",
    "    role = \"Instructor\""
   ]
  },
  {
   "cell_type": "markdown",
   "id": "e59304c5",
   "metadata": {},
   "source": [
    "### Key Points:\n",
    "\n",
    "- The class keyword is used to define a class.\n",
    "\n",
    "- Attributes are variables that belong to the class.\n",
    "\n",
    "### Objects in Python\n",
    "- An object is an instance of a class.\n",
    "\n",
    "- Each object can access the attributes and methods defined in its class.\n",
    "\n",
    "### Creating an Object"
   ]
  },
  {
   "cell_type": "code",
   "execution_count": 2,
   "id": "36a8872a",
   "metadata": {},
   "outputs": [
    {
     "name": "stdout",
     "output_type": "stream",
     "text": [
      "Harry\n"
     ]
    }
   ],
   "source": [
    "emp1 = Employee()\n",
    "print(emp1.name)  # Output: Harry"
   ]
  },
  {
   "cell_type": "markdown",
   "id": "f6b2bbbd",
   "metadata": {},
   "source": [
    "### Key Points:\n",
    "\n",
    "- Objects are created by calling the class name followed by parentheses.\n",
    "\n",
    "- Each object can access class attributes using dot notation.\n",
    "\n",
    "# The self Parameter\n",
    "- The self parameter refers to the current instance of the class.\n",
    "\n",
    "- It is used within methods to access instance attributes and methods."
   ]
  },
  {
   "cell_type": "markdown",
   "id": "e4cd7b0f",
   "metadata": {},
   "source": [
    "### Example"
   ]
  },
  {
   "cell_type": "code",
   "execution_count": 3,
   "id": "42ff59e5",
   "metadata": {},
   "outputs": [],
   "source": [
    "class Employee:\n",
    "    def getSalary(self):\n",
    "        print(self.salary)"
   ]
  },
  {
   "cell_type": "markdown",
   "id": "b12aeac5",
   "metadata": {},
   "source": [
    "###  Key Points:\n",
    "\n",
    "- self must be the first parameter in any method defined within a class.\n",
    "\n",
    "- It allows methods to access and modify object attributes.\n",
    "\n"
   ]
  },
  {
   "cell_type": "markdown",
   "id": "459b7d83",
   "metadata": {},
   "source": [
    "# The \\_\\_init\\_\\_ Method (Constructor)\n",
    "- The \\_\\_init\\_\\_ method is a special method called when an object is created.\n",
    "\n",
    "- It is used to initialize object attributes.\n",
    "\n",
    "### Example"
   ]
  },
  {
   "cell_type": "code",
   "execution_count": 4,
   "id": "37aff2f4",
   "metadata": {},
   "outputs": [],
   "source": [
    "class Employee:\n",
    "    def __init__(self, name, salary, role):\n",
    "        self.name = name\n",
    "        self.salary = salary\n",
    "        self.role = role"
   ]
  },
  {
   "cell_type": "markdown",
   "id": "1db75dd3",
   "metadata": {},
   "source": [
    "### Key Points:\n",
    "\n",
    "- \\_\\_init\\_\\_ is automatically called when an object is instantiated.\n",
    "\n",
    "- Attributes can be set dynamically during object creation.\n",
    "\n",
    "# Examples\n",
    "### Example 1: Creating a Simple Class and Object"
   ]
  },
  {
   "cell_type": "code",
   "execution_count": 5,
   "id": "6183216a",
   "metadata": {},
   "outputs": [
    {
     "name": "stdout",
     "output_type": "stream",
     "text": [
      "Woof!\n"
     ]
    }
   ],
   "source": [
    "class Dog:\n",
    "    def bark(self):\n",
    "        print(\"Woof!\")\n",
    "        \n",
    "dog1 = Dog()\n",
    "dog1.bark()  # Output: Woof!"
   ]
  },
  {
   "cell_type": "markdown",
   "id": "27ded92b",
   "metadata": {},
   "source": [
    "### Example 2: Using the Constructor"
   ]
  },
  {
   "cell_type": "code",
   "execution_count": 6,
   "id": "a373d14a",
   "metadata": {},
   "outputs": [
    {
     "name": "stdout",
     "output_type": "stream",
     "text": [
      "Alice\n"
     ]
    }
   ],
   "source": [
    "class Student:\n",
    "    def __init__(self, name, grade):\n",
    "        self.name = name\n",
    "        self.grade = grade\n",
    "\n",
    "student1 = Student(\"Alice\", \"A\")\n",
    "print(student1.name)  # Output: Alice\n",
    "\n"
   ]
  },
  {
   "cell_type": "markdown",
   "id": "32575869",
   "metadata": {},
   "source": [
    "# Important Terms\n",
    "- **Class:** Blueprint for objects.\n",
    "\n",
    "- **Object:** Instance of a class.\n",
    "\n",
    "- **Attribute:** Variable associated with a class/object.\n",
    "\n",
    "- **Method:** Function defined within a class.\n",
    "\n",
    "- **self:** Refers to the current object.\n",
    "\n",
    "Constructor (\\_\\_init\\_\\_): Special method to initialize objects."
   ]
  },
  {
   "cell_type": "markdown",
   "id": "5f86f194",
   "metadata": {},
   "source": [
    "# Summary\n",
    "- Classes provide a blueprint for creating objects, encapsulating data and behaviors.\n",
    "\n",
    "- Objects are instances of classes and can access class attributes and methods.\n",
    "\n",
    "- The self parameter is essential for referencing object-specific data within methods.\n",
    "\n",
    "- The \\_\\_init\\_\\_ method initializes object attributes at the time of creation.\n",
    "\n",
    "- Mastering classes and objects is fundamental for effective Python programming and paves the way for advanced OOP concepts such as inheritance and polymorphism."
   ]
  }
 ],
 "metadata": {
  "kernelspec": {
   "display_name": ".venv",
   "language": "python",
   "name": "python3"
  },
  "language_info": {
   "codemirror_mode": {
    "name": "ipython",
    "version": 3
   },
   "file_extension": ".py",
   "mimetype": "text/x-python",
   "name": "python",
   "nbconvert_exporter": "python",
   "pygments_lexer": "ipython3",
   "version": "3.12.3"
  }
 },
 "nbformat": 4,
 "nbformat_minor": 5
}
