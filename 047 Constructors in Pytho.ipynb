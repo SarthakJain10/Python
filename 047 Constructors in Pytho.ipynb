{
 "cells": [
  {
   "cell_type": "markdown",
   "id": "6f6648b1",
   "metadata": {},
   "source": [
    "# What is a Constructor?\n",
    "- **Definition:** A constructor is a special method that is automatically called when an object of a class is created.\n",
    "\n",
    "- In Python, the constructor method is named \\_\\_init\\_\\_.\n",
    "\n",
    "- Constructors are used to set up initial values for object attributes and to perform any setup steps required for the object to function."
   ]
  },
  {
   "cell_type": "markdown",
   "id": "6932c823",
   "metadata": {},
   "source": [
    "# Key Points\n",
    "- The constructor method in Python is always named \\_\\_init\\_\\_.\n",
    "\n",
    "- It is called automatically when a new instance of a class is created.\n",
    "\n",
    "- The first parameter of \\_\\_init\\_\\_ is always self, which refers to the instance being created."
   ]
  },
  {
   "cell_type": "markdown",
   "id": "2a3b4c71",
   "metadata": {},
   "source": [
    "# Why Use Constructors?\n",
    "- **Initialization:** They allow you to initialize the data members (attributes) of a class.\n",
    "\n",
    "- **Encapsulation:** Constructors help encapsulate the setup logic, making object creation cleaner and less error-prone.\n",
    "\n",
    "- **Code Readability:** By using constructors, your code becomes more readable and maintainable, as object initialization is handled in one place."
   ]
  },
  {
   "cell_type": "markdown",
   "id": "55c234d7",
   "metadata": {},
   "source": [
    "### Syntax of a Constructor in Python\n"
   ]
  },
  {
   "cell_type": "code",
   "execution_count": null,
   "id": "071b9a2d",
   "metadata": {},
   "outputs": [],
   "source": [
    "class MyClass:\n",
    "    def __init__(self, parameter1, parameter2):\n",
    "        self.parameter1 = parameter1\n",
    "        self.parameter2 = parameter2"
   ]
  },
  {
   "cell_type": "markdown",
   "id": "b4760850",
   "metadata": {},
   "source": [
    "- When you create an object using obj = MyClass(10, 20), the \\_\\_init\\_\\_ method is called with parameter1=10 and parameter2=20.\n",
    "\n",
    "- The attributes self.parameter1 and self.parameter2 are set for the new object.\n",
    "\n",
    "# Example: Constructor in Action\n",
    "### Example Code"
   ]
  },
  {
   "cell_type": "code",
   "execution_count": null,
   "id": "84b70bf6",
   "metadata": {},
   "outputs": [
    {
     "name": "stdout",
     "output_type": "stream",
     "text": [
      "Alice\n",
      "20\n"
     ]
    }
   ],
   "source": [
    "class Student:\n",
    "    def __init__(self, name, age):\n",
    "        self.name = name\n",
    "        self.age = age\n",
    "\n",
    "student1 = Student(\"Alice\", 20)\n",
    "print(student1.name)  # Output: Alice\n",
    "print(student1.age)   # Output: 20"
   ]
  },
  {
   "cell_type": "markdown",
   "id": "1861cea7",
   "metadata": {},
   "source": [
    "### Explanation:\n",
    "\n",
    "- When student1 is created, the __init__ method initializes name and age attributes for that object.\n",
    "\n",
    "- Accessing student1.name and student1.age returns the values provided during object creation."
   ]
  },
  {
   "cell_type": "markdown",
   "id": "f3647495",
   "metadata": {},
   "source": [
    "# Types of Constructors\n",
    "- **Default Constructor:** A constructor with no parameters except self. It is called when no additional information is provided at object creation.\n",
    "\n",
    "- **Parameterized Constructor:** A constructor that accepts arguments to initialize the object with specific values."
   ]
  },
  {
   "cell_type": "markdown",
   "id": "f77ddda5",
   "metadata": {},
   "source": [
    "### Example of Default Constructor"
   ]
  },
  {
   "cell_type": "code",
   "execution_count": 2,
   "id": "041d762d",
   "metadata": {},
   "outputs": [],
   "source": [
    "class Example:\n",
    "    def __init__(self):\n",
    "        print(\"Default constructor called\")"
   ]
  },
  {
   "cell_type": "markdown",
   "id": "2db53a01",
   "metadata": {},
   "source": [
    "### Example of Parameterized Constructor"
   ]
  },
  {
   "cell_type": "code",
   "execution_count": 3,
   "id": "b46c242d",
   "metadata": {},
   "outputs": [],
   "source": [
    "class Example:\n",
    "    def __init__(self, value):\n",
    "        self.value = value\n",
    "        print(f\"Value is {self.value}\")"
   ]
  },
  {
   "cell_type": "markdown",
   "id": "ddb373cb",
   "metadata": {},
   "source": [
    "# Important Concepts\n",
    "- **Self Parameter:** Refers to the current instance of the class. It is used to access variables and methods associated with the current object.\n",
    "\n",
    "- **Multiple Constructors:** Python does not support method overloading, so you cannot have multiple constructors with different signatures. However, you can use default arguments to simulate this behavior.\n",
    "\n",
    "### Example: Using Default Arguments"
   ]
  },
  {
   "cell_type": "code",
   "execution_count": 4,
   "id": "3b4c7442",
   "metadata": {},
   "outputs": [],
   "source": [
    "class Demo:\n",
    "    def __init__(self, value=0):\n",
    "        self.value = value"
   ]
  },
  {
   "cell_type": "markdown",
   "id": "039233b8",
   "metadata": {},
   "source": [
    "- This allows object creation with or without passing a value.\n",
    "\n",
    "# Summary\n",
    "\n",
    "- Constructors are special methods in Python, defined using \\_\\_init\\_\\_, and are called automatically when an object is created.\n",
    "\n",
    "- They are used to initialize object attributes and set up the object for use.\n",
    "\n",
    "- Constructors improve code organization, readability, and maintainability.\n",
    "\n",
    "- Python supports both default and parameterized constructors, but only one \\_\\_init\\_\\_ method per class; use default arguments to mimic multiple constructors.\n",
    "\n",
    "- Understanding constructors is crucial for effective object-oriented programming in Python."
   ]
  }
 ],
 "metadata": {
  "kernelspec": {
   "display_name": ".venv",
   "language": "python",
   "name": "python3"
  },
  "language_info": {
   "codemirror_mode": {
    "name": "ipython",
    "version": 3
   },
   "file_extension": ".py",
   "mimetype": "text/x-python",
   "name": "python",
   "nbconvert_exporter": "python",
   "pygments_lexer": "ipython3",
   "version": "3.12.3"
  }
 },
 "nbformat": 4,
 "nbformat_minor": 5
}
