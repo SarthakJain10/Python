{
 "cells": [
  {
   "cell_type": "markdown",
   "id": "e849f6cc",
   "metadata": {},
   "source": [
    "# What is a Decorator?\n",
    "- **Definition:** A decorator is a function that takes another function as an argument, modifies or enhances its behavior, and returns a new function.\n",
    "\n",
    "- **Purpose:** Decorators are used to add functionality to existing functions without changing their actual code. This is especially useful when you want to apply the same modification to multiple functions."
   ]
  },
  {
   "cell_type": "markdown",
   "id": "7365c105",
   "metadata": {},
   "source": [
    "# Why Use Decorators?\n",
    "- **Code Reusability:** Avoids repetition by allowing you to apply the same behavior to multiple functions.\n",
    "\n",
    "- **Separation of Concerns:** Keeps the core logic of your functions separate from auxiliary tasks (like logging, access control, etc.).\n",
    "\n",
    "- **Readability:** The @decorator syntax makes it clear which functions are being modified and how."
   ]
  },
  {
   "cell_type": "markdown",
   "id": "78d6599c",
   "metadata": {},
   "source": [
    "# Basic Syntax and How Decorators Work\n",
    "### 1. Creating a Simple Function"
   ]
  },
  {
   "cell_type": "code",
   "execution_count": 1,
   "id": "75fa8627",
   "metadata": {},
   "outputs": [],
   "source": [
    "def hello():\n",
    "    print(\"hello world\")"
   ]
  },
  {
   "cell_type": "markdown",
   "id": "7c7224c7",
   "metadata": {},
   "source": [
    "Calling hello() will simply print \"hello world\".\n",
    "\n",
    "### 2. Creating a Decorator\n",
    "A decorator is a function that:\n",
    "\n",
    "- Accepts another function as an argument.\n",
    "\n",
    "- Defines a nested function (often called wrapper or similar) that adds new behavior.\n",
    "\n",
    "- Returns the nested function.\n",
    "\n",
    "Example:"
   ]
  },
  {
   "cell_type": "code",
   "execution_count": 2,
   "id": "a33b01b6",
   "metadata": {},
   "outputs": [],
   "source": [
    "def greet(func):\n",
    "    def mfx():\n",
    "        print(\"good morning\")\n",
    "        func()\n",
    "        print(\"thanks for using this function\")\n",
    "    return mfx"
   ]
  },
  {
   "cell_type": "markdown",
   "id": "bf207537",
   "metadata": {},
   "source": [
    "- Here, greet is the decorator.\n",
    "\n",
    "- mfx is the new function that adds messages before and after calling the original function.\n",
    "\n",
    "### 3. Applying a Decorator\n",
    "There are two ways to apply a decorator:\n",
    "\n",
    "- **Manual Assignment:**"
   ]
  },
  {
   "cell_type": "code",
   "execution_count": 3,
   "id": "e1c7451a",
   "metadata": {},
   "outputs": [
    {
     "name": "stdout",
     "output_type": "stream",
     "text": [
      "good morning\n",
      "hello world\n",
      "thanks for using this function\n"
     ]
    }
   ],
   "source": [
    "hello = greet(hello)\n",
    "hello()"
   ]
  },
  {
   "cell_type": "markdown",
   "id": "b359fae6",
   "metadata": {},
   "source": [
    "- **Using the @ Syntax:**"
   ]
  },
  {
   "cell_type": "code",
   "execution_count": 4,
   "id": "a8e5d0ae",
   "metadata": {},
   "outputs": [
    {
     "name": "stdout",
     "output_type": "stream",
     "text": [
      "good morning\n",
      "hello world\n",
      "thanks for using this function\n"
     ]
    }
   ],
   "source": [
    "@greet\n",
    "def hello():\n",
    "    print(\"hello world\")\n",
    "hello()"
   ]
  },
  {
   "cell_type": "markdown",
   "id": "e97a67d9",
   "metadata": {},
   "source": [
    "The @greet line is syntactic sugar for hello = greet(hello).\n",
    "\n",
    "### How Decorators Modify Function Behavior\n",
    "- The decorator wraps the original function, allowing you to execute code before and after the function runs.\n",
    "\n",
    "- The original function's code remains unchanged, but its behavior is enhanced or modified by the decorator."
   ]
  },
  {
   "cell_type": "markdown",
   "id": "7b0fbabc",
   "metadata": {},
   "source": [
    "# Handling Functions with Arguments\n",
    "### The Problem\n",
    "When decorating functions that accept arguments, a simple decorator (like the one above) will fail because it doesn't pass arguments to the original function.\n",
    "\n",
    "### The Solution: Using *args and **kwargs\n",
    "- *args: Allows passing any number of positional arguments as a tuple.\n",
    "\n",
    "- **kwargs: Allows passing any number of keyword arguments as a dictionary.\n",
    "\n",
    "Example:"
   ]
  },
  {
   "cell_type": "code",
   "execution_count": 5,
   "id": "9ac07e62",
   "metadata": {},
   "outputs": [],
   "source": [
    "def greet(func):\n",
    "    def mfx(*args, **kwargs):\n",
    "        print(\"good morning\")\n",
    "        result = func(*args, **kwargs)\n",
    "        print(\"thanks for using this function\")\n",
    "        return result\n",
    "    return mfx"
   ]
  },
  {
   "cell_type": "markdown",
   "id": "15ffc0d2",
   "metadata": {},
   "source": [
    "- Now, you can decorate functions that take any number of arguments.\n",
    "\n",
    "### Practical Example: Logging Function Calls\n",
    "- Decorators are commonly used for logging, authentication, timing, and more.\n",
    "\n",
    "- Example: A log_function_call decorator that logs messages before and after a function call, regardless of the function's arguments."
   ]
  },
  {
   "cell_type": "markdown",
   "id": "c10d0fa9",
   "metadata": {},
   "source": [
    "# Key Concepts and Terms\n",
    "- **Decorator:** A function that modifies another function's behavior.\n",
    "\n",
    "- **Syntactic Sugar:** The @decorator syntax is a more readable way to apply decorators.\n",
    "\n",
    "- *args **and** **kwargs: Special syntax to pass arbitrary arguments to functions, making decorators flexible."
   ]
  },
  {
   "cell_type": "markdown",
   "id": "b697c831",
   "metadata": {},
   "source": [
    "# Summary\n",
    "- **Decorators** in Python allow you to modify or enhance the behavior of functions in a reusable and readable way.\n",
    "\n",
    "- They are defined as functions that take another function as input and return a new function.\n",
    "\n",
    "- Use the @decorator syntax for clarity and simplicity.\n",
    "\n",
    "- When decorating functions that accept arguments, use *args and **kwargs in the decorator.\n",
    "\n",
    "- Decorators are widely used for logging, access control, timing, and more."
   ]
  }
 ],
 "metadata": {
  "kernelspec": {
   "display_name": ".venv",
   "language": "python",
   "name": "python3"
  },
  "language_info": {
   "codemirror_mode": {
    "name": "ipython",
    "version": 3
   },
   "file_extension": ".py",
   "mimetype": "text/x-python",
   "name": "python",
   "nbconvert_exporter": "python",
   "pygments_lexer": "ipython3",
   "version": "3.12.3"
  }
 },
 "nbformat": 4,
 "nbformat_minor": 5
}
