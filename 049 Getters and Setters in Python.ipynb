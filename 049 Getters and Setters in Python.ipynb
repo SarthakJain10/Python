{
 "cells": [
  {
   "cell_type": "markdown",
   "id": "7434df48",
   "metadata": {},
   "source": [
    "# What are Getters and Setters?\n",
    "- **Getter:** A method that allows you to access the value of a private attribute as if it were a public property.\n",
    "\n",
    "- **Setter:** A method that lets you set or modify the value of a private attribute, often with additional logic or validation.\n",
    "\n",
    "### Purpose:\n",
    "\n",
    "- Encapsulate internal data.\n",
    "\n",
    "- Provide a controlled interface for accessing and modifying object properties.\n",
    "\n",
    "- Hide implementation details from the user, exposing only what’s necessary.\n",
    "\n",
    "# How Getters and Setters Work in Python\n",
    "### The @property Decorator\n",
    "- Python provides the @property decorator to turn a method into a property, allowing you to access it like an attribute instead of a method call.\n",
    "\n",
    "- This is commonly used for getters.\n",
    "\n",
    "### Syntax Example:"
   ]
  },
  {
   "cell_type": "code",
   "execution_count": 1,
   "id": "7ffa814e",
   "metadata": {},
   "outputs": [],
   "source": [
    "class MyClass:\n",
    "    def __init__(self, value):\n",
    "        self._value = value\n",
    "\n",
    "    @property\n",
    "    def ten_value(self):\n",
    "        return 10 * self._value\n"
   ]
  },
  {
   "cell_type": "markdown",
   "id": "265f4989",
   "metadata": {},
   "source": [
    "- Here, ten_value can be accessed as an attribute, but behind the scenes, it calls the method.\n",
    "\n",
    "# Creating a Setter\n",
    "- To allow setting the property, define another method with the same name and use the @\\<property_name\\>.setter decorator.\n",
    "\n",
    "- This method typically takes the new value as a parameter and updates the underlying attribute, possibly with some transformation or validation."
   ]
  },
  {
   "cell_type": "markdown",
   "id": "288a3583",
   "metadata": {},
   "source": [
    "### Syntax Example:"
   ]
  },
  {
   "cell_type": "code",
   "execution_count": null,
   "id": "9eff3b3b",
   "metadata": {},
   "outputs": [],
   "source": [
    "    @ten_value.setter\n",
    "    def ten_value(self, new_value):\n",
    "        self._value = new_value / 10\n"
   ]
  },
  {
   "cell_type": "markdown",
   "id": "b4851e08",
   "metadata": {},
   "source": [
    "- Now, you can set obj.ten_value = 100, and _value will be updated to 10.\n",
    "\n",
    "# Step-by-Step Example\n",
    "### 1. Basic Class with a Private Attribute\n",
    "- Define a class with a private attribute (commonly prefixed with an underscore, e.g., _value).\n",
    "\n",
    "### 2. Getter Using @property\n",
    "- Create a method decorated with @property to return a computed value (e.g., ten times the actual value).\n",
    "\n",
    "### 3. Attempting to Set the Property\n",
    "- If you try to set the property directly without a setter, Python raises an error, indicating that the attribute can’t be set.\n",
    "\n",
    "### 4. Adding a Setter\n",
    "- Define a setter using @property_name.setter. In the setter, update the underlying attribute, possibly transforming the input value.\n",
    "\n",
    "### 5. Using the Getter and Setter\n",
    "- Access the property as an attribute to get the computed value.\n",
    "\n",
    "- Set the property as if it were an attribute, triggering the setter logic."
   ]
  },
  {
   "cell_type": "markdown",
   "id": "672c4045",
   "metadata": {},
   "source": [
    "### Example Workflow:\n",
    "\n",
    "- Create an object: obj = MyClass(10)\n",
    "\n",
    "- Access property: print(obj.ten_value) # Outputs 100\n",
    "\n",
    "- Set property: obj.ten_value = 67\n",
    "\n",
    "- Internal value updates: _value is now 6.7\n",
    "\n",
    "- Show updated value: obj.show() # Outputs 6.7"
   ]
  },
  {
   "cell_type": "markdown",
   "id": "c2f314f2",
   "metadata": {},
   "source": [
    "# Advantages of Getters and Setters\n",
    "- **Encapsulation:** Hide internal implementation and expose only the necessary interface.\n",
    "\n",
    "- **Validation:** Add checks or transformations when setting values.\n",
    "\n",
    "- **Flexibility:** Change the internal implementation without affecting external code that uses the class."
   ]
  },
  {
   "cell_type": "markdown",
   "id": "6c34d0c9",
   "metadata": {},
   "source": [
    "### Practical Analogy\n",
    "Using a class with getters and setters is like using a car: you drive the car without needing to know how the engine works. The implementation details are hidden, and you interact with a simple interface."
   ]
  },
  {
   "cell_type": "markdown",
   "id": "63fe35fa",
   "metadata": {},
   "source": [
    "# Important Terms and Concepts\n",
    "- **Encapsulation:** Bundling data and methods that operate on that data within a class, restricting direct access to some of the object's components.\n",
    "\n",
    "- **Decorator:** A special function in Python that modifies the behavior of another function or method.\n",
    "\n",
    "- **Property:** An attribute managed by getter and setter methods, accessed like a regular attribute."
   ]
  },
  {
   "cell_type": "markdown",
   "id": "abca4f68",
   "metadata": {},
   "source": [
    "# Summary\n",
    "- Getters and setters in Python are created using the @property and @property_name.setter decorators.\n",
    "\n",
    "- They provide a way to access and modify private attributes safely and flexibly.\n",
    "\n",
    "- This approach supports encapsulation, validation, and a clean interface for class users.\n",
    "\n",
    "- By using properties, you can change the internal logic of attribute access without changing how external code interacts with your objects."
   ]
  }
 ],
 "metadata": {
  "kernelspec": {
   "display_name": ".venv",
   "language": "python",
   "name": "python3"
  },
  "language_info": {
   "codemirror_mode": {
    "name": "ipython",
    "version": 3
   },
   "file_extension": ".py",
   "mimetype": "text/x-python",
   "name": "python",
   "nbconvert_exporter": "python",
   "pygments_lexer": "ipython3",
   "version": "3.12.3"
  }
 },
 "nbformat": 4,
 "nbformat_minor": 5
}
