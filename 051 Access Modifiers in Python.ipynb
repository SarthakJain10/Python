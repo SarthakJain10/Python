{
 "cells": [
  {
   "cell_type": "markdown",
   "id": "549a4102",
   "metadata": {},
   "source": [
    "# 1. What Are Access Modifiers?\n",
    "\n",
    "Access modifiers (also called access specifiers) in OOP define the scope of accessibility of class members (variables and methods). They help in controlling how data and methods inside a class are accessed or hidden:\n",
    "\n",
    "- **Public:** Accessible from anywhere (inside and outside the class).\n",
    "\n",
    "- **Private:** Accessible only within the class itself.\n",
    "\n",
    "- **Protected:** Accessible within the class and its subclasses.\n",
    "\n",
    "# 2. Access Modifiers in General OOP (Non-Python Context)\n",
    "- When you create a class, by default, variables and methods are public.\n",
    "\n",
    "- You can make variables private by using special keywords or conventions depending on the language (e.g., private in Java).\n",
    "\n",
    "- Example:"
   ]
  },
  {
   "cell_type": "code",
   "execution_count": 1,
   "id": "88ebc2d9",
   "metadata": {},
   "outputs": [],
   "source": [
    "class Employee:\n",
    "    pass\n",
    "\n",
    "a = Employee()\n",
    "a.emp1 = 5  # This is public by default and can be accessed via a.emp1"
   ]
  },
  {
   "cell_type": "markdown",
   "id": "a8a71445",
   "metadata": {},
   "source": [
    "In other languages, private members are not accessible from outside the class.\n",
    "\n",
    "- **Protected members** allow access within the class and subclasses.\n",
    "\n",
    "- However, Python differs from these traditional languages.\n",
    "\n",
    "# 3. Python and Access Modifiers: The Reality\n",
    "### Key Point:\n",
    "Python does not have formal access modifiers such as public, private, or protected.\n",
    "Everything in Python is public by default."
   ]
  },
  {
   "cell_type": "markdown",
   "id": "0c88ff76",
   "metadata": {},
   "source": [
    "### Why?\n",
    "Python follows a philosophy of \"we are all consenting adults here,\" meaning it doesn't enforce strict access controls but relies on conventions.\n",
    "\n",
    "# 4. Python’s Convention for Access Specifiers\n",
    "### 4.1 Public Variables\n",
    "- All variables and methods defined by self.var_name are public by default.\n",
    "\n",
    "- You can access these variables directly from outside the class.\n",
    "\n",
    "- Example:"
   ]
  },
  {
   "cell_type": "code",
   "execution_count": 2,
   "id": "36b41ad5",
   "metadata": {},
   "outputs": [
    {
     "name": "stdout",
     "output_type": "stream",
     "text": [
      "Sarthak\n"
     ]
    }
   ],
   "source": [
    "class Person:\n",
    "    def __init__(self):\n",
    "        self.name = \"Sarthak\"\n",
    "\n",
    "a = Person()\n",
    "print(a.name)  # Output: Sarthak\n"
   ]
  },
  {
   "cell_type": "markdown",
   "id": "f4bae1e8",
   "metadata": {},
   "source": [
    "### 4.2 Private Variables with Double Underscore Prefix __\n",
    "- Variables prefixed with double underscores like self.__name signal private variables by convention (not enforced strictly).\n",
    "\n",
    "- Python uses name mangling to make direct access harder but not impossible.\n",
    "\n",
    "**Name Mangling** changes the variable name internally to:"
   ]
  },
  {
   "cell_type": "markdown",
   "id": "d4ec4888",
   "metadata": {},
   "source": [
    "_ClassName__variableName"
   ]
  },
  {
   "cell_type": "markdown",
   "id": "018cb265",
   "metadata": {},
   "source": [
    "- Example:"
   ]
  },
  {
   "cell_type": "code",
   "execution_count": 4,
   "id": "a9f8e477",
   "metadata": {},
   "outputs": [
    {
     "name": "stdout",
     "output_type": "stream",
     "text": [
      "Sarthak\n"
     ]
    }
   ],
   "source": [
    "class Person:\n",
    "    def __init__(self):\n",
    "        self.__name = \"Sarthak\"\n",
    "\n",
    "a = Person()\n",
    "# print(a.__name)  # This will cause an AttributeError\n",
    "\n",
    "# But can be accessed indirectly as:\n",
    "print(a._Person__name)  # Output: Sarthak"
   ]
  },
  {
   "cell_type": "markdown",
   "id": "046c5e94",
   "metadata": {},
   "source": [
    "- This mechanism is designed to avoid accidental overriding when subclassing, not to provide real security.\n",
    "\n",
    "### Analogy:\n",
    "It's like parking a car without locking it but putting a \"Do not touch\" sign. The sign is a warning, but it doesn't physically stop people from touching it.\n",
    "\n",
    "### 4.3 Protected Variables with Single Underscore Prefix _\n",
    "- Variables prefixed with a single underscore (e.g., self._name) are treated as protected by **convention** only.\n",
    "\n",
    "- It conveys the message: \"This is meant for internal use within the class and subclasses.\"\n",
    "\n",
    "- Python does not restrict access—these variables can be accessed directly from outside.\n",
    "\n",
    "- Example:"
   ]
  },
  {
   "cell_type": "code",
   "execution_count": 5,
   "id": "8e6d39ae",
   "metadata": {},
   "outputs": [
    {
     "name": "stdout",
     "output_type": "stream",
     "text": [
      "John\n",
      "Protected method\n"
     ]
    }
   ],
   "source": [
    "class Student:\n",
    "    def __init__(self):\n",
    "        self._name = \"John\"\n",
    "\n",
    "    def _funName(self):\n",
    "        print(\"Protected method\")\n",
    "\n",
    "class Subject(Student):\n",
    "    pass\n",
    "\n",
    "obj = Subject()\n",
    "print(obj._name)       # Accessible: John\n",
    "obj._funName()         # Accessible"
   ]
  },
  {
   "cell_type": "markdown",
   "id": "ac11adab",
   "metadata": {},
   "source": [
    "- The single underscore means \"handle with care,\" but there is no enforcement by Python.\n",
    "\n",
    "# 5. How to Summarize Access Levels in Python"
   ]
  },
  {
   "cell_type": "code",
   "execution_count": 7,
   "id": "59e6980b",
   "metadata": {},
   "outputs": [
    {
     "data": {
      "text/html": [
       "<div>\n",
       "<style scoped>\n",
       "    .dataframe tbody tr th:only-of-type {\n",
       "        vertical-align: middle;\n",
       "    }\n",
       "\n",
       "    .dataframe tbody tr th {\n",
       "        vertical-align: top;\n",
       "    }\n",
       "\n",
       "    .dataframe thead th {\n",
       "        text-align: right;\n",
       "    }\n",
       "</style>\n",
       "<table border=\"1\" class=\"dataframe\">\n",
       "  <thead>\n",
       "    <tr style=\"text-align: right;\">\n",
       "      <th></th>\n",
       "      <th>Access Level</th>\n",
       "      <th>Prefix Used</th>\n",
       "      <th>Accessibility</th>\n",
       "      <th>Enforcement</th>\n",
       "      <th>Purpose</th>\n",
       "    </tr>\n",
       "  </thead>\n",
       "  <tbody>\n",
       "    <tr>\n",
       "      <th>0</th>\n",
       "      <td>Public</td>\n",
       "      <td>NaN</td>\n",
       "      <td>Accessible everywhere</td>\n",
       "      <td>No enforcement</td>\n",
       "      <td>Default, fully accessible</td>\n",
       "    </tr>\n",
       "    <tr>\n",
       "      <th>1</th>\n",
       "      <td>Protected</td>\n",
       "      <td>Single underscore_</td>\n",
       "      <td>Intended for class &amp; subclasses, accessible from outside too</td>\n",
       "      <td>No enforcement</td>\n",
       "      <td>Convention to signal internal use</td>\n",
       "    </tr>\n",
       "    <tr>\n",
       "      <th>2</th>\n",
       "      <td>Private</td>\n",
       "      <td>Double underscore__</td>\n",
       "      <td>Name mangled, not accessible by direct name from outside</td>\n",
       "      <td>Name mangling makes direct access difficult but not impossible</td>\n",
       "      <td>To prevent accidental access, stronger convention</td>\n",
       "    </tr>\n",
       "  </tbody>\n",
       "</table>\n",
       "</div>"
      ],
      "text/plain": [
       "  Access Level          Prefix Used  \\\n",
       "0       Public                  NaN   \n",
       "1    Protected   Single underscore_   \n",
       "2      Private  Double underscore__   \n",
       "\n",
       "                                                  Accessibility  \\\n",
       "0                                         Accessible everywhere   \n",
       "1  Intended for class & subclasses, accessible from outside too   \n",
       "2      Name mangled, not accessible by direct name from outside   \n",
       "\n",
       "                                                      Enforcement  \\\n",
       "0                                                  No enforcement   \n",
       "1                                                  No enforcement   \n",
       "2  Name mangling makes direct access difficult but not impossible   \n",
       "\n",
       "                                             Purpose  \n",
       "0                          Default, fully accessible  \n",
       "1                  Convention to signal internal use  \n",
       "2  To prevent accidental access, stronger convention  "
      ]
     },
     "execution_count": 7,
     "metadata": {},
     "output_type": "execute_result"
    }
   ],
   "source": [
    "import pandas as pd\n",
    "pd.set_option('display.max_colwidth', None)\n",
    "df = pd.read_csv('csv_files/AccessLevel-PrefixUsed-Accessibility-Enforcement-Purpose.csv')\n",
    "df"
   ]
  },
  {
   "cell_type": "markdown",
   "id": "24dd7ba0",
   "metadata": {},
   "source": [
    "# 6. Important Notes on Python’s Approach\n",
    "- Python’s access modifiers are not real access control mechanisms but are mostly naming conventions.\n",
    "\n",
    "- The double underscore is the only form that causes internal changes (name mangling) to discourage outside access.\n",
    "\n",
    "- Python leaves it to developers or teams to enforce guidelines regarding variable usage.\n",
    "\n",
    "- Direct access to variables is often still possible, so use naming conventions to communicate intent."
   ]
  },
  {
   "cell_type": "markdown",
   "id": "56e3ff18",
   "metadata": {},
   "source": [
    "# 7. Additional Technical Details\n",
    "- The dir() function can be used to explore attributes of an object, including 'mangled' private variables.\n",
    "\n",
    "- Example:"
   ]
  },
  {
   "cell_type": "markdown",
   "id": "90705bdd",
   "metadata": {},
   "source": [
    "- You can technically access private variables using the mangled name.\n",
    "\n",
    "# Summary\n",
    "- Python does not have explicit access modifiers; all class members are public by default.\n",
    "\n",
    "- Single underscore _var is a convention for protected variables intended for internal use but still accessible.\n",
    "\n",
    "- Double underscore __var invokes name mangling, making outside direct access difficult but still possible.\n",
    "\n",
    "- This approach provides flexibility rather than strict enforcement and relies on developers following conventions.\n",
    "\n",
    "- Understanding this concept helps you write better Pythonic code, maintain encapsulation logically, and communicate intent clearly."
   ]
  }
 ],
 "metadata": {
  "kernelspec": {
   "display_name": ".venv",
   "language": "python",
   "name": "python3"
  },
  "language_info": {
   "codemirror_mode": {
    "name": "ipython",
    "version": 3
   },
   "file_extension": ".py",
   "mimetype": "text/x-python",
   "name": "python",
   "nbconvert_exporter": "python",
   "pygments_lexer": "ipython3",
   "version": "3.12.3"
  }
 },
 "nbformat": 4,
 "nbformat_minor": 5
}
