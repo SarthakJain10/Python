{
 "cells": [
  {
   "cell_type": "markdown",
   "id": "7505d1c3",
   "metadata": {},
   "source": [
    "# What are Static Methods?\n",
    "- Static methods are special types of methods defined inside a class but do not belong to the instance (object) or the class itself.\n",
    "\n",
    "- They behave like regular functions but are logically grouped inside classes.\n",
    "\n",
    "- They do not receive the self (instance) or cls (class) arguments automatically."
   ]
  },
  {
   "cell_type": "markdown",
   "id": "ece17ce1",
   "metadata": {},
   "source": [
    "# Why Use Static Methods?\n",
    "- When you want methods that perform utility functions related to the class but do not need access to instance or class attributes.\n",
    "\n",
    "- They provide a way to group functions which logically belong to a class, improving code organization and modularity.\n",
    "\n",
    "- Makes it easier to share commonly used operations directly through the class or its instance."
   ]
  },
  {
   "cell_type": "markdown",
   "id": "d346d5ce",
   "metadata": {},
   "source": [
    "# Detailed Explanation with Code Examples\n",
    "### 1. Normal Instance Method Example\n",
    "- Instance methods receive self as the first argument that refers to the instance itself."
   ]
  },
  {
   "cell_type": "code",
   "execution_count": 1,
   "id": "26dc1b04",
   "metadata": {},
   "outputs": [],
   "source": [
    "class Math:\n",
    "    def __init__(self, num):\n",
    "        self.num = num  # instance attribute\n",
    "    \n",
    "    def add_to_num(self, n):\n",
    "        self.num += n   # modifies the instance's num"
   ]
  },
  {
   "cell_type": "markdown",
   "id": "9bb34a08",
   "metadata": {},
   "source": [
    "- Usage:"
   ]
  },
  {
   "cell_type": "code",
   "execution_count": 2,
   "id": "d9f12a24",
   "metadata": {},
   "outputs": [
    {
     "name": "stdout",
     "output_type": "stream",
     "text": [
      "5\n",
      "11\n"
     ]
    }
   ],
   "source": [
    "a = Math(5)\n",
    "print(a.num)         # Output: 5\n",
    "a.add_to_num(6)\n",
    "print(a.num)         # Output: 11"
   ]
  },
  {
   "cell_type": "markdown",
   "id": "46d5753e",
   "metadata": {},
   "source": [
    "- The method modifies the instance's internal state (self.num).\n",
    "\n",
    "### 2. The Need for Utility Methods inside a Class\n",
    "- Sometimes you want a utility function like adding two numbers within the context of a class.\n",
    "\n",
    "- This function does not depend on any instance (self) or class (cls) data.\n",
    "\n",
    "Example of such a function outside a class:"
   ]
  },
  {
   "cell_type": "code",
   "execution_count": 3,
   "id": "ba7d822e",
   "metadata": {},
   "outputs": [
    {
     "name": "stdout",
     "output_type": "stream",
     "text": [
      "9\n"
     ]
    }
   ],
   "source": [
    "def add(a, b):\n",
    "    return a + b\n",
    "print(add(7, 2))  # Output: 9"
   ]
  },
  {
   "cell_type": "markdown",
   "id": "a4e2cd3f",
   "metadata": {},
   "source": [
    "- Problem: This function is outside the class, so it is not linked to any class context.\n",
    "\n",
    "### 3. Static Method in Python\n",
    "A static method inside the class looks like this:"
   ]
  },
  {
   "cell_type": "code",
   "execution_count": 4,
   "id": "aeec5ea3",
   "metadata": {},
   "outputs": [],
   "source": [
    "class Math:\n",
    "    @staticmethod\n",
    "    def add(a, b):\n",
    "        return a + b"
   ]
  },
  {
   "cell_type": "markdown",
   "id": "845d8e07",
   "metadata": {},
   "source": [
    "- Here, @staticmethod decorator tells Python this method is static.\n",
    "\n",
    "- It does NOT take self or cls parameters.\n",
    "\n",
    "- It can be called using either the class name or an instance:"
   ]
  },
  {
   "cell_type": "markdown",
   "id": "045c3750",
   "metadata": {},
   "source": [
    "# Key point:\n",
    "\n",
    "- No difference in calling via class or instance; the method is independent.\n",
    "\n",
    "- Useful utility methods related to the class’s logical domain but independent of its state.\n",
    "\n",
    "# Why Not Just Use Functions Outside the Class?\n",
    "- You could define utility functions outside classes, and they work the same.\n",
    "\n",
    "- But grouping such functions inside classes using static methods helps keep the code organized and makes the class a single package for related functionalities.\n",
    "\n",
    "- Useful when you're shipping a class/module so users can access all relevant features in one place.\n",
    "\n",
    "# Important Notes\n",
    "- self parameter is NOT mandatory in Python class methods; static methods explicitly do not receive self.\n",
    "\n",
    "- If you remove self from a normal instance method without making it static, it will cause an error.\n",
    "\n",
    "- The static method cannot access or modify instance or class level attributes since it has no reference to self or cls.\n",
    "\n",
    "- To use methods that work on the class itself (not instance), you use class methods (@classmethod) — to be covered separately."
   ]
  },
  {
   "cell_type": "markdown",
   "id": "af4d6933",
   "metadata": {},
   "source": [
    "# Summary of Key Points"
   ]
  },
  {
   "cell_type": "code",
   "execution_count": null,
   "id": "df226a7b",
   "metadata": {},
   "outputs": [
    {
     "data": {
      "text/html": [
       "<div>\n",
       "<style scoped>\n",
       "    .dataframe tbody tr th:only-of-type {\n",
       "        vertical-align: middle;\n",
       "    }\n",
       "\n",
       "    .dataframe tbody tr th {\n",
       "        vertical-align: top;\n",
       "    }\n",
       "\n",
       "    .dataframe thead th {\n",
       "        text-align: right;\n",
       "    }\n",
       "</style>\n",
       "<table border=\"1\" class=\"dataframe\">\n",
       "  <thead>\n",
       "    <tr style=\"text-align: right;\">\n",
       "      <th></th>\n",
       "      <th>Concept</th>\n",
       "      <th>Explanation</th>\n",
       "      <th>Usage Example</th>\n",
       "    </tr>\n",
       "  </thead>\n",
       "  <tbody>\n",
       "    <tr>\n",
       "      <th>0</th>\n",
       "      <td>Instance Method</td>\n",
       "      <td>Method tied to an instance,selfpassed automatically.</td>\n",
       "      <td>Modifyself.num</td>\n",
       "    </tr>\n",
       "    <tr>\n",
       "      <th>1</th>\n",
       "      <td>Static Method</td>\n",
       "      <td>Method inside class without access toselforcls.</td>\n",
       "      <td>Utility function like add(a,b)</td>\n",
       "    </tr>\n",
       "    <tr>\n",
       "      <th>2</th>\n",
       "      <td>Decorator Used</td>\n",
       "      <td>@staticmethoddecorator marks the method static.</td>\n",
       "      <td>@staticmethod</td>\n",
       "    </tr>\n",
       "    <tr>\n",
       "      <th>3</th>\n",
       "      <td>Calling</td>\n",
       "      <td>Can be called viaClassName.method()orinstance.method().</td>\n",
       "      <td>Math.add(5,3)ora.add(5,3)</td>\n",
       "    </tr>\n",
       "    <tr>\n",
       "      <th>4</th>\n",
       "      <td>Benefits</td>\n",
       "      <td>Groups standalone functions logically inside classes.</td>\n",
       "      <td>Better organization</td>\n",
       "    </tr>\n",
       "    <tr>\n",
       "      <th>5</th>\n",
       "      <td>Limitations</td>\n",
       "      <td>Cannot access instance (self) or class variables (cls).</td>\n",
       "      <td>No direct manipulation of state</td>\n",
       "    </tr>\n",
       "  </tbody>\n",
       "</table>\n",
       "</div>"
      ],
      "text/plain": [
       "           Concept                                              Explanation  \\\n",
       "0  Instance Method     Method tied to an instance,selfpassed automatically.   \n",
       "1    Static Method          Method inside class without access toselforcls.   \n",
       "2   Decorator Used          @staticmethoddecorator marks the method static.   \n",
       "3          Calling  Can be called viaClassName.method()orinstance.method().   \n",
       "4         Benefits    Groups standalone functions logically inside classes.   \n",
       "5      Limitations  Cannot access instance (self) or class variables (cls).   \n",
       "\n",
       "                     Usage Example  \n",
       "0                   Modifyself.num  \n",
       "1   Utility function like add(a,b)  \n",
       "2                    @staticmethod  \n",
       "3        Math.add(5,3)ora.add(5,3)  \n",
       "4              Better organization  \n",
       "5  No direct manipulation of state  "
      ]
     },
     "execution_count": 5,
     "metadata": {},
     "output_type": "execute_result"
    }
   ],
   "source": [
    "import pandas as pd\n",
    "pd.set_option('display.max_colwidth', None)\n",
    "df = pd.read_csv('csv_files/Concept-Explanation-UsageExample.csv')\n",
    "df"
   ]
  },
  {
   "cell_type": "markdown",
   "id": "8a8773b5",
   "metadata": {},
   "source": [
    "# Practical Example Code Combining Concepts"
   ]
  },
  {
   "cell_type": "code",
   "execution_count": 6,
   "id": "687e2ba2",
   "metadata": {},
   "outputs": [
    {
     "name": "stdout",
     "output_type": "stream",
     "text": [
      "10\n",
      "15\n",
      "7\n",
      "7\n"
     ]
    }
   ],
   "source": [
    "class Math:\n",
    "    def __init__(self, num):\n",
    "        self.num = num\n",
    "\n",
    "    def add_to_num(self, n):\n",
    "        self.num += n  # instance method modifies object state\n",
    "\n",
    "    @staticmethod\n",
    "    def add(a, b):\n",
    "        return a + b  # static method just adds two numbers\n",
    "\n",
    "\n",
    "# Using instance method:\n",
    "obj = Math(10)\n",
    "print(obj.num)        # 10\n",
    "obj.add_to_num(5)\n",
    "print(obj.num)        # 15\n",
    "\n",
    "# Using static method:\n",
    "print(Math.add(3, 4)) # 7\n",
    "print(obj.add(3, 4))  # 7 \n"
   ]
  },
  {
   "cell_type": "markdown",
   "id": "2a4f6b87",
   "metadata": {},
   "source": [
    "# Summary\n",
    "- Static methods in Python are methods inside a class that do not access instance or class data.\n",
    "\n",
    "- Use @staticmethod decorator to define them.\n",
    "\n",
    "- They can be called using the class or instance name without any difference.\n",
    "\n",
    "- Useful for binding utility functions to a class for better code structure and user convenience.\n",
    "\n",
    "- No need to pass self to static methods; this often comes up in interviews.\n",
    "\n",
    "- Instance methods and class methods are alternatives when you need access to objects or the class itself."
   ]
  }
 ],
 "metadata": {
  "kernelspec": {
   "display_name": ".venv",
   "language": "python",
   "name": "python3"
  },
  "language_info": {
   "codemirror_mode": {
    "name": "ipython",
    "version": 3
   },
   "file_extension": ".py",
   "mimetype": "text/x-python",
   "name": "python",
   "nbconvert_exporter": "python",
   "pygments_lexer": "ipython3",
   "version": "3.12.3"
  }
 },
 "nbformat": 4,
 "nbformat_minor": 5
}
