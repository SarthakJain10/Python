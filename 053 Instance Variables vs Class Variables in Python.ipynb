{
 "cells": [
  {
   "cell_type": "markdown",
   "id": "8bbe26fb",
   "metadata": {},
   "source": [
    "# 1. What are Instance Variables?\n",
    "### Definition:\n",
    "- Instance variables are attributes that belong to individual objects or instances of a class. Each object maintains its own copy.\n",
    "\n",
    "### Where Are They Stored?\n",
    "- Inside the instance object's \\_\\_dict\\_\\_ (the attribute dictionary for that particular object).\n",
    "\n",
    "### How Are They Defined?\n",
    "- Usually defined inside the \\_\\_init\\_\\_() constructor method using self.\n",
    "\n",
    "- Example:"
   ]
  },
  {
   "cell_type": "code",
   "execution_count": 1,
   "id": "41742909",
   "metadata": {},
   "outputs": [
    {
     "name": "stdout",
     "output_type": "stream",
     "text": [
      "Tommy\n",
      "Rocky\n"
     ]
    }
   ],
   "source": [
    "class Dog:\n",
    "    def __init__(self, name, color):\n",
    "        self.name = name           # instance variable\n",
    "        self.color = color         # instance variable\n",
    "\n",
    "dog1 = Dog(\"Tommy\", \"Brown\")\n",
    "dog2 = Dog(\"Rocky\", \"Black\")\n",
    "\n",
    "print(dog1.name)  # Output: Tommy\n",
    "print(dog2.name)  # Output: Rocky"
   ]
  },
  {
   "cell_type": "markdown",
   "id": "56a1fb13",
   "metadata": {},
   "source": [
    "- Important:\n",
    "Each instance (dog1 and dog2) has its own distinct name and color.\n",
    "\n",
    "# 2. What are Class Variables?\n",
    "### Definition:\n",
    "- Class variables are shared across all instances of the class. They belong to the class itself.\n",
    "\n",
    "### Where Are They Stored?\n",
    "- Inside the class's attribute dictionary, accessible via ClassName.variable or self.\\_\\_class\\_\\_.variable.\n",
    "\n",
    "### How Are They Defined?\n",
    "- Defined directly inside the class, but outside any instance methods.\n",
    "\n",
    "- Example:"
   ]
  },
  {
   "cell_type": "code",
   "execution_count": 2,
   "id": "14bac06b",
   "metadata": {},
   "outputs": [
    {
     "name": "stdout",
     "output_type": "stream",
     "text": [
      "Canine\n",
      "Canine\n",
      "Canine\n"
     ]
    }
   ],
   "source": [
    "class Dog:\n",
    "    species = \"Canine\"          # class variable\n",
    "\n",
    "    def __init__(self, name):\n",
    "        self.name = name        # instance variable\n",
    "\n",
    "dog1 = Dog(\"Tommy\")\n",
    "dog2 = Dog(\"Rocky\")\n",
    "\n",
    "print(dog1.species)  # Output: Canine\n",
    "print(dog2.species)  # Output: Canine\n",
    "print(Dog.species)   # Output: Canine"
   ]
  },
  {
   "cell_type": "markdown",
   "id": "62588a72",
   "metadata": {},
   "source": [
    "- Important:\n",
    "Changing the class variable affects all instances unless they have an instance variable overriding it.\n",
    "\n",
    "### Detailed Differences Between Instance Variables and Class Variables"
   ]
  },
  {
   "cell_type": "code",
   "execution_count": 3,
   "id": "e31db4e4",
   "metadata": {},
   "outputs": [
    {
     "data": {
      "text/html": [
       "<div>\n",
       "<style scoped>\n",
       "    .dataframe tbody tr th:only-of-type {\n",
       "        vertical-align: middle;\n",
       "    }\n",
       "\n",
       "    .dataframe tbody tr th {\n",
       "        vertical-align: top;\n",
       "    }\n",
       "\n",
       "    .dataframe thead th {\n",
       "        text-align: right;\n",
       "    }\n",
       "</style>\n",
       "<table border=\"1\" class=\"dataframe\">\n",
       "  <thead>\n",
       "    <tr style=\"text-align: right;\">\n",
       "      <th></th>\n",
       "      <th>Aspect</th>\n",
       "      <th>Instance Variables</th>\n",
       "      <th>Class Variables</th>\n",
       "    </tr>\n",
       "  </thead>\n",
       "  <tbody>\n",
       "    <tr>\n",
       "      <th>0</th>\n",
       "      <td>Scope</td>\n",
       "      <td>Belong to each individual object</td>\n",
       "      <td>Belong to the class itself</td>\n",
       "    </tr>\n",
       "    <tr>\n",
       "      <th>1</th>\n",
       "      <td>Shared among instances?</td>\n",
       "      <td>No, unique per instance</td>\n",
       "      <td>Yes, shared by all instances</td>\n",
       "    </tr>\n",
       "    <tr>\n",
       "      <th>2</th>\n",
       "      <td>Defined in</td>\n",
       "      <td>Inside__init__usingself</td>\n",
       "      <td>Directly inside class (outside any method)</td>\n",
       "    </tr>\n",
       "    <tr>\n",
       "      <th>3</th>\n",
       "      <td>Accessed by</td>\n",
       "      <td>self.variable(for the object instance)</td>\n",
       "      <td>ClassName.variableorself.__class__.variable</td>\n",
       "    </tr>\n",
       "    <tr>\n",
       "      <th>4</th>\n",
       "      <td>Use case</td>\n",
       "      <td>Store data unique to each object</td>\n",
       "      <td>Store common property/data for all instances</td>\n",
       "    </tr>\n",
       "  </tbody>\n",
       "</table>\n",
       "</div>"
      ],
      "text/plain": [
       "                    Aspect                      Instance Variables  \\\n",
       "0                    Scope        Belong to each individual object   \n",
       "1  Shared among instances?                 No, unique per instance   \n",
       "2               Defined in                 Inside__init__usingself   \n",
       "3              Accessed by  self.variable(for the object instance)   \n",
       "4                 Use case        Store data unique to each object   \n",
       "\n",
       "                                Class Variables  \n",
       "0                    Belong to the class itself  \n",
       "1                  Yes, shared by all instances  \n",
       "2    Directly inside class (outside any method)  \n",
       "3   ClassName.variableorself.__class__.variable  \n",
       "4  Store common property/data for all instances  "
      ]
     },
     "execution_count": 3,
     "metadata": {},
     "output_type": "execute_result"
    }
   ],
   "source": [
    "import pandas as pd\n",
    "pd.set_option('display.max_colwidth', None)\n",
    "df = pd.read_csv('csv_files/Aspect-InstanceVariables-ClassVariables.csv')\n",
    "df"
   ]
  },
  {
   "cell_type": "markdown",
   "id": "ffe510c5",
   "metadata": {},
   "source": [
    "### Modifying Variables and Effects\n",
    "- Modifying Instance Variables affects only that specific object.\n",
    "\n",
    "- Modifying Class Variables affects all instances unless a specific instance overrides the variable by defining it individually.\n",
    "\n",
    "Example showing override:"
   ]
  },
  {
   "cell_type": "code",
   "execution_count": 4,
   "id": "79086943",
   "metadata": {},
   "outputs": [
    {
     "name": "stdout",
     "output_type": "stream",
     "text": [
      "Wolf\n",
      "Canine\n",
      "Canine\n"
     ]
    }
   ],
   "source": [
    "class Dog:\n",
    "    species = \"Canine\"  # Class variable\n",
    "\n",
    "    def __init__(self, name):\n",
    "        self.name = name  # Instance variable\n",
    "\n",
    "dog1 = Dog(\"Tommy\")\n",
    "dog2 = Dog(\"Rocky\")\n",
    "\n",
    "dog1.species = \"Wolf\"    # Overrides class variable for dog1 only\n",
    "\n",
    "print(dog1.species)  # Output: Wolf (instance variable shadows class variable)\n",
    "print(dog2.species)  # Output: Canine (still uses class variable)\n",
    "print(Dog.species)   # Output: Canine"
   ]
  },
  {
   "cell_type": "markdown",
   "id": "6f1e1437",
   "metadata": {},
   "source": [
    "# Why Use Class Variables?\n",
    "- To represent properties or constants that should be the same for all instances, such as species, count of objects, or default configuration.\n",
    "\n",
    "- Class variables can be used to keep track of how many instances of a class have been created.\n",
    "\n",
    "Example: Counting Number of Instances Using Class Variable"
   ]
  },
  {
   "cell_type": "code",
   "execution_count": 5,
   "id": "442e1187",
   "metadata": {},
   "outputs": [
    {
     "name": "stdout",
     "output_type": "stream",
     "text": [
      "2\n"
     ]
    }
   ],
   "source": [
    "class Dog:\n",
    "    count = 0  # class variable to count total dogs\n",
    "\n",
    "    def __init__(self, name):\n",
    "        self.name = name\n",
    "        Dog.count += 1  # increments the class variable\n",
    "\n",
    "dog1 = Dog(\"Tommy\")\n",
    "dog2 = Dog(\"Rocky\")\n",
    "\n",
    "print(Dog.count)  # Output: 2"
   ]
  },
  {
   "cell_type": "markdown",
   "id": "25a0f26c",
   "metadata": {},
   "source": [
    "# Summary\n",
    "- **Instance variables:** Unique data belonging to each object; defined inside \\_\\_init\\_\\_ with self.\n",
    "\n",
    "- **Class variables:** Attributes shared among all instances; defined within the class body outside of methods.\n",
    "\n",
    "- Modifying instance variables affects only that object while modifying class variables affects all unless overridden.\n",
    "\n",
    "- Proper use of these variables helps manage state in OOP and write efficient Python code.\n",
    "\n",
    "# Important Terms and Concepts\n",
    "- **self** — refers to the current object instance.\n",
    "\n",
    "- **\\_\\_init\\_\\_** — initializer method to set up instance variables.\n",
    "\n",
    "- **Class attribute** — variable declared directly in the class body.\n",
    "\n",
    "- **Instance attribute** — variable associated with a particular object instance.\n",
    "\n",
    "- **Shadowing** — when instance variable with the same name hides the class variable."
   ]
  }
 ],
 "metadata": {
  "kernelspec": {
   "display_name": ".venv",
   "language": "python",
   "name": "python3"
  },
  "language_info": {
   "codemirror_mode": {
    "name": "ipython",
    "version": 3
   },
   "file_extension": ".py",
   "mimetype": "text/x-python",
   "name": "python",
   "nbconvert_exporter": "python",
   "pygments_lexer": "ipython3",
   "version": "3.12.3"
  }
 },
 "nbformat": 4,
 "nbformat_minor": 5
}
