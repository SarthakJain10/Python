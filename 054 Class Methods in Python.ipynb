{
 "cells": [
  {
   "cell_type": "markdown",
   "id": "398ef484",
   "metadata": {},
   "source": [
    "# 1. What is a Class Method?\n",
    "- A class method is a method that receives the class as an implicit first argument rather than the instance.\n",
    "\n",
    "- It is defined using the @classmethod decorator.\n",
    "\n",
    "- The first parameter is conventionally named cls, representing the class itself.\n",
    "\n",
    "Syntax:"
   ]
  },
  {
   "cell_type": "code",
   "execution_count": null,
   "id": "64c98978",
   "metadata": {},
   "outputs": [],
   "source": [
    "class MyClass:\n",
    "    @classmethod\n",
    "    def class_method(cls, args):\n",
    "        # Method body"
   ]
  },
  {
   "cell_type": "markdown",
   "id": "77b60aad",
   "metadata": {},
   "source": [
    "# 2. Differences from Instance Methods and Static Methods"
   ]
  },
  {
   "cell_type": "code",
   "execution_count": 1,
   "id": "74779387",
   "metadata": {},
   "outputs": [
    {
     "data": {
      "text/html": [
       "<div>\n",
       "<style scoped>\n",
       "    .dataframe tbody tr th:only-of-type {\n",
       "        vertical-align: middle;\n",
       "    }\n",
       "\n",
       "    .dataframe tbody tr th {\n",
       "        vertical-align: top;\n",
       "    }\n",
       "\n",
       "    .dataframe thead th {\n",
       "        text-align: right;\n",
       "    }\n",
       "</style>\n",
       "<table border=\"1\" class=\"dataframe\">\n",
       "  <thead>\n",
       "    <tr style=\"text-align: right;\">\n",
       "      <th></th>\n",
       "      <th>Aspect</th>\n",
       "      <th>Instance Methods</th>\n",
       "      <th>Class Methods</th>\n",
       "      <th>Static Methods</th>\n",
       "    </tr>\n",
       "  </thead>\n",
       "  <tbody>\n",
       "    <tr>\n",
       "      <th>0</th>\n",
       "      <td>First Parameter</td>\n",
       "      <td>self(object instance)</td>\n",
       "      <td>cls(class object)</td>\n",
       "      <td>No implicit first parameter</td>\n",
       "    </tr>\n",
       "    <tr>\n",
       "      <th>1</th>\n",
       "      <td>Access to Class Variables</td>\n",
       "      <td>Yes</td>\n",
       "      <td>Yes</td>\n",
       "      <td>No</td>\n",
       "    </tr>\n",
       "    <tr>\n",
       "      <th>2</th>\n",
       "      <td>Access to Instance Variables</td>\n",
       "      <td>Yes</td>\n",
       "      <td>No</td>\n",
       "      <td>No</td>\n",
       "    </tr>\n",
       "    <tr>\n",
       "      <th>3</th>\n",
       "      <td>Use Case</td>\n",
       "      <td>Manipulate data unique to object</td>\n",
       "      <td>Access or modify class state or factory methods</td>\n",
       "      <td>Utility functions related to class</td>\n",
       "    </tr>\n",
       "  </tbody>\n",
       "</table>\n",
       "</div>"
      ],
      "text/plain": [
       "                         Aspect                  Instance Methods  \\\n",
       "0               First Parameter             self(object instance)   \n",
       "1     Access to Class Variables                               Yes   \n",
       "2  Access to Instance Variables                               Yes   \n",
       "3                      Use Case  Manipulate data unique to object   \n",
       "\n",
       "                                     Class Methods  \\\n",
       "0                                cls(class object)   \n",
       "1                                              Yes   \n",
       "2                                               No   \n",
       "3  Access or modify class state or factory methods   \n",
       "\n",
       "                       Static Methods  \n",
       "0         No implicit first parameter  \n",
       "1                                  No  \n",
       "2                                  No  \n",
       "3  Utility functions related to class  "
      ]
     },
     "execution_count": 1,
     "metadata": {},
     "output_type": "execute_result"
    }
   ],
   "source": [
    "import pandas as pd\n",
    "pd.set_option('display.max_colwidth', None)\n",
    "df = pd.read_csv('csv_files/Aspect-InstanceMethods-ClassMethods-StaticMethods.csv')\n",
    "df"
   ]
  },
  {
   "cell_type": "markdown",
   "id": "e5822b52",
   "metadata": {},
   "source": [
    "# 3. Why Use Class Methods?\n",
    "- They can interact with class variables or modify the class state.\n",
    "\n",
    "- They can be used as factory methods to create instances using different parameters.\n",
    "\n",
    "- They provide a way to implement alternative constructors.\n",
    "\n",
    "### Example 1: Basic Class Method Usage"
   ]
  },
  {
   "cell_type": "code",
   "execution_count": 2,
   "id": "ba27932b",
   "metadata": {},
   "outputs": [],
   "source": [
    "class Employee:\n",
    "    no_of_leaves = 8\n",
    "\n",
    "    def __init__(self, name, salary):\n",
    "        self.name = name\n",
    "        self.salary = salary\n",
    "\n",
    "    @classmethod\n",
    "    def change_leaves(cls, new_leaves):\n",
    "        cls.no_of_leaves = new_leaves"
   ]
  },
  {
   "cell_type": "markdown",
   "id": "3f33edab",
   "metadata": {},
   "source": [
    "- change_leaves is a class method that modifies the class variable no_of_leaves.\n",
    "\n",
    "- It is called on the class: Employee.change_leaves(10).\n",
    "\n",
    "- Changes made via the class method affect all instances because no_of_leaves is a class attribute.\n",
    "\n",
    "### Key points:\n",
    "- cls parameter points to the class.\n",
    "\n",
    "- Changes affect class-level variables.\n",
    "\n",
    "### Example 2: Using Class Method as Alternative Constructor"
   ]
  },
  {
   "cell_type": "code",
   "execution_count": 3,
   "id": "c84fa715",
   "metadata": {},
   "outputs": [
    {
     "name": "stdout",
     "output_type": "stream",
     "text": [
      "Alice\n",
      "50000\n"
     ]
    }
   ],
   "source": [
    "class Employee:\n",
    "    def __init__(self, name, salary):\n",
    "        self.name = name\n",
    "        self.salary = salary\n",
    "\n",
    "    @classmethod\n",
    "    def from_string(cls, emp_str):\n",
    "        name, salary = emp_str.split('-')\n",
    "        return cls(name, int(salary))\n",
    "\n",
    "emp1 = Employee.from_string(\"Alice-50000\")\n",
    "print(emp1.name)   # Alice\n",
    "print(emp1.salary) # 50000"
   ]
  },
  {
   "cell_type": "markdown",
   "id": "6bde9866",
   "metadata": {},
   "source": [
    "- Here, from_string is a class method acting as an alternative constructor.\n",
    "\n",
    "- It converts a string and creates an instance of the class.\n",
    "\n",
    "- This is useful for flexible object creation.\n",
    "\n",
    "### Example 3: Comparing Instance and Class Method Calls"
   ]
  },
  {
   "cell_type": "code",
   "execution_count": 4,
   "id": "bdc415d1",
   "metadata": {},
   "outputs": [
    {
     "name": "stdout",
     "output_type": "stream",
     "text": [
      "Called instance method of <__main__.Sample object at 0x7b6fa7f42990>\n",
      "Called class method of <class '__main__.Sample'>\n",
      "Called class method of <class '__main__.Sample'>\n"
     ]
    }
   ],
   "source": [
    "class Sample:\n",
    "    @classmethod\n",
    "    def cls_method(cls):\n",
    "        print(f\"Called class method of {cls}\")\n",
    "\n",
    "    def instance_method(self):\n",
    "        print(f\"Called instance method of {self}\")\n",
    "\n",
    "s = Sample()\n",
    "s.instance_method()  # Works fine, bound to instance\n",
    "s.cls_method()       # Also works; class method can be called from instance but `cls` is class\n",
    "Sample.cls_method()  # Called directly on class"
   ]
  },
  {
   "cell_type": "markdown",
   "id": "ae2a22da",
   "metadata": {},
   "source": [
    "- Class methods can be called by instances or by the class.\n",
    "\n",
    "- However, they always reference the class, not the instance.\n",
    "\n",
    "# Important Summary of Features\n",
    "- Defined using @classmethod decorator.\n",
    "\n",
    "- First argument must be cls.\n",
    "\n",
    "- Can access or modify class state.\n",
    "\n",
    "- Called on either class or instance, but always refers to class.\n",
    "\n",
    "- Useful for factory methods and alternative constructors."
   ]
  },
  {
   "cell_type": "markdown",
   "id": "53727f36",
   "metadata": {},
   "source": [
    "# Summary of the Lecture\n",
    "- Class methods in Python allow methods to be bound to the class rather than an instance.\n",
    "\n",
    "- They are defined with @classmethod and take cls as their first parameter.\n",
    "\n",
    "- They can modify or access class-level data, which affects all instances.\n",
    "\n",
    "- Class methods can serve as alternative constructors, providing more flexibility in instance creation.\n",
    "\n",
    "- They differ from instance methods (which operate on self, the instance) and static methods (which don't take either self or cls).\n",
    "\n",
    "- Understanding class methods is critical for effective Object-Oriented Programming in Python, especially for cases where behavior applies to the class as a whole."
   ]
  }
 ],
 "metadata": {
  "kernelspec": {
   "display_name": ".venv",
   "language": "python",
   "name": "python3"
  },
  "language_info": {
   "codemirror_mode": {
    "name": "ipython",
    "version": 3
   },
   "file_extension": ".py",
   "mimetype": "text/x-python",
   "name": "python",
   "nbconvert_exporter": "python",
   "pygments_lexer": "ipython3",
   "version": "3.12.3"
  }
 },
 "nbformat": 4,
 "nbformat_minor": 5
}
