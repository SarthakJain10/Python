{
 "cells": [
  {
   "cell_type": "markdown",
   "id": "dd77ebc8",
   "metadata": {},
   "source": [
    "# 1. Standard Constructor in Python Classes\n",
    "- The usual constructor is the \\_\\_init\\_\\_ method.\n",
    "\n",
    "- Example:"
   ]
  },
  {
   "cell_type": "code",
   "execution_count": 1,
   "id": "d4db3be0",
   "metadata": {},
   "outputs": [],
   "source": [
    "class Employee:\n",
    "    def __init__(self, name, salary):\n",
    "        self.name = name\n",
    "        self.salary = salary"
   ]
  },
  {
   "cell_type": "markdown",
   "id": "ef6b5de3",
   "metadata": {},
   "source": [
    "- When creating an instance:"
   ]
  },
  {
   "cell_type": "code",
   "execution_count": 2,
   "id": "7ec8d608",
   "metadata": {},
   "outputs": [],
   "source": [
    "e1 = Employee(\"Harry\", 12000)"
   ]
  },
  {
   "cell_type": "markdown",
   "id": "f90b9587",
   "metadata": {},
   "source": [
    "# 2. Problem with Different Data Formats\n",
    "- Sometimes data might come in formats like strings with delimiters, e.g., \"Harry-12000\".\n",
    "\n",
    "- Passing this entire string to the \\_\\_init\\_\\_ will cause errors because \\_\\_init\\_\\_ expects separate name and salary parameters.\n",
    "\n",
    "- So, preprocessing of the data is necessary before instance creation.\n",
    "\n",
    "# 3. Parsing Data Strings\n",
    "- You can split the string data and extract required parts. For example:"
   ]
  },
  {
   "cell_type": "code",
   "execution_count": 3,
   "id": "f9c692ab",
   "metadata": {},
   "outputs": [],
   "source": [
    "data = \"Harry-12000\"\n",
    "name, salary_string = data.split(\"-\")\n",
    "salary = int(salary_string)  # Convert salary to integer\n",
    "e2 = Employee(name, salary)"
   ]
  },
  {
   "cell_type": "markdown",
   "id": "43b5896b",
   "metadata": {},
   "source": [
    "- But manually splitting and converting makes the code repetitive and less clean.\n",
    "\n",
    "# 4. Using Class Methods as Alternative Constructors\n",
    "- Class methods are methods decorated with @classmethod which take the class (cls) as the first argument instead of an instance.\n",
    "\n",
    "- They act as alternative ways to instantiate an object.\n",
    "\n",
    "- Syntax:"
   ]
  },
  {
   "cell_type": "code",
   "execution_count": 4,
   "id": "647ff9bf",
   "metadata": {},
   "outputs": [],
   "source": [
    "class Employee:\n",
    "    def __init__(self, name, salary):\n",
    "        self.name = name\n",
    "        self.salary = salary\n",
    "\n",
    "    @classmethod\n",
    "    def from_string(cls, emp_str):\n",
    "        name, salary_str = emp_str.split(\"-\")\n",
    "        salary = int(salary_str)\n",
    "        return cls(name, salary)  # Create instance using cls()"
   ]
  },
  {
   "cell_type": "markdown",
   "id": "0488bc2b",
   "metadata": {},
   "source": [
    "- Creating instances:"
   ]
  },
  {
   "cell_type": "code",
   "execution_count": 6,
   "id": "6ebd9abb",
   "metadata": {},
   "outputs": [],
   "source": [
    "e1 = Employee(\"sarthak\", 12000)             # Using __init__\n",
    "e2 = Employee.from_string(\"John-15000\")   # Using alternate constructor"
   ]
  },
  {
   "cell_type": "markdown",
   "id": "71d91859",
   "metadata": {},
   "source": [
    "# Benefits of Alternative Constructors\n",
    "- **Encapsulation:** Parsing logic stays inside the class, keeps client code clean.\n",
    "\n",
    "- **Reusability:** You only write parsing logic once.\n",
    "\n",
    "- **Readable & Maintainable:** Instead of multiple lines for extracting values, use one neat method call.\n",
    "\n",
    "- **Extendable:** You can add multiple alternative constructors for different formats.\n",
    "\n",
    "### The Employee Class Sample"
   ]
  },
  {
   "cell_type": "code",
   "execution_count": 7,
   "id": "559e2f8a",
   "metadata": {},
   "outputs": [],
   "source": [
    "class Employee:\n",
    "    def __init__(self, name: str, salary: int):\n",
    "        self.name = name\n",
    "        self.salary = salary\n",
    "\n",
    "    @classmethod\n",
    "    def from_string(cls, emp_str: str) -> \"Employee\":\n",
    "        # emp_str example: \"John-12000\"\n",
    "        parts = emp_str.split(\"-\")\n",
    "        name = parts[0]\n",
    "        salary = int(parts[1])\n",
    "        return cls(name, salary)  # Returns instance of Employee"
   ]
  },
  {
   "cell_type": "markdown",
   "id": "10bc93b0",
   "metadata": {},
   "source": [
    "### Usage:"
   ]
  },
  {
   "cell_type": "code",
   "execution_count": 8,
   "id": "eb8774cf",
   "metadata": {},
   "outputs": [],
   "source": [
    "emp1 = Employee(\"Harry\", 12000)              # Normal construction\n",
    "emp2 = Employee.from_string(\"John-15000\")    # Alternative constructor from string"
   ]
  },
  {
   "cell_type": "markdown",
   "id": "9ce4cbf7",
   "metadata": {},
   "source": [
    "- from_string method:\n",
    "\n",
    "    - Splits string input.\n",
    "\n",
    "    - Converts salary to integer.\n",
    "\n",
    "    - Calls the class constructor (cls), returning a proper instance.\n",
    "\n",
    "# Important Notes & Best Practices\n",
    "- **Type Conversion:** When splitting a string, the components are strings by default. Convert numeric strings to int or float as needed.\n",
    "\n",
    "- **Multiple Alternative Constructors:** You can create many such methods with different logic for different formats:"
   ]
  },
  {
   "cell_type": "code",
   "execution_count": 9,
   "id": "3c202e52",
   "metadata": {},
   "outputs": [],
   "source": [
    "@classmethod\n",
    "def from_underscore(cls, emp_str):\n",
    "    name, salary_str = emp_str.split(\"_\")\n",
    "    salary = int(salary_str)\n",
    "    return cls(name, salary)"
   ]
  },
  {
   "cell_type": "markdown",
   "id": "fe4659d5",
   "metadata": {},
   "source": [
    "- **Use Suitable Decorators:** @classmethod is necessary to pass the class itself as the first argument (cls).\n",
    "\n",
    "- **In-built Python Example:** Python standard library uses this pattern extensively (e.g., datetime module’s fromtimestamp classmethod constructs a datetime object from a timestamp).\n",
    "\n",
    "# Summary\n",
    "- Class methods can be used as alternative constructors that provide flexible ways to create class instances.\n",
    "\n",
    "- They help handle data arriving in different formats that are incompatible with the default constructor.\n",
    "\n",
    "- Alternative constructors keep the code neat by encapsulating the parsing logic inside the class.\n",
    "\n",
    "- This approach leads to better code organization, maintainability, and usability.\n",
    "\n",
    "- Multiple alternative constructors can be created for different input formats.\n",
    "\n",
    "- Python’s own datetime module uses class methods as alternative constructors, which is a good example of this pattern.\n",
    "\n",
    "- When implementing, always convert string data to proper types to avoid runtime errors."
   ]
  }
 ],
 "metadata": {
  "kernelspec": {
   "display_name": ".venv",
   "language": "python",
   "name": "python3"
  },
  "language_info": {
   "codemirror_mode": {
    "name": "ipython",
    "version": 3
   },
   "file_extension": ".py",
   "mimetype": "text/x-python",
   "name": "python",
   "nbconvert_exporter": "python",
   "pygments_lexer": "ipython3",
   "version": "3.12.3"
  }
 },
 "nbformat": 4,
 "nbformat_minor": 5
}
