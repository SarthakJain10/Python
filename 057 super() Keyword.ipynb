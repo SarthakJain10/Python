{
 "cells": [
  {
   "cell_type": "markdown",
   "id": "c2e1bf09",
   "metadata": {},
   "source": [
    "# What is super() in Python?\n",
    "### Definition:\n",
    "The super() keyword is used to refer to the parent class from within a child class. It enables access to the parent class methods and constructor.\n",
    "\n",
    "### When do we use it?\n",
    "\n",
    "- When a child class needs to call or extend the behavior of a parent class method.\n",
    "\n",
    "- When the child class overrides a parent’s method but still wants to execute some code from the original parent method.\n",
    "\n",
    "- When calling the constructor (\\_\\_init\\_\\_) of a parent class from the constructor of a child class to reuse initialization code.\n",
    "\n",
    "- Especially useful in multiple inheritance scenarios where you want to call a method from one of the parent classes explicitly."
   ]
  },
  {
   "cell_type": "markdown",
   "id": "f6194184",
   "metadata": {},
   "source": [
    "# Key Concepts and Syntax of super()\n",
    "### 1. Calling a Parent Class Method\n",
    "Suppose we have a Parent class with a method parent_method(), and a Child class inherits from Parent:\n",
    "\n"
   ]
  },
  {
   "cell_type": "code",
   "execution_count": 1,
   "id": "351b9221",
   "metadata": {},
   "outputs": [],
   "source": [
    "class Parent:\n",
    "    def parent_method(self):\n",
    "        print(\"This is a parent method\")\n",
    "\n",
    "class Child(Parent):\n",
    "    def child_method(self):\n",
    "        print(\"This is a child method\")\n",
    "        super().parent_method()  # Calling parent method"
   ]
  },
  {
   "cell_type": "markdown",
   "id": "8a857334",
   "metadata": {},
   "source": [
    "- Calling super().parent_method() inside child_method() invokes the method in the Parent class.\n",
    "\n",
    "- The child object has access to all methods and attributes of the Parent class due to inheritance.\n",
    "\n",
    "### 2. Overriding Methods and Using super()\n",
    "- Child classes can override methods defined in the parent class by redefining them.\n",
    "\n",
    "- To extend the parent's method rather than completely replace it, use super() inside the overridden method to call the parent’s version.\n",
    "\n",
    "Example:\n",
    "\n"
   ]
  },
  {
   "cell_type": "code",
   "execution_count": 2,
   "id": "2ba8a68b",
   "metadata": {},
   "outputs": [],
   "source": [
    "class Parent:\n",
    "    def parent_method(self):\n",
    "        print(\"Parent method\")\n",
    "\n",
    "class Child(Parent):\n",
    "    def parent_method(self):\n",
    "        print(\"Child method\")\n",
    "        super().parent_method()  # Calling the original parent method"
   ]
  },
  {
   "cell_type": "markdown",
   "id": "1e9a7579",
   "metadata": {},
   "source": [
    "- Here, calling child_object.parent_method() will print:"
   ]
  },
  {
   "cell_type": "markdown",
   "id": "8ad74212",
   "metadata": {},
   "source": [
    "Child method\n",
    "\n",
    "Parent method"
   ]
  },
  {
   "cell_type": "markdown",
   "id": "95e6e95b",
   "metadata": {},
   "source": [
    "### 3. Handling Method Resolution Order\n",
    "- If a child class does not have a method defined, calling that method will automatically invoke the parent's method due to inheritance.\n",
    "\n",
    "- If the child class has its own method with the same name, the child’s method is called unless super() is explicitly used.\n",
    "\n",
    "### 4. Calling Parent Class Constructor\n",
    "- To avoid duplicating initialization code when extending classes, call the parent's \\_\\_init\\_\\_() inside the child's constructor using super().\n",
    "\n",
    "Example:"
   ]
  },
  {
   "cell_type": "code",
   "execution_count": 3,
   "id": "965603b0",
   "metadata": {},
   "outputs": [],
   "source": [
    "class Employee:\n",
    "    def __init__(self, name, emp_id):\n",
    "        self.name = name\n",
    "        self.id = emp_id\n",
    "\n",
    "class Programmer(Employee):\n",
    "    def __init__(self, name, emp_id, lang):\n",
    "        super().__init__(name, emp_id)  # Calls Employee __init__\n",
    "        self.lang = lang                # Additional attribute for Programmer"
   ]
  },
  {
   "cell_type": "markdown",
   "id": "c56fd06f",
   "metadata": {},
   "source": [
    "- This approach adheres to the DRY principle (\"Don't Repeat Yourself\") by reusing parent class initialization.\n",
    "\n",
    "# Parent and Child Methods:"
   ]
  },
  {
   "cell_type": "code",
   "execution_count": 4,
   "id": "7b3f2d2c",
   "metadata": {},
   "outputs": [],
   "source": [
    "class Parent:\n",
    "    def parent_method(self):\n",
    "        print(\"This is parent method\")\n",
    "\n",
    "    def parent_method2(self):\n",
    "        print(\"Harry\")\n",
    "\n",
    "class Child(Parent):\n",
    "    def child_method(self):\n",
    "        print(\"This is child method\")\n",
    "        super().parent_method()  # Calls Parent's parent_method()\n",
    "\n",
    "    def parent_method2(self):\n",
    "        print(\"Harry 2\")\n",
    "        super().parent_method2()  # Calls Parent's parent_method2()"
   ]
  },
  {
   "cell_type": "markdown",
   "id": "185b306d",
   "metadata": {},
   "source": [
    "- When calling child_object.child_method(), output:"
   ]
  },
  {
   "cell_type": "markdown",
   "id": "2e6e9448",
   "metadata": {},
   "source": [
    "This is child method\n",
    "\n",
    "This is parent method"
   ]
  },
  {
   "cell_type": "markdown",
   "id": "a5db3cb6",
   "metadata": {},
   "source": [
    "- When calling child_object.parent_method2(), output:"
   ]
  },
  {
   "cell_type": "markdown",
   "id": "d387953d",
   "metadata": {},
   "source": [
    "Harry 2\n",
    "\n",
    "Harry"
   ]
  },
  {
   "cell_type": "markdown",
   "id": "4691a02a",
   "metadata": {},
   "source": [
    "# Inheritance and Constructors:"
   ]
  },
  {
   "cell_type": "code",
   "execution_count": 5,
   "id": "5ee46ea3",
   "metadata": {},
   "outputs": [
    {
     "name": "stdout",
     "output_type": "stream",
     "text": [
      "Rohan Das\n",
      "Harry 2345 Python\n"
     ]
    }
   ],
   "source": [
    "class Employee:\n",
    "    def __init__(self, name, emp_id):\n",
    "        self.name = name\n",
    "        self.id = emp_id\n",
    "\n",
    "class Programmer(Employee):\n",
    "    def __init__(self, name, emp_id, lang):\n",
    "        super().__init__(name, emp_id)\n",
    "        self.lang = lang\n",
    "\n",
    "rohan = Employee(\"Rohan Das\", 420)\n",
    "harry = Programmer(\"Harry\", 2345, \"Python\")\n",
    "\n",
    "print(rohan.name)  # Output: Rohan Das\n",
    "print(harry.name, harry.id, harry.lang)  # Output: Harry 2345 Python"
   ]
  },
  {
   "cell_type": "markdown",
   "id": "04162ccd",
   "metadata": {},
   "source": [
    "- The super().__init__(name, emp_id) call allows Programmer to reuse Employee's initialization logic.\n",
    "\n",
    "- Without super(), you would need to manually set all the parent’s attributes again, violating DRY.\n",
    "\n",
    "# Important Points and Best Practices\n",
    "- super() can be used to call both:\n",
    "\n",
    "    - Regular methods of a parent class.\n",
    "\n",
    "    - The parent class constructor (__init__ method).\n",
    "\n",
    "- Using super() is especially helpful in multiple inheritance, avoiding direct reference to parent class names and making code more maintainable.\n",
    "\n",
    "- Always ensure that the child class inherits from the parent class, e.g., class Programmer(Employee):\n",
    "\n",
    "- Follow the DRY principle: avoid repeating code by calling parent class methods or constructors using super()."
   ]
  },
  {
   "cell_type": "markdown",
   "id": "45d1359e",
   "metadata": {},
   "source": [
    "# Summary\n",
    "- super() is a built-in function that provides a way to access methods and properties of a parent class without explicitly naming it.\n",
    "\n",
    "- It is invaluable in inheritance for:\n",
    "\n",
    "    - Calling parent class methods from child classes.\n",
    "\n",
    "    - Extending or overriding parent class methods while preserving the original functionality.\n",
    "\n",
    "    - Calling parent class constructors to initialize inherited attributes.\n",
    "\n",
    "- It promotes code reuse, clean class hierarchies, and adherence to the DRY principle.\n",
    "\n",
    "- Proper use of super() results in more maintainable and less error-prone code, especially in complex inheritance scenarios."
   ]
  }
 ],
 "metadata": {
  "kernelspec": {
   "display_name": ".venv",
   "language": "python",
   "name": "python3"
  },
  "language_info": {
   "codemirror_mode": {
    "name": "ipython",
    "version": 3
   },
   "file_extension": ".py",
   "mimetype": "text/x-python",
   "name": "python",
   "nbconvert_exporter": "python",
   "pygments_lexer": "ipython3",
   "version": "3.12.3"
  }
 },
 "nbformat": 4,
 "nbformat_minor": 5
}
