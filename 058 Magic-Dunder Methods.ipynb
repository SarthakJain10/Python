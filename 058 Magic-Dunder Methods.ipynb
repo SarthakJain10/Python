{
 "cells": [
  {
   "cell_type": "markdown",
   "id": "3f4403a8",
   "metadata": {},
   "source": [
    "# What Are Magic/Dunder Methods?\n",
    "- **Magic methods** are special methods predefined by Python with double underscore prefixes and suffixes (e.g., \\_\\_init\\_\\_, \\_\\_len\\_\\_, \\_\\_str\\_\\_).\n",
    "\n",
    "- **Purpose:** To perform special tasks automatically when certain actions are performed on objects, like initialization, representation, length calculation, and more.\n",
    "\n",
    "- They allow **operator overloading** and enable Pythonic behaviors for custom classes.\n",
    "\n",
    "# Important Notes:\n",
    "- You do not normally call these methods directly (e.g., obj.\\_\\_init\\_\\_()); Python calls them internally on specific actions.\n",
    "\n",
    "- Examples:\n",
    "\n",
    "    - **\\_\\_init\\_\\_ —** called automatically when you create (instantiate) a new object.\n",
    "\n",
    "    - **\\_\\_len\\_\\_ —** called when you use the built-in len() function on an object.\n",
    "\n",
    "    - **\\_\\_str\\_\\_ and \\_\\_repr\\_\\_ —** control how an object is represented as a string.\n",
    "\n",
    "    - **\\_\\_call\\_\\_ —** allows an object to be called like a function.\n",
    "\n",
    "    - **\\_\\_add\\_\\_, \\_\\_mul\\_\\_ —** used for operator overloading (e.g., +, * operators)."
   ]
  },
  {
   "cell_type": "markdown",
   "id": "8cbe8223",
   "metadata": {},
   "source": [
    "# Key Magic Methods Explained with Examples\n",
    "### 1. \\_\\_init\\_\\_ Method (Constructor)\n",
    "- Automatically invoked when creating a new instance of a class.\n",
    "\n",
    "- Used to initialize the object’s attributes.\n",
    "\n",
    "- Example:"
   ]
  },
  {
   "cell_type": "code",
   "execution_count": 1,
   "id": "d0f84f7d",
   "metadata": {},
   "outputs": [
    {
     "name": "stdout",
     "output_type": "stream",
     "text": [
      "Sarthak\n"
     ]
    }
   ],
   "source": [
    "class Employee:\n",
    "    def __init__(self, name):\n",
    "        self.name = name\n",
    "\n",
    "e = Employee(\"Sarthak\")  # __init__ is called automatically\n",
    "print(e.name)  # Output: Sarthak"
   ]
  },
  {
   "cell_type": "markdown",
   "id": "560c0f71",
   "metadata": {},
   "source": [
    "### 2. \\_\\_len\\_\\_ Method\n",
    "- Allows using len() on an object to get its length.\n",
    "\n",
    "- You define how length should be calculated inside the method.\n",
    "\n",
    "- Example:"
   ]
  },
  {
   "cell_type": "code",
   "execution_count": 2,
   "id": "9f09fe29",
   "metadata": {},
   "outputs": [
    {
     "name": "stdout",
     "output_type": "stream",
     "text": [
      "5\n"
     ]
    }
   ],
   "source": [
    "class Employee:\n",
    "    def __init__(self, name):\n",
    "        self.name = name\n",
    "\n",
    "    def __len__(self):\n",
    "        count = 0\n",
    "        for _ in self.name:\n",
    "            count += 1\n",
    "        return count\n",
    "\n",
    "e = Employee(\"Harry\")\n",
    "print(len(e))  # Output: 5\n"
   ]
  },
  {
   "cell_type": "markdown",
   "id": "c40da9bb",
   "metadata": {},
   "source": [
    "- Note: The example above manually counts characters to illustrate functionality; in real scenarios, you can simply return len(self.name).\n",
    "\n",
    "### 3. \\_\\_str\\_\\_ and \\_\\_repr\\_\\_ Methods\n",
    "- Control the string representation of objects.\n",
    "\n",
    "- **\\_\\_str\\_\\_ —** defines the informal or human-readable string representation (used by print()).\n",
    "\n",
    "- **\\_\\_repr\\_\\_ —** defines the official string representation, which should ideally be unambiguous and used for debugging and development (used by the interactive interpreter and fallback for print if \\_\\_str\\_\\_ is absent)."
   ]
  },
  {
   "cell_type": "code",
   "execution_count": 5,
   "id": "dc3a181e",
   "metadata": {},
   "outputs": [
    {
     "name": "stdout",
     "output_type": "stream",
     "text": [
      "The name of the Employee is Sarthak\n"
     ]
    },
    {
     "data": {
      "text/plain": [
       "Employee('Sarthak')"
      ]
     },
     "execution_count": 5,
     "metadata": {},
     "output_type": "execute_result"
    }
   ],
   "source": [
    "class Employee:\n",
    "    def __init__(self, name):\n",
    "        self.name = name\n",
    "\n",
    "    def __str__(self):\n",
    "        return f\"The name of the Employee is {self.name}\"\n",
    "\n",
    "    def __repr__(self):\n",
    "        return f\"Employee('{self.name}')\"\n",
    "\n",
    "e = Employee(\"Sarthak\")\n",
    "print(e)       # Output: The name of the Employee is Sarthak (from __str__)\n",
    "e             # Output: Employee('Sarthak') (from __repr__)"
   ]
  },
  {
   "cell_type": "markdown",
   "id": "109d98fe",
   "metadata": {},
   "source": [
    "### Key Points\n",
    "- If \\_\\_str\\_\\_ is not defined, Python uses \\_\\_repr\\_\\_ as fallback.\n",
    "\n",
    "- \\_\\_repr\\_\\_ should return a string that can recreate the object, ideally eval-able.\n",
    "\n",
    "- You don't call these methods directly; Python uses them internally.\n",
    "\n",
    "### 4. \\_\\_call\\_\\_ Method\n",
    "- Makes an object callable like a function.\n",
    "\n",
    "- When you write obj(), Python looks for a \\_\\_call\\_\\_ method in the object's class.\n",
    "\n",
    "- **Practical use:** Objects that need to act like functions or maintain state between calls.\n",
    "\n",
    "Example:"
   ]
  },
  {
   "cell_type": "code",
   "execution_count": 6,
   "id": "de410247",
   "metadata": {},
   "outputs": [
    {
     "name": "stdout",
     "output_type": "stream",
     "text": [
      "Hey, I am good\n"
     ]
    }
   ],
   "source": [
    "class Employee:\n",
    "    def __call__(self):\n",
    "        print(\"Hey, I am good\")\n",
    "\n",
    "e = Employee()\n",
    "e()  # Output: Hey, I am good"
   ]
  },
  {
   "cell_type": "markdown",
   "id": "70ba0a0d",
   "metadata": {},
   "source": [
    "- Without \\_\\_call\\_\\_, calling e() would throw TypeError: 'Employee' object is not callable.\n",
    "\n",
    "- Challenge for students: Design a practical \\_\\_call\\_\\_ implementation where invoking the object triggers useful behavior.\n",
    "\n",
    "### 5. Operator Overloading: \\_\\_add\\_\\_, \\_\\_mul\\_\\_, etc.\n",
    "- Define custom behavior for operators like +, *, etc.\n",
    "\n",
    "- These will be covered in detail in subsequent lessons.\n",
    "\n",
    "# Summary and Takeaways\n",
    "\n",
    "- **Magic/Dunder Methods** are special methods enclosed by double underscores.\n",
    "\n",
    "- Use them to customize class behavior in Python — including object creation (\\_\\_init\\_\\_), length calculation (\\_\\_len\\_\\_), string representation (\\_\\_str\\_\\_/\\_\\_repr\\_\\_), and making objects callable (\\_\\_call\\_\\_).\n",
    "\n",
    "- These methods are called implicitly by Python in response to certain operations.\n",
    "\n",
    "- Implementing \\_\\_str\\_\\_ makes printed output more user-friendly, whereas \\_\\_repr\\_\\_ is for developers.\n",
    "\n",
    "- \\_\\_call\\_\\_ lets instances behave like functions, enabling flexible designs.\n",
    "\n",
    "- Operator overloading (with methods like \\_\\_add\\_\\_) extends intuitive use of operators with custom objects.\n",
    "\n",
    "- Mastery of magic methods is essential for advanced OOP and creating clean, idiomatic Python code."
   ]
  }
 ],
 "metadata": {
  "kernelspec": {
   "display_name": ".venv",
   "language": "python",
   "name": "python3"
  },
  "language_info": {
   "codemirror_mode": {
    "name": "ipython",
    "version": 3
   },
   "file_extension": ".py",
   "mimetype": "text/x-python",
   "name": "python",
   "nbconvert_exporter": "python",
   "pygments_lexer": "ipython3",
   "version": "3.12.3"
  }
 },
 "nbformat": 4,
 "nbformat_minor": 5
}
