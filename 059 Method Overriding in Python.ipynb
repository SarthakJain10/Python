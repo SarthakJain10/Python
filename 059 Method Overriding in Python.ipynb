{
 "cells": [
  {
   "cell_type": "markdown",
   "id": "bf805eef",
   "metadata": {},
   "source": [
    "# 1. What is Method Overriding?\n",
    "- It enables a subclass (child class) to offer a new version of a method defined in the superclass (parent class).\n",
    "\n",
    "- The overridden method in the child class replaces the version inherited from the parent.\n",
    "\n",
    "- This facilitates polymorphism by allowing child classes to customize or extend base class behavior.\n",
    "\n",
    "# 2. Example Scenario: Shape Classes\n",
    "### Base Class: Shape"
   ]
  },
  {
   "cell_type": "code",
   "execution_count": 1,
   "id": "441eb40c",
   "metadata": {},
   "outputs": [],
   "source": [
    "class Shape:\n",
    "    def __init__(self, x, y):\n",
    "        self.x = x  # could represent length\n",
    "        self.y = y  # could represent breadth\n",
    "\n",
    "    def area(self):\n",
    "        return self.x * self.y   # default area calculation for rectangle"
   ]
  },
  {
   "cell_type": "markdown",
   "id": "15a05702",
   "metadata": {},
   "source": [
    "- This base class has an area method that calculates the area as x * y, suitable for a rectangle.\n",
    "\n",
    "### Child Class: Rectangle"
   ]
  },
  {
   "cell_type": "code",
   "execution_count": 2,
   "id": "2d0d0a92",
   "metadata": {},
   "outputs": [
    {
     "name": "stdout",
     "output_type": "stream",
     "text": [
      "15\n"
     ]
    }
   ],
   "source": [
    "rec = Shape(3, 5)\n",
    "print(rec.area())  # Output: 15"
   ]
  },
  {
   "cell_type": "markdown",
   "id": "6bc22518",
   "metadata": {},
   "source": [
    "- A rectangle uses the base class’s area() method directly to calculate area.\n",
    "\n",
    "### Child Class: Circle (needs overriding)\n",
    "- Circle’s area formula is different: π * r²\n",
    "\n",
    "- If we inherit Shape without overriding:\n",
    "\n",
    "    - Circle object tries to use Shape constructor (needs x and y).\n",
    "\n",
    "    - Calls area() which calculates x * y, incorrect for a circle.\n",
    "\n",
    "    - Causes errors if x and y are missing or incorrectly set.\n",
    "\n",
    "- Solution: Override the area() method in Circle.\n",
    "\n",
    "# 3. Overriding the area() Method in Circle"
   ]
  },
  {
   "cell_type": "code",
   "execution_count": 3,
   "id": "f76236f0",
   "metadata": {},
   "outputs": [],
   "source": [
    "class Circle(Shape):\n",
    "    def __init__(self, radius):\n",
    "        self.radius = radius  # Circle has only radius\n",
    "\n",
    "    def area(self):\n",
    "        return 3.14 * self.radius ** 2"
   ]
  },
  {
   "cell_type": "markdown",
   "id": "4862661f",
   "metadata": {},
   "source": [
    "- Overriding the method provides the correct area formula.\n",
    "\n",
    "- Note: If the Shape constructor is called with super().\\_\\_init\\_\\_(), it might incorrectly assign radius to both x and y, leading to wrong behavior. Avoid this by defining radius separately.\n",
    "\n",
    "# 4. Using super() in Overriding\n",
    "- You can still call the parent's method inside the overridden method using super().\n",
    "\n",
    "- Example (though conceptually odd for Circle):\n",
    "\n"
   ]
  },
  {
   "cell_type": "code",
   "execution_count": 4,
   "id": "30eb37cb",
   "metadata": {},
   "outputs": [],
   "source": [
    "class Circle(Shape):\n",
    "    def __init__(self, radius):\n",
    "        self.radius = radius\n",
    "\n",
    "    def area(self):\n",
    "        # Calls the parent's area() method which multiplies x and y\n",
    "        base_area = super().area()  # would fail if x, y are undefined\n",
    "        # multiply by π to adjust result -- example only\n",
    "        return 3.14 * base_area"
   ]
  },
  {
   "cell_type": "markdown",
   "id": "97cd9bfc",
   "metadata": {},
   "source": [
    "- Practical use of super() depends on proper initialization of parent attributes.\n",
    "\n",
    "# Important Points\n",
    "- Method Overriding is a way to implement polymorphism.\n",
    "\n",
    "- Overridden methods in child classes execute instead of the parent's method when called on an instance of the child class.\n",
    "\n",
    "- It allows more specific behavior in child classes while still reusing code from the parent class.\n",
    "\n",
    "- Beware of incorrect use of super() when base class expects different constructor parameters.\n",
    "\n",
    "- **Best practice:** override only those methods where child class needs distinct functionality.\n"
   ]
  },
  {
   "cell_type": "markdown",
   "id": "b3c6aa0b",
   "metadata": {},
   "source": [
    "# Coding Practice Tips\n",
    "- Create base class and child classes that inherit from it.\n",
    "\n",
    "- Override methods where behavior must differ.\n",
    "\n",
    "- Experiment with calling super().method() inside overridden methods.\n",
    "\n",
    "- Try examples like Employee class hierarchy where base class methods get overridden based on different employee types."
   ]
  },
  {
   "cell_type": "markdown",
   "id": "44926870",
   "metadata": {},
   "source": [
    "# Summary\n",
    "- Method Overriding allows a subclass to change or redefine a method inherited from a parent class.\n",
    "\n",
    "- Useful when child class behavior needs to differ from the default implementation.\n",
    "\n",
    "- Implemented simply by defining a method in the child class with the same name as in the parent class.\n",
    "\n",
    "- super() can be used inside the overridden method to call the parent’s original method if needed.\n",
    "\n",
    "- Key to understanding OOP concepts like inheritance and polymorphism in Python.\n",
    "\n",
    "- Practical example included overriding the area method in a Shape class hierarchy to correctly calculate the area of different shapes like rectangles and circles."
   ]
  }
 ],
 "metadata": {
  "kernelspec": {
   "display_name": ".venv",
   "language": "python",
   "name": "python3"
  },
  "language_info": {
   "codemirror_mode": {
    "name": "ipython",
    "version": 3
   },
   "file_extension": ".py",
   "mimetype": "text/x-python",
   "name": "python",
   "nbconvert_exporter": "python",
   "pygments_lexer": "ipython3",
   "version": "3.12.3"
  }
 },
 "nbformat": 4,
 "nbformat_minor": 5
}
