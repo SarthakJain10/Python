{
 "cells": [
  {
   "cell_type": "markdown",
   "id": "4476b088",
   "metadata": {},
   "source": [
    "# What is Operator Overloading?\n",
    "- It is a technique to define the behavior of an operator (e.g., +, -) on objects of a custom class.\n",
    "\n",
    "- Without operator overloading, using operators like + between two objects of your custom class will throw an error.\n",
    "\n",
    "- Overloading means \"redefining\" how operators work for new types of data (classes).\n",
    "\n",
    "# Why Use Operator Overloading?\n",
    "- To make operations on objects more natural and similar to built-in types.\n",
    "\n",
    "- For example, adding two vectors should add their respective components, not result in an error or meaningless output."
   ]
  },
  {
   "cell_type": "markdown",
   "id": "451327b0",
   "metadata": {},
   "source": [
    "# Python’s Special (\"Dunder\") Methods\n",
    "- Python uses special methods to achieve operator overloading. These methods start and end with double underscores (called dunder methods).\n",
    "\n",
    "- Common operator-related dunder methods include:\n",
    "\n",
    "    - \\_\\_add\\_\\_(self, other) for +\n",
    "\n",
    "    - \\_\\_sub\\_\\_(self, other) for -\n",
    "\n",
    "    - \\_\\_mul\\_\\_(self, other) for *\n",
    "\n",
    "    - \\_\\_matmul\\_\\_(self, other) for @ (matrix multiplication)\n",
    "\n",
    "    - \\_\\_truediv\\_\\_(self, other) for /\n",
    "\n",
    "    - \\_\\_floordiv__(self, other) for //\n",
    "\n",
    "    - And many more…"
   ]
  },
  {
   "cell_type": "markdown",
   "id": "622d4575",
   "metadata": {},
   "source": [
    "How Dunder Methods Work\n",
    "- When you write a + b, Python internally calls a.\\_\\_add__(b) if a is an object of a class that defines \\_\\_add__.\n",
    "\n",
    "- If \\_\\_add__ is not defined, Python raises a TypeError."
   ]
  },
  {
   "cell_type": "markdown",
   "id": "c1fcb649",
   "metadata": {},
   "source": [
    "# Example: Operator Overloading with a Vector Class\n",
    "### Creating the Vector Class\n",
    "- Define a class Vector that holds 3 components: i, j, and k.\n",
    "\n",
    "- Initialize these in \\_\\_init__:"
   ]
  },
  {
   "cell_type": "code",
   "execution_count": 1,
   "id": "7af26341",
   "metadata": {},
   "outputs": [],
   "source": [
    "class Vector:\n",
    "    def __init__(self, i, j, k):\n",
    "        self.i = i\n",
    "        self.j = j\n",
    "        self.k = k"
   ]
  },
  {
   "cell_type": "markdown",
   "id": "a4310a4d",
   "metadata": {},
   "source": [
    "### Displaying the Vector — \\_\\_str__ Method\n",
    "- Define \\_\\_str__ to return a readable string representing the vector:"
   ]
  },
  {
   "cell_type": "code",
   "execution_count": 2,
   "id": "0288b010",
   "metadata": {},
   "outputs": [],
   "source": [
    "def __str__(self):\n",
    "    return f\"{self.i}i + {self.j}j + {self.k}k\""
   ]
  },
  {
   "cell_type": "markdown",
   "id": "ae37cd33",
   "metadata": {},
   "source": [
    "- This allows print(v) to display vector components cleanly.\n",
    "\n",
    "### Adding Two Vectors Without Operator Overloading\n",
    "- Trying v1 + v2 (where both are Vector objects) initially will cause a TypeError because Python doesn’t know how to add two Vector objects by default.\n",
    "\n",
    "### Defining the __add__ Method\n",
    "- To enable vector addition using +, define:"
   ]
  },
  {
   "cell_type": "code",
   "execution_count": 3,
   "id": "274317eb",
   "metadata": {},
   "outputs": [],
   "source": [
    "def __add__(self, other):\n",
    "    return Vector(self.i + other.i,\n",
    "                  self.j + other.j,\n",
    "                  self.k + other.k)"
   ]
  },
  {
   "cell_type": "markdown",
   "id": "f6a1f90e",
   "metadata": {},
   "source": [
    "- This method takes another Vector object and returns a new Vector whose components are the sum of corresponding components from both operands.\n",
    "\n",
    "### Output After Overloading +\n",
    "- Now v1 + v2 results in a new Vector object with summed components.\n",
    "\n",
    "- Printing the result invokes __str__ for a readable output.\n",
    "\n",
    "- The type of the result is Vector, enabling further vector operations on the result."
   ]
  },
  {
   "cell_type": "markdown",
   "id": "71ef3ec0",
   "metadata": {},
   "source": [
    "# Important Notes and Best Practices\n",
    "- ### Return Type Consistency:\n",
    "When overloading operators, ensure to return an object of the expected type (e.g., return a Vector instance rather than a string), allowing seamless chaining of operations.\n",
    "\n",
    "- ### Inheritance Behavior:\n",
    "If another class inherits from your Vector class, it also inherits the overloaded operator unless explicitly overridden.\n",
    "\n",
    "- ### Refer to Official Python Documentation:\n",
    "The Python Data Model describes all special methods, including which operators they correspond to and their expected behavior.\n",
    "Some key dunder methods for operator overloading:"
   ]
  },
  {
   "cell_type": "code",
   "execution_count": 4,
   "id": "11186045",
   "metadata": {},
   "outputs": [
    {
     "data": {
      "text/html": [
       "<div>\n",
       "<style scoped>\n",
       "    .dataframe tbody tr th:only-of-type {\n",
       "        vertical-align: middle;\n",
       "    }\n",
       "\n",
       "    .dataframe tbody tr th {\n",
       "        vertical-align: top;\n",
       "    }\n",
       "\n",
       "    .dataframe thead th {\n",
       "        text-align: right;\n",
       "    }\n",
       "</style>\n",
       "<table border=\"1\" class=\"dataframe\">\n",
       "  <thead>\n",
       "    <tr style=\"text-align: right;\">\n",
       "      <th></th>\n",
       "      <th>Operator Symbol</th>\n",
       "      <th>Dunder Method</th>\n",
       "      <th>Description</th>\n",
       "    </tr>\n",
       "  </thead>\n",
       "  <tbody>\n",
       "    <tr>\n",
       "      <th>0</th>\n",
       "      <td>+</td>\n",
       "      <td>__add__</td>\n",
       "      <td>Addition</td>\n",
       "    </tr>\n",
       "    <tr>\n",
       "      <th>1</th>\n",
       "      <td>-</td>\n",
       "      <td>__sub__</td>\n",
       "      <td>Subtraction</td>\n",
       "    </tr>\n",
       "    <tr>\n",
       "      <th>2</th>\n",
       "      <td>*</td>\n",
       "      <td>__mul__</td>\n",
       "      <td>Multiplication</td>\n",
       "    </tr>\n",
       "    <tr>\n",
       "      <th>3</th>\n",
       "      <td>@</td>\n",
       "      <td>__matmul__</td>\n",
       "      <td>Matrix multiplication (3.5+)</td>\n",
       "    </tr>\n",
       "    <tr>\n",
       "      <th>4</th>\n",
       "      <td>/</td>\n",
       "      <td>__truediv__</td>\n",
       "      <td>True division</td>\n",
       "    </tr>\n",
       "    <tr>\n",
       "      <th>5</th>\n",
       "      <td>//</td>\n",
       "      <td>__floordiv__</td>\n",
       "      <td>Floor division</td>\n",
       "    </tr>\n",
       "    <tr>\n",
       "      <th>6</th>\n",
       "      <td>%</td>\n",
       "      <td>__mod__</td>\n",
       "      <td>Modulo</td>\n",
       "    </tr>\n",
       "  </tbody>\n",
       "</table>\n",
       "</div>"
      ],
      "text/plain": [
       "  Operator Symbol Dunder Method                   Description\n",
       "0               +       __add__                      Addition\n",
       "1               -       __sub__                   Subtraction\n",
       "2               *       __mul__                Multiplication\n",
       "3               @    __matmul__  Matrix multiplication (3.5+)\n",
       "4               /   __truediv__                 True division\n",
       "5              //  __floordiv__                Floor division\n",
       "6               %       __mod__                        Modulo"
      ]
     },
     "execution_count": 4,
     "metadata": {},
     "output_type": "execute_result"
    }
   ],
   "source": [
    "import pandas as pd\n",
    "pd.set_option('display.max_colwidth', None)\n",
    "df = pd.read_csv('csv_files/OperatorSymbol-DunderMethod-Description.csv')\n",
    "df"
   ]
  },
  {
   "cell_type": "markdown",
   "id": "84671ac1",
   "metadata": {},
   "source": [
    "# Summary\n",
    "- Operator Overloading allows customizing how operators behave with user-defined objects.\n",
    "\n",
    "- Python uses special \"dunder\" methods like \\_\\_add__ to implement operator overloading.\n",
    "\n",
    "- By defining these methods in a class, you can make operators like +, -, and * work intuitively for your objects.\n",
    "\n",
    "- The provided Vector example demonstrates overloading + to add vector components.\n",
    "\n",
    "- Always ensure overloaded methods return appropriate types to maintain object integrity.\n",
    "\n",
    "- Explore Python’s official documentation to learn about all available operator overloading methods.\n",
    "\n",
    "- Operator overloading improves code readability and usability by allowing natural algebraic expressions with custom objects."
   ]
  }
 ],
 "metadata": {
  "kernelspec": {
   "display_name": ".venv",
   "language": "python",
   "name": "python3"
  },
  "language_info": {
   "codemirror_mode": {
    "name": "ipython",
    "version": 3
   },
   "file_extension": ".py",
   "mimetype": "text/x-python",
   "name": "python",
   "nbconvert_exporter": "python",
   "pygments_lexer": "ipython3",
   "version": "3.12.3"
  }
 },
 "nbformat": 4,
 "nbformat_minor": 5
}
