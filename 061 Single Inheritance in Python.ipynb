{
 "cells": [
  {
   "cell_type": "markdown",
   "id": "be0a8138",
   "metadata": {},
   "source": [
    "#  Introduction to Single Inheritance\n",
    "- Inheritance is a fundamental feature in Object-Oriented Programming (OOP) that allows a class to inherit attributes and behaviors (methods) from another class.\n",
    "\n",
    "- Single Inheritance is the simplest and most common form of inheritance.\n",
    "\n",
    "- In Single Inheritance, there are two classes involved:\n",
    "\n",
    "    - Parent Class (Base Class): The class that is being inherited from.\n",
    "\n",
    "    - Child Class (Derived Class): The class that inherits from the parent class.\n",
    "\n",
    "- This means a child class inherits all properties (data members) and methods (functions) from one parent class.\n",
    "\n",
    "# Key definition:\n",
    "Single inheritance is a type of inheritance where a class inherits properties and behaviors from a single parent class.\n",
    "\n",
    "# Why Use Single Inheritance?\n",
    "- Promotes code reusability by allowing child classes to use and extend code already written in the parent class.\n",
    "\n",
    "- Makes the code more organized and easier to maintain.\n",
    "\n",
    "- Helps avoid redundancy by sharing common functionality between classes.\n",
    "\n",
    "### Syntax of Single Inheritance in Python"
   ]
  },
  {
   "cell_type": "code",
   "execution_count": 1,
   "id": "84f9c425",
   "metadata": {},
   "outputs": [],
   "source": [
    "class ParentClass:\n",
    "    # Parent class attributes and methods\n",
    "    pass\n",
    "\n",
    "class ChildClass(ParentClass):\n",
    "    # Child class inherits from ParentClass\n",
    "    pass"
   ]
  },
  {
   "cell_type": "markdown",
   "id": "4523ac37",
   "metadata": {},
   "source": [
    "# Example Explained\n",
    "### Step 1: Parent Class - Animal\n",
    "- Has an initializer (\\_\\_init__) method accepting parameters (e.g., name).\n",
    "\n",
    "- Contains a method called make_sound() which prints a generic message like \"Sound made by animal\"."
   ]
  },
  {
   "cell_type": "code",
   "execution_count": 2,
   "id": "e1204c24",
   "metadata": {},
   "outputs": [],
   "source": [
    "class Animal:\n",
    "    def __init__(self, name):\n",
    "        self.name = name\n",
    "\n",
    "    def make_sound(self):\n",
    "        print(\"Sound made by animal\")"
   ]
  },
  {
   "cell_type": "markdown",
   "id": "55fb6e09",
   "metadata": {},
   "source": [
    "### Step 2: Child Class - Dog\n",
    "- It inherits from Animal.\n",
    "\n",
    "- Overrides the make_sound method to provide a specific behavior (print(\"Bark\")).\n",
    "\n",
    "- Also has its own initializer which may override or extend the parent's initializer."
   ]
  },
  {
   "cell_type": "code",
   "execution_count": 3,
   "id": "c0b34920",
   "metadata": {},
   "outputs": [],
   "source": [
    "class Dog(Animal):\n",
    "    def __init__(self, name):\n",
    "        super().__init__(name)  # calls the parent class constructor\n",
    "        # additional initialization if any\n",
    "\n",
    "    def make_sound(self):\n",
    "        print(\"Bark\")"
   ]
  },
  {
   "cell_type": "markdown",
   "id": "e585c942",
   "metadata": {},
   "source": [
    "### Usage:"
   ]
  },
  {
   "cell_type": "code",
   "execution_count": 4,
   "id": "210fab55",
   "metadata": {},
   "outputs": [
    {
     "name": "stdout",
     "output_type": "stream",
     "text": [
      "Sound made by animal\n",
      "Bark\n"
     ]
    }
   ],
   "source": [
    "a = Animal(\"Generic Animal\")\n",
    "a.make_sound()  # Output: Sound made by animal\n",
    "\n",
    "d = Dog(\"Doggerman\")\n",
    "d.make_sound()  # Output: Bark"
   ]
  },
  {
   "cell_type": "markdown",
   "id": "524ff87c",
   "metadata": {},
   "source": [
    "# Observations:\n",
    "\n",
    "- The Dog class inherits attributes and methods from Animal.\n",
    "\n",
    "- Method overriding: Dog class provides its own implementation of make_sound().\n",
    "\n",
    "- If make_sound() is called on an Animal object, it runs the original method.\n",
    "\n",
    "- If called on a Dog object, it runs the overridden method.\n",
    "\n",
    "# Important Concepts Highlighted\n",
    "### Method Overriding\n",
    "- Child class redefines a method that already exists in the parent class.\n",
    "\n",
    "- Allows for specialized behavior in child classes.\n",
    "\n",
    "- Enhances flexibility and extensibility of code.\n",
    "\n",
    "### Code Reusability\n",
    "- Avoids rewriting common functionality.\n",
    "\n",
    "- Child classes reuse and build upon parent class code.\n",
    "\n",
    "# Summary of Single Inheritance\n",
    "- Most common and simplest inheritance type.\n",
    "\n",
    "- Involves one parent class and one child class.\n",
    "\n",
    "- Child inherits all properties and methods from the parent.\n",
    "\n",
    "- Child can override parent's methods for specific behavior.\n",
    "\n",
    "- Encourages code reuse and cleaner, maintainable code."
   ]
  },
  {
   "cell_type": "markdown",
   "id": "bb55f4fe",
   "metadata": {},
   "source": [
    "# Quiz / Practice\n",
    "### Task:\n",
    "Create a new class Cat that inherits from the Animal class. Implement Cat-specific methods or override existing methods as needed.\n",
    "\n",
    "### Example starter:"
   ]
  },
  {
   "cell_type": "code",
   "execution_count": 5,
   "id": "fc4c7bb4",
   "metadata": {},
   "outputs": [],
   "source": [
    "class Cat(Animal):\n",
    "    def make_sound(self):\n",
    "        print(\"Meow\")"
   ]
  },
  {
   "cell_type": "markdown",
   "id": "fa74ead8",
   "metadata": {},
   "source": [
    "# Additional Notes\n",
    "- There are other types of inheritance covered in OOP, such as:\n",
    "\n",
    "    - **Multiple Inheritance:** A class inherits from multiple parent classes.\n",
    "\n",
    "    - **Multi-level Inheritance:** Inheritance across multiple class levels (grandparent → parent → child).\n",
    "\n",
    "- Single inheritance remains foundational and is often the first form introduced for beginners.\n",
    "\n",
    "# Final Summary"
   ]
  },
  {
   "cell_type": "code",
   "execution_count": 6,
   "id": "42d0104c",
   "metadata": {},
   "outputs": [
    {
     "data": {
      "text/html": [
       "<div>\n",
       "<style scoped>\n",
       "    .dataframe tbody tr th:only-of-type {\n",
       "        vertical-align: middle;\n",
       "    }\n",
       "\n",
       "    .dataframe tbody tr th {\n",
       "        vertical-align: top;\n",
       "    }\n",
       "\n",
       "    .dataframe thead th {\n",
       "        text-align: right;\n",
       "    }\n",
       "</style>\n",
       "<table border=\"1\" class=\"dataframe\">\n",
       "  <thead>\n",
       "    <tr style=\"text-align: right;\">\n",
       "      <th></th>\n",
       "      <th>Aspect</th>\n",
       "      <th>Notes</th>\n",
       "    </tr>\n",
       "  </thead>\n",
       "  <tbody>\n",
       "    <tr>\n",
       "      <th>0</th>\n",
       "      <td>Inheritance Type</td>\n",
       "      <td>Single Inheritance</td>\n",
       "    </tr>\n",
       "    <tr>\n",
       "      <th>1</th>\n",
       "      <td>Classes Involved</td>\n",
       "      <td>One parent + one child class</td>\n",
       "    </tr>\n",
       "    <tr>\n",
       "      <th>2</th>\n",
       "      <td>Purpose</td>\n",
       "      <td>Code reuse and specialization</td>\n",
       "    </tr>\n",
       "    <tr>\n",
       "      <th>3</th>\n",
       "      <td>Method Overriding</td>\n",
       "      <td>Child class can override parent methods</td>\n",
       "    </tr>\n",
       "    <tr>\n",
       "      <th>4</th>\n",
       "      <td>Syntax</td>\n",
       "      <td>class Child(Parent):</td>\n",
       "    </tr>\n",
       "    <tr>\n",
       "      <th>5</th>\n",
       "      <td>Key Benefit</td>\n",
       "      <td>Simplicity and widespread usage</td>\n",
       "    </tr>\n",
       "    <tr>\n",
       "      <th>6</th>\n",
       "      <td>Example</td>\n",
       "      <td>DoginheritsAnimal; overridesmake_sound()</td>\n",
       "    </tr>\n",
       "  </tbody>\n",
       "</table>\n",
       "</div>"
      ],
      "text/plain": [
       "              Aspect                                     Notes\n",
       "0   Inheritance Type                        Single Inheritance\n",
       "1   Classes Involved              One parent + one child class\n",
       "2            Purpose             Code reuse and specialization\n",
       "3  Method Overriding   Child class can override parent methods\n",
       "4             Syntax                      class Child(Parent):\n",
       "5        Key Benefit           Simplicity and widespread usage\n",
       "6            Example  DoginheritsAnimal; overridesmake_sound()"
      ]
     },
     "execution_count": 6,
     "metadata": {},
     "output_type": "execute_result"
    }
   ],
   "source": [
    "import pandas as pd\n",
    "df = pd.read_csv('csv_files/Aspect-Notes.csv')\n",
    "df"
   ]
  }
 ],
 "metadata": {
  "kernelspec": {
   "display_name": ".venv",
   "language": "python",
   "name": "python3"
  },
  "language_info": {
   "codemirror_mode": {
    "name": "ipython",
    "version": 3
   },
   "file_extension": ".py",
   "mimetype": "text/x-python",
   "name": "python",
   "nbconvert_exporter": "python",
   "pygments_lexer": "ipython3",
   "version": "3.12.3"
  }
 },
 "nbformat": 4,
 "nbformat_minor": 5
}
