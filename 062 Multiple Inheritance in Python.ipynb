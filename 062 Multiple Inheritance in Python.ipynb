{
 "cells": [
  {
   "cell_type": "markdown",
   "id": "9bce051d",
   "metadata": {},
   "source": [
    "# What is Multiple Inheritance?\n",
    "- **Definition:** A class inherits from more than one parent class.\n",
    "\n",
    "- **Structure:**\n",
    "\n",
    "    - ChildClass(Parent1, Parent2, ..., ParentN)\n",
    "\n",
    "    - Usually, two parent classes are most common, but any number is possible.\n",
    "\n",
    "- **Use Case:**\n",
    "For example, in a company scenario:\n",
    "\n",
    "    - Employee class represents employees.\n",
    "\n",
    "    - Dancer class represents people who can dance.\n",
    "\n",
    "    - DancerEmployee class inherits from both Employee and Dancer because some employees are also dancers.\n",
    "\n",
    "# Code Example Explained\n",
    "### Step 1: Define Parent Classes"
   ]
  },
  {
   "cell_type": "code",
   "execution_count": 1,
   "id": "6237f6bc",
   "metadata": {},
   "outputs": [],
   "source": [
    "class Employee:\n",
    "    def __init__(self, name):\n",
    "        self.name = name\n",
    "        \n",
    "    def show(self):\n",
    "        print(f\"The name is {self.name}\")\n",
    "\n",
    "class Dancer:\n",
    "    def __init__(self, dance):\n",
    "        self.dance = dance\n",
    "        \n",
    "    def show(self):\n",
    "        print(f\"The dance is {self.dance}\")"
   ]
  },
  {
   "cell_type": "markdown",
   "id": "2f01ca6a",
   "metadata": {},
   "source": [
    "- Employee class has a constructor that initializes an employee's name.\n",
    "\n",
    "- Dancer class has a constructor that initializes the type of dance.\n",
    "\n",
    "- Both classes have a show() method, but they display different things.\n",
    "\n",
    "### Step 2: Define Child Class with Multiple Inheritance"
   ]
  },
  {
   "cell_type": "code",
   "execution_count": 2,
   "id": "089bcd2a",
   "metadata": {},
   "outputs": [],
   "source": [
    "class DancerEmployee(Dancer, Employee):\n",
    "    def __init__(self, name, dance):\n",
    "        # Initialize parents\n",
    "        Employee.__init__(self, name)\n",
    "        Dancer.__init__(self, dance)"
   ]
  },
  {
   "cell_type": "markdown",
   "id": "8581581f",
   "metadata": {},
   "source": [
    "- The child class DancerEmployee inherits from Dancer and Employee.\n",
    "\n",
    "- In its constructor, it explicitly calls the constructors of both parents to initialize name and dance.\n",
    "\n",
    "# Key Concepts\n",
    "### Constructor Initialization\n",
    "- When using multiple inheritance, you must initialize each parent class with its constructor using ParentClass./_/_init__(self, args) explicitly, unless you use super() carefully (which was not done in this example).\n",
    "\n",
    "### Method Overriding and Resolution\n",
    "- Both parent classes have a show() method. When show() is called on a DancerEmployee instance, which show() method is invoked depends on the Method Resolution Order (MRO).\n",
    "\n",
    "### Method Resolution Order (MRO)\n",
    "- MRO determines the order in which Python searches for methods and attributes.\n",
    "\n",
    "- You can check MRO by calling:"
   ]
  },
  {
   "cell_type": "code",
   "execution_count": 3,
   "id": "56fe8d89",
   "metadata": {},
   "outputs": [
    {
     "name": "stdout",
     "output_type": "stream",
     "text": [
      "[<class '__main__.DancerEmployee'>, <class '__main__.Dancer'>, <class '__main__.Employee'>, <class 'object'>]\n"
     ]
    }
   ],
   "source": [
    "print(DancerEmployee.mro())"
   ]
  },
  {
   "cell_type": "markdown",
   "id": "c457aa62",
   "metadata": {},
   "source": [
    "- For example, if the class is defined as:"
   ]
  },
  {
   "cell_type": "code",
   "execution_count": 5,
   "id": "4f13b640",
   "metadata": {},
   "outputs": [],
   "source": [
    "class DancerEmployee(Dancer, Employee):\n",
    "    #...\n",
    "    pass"
   ]
  },
  {
   "cell_type": "markdown",
   "id": "cc94c359",
   "metadata": {},
   "source": [
    "The MRO will be:\n",
    "\n",
    "1. DancerEmployee\n",
    "\n",
    "2. Dancer\n",
    "\n",
    "3. Employee\n",
    "\n",
    "4. object\n",
    "\n",
    "If you swap the parent classes:"
   ]
  },
  {
   "cell_type": "code",
   "execution_count": 6,
   "id": "e25b025e",
   "metadata": {},
   "outputs": [],
   "source": [
    "class EmployeeDancer(Employee, Dancer):\n",
    "    #...\n",
    "    pass"
   ]
  },
  {
   "cell_type": "markdown",
   "id": "3b973c30",
   "metadata": {},
   "source": [
    "The MRO changes accordingly, prioritizing Employee over Dancer.\n",
    "\n",
    "- **Effect:** If both parents have a method with the same name, Python calls the method from the class that appears first in the MRO list."
   ]
  },
  {
   "cell_type": "markdown",
   "id": "a3771758",
   "metadata": {},
   "source": [
    "# Important Points to Remember\n",
    "- Multiple inheritance enables combining features of multiple classes into a child class.\n",
    "\n",
    "- Be cautious about method and attribute name conflicts; MRO resolves them.\n",
    "\n",
    "- Use className.mro() to check the order of method lookup.\n",
    "\n",
    "- Constructors of parent classes should be called explicitly for proper initialization.\n",
    "\n",
    "- super() can be used for cooperative multiple inheritance (not covered deeply here).\n",
    "\n",
    "# Summary\n",
    "- Multiple inheritance allows a Python class to inherit from multiple parents.\n",
    "\n",
    "- Child classes can access properties and methods from all parent classes.\n",
    "\n",
    "- The order of parent classes matters and influences which methods are called, governed by Method Resolution Order (MRO).\n",
    "\n",
    "- Understanding MRO is essential to avoid confusion and bugs when parent classes have conflicting method or attribute names.\n",
    "\n",
    "- Explicitly calling parent constructors ensures proper initialization of inherited properties."
   ]
  }
 ],
 "metadata": {
  "kernelspec": {
   "display_name": ".venv",
   "language": "python",
   "name": "python3"
  },
  "language_info": {
   "codemirror_mode": {
    "name": "ipython",
    "version": 3
   },
   "file_extension": ".py",
   "mimetype": "text/x-python",
   "name": "python",
   "nbconvert_exporter": "python",
   "pygments_lexer": "ipython3",
   "version": "3.12.3"
  }
 },
 "nbformat": 4,
 "nbformat_minor": 5
}
