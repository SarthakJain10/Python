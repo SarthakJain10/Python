{
 "cells": [
  {
   "cell_type": "markdown",
   "id": "a5e1e9c5",
   "metadata": {},
   "source": [
    "Multilevel inheritance means a class inherits from a derived class, forming a chain or multiple levels of inheritance."
   ]
  },
  {
   "cell_type": "markdown",
   "id": "9a639d54",
   "metadata": {},
   "source": [
    "# 1. Inheritance in Python\n",
    "- Inheritance allows a child class to acquire attributes and methods of a parent class.\n",
    "\n",
    "- It promotes code reusability and logical hierarchy.\n",
    "\n",
    "- Syntax for single inheritance:"
   ]
  },
  {
   "cell_type": "code",
   "execution_count": null,
   "id": "cef0f87f",
   "metadata": {},
   "outputs": [],
   "source": [
    "class Child(Parent):\n",
    "    pass"
   ]
  },
  {
   "cell_type": "markdown",
   "id": "d276ae35",
   "metadata": {},
   "source": [
    "# 2. What is Multilevel Inheritance?\n",
    "- When a class inherits from a derived class, it forms multilevel inheritance.\n",
    "\n",
    "- Chain example:\n",
    "    Grandparent → Parent → Child\n",
    "\n",
    "- Each level can add its own methods or override existing methods.\n",
    "\n",
    "# 3. Syntax of Multilevel Inheritance\n"
   ]
  },
  {
   "cell_type": "code",
   "execution_count": 3,
   "id": "9503f996",
   "metadata": {},
   "outputs": [],
   "source": [
    "class A:\n",
    "    # base class\n",
    "    pass\n",
    "\n",
    "class B(A):\n",
    "    # derived from A\n",
    "    pass\n",
    "\n",
    "class C(B):\n",
    "    # derived from B\n",
    "    pass"
   ]
  },
  {
   "cell_type": "markdown",
   "id": "4a8433dd",
   "metadata": {},
   "source": [
    "Here, class C inherits from B, which in turn inherits from A.\n",
    "\n",
    "# 4. Method Resolution Order (MRO)\n",
    "- Python decides which method to execute based on the inheritance chain.\n",
    "\n",
    "- In multilevel inheritance, MRO starts from the child class upward through the chain.\n",
    "\n",
    "- Useful when method overriding takes place.\n",
    "\n",
    "# Detailed Explanation and Code Examples\n",
    "### Example 1: Simple Multilevel Inheritance"
   ]
  },
  {
   "cell_type": "code",
   "execution_count": 4,
   "id": "581fd144",
   "metadata": {},
   "outputs": [
    {
     "name": "stdout",
     "output_type": "stream",
     "text": [
      "Person is speaking\n",
      "Employee is working\n",
      "Manager is managing\n"
     ]
    }
   ],
   "source": [
    "class Person:\n",
    "    def speak(self):\n",
    "        print(\"Person is speaking\")\n",
    "\n",
    "class Employee(Person):\n",
    "    def work(self):\n",
    "        print(\"Employee is working\")\n",
    "\n",
    "class Manager(Employee):\n",
    "    def manage(self):\n",
    "        print(\"Manager is managing\")\n",
    "\n",
    "# Creating an instance of Manager\n",
    "m = Manager()\n",
    "m.speak()   # Inherited from Person\n",
    "m.work()    # Inherited from Employee\n",
    "m.manage()  # Defined in Manager"
   ]
  },
  {
   "cell_type": "markdown",
   "id": "b62f907c",
   "metadata": {},
   "source": [
    "- Here, Manager inherits Employee, which inherits Person.\n",
    "\n",
    "- Manager has access to all methods from the entire chain.\n",
    "\n",
    "- Demonstrates the flow of inheritance and usage of parent methods.\n",
    "\n",
    "# Important Points on Method Overriding\n",
    "- Any subclass can override parent class methods.\n",
    "\n",
    "- When a method is overridden, Python uses the method in the child class.\n",
    "\n",
    "- You can call parent methods explicitly using super().\n",
    "\n",
    "### Example 2: Using super() in Multilevel Inheritance"
   ]
  },
  {
   "cell_type": "code",
   "execution_count": 5,
   "id": "8aadbc2c",
   "metadata": {},
   "outputs": [
    {
     "name": "stdout",
     "output_type": "stream",
     "text": [
      "In A\n",
      "In B\n",
      "In C\n"
     ]
    }
   ],
   "source": [
    "class A:\n",
    "    def show(self):\n",
    "        print(\"In A\")\n",
    "\n",
    "class B(A):\n",
    "    def show(self):\n",
    "        super().show()\n",
    "        print(\"In B\")\n",
    "\n",
    "class C(B):\n",
    "    def show(self):\n",
    "        super().show()\n",
    "        print(\"In C\")\n",
    "\n",
    "obj = C()\n",
    "obj.show()"
   ]
  },
  {
   "cell_type": "markdown",
   "id": "fa97a2e0",
   "metadata": {},
   "source": [
    "- C.show() calls B.show() using super(), which further calls A.show().\n",
    "\n",
    "- Demonstrates how to properly access parent class methods in the multilevel hierarchy.\n",
    "\n",
    "# Use Cases of Multilevel Inheritance\n",
    "- When a base class establishes generic features, and subsequent subclasses add more specific features.\n",
    "\n",
    "- For example, in a software system for vehicles:\n",
    "\n",
    "    - Vehicle class (base level)\n",
    "\n",
    "    - Car class inherits Vehicle\n",
    "\n",
    "    - ElectricCar class inherits Car\n",
    "This hierarchy cleanly models increasing specificity.\n",
    "\n",
    "# Summary\n",
    "- Multilevel inheritance creates a chain of inheritance: a class inherits from a derived class.\n",
    "\n",
    "- It allows deeper hierarchical structures and reusing code over multiple levels.\n",
    "\n",
    "- Python’s MRO ensures methods are called in a predictable order starting from the child class upwards.\n",
    "\n",
    "- Method overriding and the super() function allow customizing behavior while maintaining access to parent methods.\n",
    "\n",
    "- Practical for modeling real-world domains with natural hierarchies and incrementally specialized behaviors."
   ]
  }
 ],
 "metadata": {
  "kernelspec": {
   "display_name": ".venv",
   "language": "python",
   "name": "python3"
  },
  "language_info": {
   "codemirror_mode": {
    "name": "ipython",
    "version": 3
   },
   "file_extension": ".py",
   "mimetype": "text/x-python",
   "name": "python",
   "nbconvert_exporter": "python",
   "pygments_lexer": "ipython3",
   "version": "3.12.3"
  }
 },
 "nbformat": 4,
 "nbformat_minor": 5
}
