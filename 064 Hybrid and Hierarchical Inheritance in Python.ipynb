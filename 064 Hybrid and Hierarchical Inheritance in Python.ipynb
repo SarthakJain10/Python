{
 "cells": [
  {
   "cell_type": "markdown",
   "id": "12f7cca3",
   "metadata": {},
   "source": [
    "# 1. Hierarchical Inheritance\n",
    "### Definition:\n",
    "Hierarchical inheritance occurs when multiple child classes inherit from a single parent class.\n",
    "\n",
    "### Structure:\n",
    "\n",
    "- One parent/base class\n",
    "\n",
    "- Two or more derived/child classes that independently inherit from the parent\n",
    "\n",
    "### Example:\n",
    "Consider a base class Vehicle. From this, multiple child classes like Car, Bike, and Truck can inherit. Each child class gets access to properties and methods of the Vehicle class but can also have its own unique features.\n",
    "\n",
    "### Example code snippet:"
   ]
  },
  {
   "cell_type": "code",
   "execution_count": 1,
   "id": "03dea5ab",
   "metadata": {},
   "outputs": [
    {
     "name": "stdout",
     "output_type": "stream",
     "text": [
      "Toyota vehicle started.\n",
      "This is a car.\n",
      "Yamaha vehicle started.\n",
      "This is a bike.\n"
     ]
    }
   ],
   "source": [
    "class Vehicle:\n",
    "    def __init__(self, brand):\n",
    "        self.brand = brand\n",
    "\n",
    "    def start(self):\n",
    "        print(f\"{self.brand} vehicle started.\")\n",
    "\n",
    "class Car(Vehicle):\n",
    "    def car_details(self):\n",
    "        print(\"This is a car.\")\n",
    "\n",
    "class Bike(Vehicle):\n",
    "    def bike_details(self):\n",
    "        print(\"This is a bike.\")\n",
    "\n",
    "# Usage\n",
    "car = Car(\"Toyota\")\n",
    "car.start()          # Inherited from Vehicle\n",
    "car.car_details()    # Specific to Car\n",
    "\n",
    "bike = Bike(\"Yamaha\")\n",
    "bike.start()         # Inherited from Vehicle\n",
    "bike.bike_details()  # Specific to Bike"
   ]
  },
  {
   "cell_type": "markdown",
   "id": "73f3c209",
   "metadata": {},
   "source": [
    "### Important points:\n",
    "\n",
    "- Child classes do not share inheritance among themselves, only from the common parent.\n",
    "\n",
    "- Useful for categorizing objects that share common features but differ in specialized behaviors.\n",
    "\n",
    "# 2. Hybrid Inheritance\n",
    "### Definition:\n",
    "Hybrid inheritance is a combination of two or more types of inheritance — often combining hierarchical and multiple inheritance to form a complex inheritance graph.\n",
    "\n",
    "### Structure:\n",
    "\n",
    "- It mixes aspects of single, multiple, multilevel, or hierarchical inheritance.\n",
    "\n",
    "- It is designed to leverage benefits of different inheritance models.\n",
    "\n",
    "### Example:\n",
    "Imagine a base class Person. Two classes Teacher and Student inherit from Person (hierarchical inheritance). Another class Assistant inherits from both Teacher and Student (multiple inheritance). This is hybrid inheritance.\n",
    "\n",
    "### Example code snippet:"
   ]
  },
  {
   "cell_type": "code",
   "execution_count": 2,
   "id": "81c74c8d",
   "metadata": {},
   "outputs": [
    {
     "name": "stdout",
     "output_type": "stream",
     "text": [
      "Person Name: Alex\n",
      "Alex is teaching.\n",
      "Alex is studying.\n",
      "Alex is assisting in class.\n"
     ]
    }
   ],
   "source": [
    "class Person:\n",
    "    def __init__(self, name):\n",
    "        self.name = name\n",
    "\n",
    "    def person_details(self):\n",
    "        print(f\"Person Name: {self.name}\")\n",
    "\n",
    "class Teacher(Person):\n",
    "    def teach(self):\n",
    "        print(f\"{self.name} is teaching.\")\n",
    "\n",
    "class Student(Person):\n",
    "    def study(self):\n",
    "        print(f\"{self.name} is studying.\")\n",
    "\n",
    "class Assistant(Teacher, Student):\n",
    "    def assist(self):\n",
    "        print(f\"{self.name} is assisting in class.\")\n",
    "\n",
    "# Usage\n",
    "assistant = Assistant(\"Alex\")\n",
    "assistant.person_details()  # From Person\n",
    "assistant.teach()           # From Teacher\n",
    "assistant.study()           # From Student\n",
    "assistant.assist()          # From Assistant"
   ]
  },
  {
   "cell_type": "markdown",
   "id": "b66367d6",
   "metadata": {},
   "source": [
    "### Important points:\n",
    "\n",
    "- Multiple inheritance can cause the \"Diamond Problem\" (same ancestor class inherited via multiple paths). Python solves this using the Method Resolution Order (MRO).\n",
    "\n",
    "- The super() function helps in calling parent class methods properly in such complex hierarchies.\n",
    "\n",
    "- Hybrid inheritance allows flexibility and reusability but must be designed carefully to avoid ambiguity.\n",
    "\n",
    "### Comparison Table"
   ]
  },
  {
   "cell_type": "code",
   "execution_count": 5,
   "id": "8087dc1b",
   "metadata": {},
   "outputs": [
    {
     "data": {
      "text/html": [
       "<div>\n",
       "<style scoped>\n",
       "    .dataframe tbody tr th:only-of-type {\n",
       "        vertical-align: middle;\n",
       "    }\n",
       "\n",
       "    .dataframe tbody tr th {\n",
       "        vertical-align: top;\n",
       "    }\n",
       "\n",
       "    .dataframe thead th {\n",
       "        text-align: right;\n",
       "    }\n",
       "</style>\n",
       "<table border=\"1\" class=\"dataframe\">\n",
       "  <thead>\n",
       "    <tr style=\"text-align: right;\">\n",
       "      <th></th>\n",
       "      <th>Feature</th>\n",
       "      <th>Hierarchical Inheritance</th>\n",
       "      <th>Hybrid Inheritance</th>\n",
       "    </tr>\n",
       "  </thead>\n",
       "  <tbody>\n",
       "    <tr>\n",
       "      <th>0</th>\n",
       "      <td>Number of parent classes</td>\n",
       "      <td>One</td>\n",
       "      <td>More than one (mix of multiple types)</td>\n",
       "    </tr>\n",
       "    <tr>\n",
       "      <th>1</th>\n",
       "      <td>Number of child classes</td>\n",
       "      <td>Multiple children inherit from single parent</td>\n",
       "      <td>Complex structure, often combining multiple inheritance types</td>\n",
       "    </tr>\n",
       "    <tr>\n",
       "      <th>2</th>\n",
       "      <td>Use case</td>\n",
       "      <td>When multiple subclasses share a parent</td>\n",
       "      <td>When multiple inheritance behaviors are needed in combination</td>\n",
       "    </tr>\n",
       "    <tr>\n",
       "      <th>3</th>\n",
       "      <td>Complexity</td>\n",
       "      <td>Simple to moderate</td>\n",
       "      <td>More complex; may require careful design to avoid conflicts</td>\n",
       "    </tr>\n",
       "  </tbody>\n",
       "</table>\n",
       "</div>"
      ],
      "text/plain": [
       "                    Feature                      Hierarchical Inheritance  \\\n",
       "0  Number of parent classes                                           One   \n",
       "1   Number of child classes  Multiple children inherit from single parent   \n",
       "2                  Use case       When multiple subclasses share a parent   \n",
       "3                Complexity                            Simple to moderate   \n",
       "\n",
       "                                              Hybrid Inheritance  \n",
       "0                          More than one (mix of multiple types)  \n",
       "1  Complex structure, often combining multiple inheritance types  \n",
       "2  When multiple inheritance behaviors are needed in combination  \n",
       "3    More complex; may require careful design to avoid conflicts  "
      ]
     },
     "execution_count": 5,
     "metadata": {},
     "output_type": "execute_result"
    }
   ],
   "source": [
    "import pandas as pd\n",
    "pd.set_option('display.max_colwidth', None)\n",
    "df = pd.read_csv(\"csv_files/Feature-HierarchicalInheritance-HybridInheritance.csv\")\n",
    "df"
   ]
  },
  {
   "cell_type": "markdown",
   "id": "320bc060",
   "metadata": {},
   "source": [
    "# Important Python Concepts Highlighted\n",
    "- ### Class Inheritance Syntax:\n",
    "Defining child class inheriting from parent: class Child(Parent):\n",
    "\n",
    "- ### Method Resolution Order (MRO):\n",
    "Python uses MRO to determine the order in which base classes are searched when invoking methods. Use ClassName.mro() to view.\n",
    "\n",
    "- ### Using super():\n",
    "Used inside child classes to call methods from parent classes correctly, especially in multiple inheritance scenarios.\n",
    "\n",
    "# Practical Tips\n",
    "- Always design your class hierarchy carefully, especially when mixing inheritance types.\n",
    "\n",
    "- Use hierarchical inheritance when multiple classes share common features but are not related among themselves.\n",
    "\n",
    "- Use hybrid inheritance when it’s necessary to combine behaviors from different inheritance patterns.\n",
    "\n",
    "- Understand Python’s MRO to troubleshoot method lookup problems."
   ]
  },
  {
   "cell_type": "markdown",
   "id": "5ff2b19a",
   "metadata": {},
   "source": [
    "# Summary\n",
    "- Hierarchical Inheritance involves multiple child classes inheriting from a single parent class. It helps in code reuse where children share some common behavior but implement their own specifics.\n",
    "\n",
    "- Hybrid Inheritance is a combination of different inheritance types (like hierarchical + multiple inheritance), which can model complex relationships but need careful handling to avoid ambiguity and conflicts.\n",
    "\n",
    "- Python handles complex inheritance via the Method Resolution Order (MRO), ensuring unambiguous method calls.\n",
    "\n",
    "- The super() function is crucial in calling parent class methods correctly in hybrid inheritance.\n",
    "\n",
    "Understanding these inheritance models enhances your ability to write clean, maintainable, and reusable Python code utilizing OOP concepts efficiently."
   ]
  }
 ],
 "metadata": {
  "kernelspec": {
   "display_name": ".venv",
   "language": "python",
   "name": "python3"
  },
  "language_info": {
   "codemirror_mode": {
    "name": "ipython",
    "version": 3
   },
   "file_extension": ".py",
   "mimetype": "text/x-python",
   "name": "python",
   "nbconvert_exporter": "python",
   "pygments_lexer": "ipython3",
   "version": "3.12.3"
  }
 },
 "nbformat": 4,
 "nbformat_minor": 5
}
