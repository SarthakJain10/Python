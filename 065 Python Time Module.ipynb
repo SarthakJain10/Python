{
 "cells": [
  {
   "cell_type": "markdown",
   "id": "6a8feb10",
   "metadata": {},
   "source": [
    "# Introduction\n",
    "- Time Module is a built-in Python module designed to perform various time-related operations.\n",
    "\n",
    "- It allows Python programs to work with system time, measure execution time, delay program execution, format time, and more.\n",
    "\n",
    "- Python provides very accurate and precise time measurement capabilities, often more reliable than regular system watches in terms of programming needs.\n",
    "\n",
    "# Why Use Time Module?\n",
    "- Useful for measuring the performance or execution time of segments of code (e.g., comparing For loop vs While loop).\n",
    "\n",
    "- Helps manage delays or pauses in program execution (e.g., making the program wait for a few seconds).\n",
    "\n",
    "- Retrieves current system time which can be formatted and used in the program.\n",
    "\n",
    "- Vital for scenarios where time-dependent tasks, benchmarks, or scheduling are needed.\n",
    "\n",
    "# Key Concepts and Functions in the Time Module\n",
    "### 1. time.time()\n",
    "- Returns the current time in seconds as a floating point number since the \"epoch.\"\n",
    "\n",
    "- **Epoch:** The reference point for time, which is January 1st, 1970, 00:00:00 UTC.\n",
    "\n",
    "- Example usage:"
   ]
  },
  {
   "cell_type": "code",
   "execution_count": 1,
   "id": "a20a4dff",
   "metadata": {},
   "outputs": [
    {
     "name": "stdout",
     "output_type": "stream",
     "text": [
      "Time taken: 1.9311904907226562e-05 seconds\n"
     ]
    }
   ],
   "source": [
    "import time\n",
    "start = time.time()\n",
    "# Code to measure\n",
    "end = time.time()\n",
    "elapsed = end - start\n",
    "print(\"Time taken:\", elapsed, \"seconds\")"
   ]
  },
  {
   "cell_type": "markdown",
   "id": "6a665e06",
   "metadata": {},
   "source": [
    "- This function helps measure how long a code block or function takes to execute.\n",
    "\n",
    "### 2. Measuring Execution Time\n",
    "- To compare execution time between two methods (e.g., for loop vs while loop):\n",
    "\n",
    "    - Record start time before the loop.\n",
    "\n",
    "    - Run the loop.\n",
    "\n",
    "    - Record end time after the loop.\n",
    "\n",
    "    - Calculate the difference (end - start) to get duration in seconds.\n",
    "\n",
    "- Important note: Execution time may vary based on current CPU load or other running processes.\n",
    "\n",
    "### 3. time.sleep(seconds)\n",
    "- Pauses the execution of the program for a specified number of seconds.\n",
    "\n",
    "- Useful for delaying actions, rate limiting, or simulating waiting.\n",
    "\n",
    "- Example:"
   ]
  },
  {
   "cell_type": "code",
   "execution_count": 2,
   "id": "b3af5cef",
   "metadata": {},
   "outputs": [
    {
     "name": "stdout",
     "output_type": "stream",
     "text": [
      "Wait starts\n",
      "Wait ended after 3 seconds\n"
     ]
    }
   ],
   "source": [
    "import time\n",
    "print(\"Wait starts\")\n",
    "time.sleep(3)  # pauses program for 3 seconds\n",
    "print(\"Wait ended after 3 seconds\")"
   ]
  },
  {
   "cell_type": "markdown",
   "id": "10641375",
   "metadata": {},
   "source": [
    "### 4. time.localtime()\n",
    "- Converts seconds since epoch to a struct_time object representing local time.\n",
    "\n",
    "- Can be used to extract year, month, day, hour, minute, second, etc.\n",
    "\n",
    "### 5. time.strftime(format, t)\n",
    "- Formats a struct_time or tuple into a human-readable string based on the specified format.\n",
    "\n",
    "- Format codes:\n",
    "\n",
    "    - %Y – Year (e.g., 2025)\n",
    "\n",
    "    - %m – Month (01-12)\n",
    "\n",
    "    - %d – Day (01-31)\n",
    "\n",
    "    - %H – Hour (24-hour clock, 00-23)\n",
    "\n",
    "    - %M – Minutes (00-59)\n",
    "\n",
    "    - %S – Seconds (00-59)\n",
    "\n",
    "- Example:\n",
    "\n"
   ]
  },
  {
   "cell_type": "code",
   "execution_count": 3,
   "id": "8d64af25",
   "metadata": {},
   "outputs": [
    {
     "name": "stdout",
     "output_type": "stream",
     "text": [
      "Current time is: 2025-07-17 17:59:56\n"
     ]
    }
   ],
   "source": [
    "import time\n",
    "t = time.localtime()\n",
    "formatted_time = time.strftime(\"%Y-%m-%d %H:%M:%S\", t)\n",
    "print(\"Current time is:\", formatted_time)"
   ]
  },
  {
   "cell_type": "markdown",
   "id": "67e5e033",
   "metadata": {},
   "source": [
    "# Example Demonstration\n",
    "### Comparing For Loop and While Loop Execution Time\n",
    "- Write a function with a for loop running from 0 to 49,999 performing simple operations.\n",
    "- Write another function with a while loop with similar behavior.\n",
    "- Use time.time() before and after each loop to measure execution duration.\n",
    "\n",
    "- Print the results to compare which loop runs faster.\n",
    "\n",
    "- Important: Both loops are almost equal in low-level execution but actual timing can vary depending on machine load."
   ]
  },
  {
   "cell_type": "code",
   "execution_count": 4,
   "id": "b566eb21",
   "metadata": {},
   "outputs": [
    {
     "name": "stdout",
     "output_type": "stream",
     "text": [
      "For loop took: 0.003629 seconds\n",
      "While loop took: 0.004096 seconds\n",
      "For loop was faster.\n"
     ]
    }
   ],
   "source": [
    "import time\n",
    "\n",
    "def for_loop_demo():\n",
    "    total = 0\n",
    "    for i in range(50000):\n",
    "        total += i * 2  # Simple operation\n",
    "    return total\n",
    "\n",
    "def while_loop_demo():\n",
    "    total = 0\n",
    "    i = 0\n",
    "    while i < 50000:\n",
    "        total += i * 2  # Simple operation\n",
    "        i += 1\n",
    "    return total\n",
    "\n",
    "# Measure execution time for for loop\n",
    "start_for = time.time()\n",
    "for_loop_demo()\n",
    "end_for = time.time()\n",
    "for_time = end_for - start_for\n",
    "\n",
    "# Measure execution time for while loop\n",
    "start_while = time.time()\n",
    "while_loop_demo()\n",
    "end_while = time.time()\n",
    "while_time = end_while - start_while\n",
    "\n",
    "print(f\"For loop took: {for_time:.6f} seconds\")\n",
    "print(f\"While loop took: {while_time:.6f} seconds\")\n",
    "\n",
    "if for_time < while_time:\n",
    "    print(\"For loop was faster.\")\n",
    "elif while_time < for_time:\n",
    "    print(\"While loop was faster.\")\n",
    "else:\n",
    "    print(\"Both loops took the same time.\")\n"
   ]
  },
  {
   "cell_type": "markdown",
   "id": "cd5de444",
   "metadata": {},
   "source": [
    "### Using time.sleep()\n",
    "- Demonstrated pausing the program for 3 seconds between print statements using time.sleep(3).\n",
    "\n",
    "- Helpful to understand how Python can control the flow of program timing."
   ]
  },
  {
   "cell_type": "code",
   "execution_count": 5,
   "id": "b4a87033",
   "metadata": {},
   "outputs": [
    {
     "name": "stdout",
     "output_type": "stream",
     "text": [
      "Wait starts\n",
      "Wait ended after 3 seconds\n"
     ]
    }
   ],
   "source": [
    "import time\n",
    "\n",
    "print(\"Wait starts\")\n",
    "time.sleep(3)  # Pauses the program for 3 seconds\n",
    "print(\"Wait ended after 3 seconds\")"
   ]
  },
  {
   "cell_type": "markdown",
   "id": "6e2b49a5",
   "metadata": {},
   "source": [
    "### Formatting and Displaying Current Time\n",
    "- Use time.localtime() to get current system time info.\n",
    "\n",
    "- Format it with time.strftime() to show user-friendly readable format, e.g., \"2025-07-17 17:54:12\".\n",
    "\n",
    "- Note: This will display time based on the system/local time zone where the code runs."
   ]
  },
  {
   "cell_type": "code",
   "execution_count": 6,
   "id": "06b804a9",
   "metadata": {},
   "outputs": [
    {
     "name": "stdout",
     "output_type": "stream",
     "text": [
      "Current time is: 2025-07-17 18:03:28\n"
     ]
    }
   ],
   "source": [
    "import time\n",
    "\n",
    "current_time = time.localtime()  # Get the current local time as a struct_time object\n",
    "formatted_time = time.strftime(\"%Y-%m-%d %H:%M:%S\", current_time)  # Format the time\n",
    "\n",
    "print(\"Current time is:\", formatted_time)"
   ]
  },
  {
   "cell_type": "markdown",
   "id": "ab407345",
   "metadata": {},
   "source": [
    "# Important Notes\n",
    "- Time returned is platform-dependent; the precision might differ on different systems.\n",
    "\n",
    "- The epoch time is universally understood as beginning in 1970 UTC, which is the baseline for most Unix-like systems.\n",
    "\n",
    "- CPU load affects code execution time; so always consider context when benchmarking.\n",
    "\n",
    "- Always import the module first: import time\n",
    "\n",
    "# Summary\n",
    "- The Python Time Module is an essential utility for working with time in programming tasks.\n",
    "\n",
    "- You can get the current time, pause program execution, and measure how long a program or function runs.\n",
    "\n",
    "- time.time() helps measure elapsed time since epoch in seconds, useful for benchmarking.\n",
    "\n",
    "- time.sleep() is used to pause program execution temporarily.\n",
    "\n",
    "- time.localtime() combined with time.strftime() allows you to get and format the current system time in readable strings.\n",
    "\n",
    "- Understanding and using the Time Module effectively can help in performance tuning, scheduling tasks, and managing time-dependent features in Python applications."
   ]
  }
 ],
 "metadata": {
  "kernelspec": {
   "display_name": ".venv",
   "language": "python",
   "name": "python3"
  },
  "language_info": {
   "codemirror_mode": {
    "name": "ipython",
    "version": 3
   },
   "file_extension": ".py",
   "mimetype": "text/x-python",
   "name": "python",
   "nbconvert_exporter": "python",
   "pygments_lexer": "ipython3",
   "version": "3.12.3"
  }
 },
 "nbformat": 4,
 "nbformat_minor": 5
}
