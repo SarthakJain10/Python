{
 "cells": [
  {
   "cell_type": "markdown",
   "id": "71865870",
   "metadata": {},
   "source": [
    "# What is a Command Line Utility?\n",
    "### Definition:\n",
    "A Command Line Utility is a program that performs specific operations when run from the terminal or command prompt, taking input parameters (arguments) from the user.\n",
    "\n",
    "### Example:\n",
    "\n",
    "- curl is a popular command line tool for downloading files from the internet.\n",
    "\n",
    "- Usage example:\n",
    "\n",
    "``` \n",
    "curl --output img.jpg <file-URL>\n",
    "```\n",
    "\n",
    "This downloads the specified file and saves it as img.jpg.\n",
    "\n",
    "- Command line utilities can be invoked repeatedly with different arguments to automate workflows efficiently.\n",
    "\n",
    "# Benefits of Command Line Utilities\n",
    "- Quick execution without overhead of GUI\n",
    "\n",
    "- Automation friendly (can be used in shell scripts)\n",
    "\n",
    "- Lightweight and consume fewer resources\n",
    "\n",
    "- Useful for developers, system administrators, data engineers, etc."
   ]
  },
  {
   "cell_type": "markdown",
   "id": "1c763ebb",
   "metadata": {},
   "source": [
    "# Creating a Command Line Utility in Python\n",
    "### 1. Using the argparse Module\n",
    "- argparse is a built-in Python library used for parsing command line arguments.\n",
    "\n",
    "- It allows us to define what arguments a program expects and handles input validation gracefully.\n",
    "\n",
    "### Key functions and concepts:\n",
    "\n",
    "- ArgumentParser() - Creates a parser object\n",
    "\n",
    "- add_argument() - Defines the arguments this utility accepts\n",
    "\n",
    "- parse_args() - Parses the input arguments and returns them as an object\n",
    "\n",
    "Example snippet:"
   ]
  },
  {
   "cell_type": "code",
   "execution_count": null,
   "id": "aa7b5007",
   "metadata": {},
   "outputs": [],
   "source": [
    "import argparse\n",
    "\n",
    "parser = argparse.ArgumentParser()\n",
    "parser.add_argument(\"url\", help=\"URL of the file to download\")\n",
    "parser.add_argument(\"-o\", \"--output\", help=\"Name of the file to save\", default=None)\n",
    "args = parser.parse_args()"
   ]
  },
  {
   "cell_type": "markdown",
   "id": "ad65978b",
   "metadata": {},
   "source": [
    "### 2. Positional vs Optional Arguments\n",
    "- Positional arguments must be provided in order (e.g., url in the above code).\n",
    "\n",
    "- Optional arguments start with - or -- and are not mandatory (e.g., -o or --output for specifying output file name). They often have default values.\n",
    "\n",
    "### 3. Example: Downloading a File Using Python CLI\n",
    "- Idea:\n",
    "\n",
    "    - Take URL as a mandatory argument\n",
    "\n",
    "    - Take output file name as optional argument\n",
    "\n",
    "    - If output file name not specified, derive it from the URL\n",
    "\n",
    "- To download, Python’s requests module can be used:"
   ]
  },
  {
   "cell_type": "code",
   "execution_count": 2,
   "id": "a6be1238",
   "metadata": {},
   "outputs": [],
   "source": [
    "import requests\n",
    "\n",
    "def download_file(url, local_filename):\n",
    "    with requests.get(url, stream=True) as r:\n",
    "        r.raise_for_status()\n",
    "        with open(local_filename, 'wb') as f:\n",
    "            for chunk in r.iter_content(chunk_size=8192): \n",
    "                if chunk:\n",
    "                    f.write(chunk)\n",
    "    return local_filename"
   ]
  },
  {
   "cell_type": "markdown",
   "id": "98ddc4bd",
   "metadata": {},
   "source": [
    "- Combine argument parsing and downloading:"
   ]
  },
  {
   "cell_type": "code",
   "execution_count": null,
   "id": "e0df90d1",
   "metadata": {},
   "outputs": [],
   "source": [
    "import argparse\n",
    "import requests\n",
    "import os\n",
    "\n",
    "parser = argparse.ArgumentParser()\n",
    "parser.add_argument(\"url\", help=\"URL of the file to download\")\n",
    "parser.add_argument(\"-o\", \"--output\", help=\"Name of the file to save\", default=None)\n",
    "args = parser.parse_args()\n",
    "\n",
    "if args.output:\n",
    "    file_name = args.output\n",
    "else:\n",
    "    file_name = os.path.basename(args.url)\n",
    "\n",
    "download_file(args.url, file_name)\n",
    "print(f\"Downloaded as {file_name}\")"
   ]
  },
  {
   "cell_type": "markdown",
   "id": "a2f9a794",
   "metadata": {},
   "source": [
    "### 4. Running The Utility\n",
    "- From terminal:\n",
    "\n",
    "```\n",
    "python main.py http://example.com/file.jpg -o myimage.jpg\n",
    "```\n",
    "- If the output file name is not provided, the utility saves the file with the original name extracted from the URL.\n",
    "\n",
    "# Important Points\n",
    "- Always import needed modules before use (import requests, import argparse, etc.)\n",
    "\n",
    "- For optional arguments, specifying a default value allows control over what happens if they are omitted.\n",
    "\n",
    "- Proper error handling, e.g., with requests.raise_for_status(), is important to ensure reliability.\n",
    "\n",
    "- The utility can be extended with more options as needed (e.g., verbosity, download path, etc.).\n",
    "\n",
    "# Summary\n",
    "- Command Line Utilities allow programs to interact with users through the terminal using commands and arguments.\n",
    "\n",
    "- Python’s built-in argparse module makes creating CLUs easy by managing argument parsing and help messages.\n",
    "\n",
    "- Optional and positional arguments can be defined clearly to provide user flexibility.\n",
    "\n",
    "- Example project: a simple file downloader CLI utility using requests and argparse.\n",
    "\n",
    "- Such utilities improve workflow efficiency and are widely used in development and automation.\n"
   ]
  }
 ],
 "metadata": {
  "kernelspec": {
   "display_name": ".venv",
   "language": "python",
   "name": "python3"
  },
  "language_info": {
   "codemirror_mode": {
    "name": "ipython",
    "version": 3
   },
   "file_extension": ".py",
   "mimetype": "text/x-python",
   "name": "python",
   "nbconvert_exporter": "python",
   "pygments_lexer": "ipython3",
   "version": "3.12.3"
  }
 },
 "nbformat": 4,
 "nbformat_minor": 5
}
