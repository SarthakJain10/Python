{
 "cells": [
  {
   "cell_type": "markdown",
   "id": "797673ce",
   "metadata": {},
   "source": [
    "# What is the Walrus Operator?\n",
    "- The walrus operator is written as := and is officially known as the assignment expression operator.\n",
    "\n",
    "- It allows you to assign a value to a variable as part of an expression rather than in a separate statement.\n",
    "\n",
    "- Syntax example:"
   ]
  },
  {
   "cell_type": "code",
   "execution_count": 2,
   "id": "85e573f3",
   "metadata": {},
   "outputs": [
    {
     "name": "stdout",
     "output_type": "stream",
     "text": [
      "List is too long (11 elements)\n"
     ]
    }
   ],
   "source": [
    "my_list = [1,2,3,4,5,6,7,8,9,0,10]\n",
    "if (n := len(my_list)) > 10:\n",
    "    print(f\"List is too long ({n} elements)\")"
   ]
  },
  {
   "cell_type": "markdown",
   "id": "730d6f06",
   "metadata": {},
   "source": [
    "Here, n is assigned the length of my_list and used immediately in the if condition.\n",
    "\n",
    "# Motivation and Use Cases\n",
    "Traditional Python requires separate assignment and condition checking. For example:"
   ]
  },
  {
   "cell_type": "code",
   "execution_count": 3,
   "id": "4cdd976c",
   "metadata": {},
   "outputs": [
    {
     "name": "stdout",
     "output_type": "stream",
     "text": [
      "List is too long (11 elements)\n"
     ]
    }
   ],
   "source": [
    "n = len(my_list)\n",
    "if n > 10:\n",
    "    print(f\"List is too long ({n} elements)\")"
   ]
  },
  {
   "cell_type": "markdown",
   "id": "887ad50b",
   "metadata": {},
   "source": [
    "The walrus operator combines this into one compact expression.\n",
    "\n",
    "### Key benefits:\n",
    "- Improve code readability by reducing repetition.\n",
    "\n",
    " -Optimize code by avoiding recalculations.\n",
    "\n",
    "- Support assignment inside expressions such as if, while, list comprehensions.\n",
    "\n",
    "# Detailed Examples\n",
    "### Example 1: Using walrus with if statement\n",
    "Without walrus:"
   ]
  },
  {
   "cell_type": "code",
   "execution_count": 4,
   "id": "6ae8ca8e",
   "metadata": {},
   "outputs": [
    {
     "name": "stdout",
     "output_type": "stream",
     "text": [
      "sarthak\n"
     ]
    }
   ],
   "source": [
    "text = input()\n",
    "if len(text) > 5:\n",
    "    print(text)"
   ]
  },
  {
   "cell_type": "markdown",
   "id": "dc2b35a7",
   "metadata": {},
   "source": [
    "With walrus operator:"
   ]
  },
  {
   "cell_type": "code",
   "execution_count": 5,
   "id": "6851e916",
   "metadata": {},
   "outputs": [
    {
     "name": "stdout",
     "output_type": "stream",
     "text": [
      "sarthak\n"
     ]
    }
   ],
   "source": [
    "if (n := len(text)) > 5:\n",
    "    print(text)"
   ]
  },
  {
   "cell_type": "markdown",
   "id": "9894c22a",
   "metadata": {},
   "source": [
    "- Assigns length to n while checking condition at the same time.\n",
    "\n",
    "### Example 2: Using walrus with while loop\n",
    "Without walrus:"
   ]
  },
  {
   "cell_type": "code",
   "execution_count": 6,
   "id": "3b2b4078",
   "metadata": {},
   "outputs": [
    {
     "name": "stdout",
     "output_type": "stream",
     "text": [
      "hi my name is sarthak\n"
     ]
    }
   ],
   "source": [
    "line = input()\n",
    "while line != \"\":\n",
    "    print(line)\n",
    "    line = input()"
   ]
  },
  {
   "cell_type": "markdown",
   "id": "f3821b99",
   "metadata": {},
   "source": [
    "With walrus:"
   ]
  },
  {
   "cell_type": "code",
   "execution_count": 7,
   "id": "0fee6e6c",
   "metadata": {},
   "outputs": [
    {
     "name": "stdout",
     "output_type": "stream",
     "text": [
      "how you doing?\n"
     ]
    }
   ],
   "source": [
    "while (line := input()) != \"\":\n",
    "    print(line)"
   ]
  },
  {
   "cell_type": "markdown",
   "id": "208a9be1",
   "metadata": {},
   "source": [
    "- Reads input and checks condition in one expression — more concise.\n",
    "\n",
    "### Example 3: Using walrus inside list comprehensions\n",
    "Filter and assign in one go:"
   ]
  },
  {
   "cell_type": "code",
   "execution_count": 10,
   "id": "0a1bc89c",
   "metadata": {},
   "outputs": [
    {
     "name": "stdout",
     "output_type": "stream",
     "text": [
      "[(1, 1), (2, 4), (3, 9)]\n"
     ]
    }
   ],
   "source": [
    "def f(x):\n",
    "    return x - 2\n",
    "\n",
    "data = [1, 2, 3, 4, 5]\n",
    "\n",
    "results = [(y := f(x), y**2) for x in data if (y := f(x)) > 0]\n",
    "print(results)  # Output: [(1, 1), (2, 4), (3, 9)]"
   ]
  },
  {
   "cell_type": "markdown",
   "id": "4e9a40bd",
   "metadata": {},
   "source": [
    "- Assigns f(x) to y and uses y multiple times within list comprehension.\n",
    "\n",
    "# When to Use the Walrus Operator\n",
    "- When you need to use the result of an expression multiple times without recomputing.\n",
    "\n",
    "- In if or while conditions to make code more compact and clear.\n",
    "\n",
    "- Avoid using if it reduces readability; clarity always comes first.\n",
    "\n",
    "# Important Notes & Best Practices\n",
    "- Walrus operator works only from Python 3.8+.\n",
    "\n",
    "- Should be used judiciously; overly complex expressions with walrus can hurt readability.\n",
    "\n",
    "- Parentheses around the assignment expression (x := ...) are mandatory within larger expressions like if or while.\n",
    "\n",
    "- Primarily useful in reducing duplication and improving performance in conditions and loops."
   ]
  },
  {
   "cell_type": "markdown",
   "id": "52b3918d",
   "metadata": {},
   "source": [
    "# Summary\n",
    "- The walrus operator := allows inline assignment within expressions.\n",
    "\n",
    "- Useful for writing cleaner and shorter code especially in conditions and loops.\n",
    "\n",
    "- Can be used in if, while, comprehensions, and more complex expressions.\n",
    "\n",
    "- Improves performance by avoiding repeated computation of the same expression.\n",
    "\n",
    "- Introduced in Python 3.8, it has become a handy operator for Python developers."
   ]
  }
 ],
 "metadata": {
  "kernelspec": {
   "display_name": ".venv",
   "language": "python",
   "name": "python3"
  },
  "language_info": {
   "codemirror_mode": {
    "name": "ipython",
    "version": 3
   },
   "file_extension": ".py",
   "mimetype": "text/x-python",
   "name": "python",
   "nbconvert_exporter": "python",
   "pygments_lexer": "ipython3",
   "version": "3.12.3"
  }
 },
 "nbformat": 4,
 "nbformat_minor": 5
}
