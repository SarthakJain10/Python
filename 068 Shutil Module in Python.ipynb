{
 "cells": [
  {
   "cell_type": "markdown",
   "id": "3edf88fa",
   "metadata": {},
   "source": [
    "# Introduction to Shutil Module\n",
    "### What is Shutil?\n",
    "The shutil module is a built-in Python library designed to perform high-level file operations programmatically.\n",
    "\n",
    "### Context & Importance:\n",
    "\n",
    "- It automates repetitive file management tasks like copy, move, and delete at scale.\n",
    "\n",
    "- Initially very useful in freelance projects for automating bulk file handling.\n",
    "\n",
    "- Example: copying a specific file from 1000 different folders to a single folder, an otherwise manual and tedious task.\n",
    "\n",
    "### Installation:\n",
    "No need to install via pip (e.g., pip install shutil) because it is part of Python’s standard library.\n",
    "\n",
    "# Key Functions and Usage"
   ]
  },
  {
   "cell_type": "markdown",
   "id": "cd5e54df",
   "metadata": {},
   "source": [
    "### 1. Copying Files\n",
    "- shutil.copy(src, dst)\n",
    "\n",
    "    - Copies the file from src to dst.\n",
    "\n",
    "    - Copies file content but does not preserve all metadata like permissions or last access time.\n",
    "\n",
    "- Example:"
   ]
  },
  {
   "cell_type": "code",
   "execution_count": null,
   "id": "ff5ef9a7",
   "metadata": {},
   "outputs": [],
   "source": [
    "import shutil\n",
    "shutil.copy(\"main.py\", \"main2.py\")"
   ]
  },
  {
   "cell_type": "markdown",
   "id": "d45e414e",
   "metadata": {},
   "source": [
    "Result: main2.py becomes an exact copy of main.py in content.\n",
    "\n",
    "- shutil.copy2(src, dst)\n",
    "\n",
    "    - Similar to copy but also preserves file metadata (timestamps, permissions, etc.).\n",
    "\n",
    "    - Useful when exact duplication including metadata is important.\n",
    "\n",
    "### 2. Copying Directories\n",
    "- shutil.copytree(src, dst)\n",
    "\n",
    "    - Copies entire directory trees — all files and subfolders recursively.\n",
    "\n",
    "    - Source directory src is copied to a new target folder dst.\n",
    "\n",
    "    - Use case: copying a whole folder like .tutorial to mytutorial.\n",
    "\n",
    "    - Example:"
   ]
  },
  {
   "cell_type": "code",
   "execution_count": null,
   "id": "5aa66782",
   "metadata": {},
   "outputs": [],
   "source": [
    "shutil.copytree(\".tutorial\", \"mytutorial\")"
   ]
  },
  {
   "cell_type": "markdown",
   "id": "34fc9dcf",
   "metadata": {},
   "source": [
    "### 3. Moving Files or Directories\n",
    "- shutil.move(src, dst)\n",
    "\n",
    "    - Moves a file or directory from src to dst.\n",
    "\n",
    "    - This can also be used to rename files/folders by moving within the same directory with a different name.\n",
    "\n",
    "### 4. Deleting Directories\n",
    "- shutil.rmtree(path)\n",
    "\n",
    "    - Recursively deletes a directory and all its contents.\n",
    "\n",
    "    - Cannot be used to delete single files.\n",
    "\n",
    "    - Example to delete a folder:"
   ]
  },
  {
   "cell_type": "code",
   "execution_count": null,
   "id": "db16e1bc",
   "metadata": {},
   "outputs": [],
   "source": [
    "shutil.rmtree(\"mytutorial\")"
   ]
  },
  {
   "cell_type": "markdown",
   "id": "1d5c232b",
   "metadata": {},
   "source": [
    "- Deleting Files\n",
    "\n",
    "    - shutil does not provide a direct method to delete individual files.\n",
    "\n",
    "    - For files, use the os module:"
   ]
  },
  {
   "cell_type": "code",
   "execution_count": null,
   "id": "966bb6e4",
   "metadata": {},
   "outputs": [],
   "source": [
    "import os\n",
    "os.remove(\"file.file\")"
   ]
  },
  {
   "cell_type": "markdown",
   "id": "0eb1519a",
   "metadata": {},
   "source": [
    "# Summary of Main Takeaways\n",
    "- shutil is a Python built-in module crucial for handling high-level file and directory operations: copy, move, and delete (directories).\n",
    "\n",
    "- Key functions:\n",
    "\n",
    "    - copy() — copy files\n",
    "\n",
    "    - copy2() — copy files with metadata\n",
    "\n",
    "    - copytree() — copy whole directories\n",
    "\n",
    "    - move() — move/rename files or directories\n",
    "\n",
    "    - rmtree() — delete directories\n",
    "\n",
    "- Use os.remove() to delete files (not shutil).\n",
    "\n",
    "- Automating file system tasks with shutil can save significant manual effort, especially when dealing with large numbers of files/folders.\n",
    "\n",
    " -The module encourages writing scripts to improve efficiency and accuracy in file management.\n",
    "\n",
    "These notes provide you with an understanding of the shutil module’s core capabilities, practical applications, and how to apply it effectively in your daily coding tasks."
   ]
  }
 ],
 "metadata": {
  "kernelspec": {
   "display_name": ".venv",
   "language": "python",
   "name": "python3"
  },
  "language_info": {
   "codemirror_mode": {
    "name": "ipython",
    "version": 3
   },
   "file_extension": ".py",
   "mimetype": "text/x-python",
   "name": "python",
   "nbconvert_exporter": "python",
   "pygments_lexer": "ipython3",
   "version": "3.12.3"
  }
 },
 "nbformat": 4,
 "nbformat_minor": 5
}
