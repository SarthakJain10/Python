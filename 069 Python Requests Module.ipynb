{
 "cells": [
  {
   "cell_type": "markdown",
   "id": "b3b0de10",
   "metadata": {},
   "source": [
    "# Introduction\n",
    "The Requests module in Python is a popular library used to send HTTP requests easily and efficiently. It is widely used in practical Python projects, especially when interacting with the web, such as accessing APIs, scraping websites, or sending data over the internet.\n",
    "\n",
    "# Why use the Requests module?\n",
    "- To make practical and useful web-based Python programs.\n",
    "\n",
    "- For example, scraping web pages, extracting HTML content, or sending data via POST requests.\n",
    "\n",
    "- Simplifies the process of sending HTTP requests (GET, POST, PUT, DELETE, etc.).\n",
    "\n",
    "# Installing the Requests Module\n",
    "If not installed, it can be added using pip:\n",
    "```\n",
    "pip install requests\n",
    "```\n",
    "\n",
    "# Using the Requests Module\n",
    "### 1. Sending a GET Request\n",
    "- A GET request fetches data from a specified URL.\n",
    "\n",
    "- Example:"
   ]
  },
  {
   "cell_type": "code",
   "execution_count": 1,
   "id": "243fe008",
   "metadata": {},
   "outputs": [
    {
     "name": "stdout",
     "output_type": "stream",
     "text": [
      "<!doctype html><html itemscope=\"\" itemtype=\"http://schema.org/WebPage\" lang=\"en-IN\"><head><meta content=\"text/html; charset=UTF-8\" http-equiv=\"Content-Type\"><meta content=\"/images/branding/googleg/1x/googleg_standard_color_128dp.png\" itemprop=\"image\"><title>Google</title><script nonce=\"AfR6CbNQr7WLhbYjORHGRQ\">(function(){var _g={kEI:'Jxt5aJj4F9efseMPnoLFsQU',kEXPI:'0,202791,27,36,2,3497393,1135,538661,48791,46127,78219,266577,228119,61925,11106,5230435,140,463,32768470,4043710,25306698,34189,26062,14110,8944,13974,34212,8045,6750,21349,2529,7034,2106,4599,328,6225,2949,61215,15049,8206,3292,4134,30379,695,149,27490,48279,625,5307,353,18880,5870,7714,5774,15030,1764,4849,5968,3050,2,13472,3261,2990,35,3420,2117,710,37,2814,7806,2819,9288,2625,3058,3604,11414,6358,2731,1834,2,11,4583,9471,283,363,1903,2,4,1592,721,4,4,4811,935,3,863,2,5,2,598,3436,422,945,809,4834,1,3463,2,82,135,686,2,393,2894,7,480,763,127,601,1032,939,6,634,715,4143,379,1195,3019,5149,934,979,733,103,4,1,320,841,2,4257,670,34,1863,363,80,7,154,2188,960,5,434,3265,877,1289,158,3,2,2,2,1331,4027,283,611,4,106,728,1412,848,2716,519,103,69,3196,337,667,361,883,18,2161,1280,54,287,249,2,1,1380,31,42,20,1238,632,282,42,919,821,2552,94,44,673,975,677,458,2,95,3,1184,65,5,1,367,314,43,85,50,178,82,19,308,108,172,21,713,7,5,445,15,966,229,72,3,2,1279,584,1049,697,1553,79,250,54,1313,254,9,1,116,186,1509,886,752,34,4,468,207,18,771,2,677,125,2,6,900,168,10,120,97,10,41,96,421,1,2,26,4,113,719,12,140,121,258,1,331,2,1,3,2,10,785,3,374,263,1,2,101,56,17,2,6,301,1273,103,1996,113,3,3,297,582,12,51,22,85,19,856,3,31,53,42,69,1954,23,64,638,432,477,109,1346,1,28,269,755,95,161,793,195,687,332,4,223,116,4,4,389,3,2,2,2,25,746,99,8,174,153,636,4,4,218,219,138,134,139,75,164,610,442,35,4,3,535,979,229,604,1559,331,20798182,416080,5,2253,739,4,2701,259,3,1307,1930,1096,15,3197,2,944,2,1771,2236,3,534,1019,147,3,224,60,41,2763,508,3,713,200,326,632,8489877,1863409',kBL:'cgx9',kOPI:89978449};(function(){var a;((a=window.google)==null?0:a.stvsc)?google.kEI=_g.kEI:window.google=_g;}).call(this);})();(function(){google.sn='webhp';google.kHL='en-IN';})();(function(){\n",
      "var g=this||self;function k(){return window.google&&window.google.kOPI||null};var l,m=[];function n(a){for(var b;a&&(!a.getAttribute||!(b=a.getAttribute(\"eid\")));)a=a.parentNode;return b||l}function p(a){for(var b=null;a&&(!a.getAttribute||!(b=a.getAttribute(\"leid\")));)a=a.parentNode;return b}function q(a){/^http:/i.test(a)&&window.location.protocol===\"https:\"&&(google.ml&&google.ml(Error(\"a\"),!1,{src:a,glmm:1}),a=\"\");return a}\n",
      "function r(a,b,d,c,h){var e=\"\";b.search(\"&ei=\")===-1&&(e=\"&ei=\"+n(c),b.search(\"&lei=\")===-1&&(c=p(c))&&(e+=\"&lei=\"+c));var f=b.search(\"&cshid=\")===-1&&a!==\"slh\";c=\"&zx=\"+Date.now().toString();g._cshid&&f&&(c+=\"&cshid=\"+g._cshid);(d=d())&&(c+=\"&opi=\"+d);return\"/\"+(h||\"gen_204\")+\"?atyp=i&ct=\"+String(a)+\"&cad=\"+(b+e+c)};l=google.kEI;google.getEI=n;google.getLEI=p;google.ml=function(){return null};google.log=function(a,b,d,c,h,e){e=e===void 0?k:e;d||(d=r(a,b,e,c,h));if(d=q(d)){a=new Image;var f=m.length;m[f]=a;a.onerror=a.onload=a.onabort=function(){delete m[f]};a.src=d}};google.logUrl=function(a,b){b=b===void 0?k:b;return r(\"\",a,b)};}).call(this);(function(){google.y={};google.sy={};function e(a,b,c){if(a)var d=a.id;else{do d=Math.random();while(c[d])}c[d]=[a,b]}var f;(f=google).x||(f.x=function(a,b){e(a,b,google.y)});var g;(g=google).sx||(g.sx=function(a,b){e(a,b,google.sy)});google.lm=[];var h;(h=google).plm||(h.plm=function(a){google.lm.push.apply(google.lm,a)});google.lq=[];var k;(k=google).load||(k.load=function(a,b,c){google.lq.push([[a],b,c])});var l;(l=google).loadAll||(l.loadAll=function(a,b){google.lq.push([a,b])});google.bx=!1;var m;(m=google).lx||(m.lx=function(){});var n=[],p;(p=google).fce||(p.fce=function(a,b,c,d){n.push([a,b,c,d])});google.qce=n;google.adl=[];}).call(this);google.f={};(function(){\n",
      "document.documentElement.addEventListener(\"submit\",function(b){var a;if(a=b.target){var c=a.getAttribute(\"data-submitfalse\");a=c===\"1\"||c===\"q\"&&!a.elements.q.value?!0:!1}else a=!1;a&&(b.preventDefault(),b.stopPropagation())},!0);document.documentElement.addEventListener(\"click\",function(b){var a;a:{for(a=b.target;a&&a!==document.documentElement;a=a.parentElement)if(a.tagName===\"A\"){a=a.getAttribute(\"data-nohref\")===\"1\";break a}a=!1}a&&b.preventDefault()},!0);}).call(this);</script><style>#gbar,#guser{font-size:13px;padding-top:1px !important;}#gbar{height:22px}#guser{padding-bottom:7px !important;text-align:right}.gbh,.gbd{border-top:1px solid #c9d7f1;font-size:1px}.gbh{height:0;position:absolute;top:24px;width:100%}@media all{.gb1{height:22px;margin-right:.5em;vertical-align:top}#gbar{float:left}}a.gb1,a.gb4{text-decoration:underline !important}a.gb1,a.gb4{color:#00c !important}.gbi .gb4{color:#dd8e27 !important}.gbf .gb4{color:#900 !important}\n",
      "</style><style>body,td,a,p,.h{font-family:sans-serif}body{margin:0;overflow-y:scroll}#gog{padding:3px 8px 0}td{line-height:.8em}.gac_m td{line-height:17px}form{margin-bottom:20px}.h{color:#1967d2}em{font-weight:bold;font-style:normal}.lst{height:25px;width:496px}.gsfi,.lst{font:18px sans-serif}.gsfs{font:17px sans-serif}.ds{display:inline-box;display:inline-block;margin:3px 0 4px;margin-left:4px}input{font-family:inherit}body{background:#fff;color:#1f1f1f}a{color:#681da8;text-decoration:none}a:hover,a:active{text-decoration:underline}.fl a{color:#1967d2}a:visited{color:#681da8}.sblc{padding-top:5px}.sblc a{display:block;margin:2px 0;margin-left:13px;font-size:11px}.lsbb{background:#f8f9fa;border:solid 1px;border-color:#dadce0 #70757a #70757a #dadce0;height:30px}.lsbb{display:block}#WqQANb a{display:inline-block;margin:0 12px}.lsb{background:url(/images/nav_logo229.png) 0 -261px repeat-x;color:#1f1f1f;border:none;cursor:pointer;height:30px;margin:0;outline:0;font:15px sans-serif;vertical-align:top}.lsb:active{background:#dadce0}.lst:focus{outline:none}</style><script nonce=\"AfR6CbNQr7WLhbYjORHGRQ\">(function(){window.google.erd={jsr:1,bv:2256,de:true,dpf:'v_EvuFCpd3BCGFr_74ZDZkrI4GP1FVCKe_3jxu_I1ag'};\n",
      "var g=this||self;var k,l=(k=g.mei)!=null?k:1,m,p=(m=g.diel)!=null?m:0,q,r=(q=g.sdo)!=null?q:!0,t=0,u,w=google.erd,x=w.jsr;google.ml=function(a,b,d,n,e){e=e===void 0?2:e;b&&(u=a&&a.message);d===void 0&&(d={});d.cad=\"ple_\"+google.ple+\".aple_\"+google.aple;if(google.dl)return google.dl(a,e,d,!0),null;b=d;if(x<0){window.console&&console.error(a,b);if(x===-2)throw a;b=!1}else b=!a||!a.message||a.message===\"Error loading script\"||t>=l&&!n?!1:!0;if(!b)return null;t++;d=d||{};b=encodeURIComponent;var c=\"/gen_204?atyp=i&ei=\"+b(google.kEI);google.kEXPI&&(c+=\"&jexpid=\"+b(google.kEXPI));c+=\"&srcpg=\"+b(google.sn)+\"&jsr=\"+b(w.jsr)+\n",
      "\"&bver=\"+b(w.bv);w.dpf&&(c+=\"&dpf=\"+b(w.dpf));var f=a.lineNumber;f!==void 0&&(c+=\"&line=\"+f);var h=a.fileName;h&&(h.indexOf(\"-extension:/\")>0&&(e=3),c+=\"&script=\"+b(h),f&&h===window.location.href&&(f=document.documentElement.outerHTML.split(\"\\n\")[f],c+=\"&cad=\"+b(f?f.substring(0,300):\"No script found.\")));google.ple&&google.ple===1&&(e=2);c+=\"&jsel=\"+e;for(var v in d)c+=\"&\",c+=b(v),c+=\"=\",c+=b(d[v]);c=c+\"&emsg=\"+b(a.name+\": \"+a.message);c=c+\"&jsst=\"+b(a.stack||\"N/A\");c.length>=12288&&(c=c.substring(0,12288));a=c;n||google.log(0,\"\",a);return a};window.onerror=function(a,b,d,n,e){u!==a&&(a=e instanceof Error?e:Error(a),d===void 0||\"lineNumber\"in a||(a.lineNumber=d),b===void 0||\"fileName\"in a||(a.fileName=b),google.ml(a,!1,void 0,!1,a.name===\"SyntaxError\"||a.message.substring(0,11)===\"SyntaxError\"||a.message.indexOf(\"Script error\")!==-1?3:p));u=null;r&&t>=l&&(window.onerror=null)};})();</script></head><body bgcolor=\"#fff\"><script nonce=\"AfR6CbNQr7WLhbYjORHGRQ\">(function(){var src='/images/nav_logo229.png';var iesg=false;document.body.onload = function(){window.n && window.n();if (document.images){new Image().src=src;}\n",
      "if (!iesg){document.f&&document.f.q.focus();document.gbqf&&document.gbqf.q.focus();}\n",
      "}\n",
      "})();</script><div id=\"mngb\"><div id=gbar><nobr><b class=gb1>Search</b> <a class=gb1 href=\"https://www.google.com/imghp?hl=en&tab=wi\">Images</a> <a class=gb1 href=\"http://maps.google.co.in/maps?hl=en&tab=wl\">Maps</a> <a class=gb1 href=\"https://play.google.com/?hl=en&tab=w8\">Play</a> <a class=gb1 href=\"https://www.youtube.com/?tab=w1\">YouTube</a> <a class=gb1 href=\"https://news.google.com/?tab=wn\">News</a> <a class=gb1 href=\"https://mail.google.com/mail/?tab=wm\">Gmail</a> <a class=gb1 href=\"https://drive.google.com/?tab=wo\">Drive</a> <a class=gb1 style=\"text-decoration:none\" href=\"https://www.google.co.in/intl/en/about/products?tab=wh\"><u>More</u> &raquo;</a></nobr></div><div id=guser width=100%><nobr><span id=gbn class=gbi></span><span id=gbf class=gbf></span><span id=gbe></span><a href=\"http://www.google.co.in/history/optout?hl=en\" class=gb4>Web History</a> | <a  href=\"/preferences?hl=en\" class=gb4>Settings</a> | <a target=_top id=gb_70 href=\"https://accounts.google.com/ServiceLogin?hl=en&passive=true&continue=http://www.google.com/&ec=GAZAAQ\" class=gb4>Sign in</a></nobr></div><div class=gbh style=left:0></div><div class=gbh style=right:0></div></div><center><br clear=\"all\" id=\"lgpd\"><div id=\"XjhHGf\"><img alt=\"Google\" height=\"92\" src=\"/images/branding/googlelogo/1x/googlelogo_white_background_color_272x92dp.png\" style=\"padding:28px 0 14px\" width=\"272\" id=\"hplogo\"><br><br></div><form action=\"/search\" name=\"f\"><table cellpadding=\"0\" cellspacing=\"0\"><tr valign=\"top\"><td width=\"25%\">&nbsp;</td><td align=\"center\" nowrap=\"\"><input name=\"ie\" value=\"ISO-8859-1\" type=\"hidden\"><input value=\"en-IN\" name=\"hl\" type=\"hidden\"><input name=\"source\" type=\"hidden\" value=\"hp\"><input name=\"biw\" type=\"hidden\"><input name=\"bih\" type=\"hidden\"><div class=\"ds\" style=\"height:32px;margin:4px 0\"><input class=\"lst\" style=\"margin:0;padding:5px 8px 0 6px;vertical-align:top;color:#1f1f1f\" autocomplete=\"off\" value=\"\" title=\"Google Search\" maxlength=\"2048\" name=\"q\" size=\"57\"></div><br style=\"line-height:0\"><span class=\"ds\"><span class=\"lsbb\"><input class=\"lsb\" value=\"Google Search\" name=\"btnG\" type=\"submit\"></span></span><span class=\"ds\"><span class=\"lsbb\"><input class=\"lsb\" id=\"tsuid_Jxt5aJj4F9efseMPnoLFsQU_1\" value=\"I'm Feeling Lucky\" name=\"btnI\" type=\"submit\"><script nonce=\"AfR6CbNQr7WLhbYjORHGRQ\">(function(){var id='tsuid_Jxt5aJj4F9efseMPnoLFsQU_1';document.getElementById(id).onclick = function(){if (this.form.q.value){this.checked = 1;if (this.form.iflsig)this.form.iflsig.disabled = false;}\n",
      "else top.location='/doodles/';};})();</script><input value=\"AOw8s4IAAAAAaHkpN7yIjnPn7qBERNYvHuLFol-F9wp7\" name=\"iflsig\" type=\"hidden\"></span></span></td><td class=\"fl sblc\" align=\"left\" nowrap=\"\" width=\"25%\"><a href=\"/advanced_search?hl=en-IN&amp;authuser=0\">Advanced search</a></td></tr></table><input id=\"gbv\" name=\"gbv\" type=\"hidden\" value=\"1\"><script nonce=\"AfR6CbNQr7WLhbYjORHGRQ\">(function(){var a,b=\"1\";if(document&&document.getElementById)if(typeof XMLHttpRequest!=\"undefined\")b=\"2\";else if(typeof ActiveXObject!=\"undefined\"){var c,d,e=[\"MSXML2.XMLHTTP.6.0\",\"MSXML2.XMLHTTP.3.0\",\"MSXML2.XMLHTTP\",\"Microsoft.XMLHTTP\"];for(c=0;d=e[c++];)try{new ActiveXObject(d),b=\"2\"}catch(h){}}a=b;if(a==\"2\"&&location.search.indexOf(\"&gbv=2\")==-1){var f=google.gbvu,g=document.getElementById(\"gbv\");g&&(g.value=a);f&&window.setTimeout(function(){location.href=f},0)};}).call(this);</script></form><div style=\"font-size:83%;min-height:3.5em\"><br><div id=\"gws-output-pages-elements-homepage_additional_languages__als\"><style>#gws-output-pages-elements-homepage_additional_languages__als{font-size:small;margin-bottom:24px}#SIvCob{color:#545454;display:inline-block;line-height:28px;}#SIvCob a{}.H6sW5{display:inline-block;margin:0 2px;white-space:nowrap}.z4hgWe{display:inline-block;margin:0 2px}</style><div id=\"SIvCob\">Google offered in:  <a href=\"http://www.google.com/setprefs?sig=0_gEw_b8ndYQ19JWA3D8Do07_trLY%3D&amp;hl=hi&amp;source=homepage&amp;sa=X&amp;ved=0ahUKEwjYp9f0nsSOAxXXT2wGHR5BMVYQ2ZgBCAY\">&#2361;&#2367;&#2344;&#2381;&#2342;&#2368;</a>    <a href=\"http://www.google.com/setprefs?sig=0_gEw_b8ndYQ19JWA3D8Do07_trLY%3D&amp;hl=bn&amp;source=homepage&amp;sa=X&amp;ved=0ahUKEwjYp9f0nsSOAxXXT2wGHR5BMVYQ2ZgBCAc\">&#2476;&#2494;&#2434;&#2482;&#2494;</a>    <a href=\"http://www.google.com/setprefs?sig=0_gEw_b8ndYQ19JWA3D8Do07_trLY%3D&amp;hl=te&amp;source=homepage&amp;sa=X&amp;ved=0ahUKEwjYp9f0nsSOAxXXT2wGHR5BMVYQ2ZgBCAg\">&#3108;&#3142;&#3122;&#3137;&#3095;&#3137;</a>    <a href=\"http://www.google.com/setprefs?sig=0_gEw_b8ndYQ19JWA3D8Do07_trLY%3D&amp;hl=mr&amp;source=homepage&amp;sa=X&amp;ved=0ahUKEwjYp9f0nsSOAxXXT2wGHR5BMVYQ2ZgBCAk\">&#2350;&#2352;&#2366;&#2336;&#2368;</a>    <a href=\"http://www.google.com/setprefs?sig=0_gEw_b8ndYQ19JWA3D8Do07_trLY%3D&amp;hl=ta&amp;source=homepage&amp;sa=X&amp;ved=0ahUKEwjYp9f0nsSOAxXXT2wGHR5BMVYQ2ZgBCAo\">&#2980;&#2990;&#3007;&#2996;&#3021;</a>    <a href=\"http://www.google.com/setprefs?sig=0_gEw_b8ndYQ19JWA3D8Do07_trLY%3D&amp;hl=gu&amp;source=homepage&amp;sa=X&amp;ved=0ahUKEwjYp9f0nsSOAxXXT2wGHR5BMVYQ2ZgBCAs\">&#2711;&#2753;&#2716;&#2736;&#2750;&#2724;&#2752;</a>    <a href=\"http://www.google.com/setprefs?sig=0_gEw_b8ndYQ19JWA3D8Do07_trLY%3D&amp;hl=kn&amp;source=homepage&amp;sa=X&amp;ved=0ahUKEwjYp9f0nsSOAxXXT2wGHR5BMVYQ2ZgBCAw\">&#3221;&#3240;&#3277;&#3240;&#3233;</a>    <a href=\"http://www.google.com/setprefs?sig=0_gEw_b8ndYQ19JWA3D8Do07_trLY%3D&amp;hl=ml&amp;source=homepage&amp;sa=X&amp;ved=0ahUKEwjYp9f0nsSOAxXXT2wGHR5BMVYQ2ZgBCA0\">&#3374;&#3378;&#3375;&#3390;&#3379;&#3330;</a>    <a href=\"http://www.google.com/setprefs?sig=0_gEw_b8ndYQ19JWA3D8Do07_trLY%3D&amp;hl=pa&amp;source=homepage&amp;sa=X&amp;ved=0ahUKEwjYp9f0nsSOAxXXT2wGHR5BMVYQ2ZgBCA4\">&#2602;&#2672;&#2588;&#2622;&#2604;&#2624;</a>  </div></div></div><span id=\"footer\"><div style=\"font-size:10pt\"><div style=\"margin:19px auto;text-align:center\" id=\"WqQANb\"><a href=\"/intl/en/ads/\">Advertising</a><a href=\"http://www.google.co.in/services/\">Business Solutions</a><a href=\"/intl/en/about.html\">About Google</a><a href=\"http://www.google.com/setprefdomain?prefdom=IN&amp;prev=http://www.google.co.in/&amp;sig=K_2mBXgqU0Rxi97vXQGC7580O2JZc%3D\">Google.co.in</a></div></div><p style=\"font-size:8pt;color:#636363\">&copy; 2025 - <a href=\"/intl/en/policies/privacy/\">Privacy</a> - <a href=\"/intl/en/policies/terms/\">Terms</a></p></span></center><script nonce=\"AfR6CbNQr7WLhbYjORHGRQ\">(function(){window.google.cdo={height:757,width:1440};(function(){var a=window.innerWidth,b=window.innerHeight;if(!a||!b){var c=window.document,d=c.compatMode==\"CSS1Compat\"?c.documentElement:c.body;a=d.clientWidth;b=d.clientHeight}if(a&&b&&(a!=google.cdo.width||b!=google.cdo.height)){var e=google,f=e.log,g=\"/client_204?&atyp=i&biw=\"+a+\"&bih=\"+b+\"&ei=\"+google.kEI,h=\"\",k=window.google&&window.google.kOPI||null;k&&(h+=\"&opi=\"+k);f.call(e,\"\",\"\",g+h)};}).call(this);})();(function(){google.xjs={basecomb:'/xjs/_/js/k\\x3dxjs.hp.en.TdZ6gedq4bw.es5.O/ck\\x3dxjs.hp.1MMPT6n4gW4.L.X.O/am\\x3dBAAAAABAAAAAAAAAAAAAAAAAAAAAAAAAAAAAAEAJAQEAAAAwQQAAAAAAEAAAAAAAAIARAAAEACAQJAAAKEkA40AAAIAAUIEAyAFKDwAAABBAABAAAAABAAEAAAARAAABAAAEnAAAAAADIDwOCAAAAAiIBQABAAAAiEc/d\\x3d1/ed\\x3d1/dg\\x3d0/ujg\\x3d1/rs\\x3dACT90oHYGZrOABvwNAPVL8sJeaZOfdZ4Lg',basecss:'/xjs/_/ss/k\\x3dxjs.hp.1MMPT6n4gW4.L.X.O/am\\x3dBAAAAABAAAAAAAAAAAAAAAAAAAAAAAAAAAAAAEAJAQEAAAAwQAAAAAAAAAAAAAAAAAARAAAEACAQJAAAKAkAAwAAAIAAUIEAyAFKDwAAABBAABAAAAABAAEAAAARAAABAAAEjAAAAAAAAAACAAAAAAiI/rs\\x3dACT90oHsB2ycRYpHWRRlCZixJmEBqhm2hg',basejs:'/xjs/_/js/k\\x3dxjs.hp.en.TdZ6gedq4bw.es5.O/am\\x3dAAAAAAAAAAAAAAAAAAAAAAAAAAAAAAAAAAAAAAAAAAAAAAAAAQAAAAAAEAAAAAAAAIAQAAAEAAAAAAAAAEAA4EAAAAAAAAAAwAEAAAAAAAAAABAAAAAAAAAAAAAAAAAAAAAAHAAAAAADIDwOCAAAAAiIBQABAAAAiEc/dg\\x3d0/rs\\x3dACT90oG_EbJB5e5SXXSHNI5oYTm1LUD4Nw',excm:[]};})();(function(){var u='/xjs/_/js/k\\x3dxjs.hp.en.TdZ6gedq4bw.es5.O/am\\x3dAAAAAAAAAAAAAAAAAAAAAAAAAAAAAAAAAAAAAAAAAAAAAAAAAQAAAAAAEAAAAAAAAIAQAAAEAAAAAAAAAEAA4EAAAAAAAAAAwAEAAAAAAAAAABAAAAAAAAAAAAAAAAAAAAAAHAAAAAADIDwOCAAAAAiIBQABAAAAiEc/d\\x3d1/ed\\x3d1/dg\\x3d3/rs\\x3dACT90oG_EbJB5e5SXXSHNI5oYTm1LUD4Nw/m\\x3dsb_he,d';var st=1;var amd=1000;var mmd=0;var pod=true;var pop=true;var povp=false;var fp='';\n",
      "var e=this||self;function f(){var b,a,d;if(a=b=(a=window.google)==null?void 0:(d=a.ia)==null?void 0:d.r.B2Jtyd)a=b.m,a=a===1||a===5;return a&&b.cbfd!=null&&b.cbvi!=null?b:void 0};function g(){var b=[u];if(!google.dp){for(var a=0;a<b.length;a++){var d=b[a],c=document.createElement(\"link\");c.as=\"script\";c.href=d;c.rel=\"preload\";document.body.appendChild(c)}google.dp=!0}};google.ps===void 0&&(google.ps=[]);function h(){var b=u,a=function(){};google.lx=google.stvsc?a:function(){k(b);google.lx=a};google.bx||google.lx()}function l(b,a){a&&(b.src=a);fp&&google.caft&&google.caft(function(){b.fetchPriority=fp});var d=b.onload;b.onload=function(c){d&&d(c);google.ps=google.ps.filter(function(G){return b!==G})};google.ps.push(b);document.body.appendChild(b)}google.as=l;function k(b){google.timers&&google.timers.load&&google.tick&&google.tick(\"load\",\"xjsls\");var a=document.createElement(\"script\");a.onerror=function(){google.ple=1};a.onload=function(){google.ple=0};google.xjsus=void 0;l(a,b);google.aple=-1;google.dp=!0};function m(b){var a=b.getAttribute(\"jscontroller\");return(a===\"UBXHI\"||a===\"R3fhkb\"||a===\"TSZEqd\")&&b.hasAttribute(\"data-src\")}function n(){for(var b=document.getElementsByTagName(\"img\"),a=0,d=b.length;a<d;a++){var c=b[a];if(c.hasAttribute(\"data-lzy_\")&&Number(c.getAttribute(\"data-atf\"))&1&&!m(c))return!0}return!1}for(var p=document.getElementsByTagName(\"img\"),q=0,r=p.length;q<r;++q){var t=p[q];Number(t.getAttribute(\"data-atf\"))&1&&m(t)&&(t.src=t.getAttribute(\"data-src\"))};var w,x,y,z,A,B,C,D,E,F;function H(){google.xjsu=u;e._F_jsUrl=u;A=function(){h()};w=!1;x=(st===1||st===3)&&!!google.caft&&!n();y=f();z=(st===2||st===3)&&!!y&&!n();B=pod;C=pop;D=povp;E=pop&&document.prerendering||povp&&document.hidden;F=D?\"visibilitychange\":\"prerenderingchange\"}function I(){w||x||z||E||(A(),w=!0)}\n",
      "setTimeout(function(){google&&google.tick&&google.timers&&google.timers.load&&google.tick(\"load\",\"xjspls\");H();if(x||z||E){if(x){var b=function(){x=!1;I()};google.caft(b);window.setTimeout(b,amd)}z&&(b=function(){z=!1;I()},y.cbvi.push(b),window.setTimeout(b,mmd));if(E){var a=function(){(D?document.hidden:document.prerendering)||(E=!1,I(),document.removeEventListener(F,a))};document.addEventListener(F,a,{passive:!0})}if(B||C||D)w||g()}else A()},0);})();window._ = window._ || {};window._DumpException = _._DumpException = function(e){throw e;};window._s = window._s || {};_s._DumpException = _._DumpException;window._qs = window._qs || {};_qs._DumpException = _._DumpException;(function(){var t=[4,65536,0,0,0,0,0,38797312,289,17088512,0,1024,1048608,28160,704643140,24335,587222312,19203,135593992,444625408,15,34668608,268435457,16384,1114112,1024,639304,12582912,135150624,536870912,268458176,0,18312];window._F_toggles = window._xjs_toggles = t;})();window._F_installCss = window._F_installCss || function(css){};(function(){google.jl={bfl:0,dw:false,eli:false,ine:false,ubm:false,uwp:true,vs:false};})();(function(){var pmc='{\\x22d\\x22:{},\\x22sb_he\\x22:{\\x22client\\x22:\\x22heirloom-hp\\x22,\\x22dh\\x22:true,\\x22ds\\x22:\\x22\\x22,\\x22host\\x22:\\x22google.com\\x22,\\x22jsonp\\x22:true,\\x22msgs\\x22:{\\x22cibl\\x22:\\x22Clear Search\\x22,\\x22dym\\x22:\\x22Did you mean:\\x22,\\x22lcky\\x22:\\x22I\\\\u0026#39;m Feeling Lucky\\x22,\\x22lml\\x22:\\x22Learn more\\x22,\\x22psrc\\x22:\\x22This search was removed from your \\\\u003Ca href\\x3d\\\\\\x22/history\\\\\\x22\\\\u003EWeb History\\\\u003C/a\\\\u003E\\x22,\\x22psrl\\x22:\\x22Remove\\x22,\\x22sbit\\x22:\\x22Search by image\\x22,\\x22srch\\x22:\\x22Google Search\\x22},\\x22ovr\\x22:{},\\x22pq\\x22:\\x22\\x22,\\x22rfs\\x22:[],\\x22stok\\x22:\\x22c7NNarWQRCxrYt1Pa9HpUdCjdPM\\x22}}';google.pmc=JSON.parse(pmc);})();</script></body></html>\n"
     ]
    }
   ],
   "source": [
    "import requests\n",
    "\n",
    "response = requests.get(\"http://www.google.com\")\n",
    "print(response.text)  # prints the HTML content of the page"
   ]
  },
  {
   "cell_type": "markdown",
   "id": "7c072fcb",
   "metadata": {},
   "source": [
    "- You can change the URL in requests.get() to any website to get its HTML content.\n",
    "\n",
    "### 2. Sending a POST Request\n",
    "- POST requests are used to send data to a server (ex: submitting form data).\n",
    "\n",
    "- Example using JSONPlaceholder API:"
   ]
  },
  {
   "cell_type": "code",
   "execution_count": 2,
   "id": "3b4f1aab",
   "metadata": {},
   "outputs": [
    {
     "name": "stdout",
     "output_type": "stream",
     "text": [
      "{\n",
      "  \"title\": \"Harry\",\n",
      "  \"body\": \"Bhai\",\n",
      "  \"userId\": \"12\",\n",
      "  \"id\": 101\n",
      "}\n"
     ]
    }
   ],
   "source": [
    "url = \"https://jsonplaceholder.typicode.com/posts\"\n",
    "data = {\n",
    "    \"title\": \"Harry\",\n",
    "    \"body\": \"Bhai\",\n",
    "    \"userId\": 12\n",
    "}\n",
    "response = requests.post(url, data=data)\n",
    "print(response.text)"
   ]
  },
  {
   "cell_type": "markdown",
   "id": "81160b8f",
   "metadata": {},
   "source": [
    "- You can include custom headers if required.\n",
    "\n",
    "- This sends data and receives a response from the server.\n",
    "\n",
    "# Types of HTTP Requests\n",
    "Requests module supports many HTTP methods, including:\n",
    "\n",
    "- GET — Retrieve data\n",
    "\n",
    "- POST — Send data to the server\n",
    "\n",
    "- PUT — Update data\n",
    "\n",
    "- DELETE — Delete data\n",
    "\n",
    "- PATCH, HEAD, OPTIONS, etc.\n",
    "\n",
    "For detailed usage, refer to the official documentation:\n",
    "https://requests.readthedocs.io/en/latest/user/quickstart/#make-a-request\n",
    "\n",
    "# Practical Example: Web Scraping with Requests and BeautifulSoup\n",
    "\n",
    "### Objective\n",
    "Scrape a webpage and extract specific HTML elements (e.g., all h2 headers).\n",
    "\n",
    "### Steps\n",
    "1. Fetch the webpage HTML with requests.get()"
   ]
  },
  {
   "cell_type": "code",
   "execution_count": 3,
   "id": "cf379efb",
   "metadata": {},
   "outputs": [],
   "source": [
    "url = \"https://www.codewithharry.com/blogpost/django-cheatsheet/\"\n",
    "response = requests.get(url)\n",
    "html = response.text"
   ]
  },
  {
   "cell_type": "markdown",
   "id": "476f4438",
   "metadata": {},
   "source": [
    "2. Parse HTML using BeautifulSoup (bs4 module)\n",
    "\n",
    "- The bs4 module makes HTML parsing simple by creating a tree structure of the webpage content.\n",
    "\n",
    "- Install BeautifulSoup if not installed:"
   ]
  },
  {
   "cell_type": "code",
   "execution_count": 4,
   "id": "956ced48",
   "metadata": {},
   "outputs": [
    {
     "name": "stdout",
     "output_type": "stream",
     "text": [
      "Collecting beautifulsoup4\n",
      "  Using cached beautifulsoup4-4.13.4-py3-none-any.whl.metadata (3.8 kB)\n",
      "Collecting soupsieve>1.2 (from beautifulsoup4)\n",
      "  Using cached soupsieve-2.7-py3-none-any.whl.metadata (4.6 kB)\n",
      "Collecting typing-extensions>=4.0.0 (from beautifulsoup4)\n",
      "  Using cached typing_extensions-4.14.1-py3-none-any.whl.metadata (3.0 kB)\n",
      "Using cached beautifulsoup4-4.13.4-py3-none-any.whl (187 kB)\n",
      "Using cached soupsieve-2.7-py3-none-any.whl (36 kB)\n",
      "Using cached typing_extensions-4.14.1-py3-none-any.whl (43 kB)\n",
      "Installing collected packages: typing-extensions, soupsieve, beautifulsoup4\n",
      "Successfully installed beautifulsoup4-4.13.4 soupsieve-2.7 typing-extensions-4.14.1\n",
      "Note: you may need to restart the kernel to use updated packages.\n"
     ]
    }
   ],
   "source": [
    "pip install beautifulsoup4"
   ]
  },
  {
   "cell_type": "markdown",
   "id": "b6aa44df",
   "metadata": {},
   "source": [
    "- Import and parse the HTML:"
   ]
  },
  {
   "cell_type": "code",
   "execution_count": 5,
   "id": "1e208aa6",
   "metadata": {},
   "outputs": [],
   "source": [
    "from bs4 import BeautifulSoup\n",
    "\n",
    "soup = BeautifulSoup(html, \"html.parser\")"
   ]
  },
  {
   "cell_type": "markdown",
   "id": "69937309",
   "metadata": {},
   "source": [
    "3. Extract all h2 tags"
   ]
  },
  {
   "cell_type": "code",
   "execution_count": 6,
   "id": "c0a3954b",
   "metadata": {},
   "outputs": [
    {
     "name": "stdout",
     "output_type": "stream",
     "text": [
      "What is Django?\n",
      "Installing Django + Setup\n",
      "Django MVT\n",
      "Views in Django\n",
      "URLs in Django\n",
      "Forms in Django\n",
      "Apps in Django\n",
      "Templates in Django\n",
      "Migrations in Django\n",
      "Admin interface in Django\n",
      "Page Redirection\n",
      "Tags\n"
     ]
    }
   ],
   "source": [
    "for heading in soup.find_all(\"h2\"):\n",
    "    print(heading.text)"
   ]
  },
  {
   "cell_type": "markdown",
   "id": "76608c2a",
   "metadata": {},
   "source": [
    "# Important Notes\n",
    "- If only a certain h2 (e.g., \"Add a new comment\") appears but not the others, it means the content is dynamically loaded via JavaScript or API and not present in the static HTML source.\n",
    "\n",
    "- Requests + BeautifulSoup is effective for scraping static content but cannot execute JavaScript. For dynamic pages, consider tools like Selenium or APIs.\n",
    "\n",
    "# Summary of Key Concepts"
   ]
  },
  {
   "cell_type": "code",
   "execution_count": 7,
   "id": "0a2031a7",
   "metadata": {},
   "outputs": [
    {
     "data": {
      "text/html": [
       "<div>\n",
       "<style scoped>\n",
       "    .dataframe tbody tr th:only-of-type {\n",
       "        vertical-align: middle;\n",
       "    }\n",
       "\n",
       "    .dataframe tbody tr th {\n",
       "        vertical-align: top;\n",
       "    }\n",
       "\n",
       "    .dataframe thead th {\n",
       "        text-align: right;\n",
       "    }\n",
       "</style>\n",
       "<table border=\"1\" class=\"dataframe\">\n",
       "  <thead>\n",
       "    <tr style=\"text-align: right;\">\n",
       "      <th></th>\n",
       "      <th>Concept</th>\n",
       "      <th>Details</th>\n",
       "    </tr>\n",
       "  </thead>\n",
       "  <tbody>\n",
       "    <tr>\n",
       "      <th>0</th>\n",
       "      <td>Requests Module</td>\n",
       "      <td>Python library to send HTTP requests.</td>\n",
       "    </tr>\n",
       "    <tr>\n",
       "      <th>1</th>\n",
       "      <td>HTTP Methods</td>\n",
       "      <td>GET, POST, PUT, DELETE, PATCH, etc.</td>\n",
       "    </tr>\n",
       "    <tr>\n",
       "      <th>2</th>\n",
       "      <td>GET Request</td>\n",
       "      <td>Fetches data (e.g., webpage HTML).</td>\n",
       "    </tr>\n",
       "    <tr>\n",
       "      <th>3</th>\n",
       "      <td>POST Request</td>\n",
       "      <td>Sends data (e.g., form submission, JSON data).</td>\n",
       "    </tr>\n",
       "    <tr>\n",
       "      <th>4</th>\n",
       "      <td>Parsing HTML</td>\n",
       "      <td>Use BeautifulSoup to parse and extract data.</td>\n",
       "    </tr>\n",
       "    <tr>\n",
       "      <th>5</th>\n",
       "      <td>Static vs Dynamic Pages</td>\n",
       "      <td>Requests + BeautifulSoup works best for static HTML content.</td>\n",
       "    </tr>\n",
       "    <tr>\n",
       "      <th>6</th>\n",
       "      <td>Installation</td>\n",
       "      <td>pip install requestsandpip install beautifulsoup4.</td>\n",
       "    </tr>\n",
       "  </tbody>\n",
       "</table>\n",
       "</div>"
      ],
      "text/plain": [
       "                   Concept  \\\n",
       "0          Requests Module   \n",
       "1             HTTP Methods   \n",
       "2              GET Request   \n",
       "3             POST Request   \n",
       "4             Parsing HTML   \n",
       "5  Static vs Dynamic Pages   \n",
       "6             Installation   \n",
       "\n",
       "                                                        Details  \n",
       "0                         Python library to send HTTP requests.  \n",
       "1                           GET, POST, PUT, DELETE, PATCH, etc.  \n",
       "2                            Fetches data (e.g., webpage HTML).  \n",
       "3                Sends data (e.g., form submission, JSON data).  \n",
       "4                  Use BeautifulSoup to parse and extract data.  \n",
       "5  Requests + BeautifulSoup works best for static HTML content.  \n",
       "6            pip install requestsandpip install beautifulsoup4.  "
      ]
     },
     "execution_count": 7,
     "metadata": {},
     "output_type": "execute_result"
    }
   ],
   "source": [
    "import pandas as pd\n",
    "pd.set_option('display.max_colwidth', None)\n",
    "df = pd.read_csv('csv_files/Concept-Details.csv')\n",
    "df"
   ]
  },
  {
   "cell_type": "markdown",
   "id": "770ad60f",
   "metadata": {},
   "source": [
    "# Additional Tips\n",
    "- Always check the API or website documentation to understand required headers, parameters, and request types.\n",
    "\n",
    "- Use response.status_code to check if your request was successful (200 means success).\n",
    "\n",
    "- Use response.json() to parse JSON responses easily.\n",
    "\n",
    "# Conclusion\n",
    "The Requests module is an essential tool for Python developers dealing with web data and APIs. Combined with parsing libraries like BeautifulSoup, it forms the basis for many web scraping and data extraction projects. Understanding how to send different types of requests and handle responses will empower you to build powerful, practical Python applications."
   ]
  }
 ],
 "metadata": {
  "kernelspec": {
   "display_name": ".venv",
   "language": "python",
   "name": "python3"
  },
  "language_info": {
   "codemirror_mode": {
    "name": "ipython",
    "version": 3
   },
   "file_extension": ".py",
   "mimetype": "text/x-python",
   "name": "python",
   "nbconvert_exporter": "python",
   "pygments_lexer": "ipython3",
   "version": "3.12.3"
  }
 },
 "nbformat": 4,
 "nbformat_minor": 5
}
