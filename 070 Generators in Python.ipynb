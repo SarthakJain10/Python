{
 "cells": [
  {
   "cell_type": "markdown",
   "id": "193761ae",
   "metadata": {},
   "source": [
    "# 1. What is a Generator?\n",
    "- A generator is a type of function that instead of returning a single value, yields values one at a time as they are requested.\n",
    "\n",
    "- Unlike lists, generators do not store all the values in memory at once.\n",
    "\n",
    "- They keep the state (information needed to produce the next value) internally and generate each value dynamically when needed.\n",
    "\n",
    "### Key Points:\n",
    "- Generators generate values on the fly (dynamically) rather than pre-storing them.\n",
    "\n",
    "- They are memory efficient because they do not hold all items at once.\n",
    "\n",
    "- The generator object itself stores the \"recipe\" or information to create the next value, not the value itself.\n",
    "\n",
    "### Analogy:\n",
    "Think of a generator as a mango seed rather than a full mango tree. The seed contains everything necessary to grow the tree but doesn’t take up the space the whole tree would.\n",
    "\n",
    "# 2. The yield Keyword\n",
    "- The yield keyword is used inside generator functions to produce a value and temporarily suspend the function’s execution, saving its state.\n",
    "\n",
    "- When the generator’s next item is requested, the function resumes immediately after the last yield statement.\n",
    "\n",
    "- This allows values to be produced lazily and one at a time."
   ]
  },
  {
   "cell_type": "markdown",
   "id": "37899bf8",
   "metadata": {},
   "source": [
    "### How yield differs from return:\n",
    "- return sends a single value and terminates the function.\n",
    "\n",
    "- yield sends a value but pauses the function to continue later.\n",
    "\n",
    "# 3. Syntax of Generator Functions"
   ]
  },
  {
   "cell_type": "code",
   "execution_count": 1,
   "id": "0be9a301",
   "metadata": {},
   "outputs": [],
   "source": [
    "def my_generator():\n",
    "    for i in range(5):\n",
    "        yield i  # Yields 0, then 1, then 2, up to 4, one at a time"
   ]
  },
  {
   "cell_type": "markdown",
   "id": "27c38d84",
   "metadata": {},
   "source": [
    "- Creating a generator object:"
   ]
  },
  {
   "cell_type": "code",
   "execution_count": 2,
   "id": "1340ae26",
   "metadata": {},
   "outputs": [],
   "source": [
    "gen = my_generator()"
   ]
  },
  {
   "cell_type": "markdown",
   "id": "47b4d542",
   "metadata": {},
   "source": [
    "- Accessing values one by one:"
   ]
  },
  {
   "cell_type": "code",
   "execution_count": 3,
   "id": "39368327",
   "metadata": {},
   "outputs": [
    {
     "data": {
      "text/plain": [
       "1"
      ]
     },
     "execution_count": 3,
     "metadata": {},
     "output_type": "execute_result"
    }
   ],
   "source": [
    "next(gen)  # Returns 0\n",
    "next(gen)  # Returns 1\n",
    "# and so on..."
   ]
  },
  {
   "cell_type": "markdown",
   "id": "4f98f308",
   "metadata": {},
   "source": [
    "# 4. Generators vs Lists – Key Differences"
   ]
  },
  {
   "cell_type": "code",
   "execution_count": 4,
   "id": "d336d55f",
   "metadata": {},
   "outputs": [
    {
     "data": {
      "text/html": [
       "<div>\n",
       "<style scoped>\n",
       "    .dataframe tbody tr th:only-of-type {\n",
       "        vertical-align: middle;\n",
       "    }\n",
       "\n",
       "    .dataframe tbody tr th {\n",
       "        vertical-align: top;\n",
       "    }\n",
       "\n",
       "    .dataframe thead th {\n",
       "        text-align: right;\n",
       "    }\n",
       "</style>\n",
       "<table border=\"1\" class=\"dataframe\">\n",
       "  <thead>\n",
       "    <tr style=\"text-align: right;\">\n",
       "      <th></th>\n",
       "      <th>Aspect</th>\n",
       "      <th>List</th>\n",
       "      <th>Generator</th>\n",
       "    </tr>\n",
       "  </thead>\n",
       "  <tbody>\n",
       "    <tr>\n",
       "      <th>0</th>\n",
       "      <td>Storage</td>\n",
       "      <td>Stores all values in memory</td>\n",
       "      <td>Stores only state, generates values on demand</td>\n",
       "    </tr>\n",
       "    <tr>\n",
       "      <th>1</th>\n",
       "      <td>Memory Usage</td>\n",
       "      <td>High for large datasets</td>\n",
       "      <td>Low, efficient for large or infinite sequences</td>\n",
       "    </tr>\n",
       "    <tr>\n",
       "      <th>2</th>\n",
       "      <td>Execution Style</td>\n",
       "      <td>Eager evaluation (all at once)</td>\n",
       "      <td>Lazy evaluation (on the fly)</td>\n",
       "    </tr>\n",
       "    <tr>\n",
       "      <th>3</th>\n",
       "      <td>Usage</td>\n",
       "      <td>When all data needed at once</td>\n",
       "      <td>When you want to process items one by one, or save memory</td>\n",
       "    </tr>\n",
       "  </tbody>\n",
       "</table>\n",
       "</div>"
      ],
      "text/plain": [
       "            Aspect                            List  \\\n",
       "0          Storage     Stores all values in memory   \n",
       "1     Memory Usage         High for large datasets   \n",
       "2  Execution Style  Eager evaluation (all at once)   \n",
       "3            Usage    When all data needed at once   \n",
       "\n",
       "                                                   Generator  \n",
       "0              Stores only state, generates values on demand  \n",
       "1             Low, efficient for large or infinite sequences  \n",
       "2                               Lazy evaluation (on the fly)  \n",
       "3  When you want to process items one by one, or save memory  "
      ]
     },
     "execution_count": 4,
     "metadata": {},
     "output_type": "execute_result"
    }
   ],
   "source": [
    "import pandas as pd\n",
    "pd.set_option('display.max_colwidth', None)\n",
    "df = pd.read_csv('csv_files/Aspect-List-Generator.csv')\n",
    "df"
   ]
  },
  {
   "cell_type": "markdown",
   "id": "4544f134",
   "metadata": {},
   "source": [
    "# 5. Benefits of Using Generators\n",
    "- **Memory Efficiency:** Since values are generated one at a time, memory consumption is minimal even for very large or infinite data streams.\n",
    "\n",
    "- **Performance:** Faster startup and often faster overall execution because all values aren’t calculated upfront.\n",
    "\n",
    "- **Lazy Evaluation:** Calculations or data fetching happen only when requested, reducing unnecessary work.\n",
    "\n",
    "- **Infinite Sequences:** Can represent infinite streams of data (e.g., Fibonacci numbers) which cannot be stored in a list.\n",
    "\n",
    "- **Simplifies Code:** Generators can replace complex iterator classes with simpler function syntax."
   ]
  },
  {
   "cell_type": "markdown",
   "id": "7f85dbdd",
   "metadata": {},
   "source": [
    "# 6. Practical Example"
   ]
  },
  {
   "cell_type": "code",
   "execution_count": 5,
   "id": "61cf22fe",
   "metadata": {},
   "outputs": [
    {
     "name": "stdout",
     "output_type": "stream",
     "text": [
      "0\n",
      "1\n",
      "2\n",
      "3\n",
      "4\n",
      "5\n",
      "6\n",
      "7\n",
      "8\n",
      "9\n",
      "10\n",
      "11\n"
     ]
    }
   ],
   "source": [
    "def large_range(n):\n",
    "    for i in range(n):\n",
    "        yield i\n",
    "\n",
    "gen = large_range(1000000000)\n",
    "\n",
    "for val in gen:\n",
    "    print(val)\n",
    "    if val > 10:\n",
    "        break  # Stops early without generating all values"
   ]
  },
  {
   "cell_type": "markdown",
   "id": "3aa912a3",
   "metadata": {},
   "source": [
    "- This example demonstrates:\n",
    "\n",
    "    - The generator can handle very large data sets.\n",
    "\n",
    "    - The loop stops after 10, so only the first 11 values are generated.\n",
    "\n",
    "    - No large memory allocation is needed compared to a list of a billion integers.\n",
    "\n",
    "# 7. Use Cases of Generators\n",
    "- Processing large datasets (e.g., reading large files, streaming data).\n",
    "\n",
    "- Performing expensive computations where results are needed one at a time.\n",
    "\n",
    "- Implementing pipelines for data processing where intermediate results are yielded.\n",
    "\n",
    "- Combining with other Python features like comprehensions for elegant code.\n",
    "\n",
    "# 8. Important Notes\n",
    "- Whenever a function uses yield instead of return, it automatically becomes a generator.\n",
    "\n",
    "- The generator does not produce all values immediately; it waits until you request the next value.\n",
    "\n",
    "- If you need all values at once, you can convert a generator to a list (list(generator)), but this loses the memory advantage.\n",
    "\n",
    "# Summary of Key Takeaways\n",
    "- Generators produce values on the fly using lazy evaluation with the yield keyword.\n",
    "\n",
    "- Generators are memory-efficient alternatives to storing large lists because they do not hold all data in memory.\n",
    "\n",
    "- The yield keyword suspends and resumes function execution, producing sequences dynamically.\n",
    "\n",
    "- They are well-suited for handling large data streams and expensive computations where you need values one by one.\n",
    "\n"
   ]
  }
 ],
 "metadata": {
  "kernelspec": {
   "display_name": ".venv",
   "language": "python",
   "name": "python3"
  },
  "language_info": {
   "codemirror_mode": {
    "name": "ipython",
    "version": 3
   },
   "file_extension": ".py",
   "mimetype": "text/x-python",
   "name": "python",
   "nbconvert_exporter": "python",
   "pygments_lexer": "ipython3",
   "version": "3.12.3"
  }
 },
 "nbformat": 4,
 "nbformat_minor": 5
}
