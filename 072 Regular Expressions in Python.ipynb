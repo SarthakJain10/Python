{
 "cells": [
  {
   "cell_type": "markdown",
   "id": "c670cd95",
   "metadata": {},
   "source": [
    "# Introduction to Regular Expressions (Regex)\n",
    "### What are Regular Expressions?\n",
    "Regular Expressions, or regex, are a powerful tool used to search, match, and manipulate text based on patterns rather than exact text matches.\n",
    "\n",
    "### Why use Regular Expressions?\n",
    "\n",
    "- For basic matching, Python string methods or loops can suffice\n",
    "\n",
    "- For complex pattern matching, regex simplifies the process and reduces manual effort\n",
    "\n",
    "- Regex is built into Python via the standard library module re\n",
    "\n",
    "### Setting Up Regex in Python\n",
    "- Importing the regex module:"
   ]
  },
  {
   "cell_type": "code",
   "execution_count": 1,
   "id": "76e6664f",
   "metadata": {},
   "outputs": [],
   "source": [
    "import re"
   ]
  },
  {
   "cell_type": "markdown",
   "id": "c6de457a",
   "metadata": {},
   "source": [
    "- The main components of regex usage in Python:\n",
    "\n",
    "    - **Pattern:** The regex pattern you want to search for\n",
    "\n",
    "    - **Text:** The text string where the pattern is searched\n",
    "\n",
    "- Example:"
   ]
  },
  {
   "cell_type": "code",
   "execution_count": 2,
   "id": "9f365b55",
   "metadata": {},
   "outputs": [],
   "source": [
    "pattern = \"was\"\n",
    "text = '''Long string of text here...'''\n",
    "match = re.search(pattern, text)\n",
    "if match:\n",
    "    print(\"Match found\")"
   ]
  },
  {
   "cell_type": "markdown",
   "id": "571c7113",
   "metadata": {},
   "source": [
    "- re.search() returns the first match object if found, else returns None"
   ]
  },
  {
   "cell_type": "markdown",
   "id": "f250b453",
   "metadata": {},
   "source": [
    "### Basic Regex Functions\n",
    "- **re.search(pattern, text)**\n",
    "Returns a match object for the first occurrence of the pattern in text or None if no match.\n",
    "\n",
    "- **re.finditer(pattern, text)**\n",
    "Returns an iterator yielding all matches as match objects, useful to find multiple occurrences throughout the text.\n",
    "\n",
    "- **match.span()**\n",
    "Returns a tuple (start_index, end_index) for the matched substring, helps locate the pattern in the text."
   ]
  },
  {
   "cell_type": "markdown",
   "id": "5d5c2640",
   "metadata": {},
   "source": [
    "### Understanding Meta Characters and Syntax in Regex\n",
    "- Meta characters define flexible search patterns that can represent sets, ranges, or special conditions.\n",
    "- Example:\n",
    "\n",
    "    - [A-Z] means any single uppercase letter from A to Z\n",
    "\n",
    "    - \\+ means one or more occurrences of the preceding element\n",
    "\n",
    "- Character classes:\n",
    "\n",
    "    - Square brackets [ ] define a character class.\n",
    "\n",
    "    - [A-Z]yclone matches words starting with any uppercase letter followed by \"yclone\", e.g., \"Cyclone\", \"Dyclone\", but not \"dyclone\".\n",
    "\n",
    "- Raw strings in Python:\n",
    "Use r\"\" to create a raw string to avoid escape sequence parsing issues in regex patterns.\n",
    "Example:"
   ]
  },
  {
   "cell_type": "code",
   "execution_count": 3,
   "id": "4cc19477",
   "metadata": {},
   "outputs": [],
   "source": [
    "pattern = r\"[A-Z]+yclone\""
   ]
  },
  {
   "cell_type": "markdown",
   "id": "948b2582",
   "metadata": {},
   "source": [
    "- Escape character \\ usage:\n",
    "\n",
    "    - Makes the next character special or literal.\n",
    "\n",
    "    - \\n matches newline character; \\\\ matches the backslash literal \\.\n",
    "\n",
    "# Practical Examples\n",
    "### Matching a Single Pattern"
   ]
  },
  {
   "cell_type": "code",
   "execution_count": 4,
   "id": "89db1250",
   "metadata": {},
   "outputs": [
    {
     "name": "stdout",
     "output_type": "stream",
     "text": [
      "Match found at span: (28, 31)\n"
     ]
    }
   ],
   "source": [
    "pattern = \"was\"  \n",
    "text = \"\"\"Some long Wikipedia text... was ...\"\"\"  \n",
    "match = re.search(pattern, text)  \n",
    "if match:\n",
    "    print(\"Match found at span:\", match.span())"
   ]
  },
  {
   "cell_type": "markdown",
   "id": "c52d5d59",
   "metadata": {},
   "source": [
    "Output: Indicates if \"was\" was found along with its position.\n",
    "\n",
    "### Matching All Occurrences with re.finditer"
   ]
  },
  {
   "cell_type": "code",
   "execution_count": 5,
   "id": "0175a8f1",
   "metadata": {},
   "outputs": [
    {
     "name": "stdout",
     "output_type": "stream",
     "text": [
      "Cyclone (0, 7)\n",
      "Dyclone (8, 15)\n"
     ]
    }
   ],
   "source": [
    "pattern = r\"[A-Z]yclone\"  \n",
    "text = \"Cyclone Dyclone cyclone\"  \n",
    "matches = re.finditer(pattern, text)  \n",
    "for match in matches:\n",
    "    print(match.group(), match.span())"
   ]
  },
  {
   "cell_type": "markdown",
   "id": "72aa1039",
   "metadata": {},
   "source": [
    "Note that lowercase 'cyclone' is not matched because it starts with a lowercase letter.\n",
    "\n",
    "Useful Regex Syntax Cheatsheet Highlights\n",
    "- . — Matches any single character except newline\n",
    "\n",
    "- \\+ — One or more occurrences of the preceding element\n",
    "\n",
    "- \\* — Zero or more occurrences\n",
    "\n",
    "- ? — Zero or one occurrence\n",
    "\n",
    "- \\w — Matches any word character (letters, digits, underscore)\n",
    "\n",
    "- [HWR] — Matches any one character in the set (H, W, or R)\n",
    "\n",
    "- () — Groups multiple tokens together and captures them\n",
    "\n",
    "Example pattern explained:"
   ]
  },
  {
   "cell_type": "markdown",
   "id": "2bd86e3d",
   "metadata": {},
   "source": [
    "```\n",
    "[HWR]+\\w\n",
    "```"
   ]
  },
  {
   "cell_type": "markdown",
   "id": "b3eaebf3",
   "metadata": {},
   "source": [
    "- Starts with any one or more letters from H, W, or R\n",
    "\n",
    "- Followed by one or more word characters (\\w)\n",
    "\n",
    "# Tips for Writing and Testing Regex Patterns\n",
    "- Use online tools like regexr.com to write and test regex interactively\n",
    "\n",
    "- Refer to the Python re module documentation for a detailed understanding of regex features and functions\n",
    "\n",
    "- Practice writing patterns to extract exactly what you need from the text\n",
    "\n",
    "- Understand and use raw strings (r\"\") to avoid errors with backslashes\n",
    "\n",
    "# Summary and Key Takeaways"
   ]
  },
  {
   "cell_type": "markdown",
   "id": "3e73c817",
   "metadata": {},
   "source": [
    "- Regex is essential for efficient, complex text pattern matching—much more powerful than basic string methods.\n",
    "\n",
    "- Python’s re module provides all necessary functions (search, finditer, etc.) to work with regex.\n",
    "\n",
    "- Meta characters and character classes let you define flexible and precise search patterns.\n",
    "\n",
    "- Use raw strings (r\"\") to safely write regex patterns involving backslashes.\n",
    "\n",
    "- Learning regex can be intimidating initially, but it is a valuable skill widely used in programming (Python, JavaScript, etc.).\n",
    "\n",
    "- Practice is crucial—utilize cheat sheets and tools like regexr.com for hands-on experience."
   ]
  }
 ],
 "metadata": {
  "kernelspec": {
   "display_name": ".venv",
   "language": "python",
   "name": "python3"
  },
  "language_info": {
   "codemirror_mode": {
    "name": "ipython",
    "version": 3
   },
   "file_extension": ".py",
   "mimetype": "text/x-python",
   "name": "python",
   "nbconvert_exporter": "python",
   "pygments_lexer": "ipython3",
   "version": "3.12.3"
  }
 },
 "nbformat": 4,
 "nbformat_minor": 5
}
