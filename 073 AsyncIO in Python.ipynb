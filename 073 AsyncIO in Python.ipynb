{
 "cells": [
  {
   "cell_type": "markdown",
   "id": "a19109c7",
   "metadata": {},
   "source": [
    "# Introduction to AsyncIO\n",
    "- AsyncIO is a Python library that enables writing asynchronous, concurrent code.\n",
    "\n",
    "- Important clarification:\n",
    "\n",
    "    - AsyncIO is neither multithreading nor multiprocessing.\n",
    "\n",
    "    - It is a method to achieve concurrency without creating separate threads or processes.\n",
    "\n",
    "- Concurrency means managing multiple tasks seemingly simultaneously but not necessarily in parallel execution (like multithreading), instead using efficient switching.\n",
    "\n",
    "### Typical Python Execution Flow (Synchronous)\n",
    "\n",
    "- Example with three functions function1(), function2(), and function3():\n",
    "\n",
    "    - Each function blocks the execution, meaning the next function starts only after the current one completes.\n",
    "\n",
    "    - Using time.sleep(seconds) inside a function simulates blocking operations.\n",
    "\n",
    "- Behavior example:\n",
    "\n",
    "    - function1() executes, prints after 3 seconds.\n",
    "\n",
    "    - Then function2() executes, prints after 3 seconds.\n",
    "\n",
    "    - Finally function3() runs after all the above, again taking 3 seconds.\n",
    "\n",
    "- Total time roughly = sum of individual wait times, which is inefficient."
   ]
  },
  {
   "cell_type": "markdown",
   "id": "39214e23",
   "metadata": {},
   "source": [
    "### Motivation for Asynchronous Programming\n",
    "- Problem: While waiting for operations like network requests (e.g., image downloads), CPU remains idle.\n",
    "\n",
    "- Goal: Start multiple tasks (like downloading multiple images) concurrently to save time.\n",
    "\n",
    "- Python's synchronous nature doesn't allow easy concurrency for such I/O-bound tasks without blocking.\n",
    "\n",
    "- AsyncIO helps by making such models easier and efficient.\n",
    "\n",
    "# Basics of AsyncIO\n",
    "### Declaring Async Functions\n",
    "- Functions can be declared as asynchronous using the keyword async def.\n",
    "\n",
    "- Example:"
   ]
  },
  {
   "cell_type": "code",
   "execution_count": 7,
   "id": "675c1ff2",
   "metadata": {},
   "outputs": [],
   "source": [
    "async def function1():\n",
    "    await asyncio.sleep(1)\n",
    "    print(\"func 1\")\n",
    "\n",
    "async def function2():\n",
    "    await asyncio.sleep(1)\n",
    "    print(\"func 2\")\n",
    "\n",
    "async def function3():\n",
    "    await asyncio.sleep(1)\n",
    "    print(\"func 3\")"
   ]
  },
  {
   "cell_type": "markdown",
   "id": "1cb752ad",
   "metadata": {},
   "source": [
    "- Use await to pause execution inside async functions until awaited tasks complete.\n",
    "\n",
    "### Running Async Functions\n",
    "- You cannot just call async functions like normal functions; you must await them.\n",
    "\n",
    "- To run an async program, use asyncio.run(main()) where:\n",
    "\n",
    "    - main() is an async function that awaits other async calls.\n",
    "\n",
    "# Sequential vs Concurrent Async Calls"
   ]
  },
  {
   "cell_type": "markdown",
   "id": "e27c5fcd",
   "metadata": {},
   "source": [
    "### Sequential Await\n",
    "- Awaiting calls one after another (inside main) leads to sequential execution:"
   ]
  },
  {
   "cell_type": "code",
   "execution_count": 2,
   "id": "88a89bb4",
   "metadata": {},
   "outputs": [],
   "source": [
    "async def main():\n",
    "    await function1()\n",
    "    await function2()\n",
    "    await function3()"
   ]
  },
  {
   "cell_type": "markdown",
   "id": "db47ed30",
   "metadata": {},
   "source": [
    "- This behaves similarly to synchronous calls but allows async I/O operations.\n",
    "\n",
    "### Using asyncio.create_task() for Scheduling\n",
    "- asyncio.create_task(coro) schedules a coroutine to run concurrently \"when time allows\".\n",
    "\n",
    "- Multiple tasks can be created and will run concurrently.\n",
    "\n",
    "- Example:"
   ]
  },
  {
   "cell_type": "code",
   "execution_count": 8,
   "id": "7661ca9b",
   "metadata": {},
   "outputs": [
    {
     "name": "stdout",
     "output_type": "stream",
     "text": [
      "func 1\n",
      "func 2\n"
     ]
    }
   ],
   "source": [
    "import asyncio\n",
    "task1 = asyncio.create_task(function1())\n",
    "task2 = asyncio.create_task(function2())"
   ]
  },
  {
   "cell_type": "markdown",
   "id": "33c23472",
   "metadata": {},
   "source": [
    "-  The tasks start but the order of completion depends on internal scheduling and awaited times.\n",
    "\n",
    "### Coordinated Concurrent Execution with asyncio.gather()\n",
    "- asyncio.gather(*tasks) runs multiple async functions concurrently and waits until all complete.\n",
    "\n",
    "- Usage example:"
   ]
  },
  {
   "cell_type": "code",
   "execution_count": 9,
   "id": "85f9fd6c",
   "metadata": {},
   "outputs": [
    {
     "name": "stdout",
     "output_type": "stream",
     "text": [
      "func 1\n",
      "func 2\n",
      "func 3\n",
      "[None, None, None]\n"
     ]
    }
   ],
   "source": [
    "results = await asyncio.gather(function1(), function2(), function3())\n",
    "print(results)"
   ]
  },
  {
   "cell_type": "markdown",
   "id": "77b5324f",
   "metadata": {},
   "source": [
    "- This approach allows the program to manage multiple tasks concurrently with a clean interface.\n",
    "\n",
    "- If the async functions return values, those are collected in a list in the order passed.\n",
    "\n",
    "# Practical Example: Downloading Files Concurrently\n",
    "### Synchronous (Sequential) Download Example\n",
    "- Using requests module to download images synchronously leads to delays.\n",
    "\n",
    "- Each download completes before starting the next, total time is sum of all downloads.\n",
    "\n",
    "### AsyncIO Approach with aiohttp or simulating with AsyncIO sleep\n",
    "- Replace blocking time.sleep() with non-blocking await asyncio.sleep().\n",
    "\n",
    "- Use async functions to initiate multiple downloads concurrently.\n",
    "\n",
    "- Demonstrated with small favicon downloads:\n",
    "\n",
    "    - 3 downloads run concurrently using asyncio.gather().\n",
    "\n",
    "    - Downloads start almost simultaneously, total time close to the longest single download time, much faster overall.\n",
    "\n",
    "# Key Concepts and Terms\n",
    "- **async def:** Declares an asynchronous coroutine function.\n",
    "\n",
    "- **await:** Pauses the coroutine until the awaited async function completes.\n",
    "\n",
    "- **asyncio.run():** Entry point to run an async event loop and execute async code.\n",
    "\n",
    "- **asyncio.create_task():** Schedules a coroutine for concurrent execution.\n",
    "\n",
    "- **asyncio.gather():** Awaits multiple coroutine tasks concurrently and returns their results.\n",
    "\n",
    "- **Concurrency:** Running multiple tasks side-by-side logically, using cooperative multitasking.\n",
    "\n",
    "- **Non-blocking I/O:** I/O operations that allow other code to run concurrently without waiting."
   ]
  },
  {
   "cell_type": "markdown",
   "id": "18dbc539",
   "metadata": {},
   "source": [
    "# Summary and Takeaways\n",
    "- AsyncIO enables asynchronous programming in Python, useful for I/O-bound and high-level structured network code.\n",
    "\n",
    "- It helps improve efficiency by allowing concurrent execution, reducing overall waiting time during blocking operations like sleeps or downloads.\n",
    "\n",
    "- Key tools:\n",
    "\n",
    "    - Define async functions with async def.\n",
    "\n",
    "    - Use await to pause until async calls finish.\n",
    "\n",
    "    - Use asyncio.create_task() to schedule tasks.\n",
    "\n",
    "    - Use asyncio.gather() to wait for multiple tasks in parallel.\n",
    "\n",
    "- Practical use cases:\n",
    "\n",
    "    - Concurrent downloads.\n",
    "\n",
    "    - Network requests.\n",
    "\n",
    "    - Any scenario with waiting on I/O.\n",
    "\n",
    "- AsyncIO is distinct from multithreading/multiprocessing.\n",
    "\n",
    "- Understanding async programming concepts unlocks powerful, efficient code execution patterns in Python."
   ]
  }
 ],
 "metadata": {
  "kernelspec": {
   "display_name": ".venv",
   "language": "python",
   "name": "python3"
  },
  "language_info": {
   "codemirror_mode": {
    "name": "ipython",
    "version": 3
   },
   "file_extension": ".py",
   "mimetype": "text/x-python",
   "name": "python",
   "nbconvert_exporter": "python",
   "pygments_lexer": "ipython3",
   "version": "3.12.3"
  }
 },
 "nbformat": 4,
 "nbformat_minor": 5
}
