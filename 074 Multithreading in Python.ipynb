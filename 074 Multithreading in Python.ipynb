{
 "cells": [
  {
   "cell_type": "markdown",
   "id": "f5fd5bf8",
   "metadata": {},
   "source": [
    "# Introduction to Multithreading\n",
    "- Multithreading enables concurrent execution of multiple tasks (threads) within a single program.\n",
    "\n",
    "- **Use case:** Efficiently perform multiple operations, such as downloading multiple files from different servers in parallel instead of sequentially.\n",
    "\n",
    "- **Benefits:**\n",
    "\n",
    "    - Saves time by performing I/O bound tasks concurrently.\n",
    "\n",
    "    - Makes use of system resources (CPU, internet bandwidth) effectively.\n",
    "\n",
    "Example:\n",
    "Suppose you want to download 10 large files (each 10 GB) from 10 different servers. Doing this sequentially wastes time whereas multithreading downloads files simultaneously.\n",
    "\n",
    "# Why Use Multithreading?\n",
    "\n",
    "- **I/O Bound Tasks:** Tasks involving waiting (e.g., file downloads, network calls, reading/writing files) benefit the most.\n",
    "\n",
    "- **Parallel resource usage:** If you have multiple independent tasks, it's better to run them concurrently.\n",
    "\n",
    "- **CPU Speed and Internet Speed:** With fast hardware and internet, sequential operations limit throughput unnecessarily.\n",
    "\n",
    "- **Efficient waiting:** While one thread waits for I/O, another thread can run, improving overall efficiency.\n",
    "\n",
    "# Python’s Default Execution Model\n",
    "- Python executes code sequentially by default.\n",
    "\n",
    "- Functions block execution while they run (e.g., sleeping or downloading).\n",
    "\n",
    "- This sequential behavior can result in wasted time when performing multiple independent I/O operations.\n",
    "\n",
    "# Basic Example Without Multithreading"
   ]
  },
  {
   "cell_type": "code",
   "execution_count": 1,
   "id": "ba55e3c8",
   "metadata": {},
   "outputs": [
    {
     "name": "stdout",
     "output_type": "stream",
     "text": [
      "Sleeping for 4 seconds\n",
      "Sleeping for 2 seconds\n",
      "Sleeping for 1 seconds\n"
     ]
    }
   ],
   "source": [
    "import time\n",
    "\n",
    "def func(seconds):\n",
    "    print(f\"Sleeping for {seconds} seconds\")\n",
    "    time.sleep(seconds)\n",
    "\n",
    "# Sequential execution\n",
    "func(4)\n",
    "func(2)\n",
    "func(1)"
   ]
  },
  {
   "cell_type": "markdown",
   "id": "35a24da7",
   "metadata": {},
   "source": [
    "- Output shows sequential sleeping: first for 4 sec, then 2 sec, then 1 sec.\n",
    "\n",
    "- Total time = 7 seconds (sum of all sleep durations).\n",
    "\n",
    "# Multithreading with threading Module\n",
    "### Creating and Starting Threads\n",
    "- Import the module: import threading\n",
    "\n",
    "- Create threads targeting functions with specific arguments.\n",
    "\n",
    "- Use .start() to begin thread execution in the background.\n",
    "\n",
    "- Use .join() to wait for threads to complete before continuing."
   ]
  },
  {
   "cell_type": "code",
   "execution_count": 2,
   "id": "0a985c05",
   "metadata": {},
   "outputs": [
    {
     "name": "stdout",
     "output_type": "stream",
     "text": [
      "Sleeping for 4 seconds\n",
      "Sleeping for 2 seconds\n",
      "Sleeping for 1 seconds\n"
     ]
    }
   ],
   "source": [
    "import threading\n",
    "import time\n",
    "\n",
    "def func(seconds):\n",
    "    print(f\"Sleeping for {seconds} seconds\")\n",
    "    time.sleep(seconds)\n",
    "\n",
    "# Create threads\n",
    "t1 = threading.Thread(target=func, args=(4,))\n",
    "t2 = threading.Thread(target=func, args=(2,))\n",
    "t3 = threading.Thread(target=func, args=(1,))\n",
    "\n",
    "# Start threads\n",
    "t1.start()\n",
    "t2.start()\n",
    "t3.start()\n",
    "\n",
    "# Wait for threads to finish\n",
    "t1.join()\n",
    "t2.join()\n",
    "t3.join()"
   ]
  },
  {
   "cell_type": "markdown",
   "id": "93632e72",
   "metadata": {},
   "source": [
    "# Key Points:\n",
    "- Threads run simultaneously.\n",
    "\n",
    "- Total time equals the longest single task (4 seconds here), not the sum.\n",
    "\n",
    "- Without join(), the main thread doesn't wait, so timing results may be misleading.\n",
    "\n",
    "- join() ensures the main program waits until all threads finish.\n",
    "\n",
    "# Performance Timing Demonstration\n",
    "- Use time.perf_counter() to measure execution duration.\n",
    "\n",
    "# Sequential vs Multithreaded\n",
    "- Sequential durations add up.\n",
    "\n",
    "- Multithreading reduces total time to the longest thread duration.\n",
    "\n",
    "- Demonstrates major efficiency gains for I/O bound tasks."
   ]
  },
  {
   "cell_type": "markdown",
   "id": "59dc5768",
   "metadata": {},
   "source": [
    "# Real-Life Analogy\n",
    "- Preparing three dishes (paneer butter masala, ladyfinger, roti) by one cook takes 15 minutes (5 min each).\n",
    "\n",
    "- Three cooks making the dishes simultaneously reduce total cooking time to 5 minutes.\n",
    "\n",
    "- Multithreading is like having multiple cooks working concurrently.\n",
    "\n",
    "# Considerations When Using Multithreading\n",
    "- I/O Bound vs CPU Bound:\n",
    "\n",
    "    - Threads are useful for I/O bound programs (network, disk I/O).\n",
    "\n",
    "    - For CPU bound tasks, Python’s Global Interpreter Lock (GIL) may limit thread concurrency.\n",
    "\n",
    "- Server Speed Limits:\n",
    "\n",
    "    - Download speed depends on the server's capacity as well as your internet bandwidth.\n",
    "\n",
    "    - Hitting multiple servers in parallel maximizes internet speed usage."
   ]
  },
  {
   "cell_type": "markdown",
   "id": "ff15c624",
   "metadata": {},
   "source": [
    "# Advanced Multithreading with concurrent.futures\n",
    "### Using ThreadPoolExecutor\n",
    "- Provides a high-level interface for asynchronous tasks.\n",
    "\n",
    "- Simplifies thread management."
   ]
  },
  {
   "cell_type": "code",
   "execution_count": 3,
   "id": "1da32c9e",
   "metadata": {},
   "outputs": [
    {
     "name": "stdout",
     "output_type": "stream",
     "text": [
      "Sleeping for 3 seconds\n",
      "Sleeping for 2 seconds\n",
      "Sleeping for 4 seconds\n",
      "Result: 3\n",
      "Result: 2\n",
      "Result: 4\n"
     ]
    }
   ],
   "source": [
    "from concurrent.futures import ThreadPoolExecutor\n",
    "import time\n",
    "\n",
    "def func(seconds):\n",
    "    print(f\"Sleeping for {seconds} seconds\")\n",
    "    time.sleep(seconds)\n",
    "    return seconds\n",
    "\n",
    "with ThreadPoolExecutor() as executor:\n",
    "    futures = [executor.submit(func, sec) for sec in [3, 2, 4]]\n",
    "    for future in futures:\n",
    "        print(f\"Result: {future.result()}\")"
   ]
  },
  {
   "cell_type": "markdown",
   "id": "17d870e7",
   "metadata": {},
   "source": [
    "### Using executor.map()\n",
    "- Convenient way to map a function over an iterable with threads.\n",
    "\n",
    "- Returns results in the order tasks are submitted."
   ]
  },
  {
   "cell_type": "code",
   "execution_count": 4,
   "id": "ff26088f",
   "metadata": {},
   "outputs": [
    {
     "name": "stdout",
     "output_type": "stream",
     "text": [
      "Sleeping for 3 seconds\n",
      "Sleeping for 5 seconds\n",
      "Sleeping for 1 seconds\n",
      "Sleeping for 2 seconds\n",
      "Result: 3\n",
      "Result: 5\n",
      "Result: 1\n",
      "Result: 2\n"
     ]
    }
   ],
   "source": [
    "with ThreadPoolExecutor() as executor:\n",
    "    seconds_list = [3, 5, 1, 2]\n",
    "    results = executor.map(func, seconds_list)\n",
    "    for result in results:\n",
    "        print(f\"Result: {result}\")"
   ]
  },
  {
   "cell_type": "markdown",
   "id": "cd0305b7",
   "metadata": {},
   "source": [
    "###  Advantages of concurrent.futures\n",
    "- Easy to submit many tasks without manual thread creation.\n",
    "\n",
    "- Simplifies collecting return values from threads.\n",
    "\n",
    "- Automatically manages thread pool lifecycle.\n",
    "\n",
    "# Summary and Key Takeaways\n",
    "- Multithreading allows parallel execution of tasks, improving efficiency especially for I/O bound operations.\n",
    "\n",
    "- Python’s threading module provides basic control over threads (creation, start, join).\n",
    "\n",
    "- join() is essential to wait for thread completion and get proper timing results.\n",
    "\n",
    "- Multithreading reduces total execution time roughly to the longest individual task.\n",
    "\n",
    "- Performance gains occur primarily in I/O heavy tasks (e.g., downloading multiple files).\n",
    "\n",
    "- Python's concurrent.futures.ThreadPoolExecutor offers a simpler, high-level approach to managing thread pools and tasks.\n",
    "\n",
    "- Always consider the nature of your tasks (I/O bound vs CPU bound) before choosing multithreading. \n",
    "\n",
    "- Applying multithreading effectively can significantly speed up programs that handle multiple simultaneous I/O operations."
   ]
  }
 ],
 "metadata": {
  "kernelspec": {
   "display_name": ".venv",
   "language": "python",
   "name": "python3"
  },
  "language_info": {
   "codemirror_mode": {
    "name": "ipython",
    "version": 3
   },
   "file_extension": ".py",
   "mimetype": "text/x-python",
   "name": "python",
   "nbconvert_exporter": "python",
   "pygments_lexer": "ipython3",
   "version": "3.12.3"
  }
 },
 "nbformat": 4,
 "nbformat_minor": 5
}
