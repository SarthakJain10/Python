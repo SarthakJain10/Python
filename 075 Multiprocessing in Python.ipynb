{
 "cells": [
  {
   "cell_type": "markdown",
   "id": "367fb9e0",
   "metadata": {},
   "source": [
    "# Introduction\n",
    "Multiprocessing in Python allows running multiple processes simultaneously, enabling real parallelism on multi-core CPUs. Unlike multithreading, which runs multiple threads within the same process and suffers from Python’s GIL (Global Interpreter Lock), multiprocessing involves completely independent processes that can run on separate CPU cores, improving performance for CPU-bound tasks.\n",
    "\n",
    "# Why Multiprocessing?\n",
    "- Multithreading is lightweight and fast to spawn but limited by GIL in Python, which prevents true parallel execution of threads for CPU-intensive tasks.\n",
    "\n",
    "- Multiprocessing overcomes GIL by creating separate processes with their own Python interpreter and memory space.\n",
    "\n",
    "- Efficient for heavy CPU-bound work or when you want true parallelism.\n",
    "\n",
    "- Can be used for I/O-bound tasks where parallel downloads or tasks run simultaneously.\n",
    "\n",
    "# Key Concepts"
   ]
  },
  {
   "cell_type": "markdown",
   "id": "ddd95c33",
   "metadata": {},
   "source": [
    "### Processes vs Threads"
   ]
  },
  {
   "cell_type": "code",
   "execution_count": 1,
   "id": "aa7f49ac",
   "metadata": {},
   "outputs": [
    {
     "data": {
      "text/html": [
       "<div>\n",
       "<style scoped>\n",
       "    .dataframe tbody tr th:only-of-type {\n",
       "        vertical-align: middle;\n",
       "    }\n",
       "\n",
       "    .dataframe tbody tr th {\n",
       "        vertical-align: top;\n",
       "    }\n",
       "\n",
       "    .dataframe thead th {\n",
       "        text-align: right;\n",
       "    }\n",
       "</style>\n",
       "<table border=\"1\" class=\"dataframe\">\n",
       "  <thead>\n",
       "    <tr style=\"text-align: right;\">\n",
       "      <th></th>\n",
       "      <th>Aspect</th>\n",
       "      <th>Threads</th>\n",
       "      <th>Processes</th>\n",
       "    </tr>\n",
       "  </thead>\n",
       "  <tbody>\n",
       "    <tr>\n",
       "      <th>0</th>\n",
       "      <td>Memory</td>\n",
       "      <td>Shared within a process</td>\n",
       "      <td>Separate memory space</td>\n",
       "    </tr>\n",
       "    <tr>\n",
       "      <th>1</th>\n",
       "      <td>Creation Speed</td>\n",
       "      <td>Faster (lighter)</td>\n",
       "      <td>Slower (heavier)</td>\n",
       "    </tr>\n",
       "    <tr>\n",
       "      <th>2</th>\n",
       "      <td>Parallelism</td>\n",
       "      <td>Limited by GIL in Python</td>\n",
       "      <td>True parallelism on multiple CPUs</td>\n",
       "    </tr>\n",
       "    <tr>\n",
       "      <th>3</th>\n",
       "      <td>Use Case</td>\n",
       "      <td>I/O-bound, lightweight tasks</td>\n",
       "      <td>CPU-bound, heavy computation</td>\n",
       "    </tr>\n",
       "  </tbody>\n",
       "</table>\n",
       "</div>"
      ],
      "text/plain": [
       "           Aspect                       Threads  \\\n",
       "0          Memory       Shared within a process   \n",
       "1  Creation Speed              Faster (lighter)   \n",
       "2     Parallelism      Limited by GIL in Python   \n",
       "3        Use Case  I/O-bound, lightweight tasks   \n",
       "\n",
       "                           Processes  \n",
       "0              Separate memory space  \n",
       "1                   Slower (heavier)  \n",
       "2  True parallelism on multiple CPUs  \n",
       "3       CPU-bound, heavy computation  "
      ]
     },
     "execution_count": 1,
     "metadata": {},
     "output_type": "execute_result"
    }
   ],
   "source": [
    "import pandas as pd\n",
    "pd.set_option('display.max_colwidth', None)\n",
    "df = pd.read_csv('csv_files/Aspect-Threads-Processes.csv')\n",
    "df"
   ]
  },
  {
   "cell_type": "markdown",
   "id": "b9222212",
   "metadata": {},
   "source": [
    "- Spawning a process = “spawning” (starting/creating) it to run independently.\n",
    "\n",
    "# Python’s Multiprocessing Module\n",
    "- Provides a way to create and manage processes similar to threads.\n",
    "\n",
    "- API is quite similar and easy to learn if you know threading.\n",
    "\n",
    "- Key methods:\n",
    "\n",
    "    - multiprocessing.Process(target=..., args=...) - create a process object\n",
    "\n",
    "    - .start() - start the process\n",
    "\n",
    "    - .join() - wait for process to finish\n",
    "\n",
    "# Detailed Example: Parallel Downloading of Images\n",
    "### Step 1: Import and Setup"
   ]
  },
  {
   "cell_type": "code",
   "execution_count": 2,
   "id": "6aa16a31",
   "metadata": {},
   "outputs": [],
   "source": [
    "import multiprocessing\n",
    "import requests\n",
    "import os"
   ]
  },
  {
   "cell_type": "markdown",
   "id": "b97720c1",
   "metadata": {},
   "source": [
    "### Step 2: Define a download function\n",
    "- Downloads an image file from a URL and saves it with a given name."
   ]
  },
  {
   "cell_type": "code",
   "execution_count": 3,
   "id": "c39d4ba9",
   "metadata": {},
   "outputs": [],
   "source": [
    "def download_file(url, name):\n",
    "    print(f\"Started downloading {name}\")\n",
    "    response = requests.get(url)\n",
    "    with open(name, 'wb') as f:\n",
    "        f.write(response.content)\n",
    "    print(f\"Finished downloading {name}\")"
   ]
  },
  {
   "cell_type": "markdown",
   "id": "c00fe115",
   "metadata": {},
   "source": [
    "### Step 3: Create a list of image URLs\n",
    "- Use a base URL from an image gallery that serves random images.\n",
    "\n",
    "- Use list comprehension to generate different URLs by varying parameters (e.g., IDs or image size)."
   ]
  },
  {
   "cell_type": "code",
   "execution_count": 4,
   "id": "c66808ad",
   "metadata": {},
   "outputs": [],
   "source": [
    "urls = [f\"https://picsum.photos/2000/3000?random={i}\" for i in range(10)]"
   ]
  },
  {
   "cell_type": "markdown",
   "id": "68dbb8c4",
   "metadata": {},
   "source": [
    "### Step 4: Sequential Download (for comparison)"
   ]
  },
  {
   "cell_type": "code",
   "execution_count": 6,
   "id": "d7579f34",
   "metadata": {},
   "outputs": [
    {
     "name": "stdout",
     "output_type": "stream",
     "text": [
      "Started downloading file_0.jpeg\n",
      "Finished downloading file_0.jpeg\n",
      "Started downloading file_1.jpeg\n",
      "Finished downloading file_1.jpeg\n",
      "Started downloading file_2.jpeg\n",
      "Finished downloading file_2.jpeg\n",
      "Started downloading file_3.jpeg\n",
      "Finished downloading file_3.jpeg\n",
      "Started downloading file_4.jpeg\n",
      "Finished downloading file_4.jpeg\n",
      "Started downloading file_5.jpeg\n",
      "Finished downloading file_5.jpeg\n",
      "Started downloading file_6.jpeg\n",
      "Finished downloading file_6.jpeg\n",
      "Started downloading file_7.jpeg\n",
      "Finished downloading file_7.jpeg\n",
      "Started downloading file_8.jpeg\n",
      "Finished downloading file_8.jpeg\n",
      "Started downloading file_9.jpeg\n",
      "Finished downloading file_9.jpeg\n",
      "total_time:  23.999173164367676\n"
     ]
    }
   ],
   "source": [
    "import time\n",
    "start = time.time()\n",
    "for i, url in enumerate(urls):\n",
    "    download_file(url, f\"file_{i}.jpeg\")\n",
    "print('total_time: ', time.time() - start)"
   ]
  },
  {
   "cell_type": "markdown",
   "id": "862d3df5",
   "metadata": {},
   "source": [
    "- Downloads files one-by-one, which is slower, especially for large images.\n",
    "\n",
    "### Step 5: Multiprocessing to Download in Parallel"
   ]
  },
  {
   "cell_type": "code",
   "execution_count": 7,
   "id": "600763c6",
   "metadata": {},
   "outputs": [
    {
     "name": "stdout",
     "output_type": "stream",
     "text": [
      "Started downloading file_0.jpegStarted downloading file_1.jpeg\n",
      "\n",
      "Started downloading file_2.jpeg\n",
      "Started downloading file_3.jpeg\n",
      "Started downloading file_4.jpeg\n",
      "Started downloading file_5.jpeg\n",
      "Started downloading file_6.jpeg\n",
      "Started downloading file_7.jpeg\n",
      "Started downloading file_8.jpeg\n",
      "\n",
      "Started downloading file_9.jpegFinished downloading file_3.jpeg\n",
      "Finished downloading file_6.jpeg\n",
      "Finished downloading file_7.jpeg\n",
      "Finished downloading file_5.jpeg\n",
      "Finished downloading file_0.jpeg\n",
      "Finished downloading file_1.jpeg\n",
      "Finished downloading file_9.jpeg\n",
      "Finished downloading file_2.jpeg\n",
      "Finished downloading file_4.jpeg\n",
      "Finished downloading file_8.jpeg\n",
      "total_time:  8.253820419311523\n"
     ]
    }
   ],
   "source": [
    "if __name__ == \"__main__\":\n",
    "    start = time.time()\n",
    "    processes = []\n",
    "    for i, url in enumerate(urls):\n",
    "        p = multiprocessing.Process(target=download_file, args=(url, f\"file_{i}.jpeg\"))\n",
    "        processes.append(p)\n",
    "        p.start()\n",
    "\n",
    "    for p in processes:\n",
    "        p.join()\n",
    "    print('total_time: ', time.time() - start)  "
   ]
  },
  {
   "cell_type": "markdown",
   "id": "f937b310",
   "metadata": {},
   "source": [
    "- Processes are started almost simultaneously.\n",
    "\n",
    "- Each process downloads a file independently.\n",
    "\n",
    "- .join() ensures the main program waits until all downloads complete.\n",
    "\n",
    "- Result: Download speed significantly improves due to parallelism.\n",
    "\n",
    "# Using concurrent.futures with Multiprocessing\n",
    "- A higher-level abstraction to ease management of pools of workers.\n",
    "\n",
    "- Use ProcessPoolExecutor for multiprocessing (similar to ThreadPoolExecutor for multithreading).\n",
    "\n",
    "### Example Using concurrent.futures:"
   ]
  },
  {
   "cell_type": "code",
   "execution_count": 8,
   "id": "385a68cd",
   "metadata": {},
   "outputs": [
    {
     "name": "stdout",
     "output_type": "stream",
     "text": [
      "Started downloading file_0.jpegStarted downloading file_2.jpegStarted downloading file_1.jpeg\n",
      "\n",
      "\n",
      "Started downloading file_3.jpeg\n",
      "Finished downloading file_3.jpeg\n",
      "Started downloading file_4.jpeg\n",
      "Finished downloading file_2.jpeg\n",
      "Started downloading file_5.jpeg\n",
      "Finished downloading file_5.jpeg\n",
      "Started downloading file_6.jpeg\n",
      "Finished downloading file_1.jpeg\n",
      "Started downloading file_7.jpeg\n",
      "Finished downloading file_0.jpeg\n",
      "Started downloading file_8.jpeg\n",
      "Finished downloading file_7.jpeg\n",
      "Started downloading file_9.jpeg\n",
      "Finished downloading file_4.jpeg\n",
      "Started downloading file_10.jpeg\n",
      "Finished downloading file_10.jpeg\n",
      "Started downloading file_11.jpeg\n",
      "Finished downloading file_6.jpeg\n",
      "Started downloading file_12.jpeg\n",
      "Finished downloading file_9.jpeg\n",
      "Started downloading file_13.jpeg\n",
      "Finished downloading file_8.jpeg\n",
      "Started downloading file_14.jpeg\n",
      "Finished downloading file_14.jpeg\n",
      "Started downloading file_15.jpeg\n",
      "Finished downloading file_11.jpeg\n",
      "Started downloading file_16.jpeg\n",
      "Finished downloading file_15.jpeg\n",
      "Started downloading file_17.jpeg\n",
      "Finished downloading file_12.jpeg\n",
      "Started downloading file_18.jpeg\n",
      "Finished downloading file_13.jpeg\n",
      "Started downloading file_19.jpeg\n",
      "Finished downloading file_19.jpeg\n",
      "Started downloading file_20.jpeg\n",
      "Finished downloading file_18.jpeg\n",
      "Started downloading file_21.jpeg\n",
      "Finished downloading file_17.jpeg\n",
      "Started downloading file_22.jpeg\n",
      "Finished downloading file_16.jpeg\n",
      "Started downloading file_23.jpeg\n",
      "Finished downloading file_22.jpeg\n",
      "Started downloading file_24.jpeg\n",
      "Finished downloading file_21.jpeg\n",
      "Started downloading file_25.jpeg\n",
      "Finished downloading file_24.jpeg\n",
      "Started downloading file_26.jpeg\n",
      "Finished downloading file_23.jpeg\n",
      "Started downloading file_27.jpeg\n",
      "Finished downloading file_26.jpeg\n",
      "Started downloading file_28.jpeg\n",
      "Finished downloading file_20.jpeg\n",
      "Started downloading file_29.jpeg\n",
      "Finished downloading file_27.jpeg\n",
      "Started downloading file_30.jpeg\n",
      "Finished downloading file_28.jpeg\n",
      "Started downloading file_31.jpeg\n",
      "Finished downloading file_29.jpeg\n",
      "Started downloading file_32.jpeg\n",
      "Finished downloading file_25.jpeg\n",
      "Started downloading file_33.jpeg\n",
      "Finished downloading file_30.jpeg\n",
      "Started downloading file_34.jpeg\n",
      "Finished downloading file_31.jpeg\n",
      "Started downloading file_35.jpeg\n",
      "Finished downloading file_34.jpeg\n",
      "Started downloading file_36.jpeg\n",
      "Finished downloading file_35.jpeg\n",
      "Started downloading file_37.jpeg\n",
      "Finished downloading file_36.jpeg\n",
      "Started downloading file_38.jpeg\n",
      "Finished downloading file_32.jpeg\n",
      "Started downloading file_39.jpeg\n",
      "Finished downloading file_33.jpeg\n",
      "Started downloading file_40.jpeg\n",
      "Finished downloading file_37.jpeg\n",
      "Started downloading file_41.jpeg\n",
      "Finished downloading file_40.jpeg\n",
      "Started downloading file_42.jpeg\n",
      "Finished downloading file_38.jpeg\n",
      "Started downloading file_43.jpeg\n",
      "Finished downloading file_42.jpeg\n",
      "Started downloading file_44.jpeg\n",
      "Finished downloading file_43.jpeg\n",
      "Started downloading file_45.jpeg\n",
      "Finished downloading file_39.jpeg\n",
      "Started downloading file_46.jpeg\n",
      "Finished downloading file_44.jpeg\n",
      "Started downloading file_47.jpeg\n",
      "Finished downloading file_45.jpeg\n",
      "Started downloading file_48.jpeg\n",
      "Finished downloading file_46.jpeg\n",
      "Started downloading file_49.jpeg\n",
      "Finished downloading file_41.jpeg\n",
      "Started downloading file_50.jpeg\n",
      "Finished downloading file_48.jpeg\n",
      "Started downloading file_51.jpeg\n",
      "Finished downloading file_49.jpeg\n",
      "Started downloading file_52.jpeg\n",
      "Finished downloading file_51.jpeg\n",
      "Started downloading file_53.jpeg\n",
      "Finished downloading file_52.jpeg\n",
      "Finished downloading file_47.jpegStarted downloading file_54.jpeg\n",
      "\n",
      "Started downloading file_55.jpeg\n",
      "Finished downloading file_50.jpeg\n",
      "Started downloading file_56.jpeg\n",
      "Finished downloading file_55.jpeg\n",
      "Started downloading file_57.jpeg\n",
      "Finished downloading file_57.jpeg\n",
      "Started downloading file_58.jpeg\n",
      "Finished downloading file_54.jpeg\n",
      "Started downloading file_59.jpeg\n",
      "Finished downloading file_53.jpeg\n",
      "Finished downloading file_59.jpeg\n",
      "Finished downloading file_58.jpeg\n",
      "Finished downloading file_56.jpeg\n",
      "total time 44.07058262825012\n"
     ]
    }
   ],
   "source": [
    "from concurrent.futures import ProcessPoolExecutor\n",
    "\n",
    "def download_file_wrapper(args):\n",
    "    url, name = args\n",
    "    download_file(url, name)\n",
    "\n",
    "if __name__ == \"__main__\":\n",
    "    start = time.time()\n",
    "    urls = [f\"https://picsum.photos/2000/3000?random={i}\" for i in range(60)]\n",
    "    names = [f\"file_{i}.jpeg\" for i in range(60)]\n",
    "\n",
    "    # Pair URLs with file names for mapping\n",
    "    args = list(zip(urls, names))\n",
    "\n",
    "    with ProcessPoolExecutor() as executor:\n",
    "        results = executor.map(download_file_wrapper, args)\n",
    "\n",
    "    print('total time', time.time()-start)\n",
    "\n",
    "    # The map function runs download_file_wrapper for each tuple in parallel\n"
   ]
  },
  {
   "cell_type": "markdown",
   "id": "9107818c",
   "metadata": {},
   "source": [
    "### Benefits\n",
    "- Simplifies creating process pools, managing lifecycle, and retrieval of results.\n",
    "\n",
    "- Automatically manages worker processes, making code cleaner and easier to maintain.\n",
    "\n",
    "### Important Tips and Best Practices\n",
    "- Always protect your multiprocessing code entry point with"
   ]
  },
  {
   "cell_type": "code",
   "execution_count": 9,
   "id": "7ee9aebf",
   "metadata": {},
   "outputs": [],
   "source": [
    "if __name__ == \"__main__\":\n",
    "    # multiprocessing code here\n",
    "    pass"
   ]
  },
  {
   "cell_type": "markdown",
   "id": "3f8cad6e",
   "metadata": {},
   "source": [
    "This prevents unwanted recursive process spawning when using multiprocessing on Windows or some IDEs.\n",
    "\n",
    "- Avoid creating an excessive number of processes (e.g., thousands), which may hang or crash your system.\n",
    "Keep the processes count reasonable, often near the number of CPU cores.\n",
    "\n",
    "- Multiprocessing is effective when task is CPU-bound or truly parallel. For I/O-bound tasks like downloading files, you might also consider async programming or multithreading, but multiprocessing is a simple way to parallelize."
   ]
  },
  {
   "cell_type": "markdown",
   "id": "584dc91b",
   "metadata": {},
   "source": [
    "# Summary\n",
    "- Multiprocessing means running multiple Python processes simultaneously, allowing true parallelism beyond the Python GIL constraint.\n",
    "\n",
    "- It is useful for CPU-intensive tasks or parallel workloads like downloading many files.\n",
    "\n",
    "- The multiprocessing module makes it easy to create and control processes just like threads.\n",
    "\n",
    "- Using concurrent.futures.ProcessPoolExecutor provides a convenient interface for multiprocessing pools.\n",
    "\n",
    "- Always use if \\_\\_name__ == \"\\_\\_main__\" guard with multiprocessing scripts.\n",
    "\n",
    "- Avoid spawning too many processes to prevent system overload."
   ]
  }
 ],
 "metadata": {
  "kernelspec": {
   "display_name": ".venv",
   "language": "python",
   "name": "python3"
  },
  "language_info": {
   "codemirror_mode": {
    "name": "ipython",
    "version": 3
   },
   "file_extension": ".py",
   "mimetype": "text/x-python",
   "name": "python",
   "nbconvert_exporter": "python",
   "pygments_lexer": "ipython3",
   "version": "3.12.3"
  }
 },
 "nbformat": 4,
 "nbformat_minor": 5
}
